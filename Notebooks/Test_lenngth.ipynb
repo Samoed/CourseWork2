{
 "cells": [
  {
   "cell_type": "markdown",
   "metadata": {
    "colab_type": "text",
    "id": "view-in-github"
   },
   "source": [
    "<a href=\"https://colab.research.google.com/github/Samoed/CourseWork2/blob/main/Test_lenngth.ipynb\" target=\"_parent\"><img src=\"https://colab.research.google.com/assets/colab-badge.svg\" alt=\"Open In Colab\"/></a>"
   ]
  },
  {
   "cell_type": "code",
   "execution_count": 1,
   "metadata": {
    "colab": {
     "base_uri": "https://localhost:8080/"
    },
    "id": "VlBuf27tCgos",
    "outputId": "0106c96e-f0e1-458f-e7aa-bec7745c3d5a"
   },
   "outputs": [
    {
     "name": "stdout",
     "output_type": "stream",
     "text": [
      "Collecting bert-extractive-summarizer\n",
      "  Downloading https://files.pythonhosted.org/packages/1a/07/fdb05f9e18b6f641499ef56737126fbd2fafe1cdc1a04ba069d5aa205901/bert_extractive_summarizer-0.7.1-py3-none-any.whl\n",
      "Requirement already satisfied, skipping upgrade: scikit-learn in /usr/local/lib/python3.7/dist-packages (from bert-extractive-summarizer) (0.22.2.post1)\n",
      "Requirement already satisfied, skipping upgrade: spacy in /usr/local/lib/python3.7/dist-packages (from bert-extractive-summarizer) (2.2.4)\n",
      "Collecting transformers\n",
      "\u001b[?25l  Downloading https://files.pythonhosted.org/packages/ed/d5/f4157a376b8a79489a76ce6cfe147f4f3be1e029b7144fa7b8432e8acb26/transformers-4.4.2-py3-none-any.whl (2.0MB)\n",
      "\u001b[K     |████████████████████████████████| 2.0MB 24.7MB/s \n",
      "\u001b[?25hRequirement already satisfied, skipping upgrade: scipy>=0.17.0 in /usr/local/lib/python3.7/dist-packages (from scikit-learn->bert-extractive-summarizer) (1.4.1)\n",
      "Requirement already satisfied, skipping upgrade: joblib>=0.11 in /usr/local/lib/python3.7/dist-packages (from scikit-learn->bert-extractive-summarizer) (1.0.1)\n",
      "Requirement already satisfied, skipping upgrade: numpy>=1.11.0 in /usr/local/lib/python3.7/dist-packages (from scikit-learn->bert-extractive-summarizer) (1.19.5)\n",
      "Requirement already satisfied, skipping upgrade: setuptools in /usr/local/lib/python3.7/dist-packages (from spacy->bert-extractive-summarizer) (54.2.0)\n",
      "Requirement already satisfied, skipping upgrade: cymem<2.1.0,>=2.0.2 in /usr/local/lib/python3.7/dist-packages (from spacy->bert-extractive-summarizer) (2.0.5)\n",
      "Requirement already satisfied, skipping upgrade: requests<3.0.0,>=2.13.0 in /usr/local/lib/python3.7/dist-packages (from spacy->bert-extractive-summarizer) (2.23.0)\n",
      "Requirement already satisfied, skipping upgrade: murmurhash<1.1.0,>=0.28.0 in /usr/local/lib/python3.7/dist-packages (from spacy->bert-extractive-summarizer) (1.0.5)\n",
      "Requirement already satisfied, skipping upgrade: blis<0.5.0,>=0.4.0 in /usr/local/lib/python3.7/dist-packages (from spacy->bert-extractive-summarizer) (0.4.1)\n",
      "Requirement already satisfied, skipping upgrade: catalogue<1.1.0,>=0.0.7 in /usr/local/lib/python3.7/dist-packages (from spacy->bert-extractive-summarizer) (1.0.0)\n",
      "Requirement already satisfied, skipping upgrade: tqdm<5.0.0,>=4.38.0 in /usr/local/lib/python3.7/dist-packages (from spacy->bert-extractive-summarizer) (4.41.1)\n",
      "Requirement already satisfied, skipping upgrade: thinc==7.4.0 in /usr/local/lib/python3.7/dist-packages (from spacy->bert-extractive-summarizer) (7.4.0)\n",
      "Requirement already satisfied, skipping upgrade: preshed<3.1.0,>=3.0.2 in /usr/local/lib/python3.7/dist-packages (from spacy->bert-extractive-summarizer) (3.0.5)\n",
      "Requirement already satisfied, skipping upgrade: plac<1.2.0,>=0.9.6 in /usr/local/lib/python3.7/dist-packages (from spacy->bert-extractive-summarizer) (1.1.3)\n",
      "Requirement already satisfied, skipping upgrade: wasabi<1.1.0,>=0.4.0 in /usr/local/lib/python3.7/dist-packages (from spacy->bert-extractive-summarizer) (0.8.2)\n",
      "Requirement already satisfied, skipping upgrade: srsly<1.1.0,>=1.0.2 in /usr/local/lib/python3.7/dist-packages (from spacy->bert-extractive-summarizer) (1.0.5)\n",
      "Requirement already satisfied, skipping upgrade: filelock in /usr/local/lib/python3.7/dist-packages (from transformers->bert-extractive-summarizer) (3.0.12)\n",
      "Collecting tokenizers<0.11,>=0.10.1\n",
      "\u001b[?25l  Downloading https://files.pythonhosted.org/packages/71/23/2ddc317b2121117bf34dd00f5b0de194158f2a44ee2bf5e47c7166878a97/tokenizers-0.10.1-cp37-cp37m-manylinux2010_x86_64.whl (3.2MB)\n",
      "\u001b[K     |████████████████████████████████| 3.2MB 43.3MB/s \n",
      "\u001b[?25hRequirement already satisfied, skipping upgrade: regex!=2019.12.17 in /usr/local/lib/python3.7/dist-packages (from transformers->bert-extractive-summarizer) (2019.12.20)\n",
      "Collecting sacremoses\n",
      "\u001b[?25l  Downloading https://files.pythonhosted.org/packages/7d/34/09d19aff26edcc8eb2a01bed8e98f13a1537005d31e95233fd48216eed10/sacremoses-0.0.43.tar.gz (883kB)\n",
      "\u001b[K     |████████████████████████████████| 890kB 43.2MB/s \n",
      "\u001b[?25hRequirement already satisfied, skipping upgrade: importlib-metadata; python_version < \"3.8\" in /usr/local/lib/python3.7/dist-packages (from transformers->bert-extractive-summarizer) (3.8.1)\n",
      "Requirement already satisfied, skipping upgrade: packaging in /usr/local/lib/python3.7/dist-packages (from transformers->bert-extractive-summarizer) (20.9)\n",
      "Requirement already satisfied, skipping upgrade: idna<3,>=2.5 in /usr/local/lib/python3.7/dist-packages (from requests<3.0.0,>=2.13.0->spacy->bert-extractive-summarizer) (2.10)\n",
      "Requirement already satisfied, skipping upgrade: certifi>=2017.4.17 in /usr/local/lib/python3.7/dist-packages (from requests<3.0.0,>=2.13.0->spacy->bert-extractive-summarizer) (2020.12.5)\n",
      "Requirement already satisfied, skipping upgrade: chardet<4,>=3.0.2 in /usr/local/lib/python3.7/dist-packages (from requests<3.0.0,>=2.13.0->spacy->bert-extractive-summarizer) (3.0.4)\n",
      "Requirement already satisfied, skipping upgrade: urllib3!=1.25.0,!=1.25.1,<1.26,>=1.21.1 in /usr/local/lib/python3.7/dist-packages (from requests<3.0.0,>=2.13.0->spacy->bert-extractive-summarizer) (1.24.3)\n",
      "Requirement already satisfied, skipping upgrade: six in /usr/local/lib/python3.7/dist-packages (from sacremoses->transformers->bert-extractive-summarizer) (1.15.0)\n",
      "Requirement already satisfied, skipping upgrade: click in /usr/local/lib/python3.7/dist-packages (from sacremoses->transformers->bert-extractive-summarizer) (7.1.2)\n",
      "Requirement already satisfied, skipping upgrade: zipp>=0.5 in /usr/local/lib/python3.7/dist-packages (from importlib-metadata; python_version < \"3.8\"->transformers->bert-extractive-summarizer) (3.4.1)\n",
      "Requirement already satisfied, skipping upgrade: typing-extensions>=3.6.4; python_version < \"3.8\" in /usr/local/lib/python3.7/dist-packages (from importlib-metadata; python_version < \"3.8\"->transformers->bert-extractive-summarizer) (3.7.4.3)\n",
      "Requirement already satisfied, skipping upgrade: pyparsing>=2.0.2 in /usr/local/lib/python3.7/dist-packages (from packaging->transformers->bert-extractive-summarizer) (2.4.7)\n",
      "Building wheels for collected packages: sacremoses\n",
      "  Building wheel for sacremoses (setup.py) ... \u001b[?25l\u001b[?25hdone\n",
      "  Created wheel for sacremoses: filename=sacremoses-0.0.43-cp37-none-any.whl size=893262 sha256=cd89f3d787de44680b845f17f67a161e4fa600afebacef8b3af0e12bc77a00db\n",
      "  Stored in directory: /root/.cache/pip/wheels/29/3c/fd/7ce5c3f0666dab31a50123635e6fb5e19ceb42ce38d4e58f45\n",
      "Successfully built sacremoses\n",
      "Installing collected packages: tokenizers, sacremoses, transformers, bert-extractive-summarizer\n",
      "Successfully installed bert-extractive-summarizer-0.7.1 sacremoses-0.0.43 tokenizers-0.10.1 transformers-4.4.2\n",
      "Requirement already up-to-date: transformers in /usr/local/lib/python3.7/dist-packages (4.4.2)\n",
      "Requirement already satisfied, skipping upgrade: regex!=2019.12.17 in /usr/local/lib/python3.7/dist-packages (from transformers) (2019.12.20)\n",
      "Requirement already satisfied, skipping upgrade: importlib-metadata; python_version < \"3.8\" in /usr/local/lib/python3.7/dist-packages (from transformers) (3.8.1)\n",
      "Requirement already satisfied, skipping upgrade: filelock in /usr/local/lib/python3.7/dist-packages (from transformers) (3.0.12)\n",
      "Requirement already satisfied, skipping upgrade: sacremoses in /usr/local/lib/python3.7/dist-packages (from transformers) (0.0.43)\n",
      "Requirement already satisfied, skipping upgrade: packaging in /usr/local/lib/python3.7/dist-packages (from transformers) (20.9)\n",
      "Requirement already satisfied, skipping upgrade: numpy>=1.17 in /usr/local/lib/python3.7/dist-packages (from transformers) (1.19.5)\n",
      "Requirement already satisfied, skipping upgrade: requests in /usr/local/lib/python3.7/dist-packages (from transformers) (2.23.0)\n",
      "Requirement already satisfied, skipping upgrade: tokenizers<0.11,>=0.10.1 in /usr/local/lib/python3.7/dist-packages (from transformers) (0.10.1)\n",
      "Requirement already satisfied, skipping upgrade: tqdm>=4.27 in /usr/local/lib/python3.7/dist-packages (from transformers) (4.41.1)\n",
      "Requirement already satisfied, skipping upgrade: typing-extensions>=3.6.4; python_version < \"3.8\" in /usr/local/lib/python3.7/dist-packages (from importlib-metadata; python_version < \"3.8\"->transformers) (3.7.4.3)\n",
      "Requirement already satisfied, skipping upgrade: zipp>=0.5 in /usr/local/lib/python3.7/dist-packages (from importlib-metadata; python_version < \"3.8\"->transformers) (3.4.1)\n",
      "Requirement already satisfied, skipping upgrade: six in /usr/local/lib/python3.7/dist-packages (from sacremoses->transformers) (1.15.0)\n",
      "Requirement already satisfied, skipping upgrade: joblib in /usr/local/lib/python3.7/dist-packages (from sacremoses->transformers) (1.0.1)\n",
      "Requirement already satisfied, skipping upgrade: click in /usr/local/lib/python3.7/dist-packages (from sacremoses->transformers) (7.1.2)\n",
      "Requirement already satisfied, skipping upgrade: pyparsing>=2.0.2 in /usr/local/lib/python3.7/dist-packages (from packaging->transformers) (2.4.7)\n",
      "Requirement already satisfied, skipping upgrade: chardet<4,>=3.0.2 in /usr/local/lib/python3.7/dist-packages (from requests->transformers) (3.0.4)\n",
      "Requirement already satisfied, skipping upgrade: idna<3,>=2.5 in /usr/local/lib/python3.7/dist-packages (from requests->transformers) (2.10)\n",
      "Requirement already satisfied, skipping upgrade: urllib3!=1.25.0,!=1.25.1,<1.26,>=1.21.1 in /usr/local/lib/python3.7/dist-packages (from requests->transformers) (1.24.3)\n",
      "Requirement already satisfied, skipping upgrade: certifi>=2017.4.17 in /usr/local/lib/python3.7/dist-packages (from requests->transformers) (2020.12.5)\n",
      "Collecting pdfminer.six\n",
      "\u001b[?25l  Downloading https://files.pythonhosted.org/packages/93/f3/4fec7dabe8802ebec46141345bf714cd1fc7d93cb74ddde917e4b6d97d88/pdfminer.six-20201018-py3-none-any.whl (5.6MB)\n",
      "\u001b[K     |████████████████████████████████| 5.6MB 16.5MB/s \n",
      "\u001b[?25hRequirement already satisfied, skipping upgrade: sortedcontainers in /usr/local/lib/python3.7/dist-packages (from pdfminer.six) (2.3.0)\n",
      "Collecting cryptography\n",
      "\u001b[?25l  Downloading https://files.pythonhosted.org/packages/b2/26/7af637e6a7e87258b963f1731c5982fb31cd507f0d90d91836e446955d02/cryptography-3.4.7-cp36-abi3-manylinux2014_x86_64.whl (3.2MB)\n",
      "\u001b[K     |████████████████████████████████| 3.2MB 43.6MB/s \n",
      "\u001b[?25hRequirement already satisfied, skipping upgrade: chardet; python_version > \"3.0\" in /usr/local/lib/python3.7/dist-packages (from pdfminer.six) (3.0.4)\n",
      "Requirement already satisfied, skipping upgrade: cffi>=1.12 in /usr/local/lib/python3.7/dist-packages (from cryptography->pdfminer.six) (1.14.5)\n",
      "Requirement already satisfied, skipping upgrade: pycparser in /usr/local/lib/python3.7/dist-packages (from cffi>=1.12->cryptography->pdfminer.six) (2.20)\n",
      "Installing collected packages: cryptography, pdfminer.six\n",
      "Successfully installed cryptography-3.4.7 pdfminer.six-20201018\n"
     ]
    }
   ],
   "source": [
    "!pip3 install -U bert-extractive-summarizer\n",
    "!pip3 install -U transformers\n",
    "!pip3 install -U pdfminer.six"
   ]
  },
  {
   "cell_type": "code",
   "execution_count": 2,
   "metadata": {
    "colab": {
     "base_uri": "https://localhost:8080/"
    },
    "id": "3w2Wv5uKwMTf",
    "outputId": "410d1508-9676-4b4a-82dc-738344df904f"
   },
   "outputs": [
    {
     "name": "stdout",
     "output_type": "stream",
     "text": [
      "Archive:  embeddingsShort.zip\n",
      "  inflating: embeddingsPickle/ Абашева Александра Сергеевна.data  \n",
      "  inflating: embeddingsPickle/ Андреева Ольга Юрьевна.data  \n",
      "  inflating: embeddingsPickle/ Артемьев Дмитрий Геннадьевич.data  \n",
      "  inflating: embeddingsPickle/ Барахас Анхель.data  \n",
      "  inflating: embeddingsPickle/ Белых Светлана Александровна.data  \n",
      "  inflating: embeddingsPickle/ Божья-Воля Анастасия Александровна.data  \n",
      "  inflating: embeddingsPickle/ Бузмаков Алексей Владимирович.data  \n",
      "  inflating: embeddingsPickle/ Букина Татьяна Витальевна.data  \n",
      "  inflating: embeddingsPickle/ Быкова Анна Андреевна.data  \n",
      "  inflating: embeddingsPickle/ Василенко Юрий Владимирович.data  \n",
      "  inflating: embeddingsPickle/ Викентьева Ольга Леонидовна.data  \n",
      "  inflating: embeddingsPickle/ Володина Галина Емельяновна.data  \n",
      "  inflating: embeddingsPickle/ Гагарина Динара Амировна.data  \n",
      "  inflating: embeddingsPickle/ Гергерт Дмитрий Владимирович.data  \n",
      "  inflating: embeddingsPickle/ Гущин Валерий Рафаилович.data  \n",
      "  inflating: embeddingsPickle/ Дерябин Александр Иванович.data  \n",
      "  inflating: embeddingsPickle/ДерябинАлександрИванович.data  \n",
      "  inflating: embeddingsPickle/ Жукова Наталья Юрьевна.data  \n",
      "  inflating: embeddingsPickle/ Завертяева Марина Александровна.data  \n",
      "  inflating: embeddingsPickle/ Загороднова Екатерина Павловна.data  \n",
      "  inflating: embeddingsPickle/ Замятина Елена Борисовна.data  \n",
      "  inflating: embeddingsPickle/ Захаров Игорь Юрьевич.data  \n",
      "  inflating: embeddingsPickle/ Зуева Елена Львовна.data  \n",
      "  inflating: embeddingsPickle/ Каменских Алексей Александрович.data  \n",
      "  inflating: embeddingsPickle/ Кимерлинг Анна Семеновна.data  \n",
      "  inflating: embeddingsPickle/ Кузнецов Денис Борисович.data  \n",
      "  inflating: embeddingsPickle/ Куликова Софья Петровна.data  \n",
      "  inflating: embeddingsPickle/ Кушев Вадим Олегович.data  \n",
      "  inflating: embeddingsPickle/ Кычкин Алексей Владимирович.data  \n",
      "  inflating: embeddingsPickle/ Лавренчук Елена Николаевна.data  \n",
      "  inflating: embeddingsPickle/ Лядова Людмила Николаевна.data  \n",
      "  inflating: embeddingsPickle/ Михеева Ирина Вячеславовна.data  \n",
      "  inflating: embeddingsPickle/ Молодчик Мария Анатольевна.data  \n",
      "  inflating: embeddingsPickle/ Морозенко Владимир Викторович.data  \n",
      "  inflating: embeddingsPickle/ Найденова Юлия Николаевна.data  \n",
      "  inflating: embeddingsPickle/ Новикова Ольга Викторовна.data  \n",
      "  inflating: embeddingsPickle/ Носов Дмитрий Владимирович.data  \n",
      "  inflating: embeddingsPickle/ Папушина Юлия Олеговна.data  \n",
      "  inflating: embeddingsPickle/ Паршаков Петр Андреевич.data  \n",
      "  inflating: embeddingsPickle/ Пермякова Татьяна Михайловна.data  \n",
      "  inflating: embeddingsPickle/ Плотникова Евгения Григорьевна.data  \n",
      "  inflating: embeddingsPickle/ Плюснина Любовь Михайловна.data  \n",
      "  inflating: embeddingsPickle/ Плюснин Юрий Михайлович.data  \n",
      "  inflating: embeddingsPickle/ Потапов Дмитрий Борисович.data  \n",
      "  inflating: embeddingsPickle/ Прасол Алла Брониславовна.data  \n",
      "  inflating: embeddingsPickle/ Радионова Марина Владимировна.data  \n",
      "  inflating: embeddingsPickle/ Ратт Татьяна Андреевна.data  \n",
      "  inflating: embeddingsPickle/ Роженцова Елена Владимировна.data  \n",
      "  inflating: embeddingsPickle/ Ромашов Павел Андреевич.data  \n",
      "  inflating: embeddingsPickle/ Сметанин Андрей Владимирович.data  \n",
      "  inflating: embeddingsPickle/ Суворов Александр Олегович.data  \n",
      "  inflating: embeddingsPickle/ Суслов Андрей Борисович.data  \n",
      "  inflating: embeddingsPickle/ Суслова Светлана Викторовна.data  \n",
      "  inflating: embeddingsPickle/ Теплых Григорий Васильевич.data  \n",
      "  inflating: embeddingsPickle/ Чащухин Александр Валерьевич.data  \n",
      "  inflating: embeddingsPickle/ Шакина Елена Анатольевна.data  \n",
      "  inflating: embeddingsPickle/ Шафранская Ирина Николаевна.data  \n",
      "  inflating: embeddingsPickle/ Шеина Марина Витальевна.data  \n",
      "  inflating: embeddingsPickle/ Шенкман (Попова) Евгения Андреевна.data  \n",
      "  inflating: embeddingsPickle/ Шестакова Лидия Валентиновна.data  \n",
      "  inflating: embeddingsPickle/ Ясницкий Леонид Нахимович.data  \n"
     ]
    }
   ],
   "source": [
    "!unzip embeddingsShort.zip"
   ]
  },
  {
   "cell_type": "code",
   "execution_count": 3,
   "metadata": {
    "id": "wk0khuLmERs1"
   },
   "outputs": [],
   "source": [
    "import requests\n",
    "import torch\n",
    "from transformers import BertTokenizer, BertModel, BertConfig\n",
    "from tqdm import tqdm\n",
    "from summarizer import Summarizer\n",
    "\n",
    "import sys\n",
    "\n",
    "import pickle\n",
    "import re\n",
    "import math\n",
    "import os"
   ]
  },
  {
   "cell_type": "code",
   "execution_count": 4,
   "metadata": {
    "colab": {
     "base_uri": "https://localhost:8080/",
     "height": 109,
     "referenced_widgets": [
      "8e5fcfef44e34c40b3ccaa5143c481e7",
      "e14c20eaad174fb9b88b23debb6ca2cd",
      "05b2d4530ad24ba7a2bf722f4db523d4",
      "9d45a5be7bfc4a779605c2e40f17fa47",
      "b22efa0ce1af4a1b83595969bf670a65"
     ]
    },
    "id": "UTdynMc6EWeD",
    "outputId": "3cec07c0-6d82-4a4d-d8b6-6bbcf2a3b30e"
   },
   "outputs": [
    {
     "data": {
      "application/vnd.jupyter.widget-view+json": {
       "model_id": "8e5fcfef44e34c40b3ccaa5143c481e7",
       "version_major": 2,
       "version_minor": 0
      },
      "text/plain": [
       "HBox(children=(FloatProgress(value=0.0, description='Downloading', max=642.0, style=ProgressStyle(description_…"
      ]
     },
     "metadata": {
      "tags": []
     },
     "output_type": "display_data"
    },
    {
     "name": "stdout",
     "output_type": "stream",
     "text": [
      "\n"
     ]
    },
    {
     "data": {
      "application/vnd.jupyter.widget-view+json": {
       "model_id": "e14c20eaad174fb9b88b23debb6ca2cd",
       "version_major": 2,
       "version_minor": 0
      },
      "text/plain": [
       "HBox(children=(FloatProgress(value=0.0, description='Downloading', max=1649718.0, style=ProgressStyle(descript…"
      ]
     },
     "metadata": {
      "tags": []
     },
     "output_type": "display_data"
    },
    {
     "name": "stdout",
     "output_type": "stream",
     "text": [
      "\n"
     ]
    },
    {
     "data": {
      "application/vnd.jupyter.widget-view+json": {
       "model_id": "05b2d4530ad24ba7a2bf722f4db523d4",
       "version_major": 2,
       "version_minor": 0
      },
      "text/plain": [
       "HBox(children=(FloatProgress(value=0.0, description='Downloading', max=112.0, style=ProgressStyle(description_…"
      ]
     },
     "metadata": {
      "tags": []
     },
     "output_type": "display_data"
    },
    {
     "name": "stdout",
     "output_type": "stream",
     "text": [
      "\n"
     ]
    },
    {
     "data": {
      "application/vnd.jupyter.widget-view+json": {
       "model_id": "9d45a5be7bfc4a779605c2e40f17fa47",
       "version_major": 2,
       "version_minor": 0
      },
      "text/plain": [
       "HBox(children=(FloatProgress(value=0.0, description='Downloading', max=2.0, style=ProgressStyle(description_wi…"
      ]
     },
     "metadata": {
      "tags": []
     },
     "output_type": "display_data"
    },
    {
     "name": "stdout",
     "output_type": "stream",
     "text": [
      "\n"
     ]
    },
    {
     "data": {
      "application/vnd.jupyter.widget-view+json": {
       "model_id": "b22efa0ce1af4a1b83595969bf670a65",
       "version_major": 2,
       "version_minor": 0
      },
      "text/plain": [
       "HBox(children=(FloatProgress(value=0.0, description='Downloading', max=711456796.0, style=ProgressStyle(descri…"
      ]
     },
     "metadata": {
      "tags": []
     },
     "output_type": "display_data"
    },
    {
     "name": "stdout",
     "output_type": "stream",
     "text": [
      "\n"
     ]
    }
   ],
   "source": [
    "device = torch.device('cuda') if torch.cuda.is_available() else torch.device('cpu')\n",
    "#print(torch.cuda.get_device_name(0))\n",
    "\n",
    "custom_config = BertConfig.from_pretrained('DeepPavlov/rubert-base-cased')\n",
    "custom_config.output_hidden_states=True\n",
    "custom_tokenizer = BertTokenizer.from_pretrained('DeepPavlov/rubert-base-cased')\n",
    "custom_model = BertModel.from_pretrained('DeepPavlov/rubert-base-cased', config=custom_config)\n",
    "#custom_model.to('cuda')\n",
    "custom_model.eval()\n",
    "\n",
    "modelSum = Summarizer(custom_model=custom_model, custom_tokenizer=custom_tokenizer)"
   ]
  },
  {
   "cell_type": "code",
   "execution_count": 5,
   "metadata": {
    "id": "dRv6ZWB0xkAi"
   },
   "outputs": [],
   "source": [
    "path = '/content/embeddingsPickle'\n",
    "directories = os.listdir(path)\n",
    "emb = {}\n",
    "for file in directories:\n",
    "    with open(path+'/'+file, \"rb\") as f:\n",
    "        arr = pickle.load(f)\n",
    "        emb[file.split('.')[0]] = arr"
   ]
  },
  {
   "cell_type": "code",
   "execution_count": 7,
   "metadata": {
    "colab": {
     "base_uri": "https://localhost:8080/"
    },
    "id": "cGHk1wBzFi6I",
    "outputId": "d6e83d17-7314-4912-82bd-c6e4cc81a22a"
   },
   "outputs": [
    {
     "name": "stdout",
     "output_type": "stream",
     "text": [
      "CPU times: user 26.7 s, sys: 803 ms, total: 27.5 s\n",
      "Wall time: 27.3 s\n"
     ]
    }
   ],
   "source": [
    "from io import StringIO\n",
    "\n",
    "from pdfminer.converter import TextConverter\n",
    "from pdfminer.layout import LAParams\n",
    "from pdfminer.pdfdocument import PDFDocument\n",
    "from pdfminer.pdfinterp import PDFResourceManager, PDFPageInterpreter\n",
    "from pdfminer.pdfpage import PDFPage\n",
    "from pdfminer.pdfparser import PDFParser\n",
    "\n",
    "output_string = StringIO()\n",
    "with open('/content/Курсовая работа Соломатин.pdf', 'rb') as in_file:\n",
    "    parser = PDFParser(in_file)\n",
    "    doc = PDFDocument(parser)\n",
    "    rsrcmgr = PDFResourceManager()\n",
    "    device = TextConverter(rsrcmgr, output_string, laparams=LAParams())\n",
    "    interpreter = PDFPageInterpreter(rsrcmgr, device)\n",
    "    for page in PDFPage.create_pages(doc):\n",
    "        interpreter.process_page(page)\n",
    "text = output_string.getvalue()\n",
    "%time embeddings = modelSum.run_embeddings(text, num_sentences=10)"
   ]
  },
  {
   "cell_type": "code",
   "execution_count": null,
   "metadata": {
    "colab": {
     "base_uri": "https://localhost:8080/"
    },
    "id": "j3qbJ1LtFZZf",
    "outputId": "9417cbe8-7a1c-45a1-dd6f-53ad740a8d42"
   },
   "outputs": [
    {
     "name": "stdout",
     "output_type": "stream",
     "text": [
      "CPU times: user 55.7 s, sys: 1.23 s, total: 57 s\n",
      "Wall time: 56.3 s\n"
     ]
    }
   ],
   "source": [
    "with open(\"TestDoc\", 'r') as f:\n",
    "    text = f.read()\n",
    "    text = \"\".join([i.replace('\\n',' ').replace('\\t',' ') for i in text])\n",
    "text\n",
    "%time embeddings = modelSum.run_embeddings(text, num_sentences=10)"
   ]
  },
  {
   "cell_type": "markdown",
   "metadata": {
    "id": "KqS-YxpErtw9"
   },
   "source": [
    "# Сумма всех"
   ]
  },
  {
   "cell_type": "code",
   "execution_count": 8,
   "metadata": {
    "colab": {
     "base_uri": "https://localhost:8080/"
    },
    "id": "jRtLmFqmQRzm",
    "outputId": "8ac9edff-bc57-45ad-a321-5217754d5c9b"
   },
   "outputs": [
    {
     "name": "stderr",
     "output_type": "stream",
     "text": [
      "100%|██████████| 61/61 [00:39<00:00,  1.55it/s]"
     ]
    },
    {
     "name": "stdout",
     "output_type": "stream",
     "text": [
      "\n",
      " Кычкин Алексей Владимирович  Артемьев Дмитрий Геннадьевич  Артемьев Дмитрий Геннадьевич\n"
     ]
    },
    {
     "name": "stderr",
     "output_type": "stream",
     "text": [
      "\n"
     ]
    }
   ],
   "source": [
    "errorSum = {}\n",
    "errorMae = {}\n",
    "errorMse = {}\n",
    "for name, arr in tqdm(emb.items(), position=0, leave=True):\n",
    "    sum = 0\n",
    "    mae = 0\n",
    "    mse = 0\n",
    "    for i in range(len(embeddings)):\n",
    "        for arrRow in range(len(arr)):\n",
    "            for j in range(768):\n",
    "                sum += embeddings[i][j] - arr[arrRow][j]\n",
    "                mae += abs(embeddings[i][j] - arr[arrRow][j])\n",
    "                mse += (embeddings[i][j] - arr[arrRow][j])**2\n",
    "    errorSum[sum] = name\n",
    "    errorMae[mae] = name\n",
    "    errorMse[mse] = name\n",
    "print()\n",
    "print(errorSum[min(errorSum.keys())], errorMae[min(errorMae.keys())], errorMse[min(errorMse.keys())])"
   ]
  },
  {
   "cell_type": "markdown",
   "metadata": {
    "id": "xwooR8R_rv5R"
   },
   "source": [
    "# Сумма минимальных предлжений с повторами"
   ]
  },
  {
   "cell_type": "code",
   "execution_count": 9,
   "metadata": {
    "colab": {
     "base_uri": "https://localhost:8080/"
    },
    "id": "b4AA88MYn1P5",
    "outputId": "687c5f7d-74e6-41a3-def9-5104f95d30c7"
   },
   "outputs": [
    {
     "name": "stderr",
     "output_type": "stream",
     "text": [
      "100%|██████████| 61/61 [00:40<00:00,  1.52it/s]"
     ]
    },
    {
     "name": "stdout",
     "output_type": "stream",
     "text": [
      "\n",
      " Божья-Воля Анастасия Александровна  Кычкин Алексей Владимирович  Кычкин Алексей Владимирович\n"
     ]
    },
    {
     "name": "stderr",
     "output_type": "stream",
     "text": [
      "\n"
     ]
    }
   ],
   "source": [
    "errorSum = {}\n",
    "errorMae = {}\n",
    "errorMse = {}\n",
    "for name, arr in tqdm(emb.items(), position=0, leave=True):\n",
    "    allSum = 0\n",
    "    allMae = 0\n",
    "    allMse = 0\n",
    "    for i in range(len(embeddings)):\n",
    "        sum = [0]*len(arr)\n",
    "        mae = [0]*len(arr)\n",
    "        mse = [0]*len(arr)\n",
    "        for arrRow in range(len(arr)):\n",
    "            for j in range(768):\n",
    "                sum[arrRow] += embeddings[i][j] - arr[arrRow][j]\n",
    "                mae[arrRow] += abs(embeddings[i][j] - arr[arrRow][j])\n",
    "                mse[arrRow] += (embeddings[i][j] - arr[arrRow][j])**2\n",
    "        allSum += min(sum)\n",
    "        allMae += min(mae)\n",
    "        allMse += min(mse)\n",
    "    errorSum[allSum] = name\n",
    "    errorMae[allMae] = name\n",
    "    errorMse[allMse] = name\n",
    "print()\n",
    "print(errorSum[min(errorSum.keys())], errorMae[min(errorMae.keys())], errorMse[min(errorMse.keys())])"
   ]
  },
  {
   "cell_type": "markdown",
   "metadata": {
    "id": "tut8ohwLr6jH"
   },
   "source": [
    "# Сумма минимальных предложений без повторов"
   ]
  },
  {
   "cell_type": "markdown",
   "metadata": {
    "id": "sXwQVUb7s2a3"
   },
   "source": [
    "## Avg"
   ]
  },
  {
   "cell_type": "code",
   "execution_count": 10,
   "metadata": {
    "colab": {
     "base_uri": "https://localhost:8080/"
    },
    "id": "I_gO7mg0lJeZ",
    "outputId": "bca6de10-5e22-4b65-a63e-be68edd7ef1a"
   },
   "outputs": [
    {
     "name": "stderr",
     "output_type": "stream",
     "text": [
      "100%|██████████| 61/61 [00:06<00:00,  8.86it/s]"
     ]
    },
    {
     "name": "stdout",
     "output_type": "stream",
     "text": [
      "\n",
      " Божья-Воля Анастасия Александровна\n"
     ]
    },
    {
     "name": "stderr",
     "output_type": "stream",
     "text": [
      "\n"
     ]
    }
   ],
   "source": [
    "errorSum = {}\n",
    "for name, arr in tqdm(emb.items(), position=0, leave=True):\n",
    "    allSum = 0\n",
    "    takenRow = []\n",
    "    for i in range(len(embeddings)):\n",
    "        if i in takenRow:\n",
    "            continue\n",
    "        sum = [0]*len(arr)\n",
    "        for arrRow in range(len(arr)):\n",
    "            for j in range(768):\n",
    "                sum[arrRow] += embeddings[i][j] - arr[arrRow][j]\n",
    "        allSum += min(sum)\n",
    "        takenRow.append(sum.index(min(sum)))\n",
    "    errorSum[allSum] = name\n",
    "print()\n",
    "print(errorSum[min(errorSum.keys())])"
   ]
  },
  {
   "cell_type": "markdown",
   "metadata": {
    "id": "VPQWrPJ2s4ZB"
   },
   "source": [
    "## Mae"
   ]
  },
  {
   "cell_type": "code",
   "execution_count": 11,
   "metadata": {
    "colab": {
     "base_uri": "https://localhost:8080/"
    },
    "id": "f6XeXs7Rtcez",
    "outputId": "41156ae8-9f24-4cc4-8781-e4c4e4408606"
   },
   "outputs": [
    {
     "name": "stderr",
     "output_type": "stream",
     "text": [
      "100%|██████████| 61/61 [00:06<00:00,  8.89it/s]"
     ]
    },
    {
     "name": "stdout",
     "output_type": "stream",
     "text": [
      "\n",
      " Божья-Воля Анастасия Александровна\n"
     ]
    },
    {
     "name": "stderr",
     "output_type": "stream",
     "text": [
      "\n"
     ]
    }
   ],
   "source": [
    "errorMae = {}\n",
    "for name, arr in tqdm(emb.items(), position=0, leave=True):\n",
    "    allMae = 0\n",
    "    takenRow = []\n",
    "    for i in range(len(embeddings)):\n",
    "        if i in takenRow:\n",
    "            continue\n",
    "        mae = [0]*len(arr)\n",
    "        for arrRow in range(len(arr)):\n",
    "            for j in range(768):\n",
    "                mae[arrRow] += embeddings[i][j] - arr[arrRow][j]\n",
    "        allMae += min(mae)\n",
    "        takenRow.append(mae.index(min(mae)))\n",
    "    errorMae[allMae] = name\n",
    "print()\n",
    "print(errorMae[min(errorMae.keys())])"
   ]
  },
  {
   "cell_type": "markdown",
   "metadata": {
    "id": "910-Dff4s6ZK"
   },
   "source": [
    "## Mse"
   ]
  },
  {
   "cell_type": "code",
   "execution_count": 12,
   "metadata": {
    "colab": {
     "base_uri": "https://localhost:8080/"
    },
    "id": "LlH6GsRXtvEG",
    "outputId": "44c040bd-21ef-430a-8a02-dad563803992"
   },
   "outputs": [
    {
     "name": "stderr",
     "output_type": "stream",
     "text": [
      "100%|██████████| 61/61 [00:06<00:00,  8.82it/s]"
     ]
    },
    {
     "name": "stdout",
     "output_type": "stream",
     "text": [
      "\n",
      " Божья-Воля Анастасия Александровна\n"
     ]
    },
    {
     "name": "stderr",
     "output_type": "stream",
     "text": [
      "\n"
     ]
    }
   ],
   "source": [
    "errorMse = {}\n",
    "for name, arr in tqdm(emb.items(), position=0, leave=True):\n",
    "    allMse = 0\n",
    "    takenRow = []\n",
    "    for i in range(len(embeddings)):\n",
    "        if i in takenRow:\n",
    "            continue\n",
    "        mse = [0]*len(arr)\n",
    "        for arrRow in range(len(arr)):\n",
    "            for j in range(768):\n",
    "                mse[arrRow] += embeddings[i][j] - arr[arrRow][j]\n",
    "        allMse += min(mse)\n",
    "        takenRow.append(mse.index(min(mse)))\n",
    "    errorMse[allMse] = name\n",
    "print()\n",
    "print(errorMse[min(errorMse.keys())])"
   ]
  },
  {
   "cell_type": "markdown",
   "metadata": {
    "id": "bc7Z1xa0t-Ih"
   },
   "source": [
    "# Усредение эмбединнгов"
   ]
  },
  {
   "cell_type": "code",
   "execution_count": 13,
   "metadata": {
    "colab": {
     "base_uri": "https://localhost:8080/"
    },
    "id": "mQdV10zCuBxU",
    "outputId": "e8b5a830-ec8e-42db-b5ac-eda1b3a3a632"
   },
   "outputs": [
    {
     "name": "stderr",
     "output_type": "stream",
     "text": [
      "100%|██████████| 61/61 [00:00<00:00, 129.35it/s]"
     ]
    },
    {
     "name": "stdout",
     "output_type": "stream",
     "text": [
      "\n",
      " Кычкин Алексей Владимирович  Кычкин Алексей Владимирович  Гергерт Дмитрий Владимирович\n"
     ]
    },
    {
     "name": "stderr",
     "output_type": "stream",
     "text": [
      "\n"
     ]
    }
   ],
   "source": [
    "newEmb = [0]*768\n",
    "for arrEmb in embeddings:\n",
    "    for j in range(len(arrEmb)):\n",
    "        newEmb[j] += arrEmb[j] \n",
    "newEmb = [i/10 for i in newEmb]\n",
    "errorSum = {}\n",
    "errorMae = {}\n",
    "errorMse = {}\n",
    "for name, arr in tqdm(emb.items(), position=0, leave=True):\n",
    "    sum = 0\n",
    "    mae = 0\n",
    "    mse = 0\n",
    "    newArr = [0]*768\n",
    "    for arrEmb in arr:\n",
    "        for j in range(len(arrEmb)):\n",
    "            newArr[j] += arrEmb[j] \n",
    "    newArr = [i/10 for i in newArr]\n",
    "    for j in range(768):\n",
    "        sum += newEmb[j] - newArr[j]\n",
    "        mae += abs(newEmb[j] - newArr[j])\n",
    "        mse += (newEmb[j] - newArr[j])**2\n",
    "    errorSum[sum] = name\n",
    "    errorMae[mae] = name\n",
    "    errorMse[mse] = name\n",
    "print()\n",
    "print(errorSum[min(errorSum.keys())], errorMae[min(errorMae.keys())], errorMse[min(errorMse.keys())])"
   ]
  },
  {
   "cell_type": "markdown",
   "metadata": {
    "id": "NXhUPG1GFzNR"
   },
   "source": [
    "# Минимальная разность"
   ]
  },
  {
   "cell_type": "code",
   "execution_count": 14,
   "metadata": {
    "colab": {
     "base_uri": "https://localhost:8080/"
    },
    "id": "-LFwZYxbFxFY",
    "outputId": "39756dc8-8491-4fac-81b8-c34b8f849ead"
   },
   "outputs": [
    {
     "name": "stderr",
     "output_type": "stream",
     "text": [
      "100%|██████████| 61/61 [00:40<00:00,  1.50it/s]"
     ]
    },
    {
     "name": "stdout",
     "output_type": "stream",
     "text": [
      "\n",
      " Божья-Воля Анастасия Александровна  Андреева Ольга Юрьевна  Андреева Ольга Юрьевна\n"
     ]
    },
    {
     "name": "stderr",
     "output_type": "stream",
     "text": [
      "\n"
     ]
    }
   ],
   "source": [
    "errorSum = {}\n",
    "errorMae = {}\n",
    "errorMse = {}\n",
    "for name, arr in tqdm(emb.items(), position=0, leave=True):\n",
    "    allSum = 0\n",
    "    allMae = 0\n",
    "    allMse = 0\n",
    "    for i in range(len(embeddings)):\n",
    "        sum = [0]*len(arr)\n",
    "        mae = [0]*len(arr)\n",
    "        mse = [0]*len(arr)\n",
    "        for arrRow in range(len(arr)):\n",
    "            for j in range(768):\n",
    "                sum[arrRow] += embeddings[i][j] - arr[arrRow][j]\n",
    "                mae[arrRow] += abs(embeddings[i][j] - arr[arrRow][j])\n",
    "                mse[arrRow] += (embeddings[i][j] - arr[arrRow][j])**2\n",
    "        allSum = min(sum)\n",
    "        allMae = min(mae)\n",
    "        allMse = min(mse)\n",
    "    errorSum[allSum] = name\n",
    "    errorMae[allMae] = name\n",
    "    errorMse[allMse] = name\n",
    "print()\n",
    "print(errorSum[min(errorSum.keys())], errorMae[min(errorMae.keys())], errorMse[min(errorMse.keys())])"
   ]
  }
 ],
 "metadata": {
  "colab": {
   "include_colab_link": true,
   "name": "Test lenngth.ipynb",
   "provenance": []
  },
  "kernelspec": {
   "display_name": "Python 3",
   "language": "python",
   "name": "python3"
  },
  "language_info": {
   "codemirror_mode": {
    "name": "ipython",
    "version": 3
   },
   "file_extension": ".py",
   "mimetype": "text/x-python",
   "name": "python",
   "nbconvert_exporter": "python",
   "pygments_lexer": "ipython3",
   "version": "3.8.5"
  },
  "widgets": {
   "application/vnd.jupyter.widget-state+json": {
    "05b2d4530ad24ba7a2bf722f4db523d4": {
     "model_module": "@jupyter-widgets/controls",
     "model_name": "HBoxModel",
     "state": {
      "_dom_classes": [],
      "_model_module": "@jupyter-widgets/controls",
      "_model_module_version": "1.5.0",
      "_model_name": "HBoxModel",
      "_view_count": null,
      "_view_module": "@jupyter-widgets/controls",
      "_view_module_version": "1.5.0",
      "_view_name": "HBoxView",
      "box_style": "",
      "children": [
       "IPY_MODEL_24365322cee744498fb57adf1c706419",
       "IPY_MODEL_84262a8c175f451791459ba223d5320b"
      ],
      "layout": "IPY_MODEL_1c0c33fbe8964530800fd64db60c0984"
     }
    },
    "8e5fcfef44e34c40b3ccaa5143c481e7": {
     "model_module": "@jupyter-widgets/controls",
     "model_name": "HBoxModel",
     "state": {
      "_dom_classes": [],
      "_model_module": "@jupyter-widgets/controls",
      "_model_module_version": "1.5.0",
      "_model_name": "HBoxModel",
      "_view_count": null,
      "_view_module": "@jupyter-widgets/controls",
      "_view_module_version": "1.5.0",
      "_view_name": "HBoxView",
      "box_style": "",
      "children": [
       "IPY_MODEL_fcd2b51a1ffe48ddb01e104221bb8a5a",
       "IPY_MODEL_5e8d8b243e6a48feb49bb2f1e8cce63d"
      ],
      "layout": "IPY_MODEL_43af60f8f12d4af1a50d2708a14a2a3a"
     }
    },
    "9d45a5be7bfc4a779605c2e40f17fa47": {
     "model_module": "@jupyter-widgets/controls",
     "model_name": "HBoxModel",
     "state": {
      "_dom_classes": [],
      "_model_module": "@jupyter-widgets/controls",
      "_model_module_version": "1.5.0",
      "_model_name": "HBoxModel",
      "_view_count": null,
      "_view_module": "@jupyter-widgets/controls",
      "_view_module_version": "1.5.0",
      "_view_name": "HBoxView",
      "box_style": "",
      "children": [
       "IPY_MODEL_ad197796d84a405399fabba985c094f7",
       "IPY_MODEL_26590d90938d4478813f3e790606598b"
      ],
      "layout": "IPY_MODEL_fb80ab748b7345dfb68873f042c757d2"
     }
    },
    "b22efa0ce1af4a1b83595969bf670a65": {
     "model_module": "@jupyter-widgets/controls",
     "model_name": "HBoxModel",
     "state": {
      "_dom_classes": [],
      "_model_module": "@jupyter-widgets/controls",
      "_model_module_version": "1.5.0",
      "_model_name": "HBoxModel",
      "_view_count": null,
      "_view_module": "@jupyter-widgets/controls",
      "_view_module_version": "1.5.0",
      "_view_name": "HBoxView",
      "box_style": "",
      "children": [
       "IPY_MODEL_38f90f9767fd464395cf83e45e77e34c",
       "IPY_MODEL_68fe9bbb076e4f228f45369b6df0a2a7"
      ],
      "layout": "IPY_MODEL_b85cd54cad3a43868ec7e4af983e9da0"
     }
    },
    "e14c20eaad174fb9b88b23debb6ca2cd": {
     "model_module": "@jupyter-widgets/controls",
     "model_name": "HBoxModel",
     "state": {
      "_dom_classes": [],
      "_model_module": "@jupyter-widgets/controls",
      "_model_module_version": "1.5.0",
      "_model_name": "HBoxModel",
      "_view_count": null,
      "_view_module": "@jupyter-widgets/controls",
      "_view_module_version": "1.5.0",
      "_view_name": "HBoxView",
      "box_style": "",
      "children": [
       "IPY_MODEL_ddf4c08e4ea24e5fa893f673cdde9ea6",
       "IPY_MODEL_0fc1df1328bb40829aadec0128c6cacb"
      ],
      "layout": "IPY_MODEL_edfa6d6b56354e93a98739fc73c1ed05"
     }
    }
   }
  }
 },
 "nbformat": 4,
 "nbformat_minor": 1
}
