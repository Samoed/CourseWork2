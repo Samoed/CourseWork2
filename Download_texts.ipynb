{
  "nbformat": 4,
  "nbformat_minor": 0,
  "metadata": {
    "colab": {
      "name": "Download texts.ipynb",
      "provenance": [],
      "toc_visible": true
    },
    "kernelspec": {
      "name": "python3",
      "display_name": "Python 3"
    }
  },
  "cells": [
    {
      "cell_type": "code",
      "metadata": {
        "colab": {
          "base_uri": "https://localhost:8080/",
          "height": 1000
        },
        "id": "yOjkPLFEDFiD",
        "outputId": "b08355fe-03b5-46c3-ac08-fc431d516307"
      },
      "source": [
        "!pip install -U python-docx\n",
        "!pip install -U textract\n",
        "!apt-get install antiword"
      ],
      "execution_count": null,
      "outputs": [
        {
          "output_type": "stream",
          "text": [
            "Requirement already up-to-date: python-docx in /usr/local/lib/python3.7/dist-packages (0.8.10)\n",
            "Requirement already satisfied, skipping upgrade: lxml>=2.3.2 in /usr/local/lib/python3.7/dist-packages (from python-docx) (4.2.6)\n",
            "Collecting textract\n",
            "  Downloading https://files.pythonhosted.org/packages/32/31/ef9451e6e48a1a57e337c5f20d4ef58c1a13d91560d2574c738b1320bb8d/textract-1.6.3-py3-none-any.whl\n",
            "Collecting pdfminer.six==20181108\n",
            "\u001b[?25l  Downloading https://files.pythonhosted.org/packages/8a/fd/6e8746e6965d1a7ea8e97253e3d79e625da5547e8f376f88de5d024bacb9/pdfminer.six-20181108-py2.py3-none-any.whl (5.6MB)\n",
            "\u001b[K     |████████████████████████████████| 5.6MB 6.4MB/s \n",
            "\u001b[?25hCollecting docx2txt==0.8\n",
            "  Downloading https://files.pythonhosted.org/packages/7d/7d/60ee3f2b16d9bfdfa72e8599470a2c1a5b759cb113c6fe1006be28359327/docx2txt-0.8.tar.gz\n",
            "Collecting EbookLib==0.17.1\n",
            "\u001b[?25l  Downloading https://files.pythonhosted.org/packages/00/38/7d6ab2e569a9165249619d73b7bc6be0e713a899a3bc2513814b6598a84c/EbookLib-0.17.1.tar.gz (111kB)\n",
            "\u001b[K     |████████████████████████████████| 112kB 35.2MB/s \n",
            "\u001b[?25hCollecting xlrd==1.2.0\n",
            "\u001b[?25l  Downloading https://files.pythonhosted.org/packages/b0/16/63576a1a001752e34bf8ea62e367997530dc553b689356b9879339cf45a4/xlrd-1.2.0-py2.py3-none-any.whl (103kB)\n",
            "\u001b[K     |████████████████████████████████| 112kB 47.9MB/s \n",
            "\u001b[?25hCollecting SpeechRecognition==3.8.1\n",
            "\u001b[?25l  Downloading https://files.pythonhosted.org/packages/26/e1/7f5678cd94ec1234269d23756dbdaa4c8cfaed973412f88ae8adf7893a50/SpeechRecognition-3.8.1-py2.py3-none-any.whl (32.8MB)\n",
            "\u001b[K     |████████████████████████████████| 32.8MB 119kB/s \n",
            "\u001b[?25hCollecting beautifulsoup4==4.8.0\n",
            "\u001b[?25l  Downloading https://files.pythonhosted.org/packages/1a/b7/34eec2fe5a49718944e215fde81288eec1fa04638aa3fb57c1c6cd0f98c3/beautifulsoup4-4.8.0-py3-none-any.whl (97kB)\n",
            "\u001b[K     |████████████████████████████████| 102kB 10.2MB/s \n",
            "\u001b[?25hCollecting extract-msg==0.23.1\n",
            "\u001b[?25l  Downloading https://files.pythonhosted.org/packages/a1/90/84485a914ed90adb5e87df17e626be04162fbba146dfecf34643659a4633/extract_msg-0.23.1-py2.py3-none-any.whl (45kB)\n",
            "\u001b[K     |████████████████████████████████| 51kB 5.4MB/s \n",
            "\u001b[?25hCollecting python-pptx==0.6.18\n",
            "\u001b[?25l  Downloading https://files.pythonhosted.org/packages/bf/86/eb979f7b0333ec769041aae36df8b9f1bd8bea5bbad44620663890dce561/python-pptx-0.6.18.tar.gz (8.9MB)\n",
            "\u001b[K     |████████████████████████████████| 8.9MB 42.7MB/s \n",
            "\u001b[?25hCollecting argcomplete==1.10.0\n",
            "  Downloading https://files.pythonhosted.org/packages/4d/82/f44c9661e479207348a979b1f6f063625d11dc4ca6256af053719bbb0124/argcomplete-1.10.0-py2.py3-none-any.whl\n",
            "Collecting six==1.12.0\n",
            "  Downloading https://files.pythonhosted.org/packages/73/fb/00a976f728d0d1fecfe898238ce23f502a721c0ac0ecfedb80e0d88c64e9/six-1.12.0-py2.py3-none-any.whl\n",
            "Requirement already satisfied, skipping upgrade: chardet==3.0.4 in /usr/local/lib/python3.7/dist-packages (from textract) (3.0.4)\n",
            "Collecting pycryptodome\n",
            "\u001b[?25l  Downloading https://files.pythonhosted.org/packages/ad/16/9627ab0493894a11c68e46000dbcc82f578c8ff06bc2980dcd016aea9bd3/pycryptodome-3.10.1-cp35-abi3-manylinux2010_x86_64.whl (1.9MB)\n",
            "\u001b[K     |████████████████████████████████| 1.9MB 39.6MB/s \n",
            "\u001b[?25hRequirement already satisfied, skipping upgrade: sortedcontainers in /usr/local/lib/python3.7/dist-packages (from pdfminer.six==20181108->textract) (2.3.0)\n",
            "Requirement already satisfied, skipping upgrade: lxml in /usr/local/lib/python3.7/dist-packages (from EbookLib==0.17.1->textract) (4.2.6)\n",
            "Collecting soupsieve>=1.2\n",
            "  Downloading https://files.pythonhosted.org/packages/41/e7/3617a4b988ed7744743fb0dbba5aa0a6e3f95a9557b43f8c4740d296b48a/soupsieve-2.2-py3-none-any.whl\n",
            "Requirement already satisfied, skipping upgrade: tzlocal==1.5.1 in /usr/local/lib/python3.7/dist-packages (from extract-msg==0.23.1->textract) (1.5.1)\n",
            "Collecting imapclient==2.1.0\n",
            "\u001b[?25l  Downloading https://files.pythonhosted.org/packages/dc/39/e1c2c2c6e2356ab6ea81fcfc0a74b044b311d6a91a45300811d9a6077ef7/IMAPClient-2.1.0-py2.py3-none-any.whl (73kB)\n",
            "\u001b[K     |████████████████████████████████| 81kB 9.0MB/s \n",
            "\u001b[?25hCollecting olefile==0.46\n",
            "\u001b[?25l  Downloading https://files.pythonhosted.org/packages/34/81/e1ac43c6b45b4c5f8d9352396a14144bba52c8fec72a80f425f6a4d653ad/olefile-0.46.zip (112kB)\n",
            "\u001b[K     |████████████████████████████████| 112kB 53.1MB/s \n",
            "\u001b[?25hRequirement already satisfied, skipping upgrade: Pillow>=3.3.2 in /usr/local/lib/python3.7/dist-packages (from python-pptx==0.6.18->textract) (7.0.0)\n",
            "Collecting XlsxWriter>=0.5.7\n",
            "\u001b[?25l  Downloading https://files.pythonhosted.org/packages/6b/41/bf1aae04932d1eaffee1fc5f8b38ca47bbbf07d765129539bc4bcce1ce0c/XlsxWriter-1.3.7-py2.py3-none-any.whl (144kB)\n",
            "\u001b[K     |████████████████████████████████| 153kB 50.8MB/s \n",
            "\u001b[?25hRequirement already satisfied, skipping upgrade: pytz in /usr/local/lib/python3.7/dist-packages (from tzlocal==1.5.1->extract-msg==0.23.1->textract) (2018.9)\n",
            "Building wheels for collected packages: docx2txt, EbookLib, python-pptx, olefile\n",
            "  Building wheel for docx2txt (setup.py) ... \u001b[?25l\u001b[?25hdone\n",
            "  Created wheel for docx2txt: filename=docx2txt-0.8-cp37-none-any.whl size=3963 sha256=24f61a54f145a1219cc76e786e1f86041ffc66b3613d81c3e666865e1851c99d\n",
            "  Stored in directory: /root/.cache/pip/wheels/b2/1f/26/a051209bbb77fc6bcfae2bb7e01fa0ff941b82292ab084d596\n",
            "  Building wheel for EbookLib (setup.py) ... \u001b[?25l\u001b[?25hdone\n",
            "  Created wheel for EbookLib: filename=EbookLib-0.17.1-cp37-none-any.whl size=38165 sha256=7489d36bd607fe64e93de80a436bb76488ddfb23cf364274a54633a5b32cc816\n",
            "  Stored in directory: /root/.cache/pip/wheels/84/11/01/951369cbbf8f96878786a1f4da68bd7ac19a5d945b38e03d54\n",
            "  Building wheel for python-pptx (setup.py) ... \u001b[?25l\u001b[?25hdone\n",
            "  Created wheel for python-pptx: filename=python_pptx-0.6.18-cp37-none-any.whl size=275704 sha256=2c6853fec53809e49a47e86ddff2312afbe749657c09e38fb59f4f7ddff3951b\n",
            "  Stored in directory: /root/.cache/pip/wheels/1f/1f/2c/29acca422b420a0b5210bd2cd7e9669804520d602d2462f20b\n",
            "  Building wheel for olefile (setup.py) ... \u001b[?25l\u001b[?25hdone\n",
            "  Created wheel for olefile: filename=olefile-0.46-py2.py3-none-any.whl size=35416 sha256=27d94961ec1344151f21baba31f1266f3706c3e5c6caca95f98ea85fa76cbfe1\n",
            "  Stored in directory: /root/.cache/pip/wheels/4b/f4/11/bc4166107c27f07fd7bba707ffcb439619197638a1ac986df3\n",
            "Successfully built docx2txt EbookLib python-pptx olefile\n",
            "\u001b[31mERROR: tensorflow 2.4.1 has requirement six~=1.15.0, but you'll have six 1.12.0 which is incompatible.\u001b[0m\n",
            "\u001b[31mERROR: google-colab 1.0.0 has requirement six~=1.15.0, but you'll have six 1.12.0 which is incompatible.\u001b[0m\n",
            "\u001b[31mERROR: google-api-python-client 1.12.8 has requirement six<2dev,>=1.13.0, but you'll have six 1.12.0 which is incompatible.\u001b[0m\n",
            "\u001b[31mERROR: google-api-core 1.26.1 has requirement six>=1.13.0, but you'll have six 1.12.0 which is incompatible.\u001b[0m\n",
            "\u001b[31mERROR: datascience 0.10.6 has requirement folium==0.2.1, but you'll have folium 0.8.3 which is incompatible.\u001b[0m\n",
            "\u001b[31mERROR: albumentations 0.1.12 has requirement imgaug<0.2.7,>=0.2.5, but you'll have imgaug 0.2.9 which is incompatible.\u001b[0m\n",
            "Installing collected packages: pycryptodome, six, pdfminer.six, docx2txt, EbookLib, xlrd, SpeechRecognition, soupsieve, beautifulsoup4, imapclient, olefile, extract-msg, XlsxWriter, python-pptx, argcomplete, textract\n",
            "  Found existing installation: six 1.15.0\n",
            "    Uninstalling six-1.15.0:\n",
            "      Successfully uninstalled six-1.15.0\n",
            "  Found existing installation: xlrd 1.1.0\n",
            "    Uninstalling xlrd-1.1.0:\n",
            "      Successfully uninstalled xlrd-1.1.0\n",
            "  Found existing installation: beautifulsoup4 4.6.3\n",
            "    Uninstalling beautifulsoup4-4.6.3:\n",
            "      Successfully uninstalled beautifulsoup4-4.6.3\n",
            "Successfully installed EbookLib-0.17.1 SpeechRecognition-3.8.1 XlsxWriter-1.3.7 argcomplete-1.10.0 beautifulsoup4-4.8.0 docx2txt-0.8 extract-msg-0.23.1 imapclient-2.1.0 olefile-0.46 pdfminer.six-20181108 pycryptodome-3.10.1 python-pptx-0.6.18 six-1.12.0 soupsieve-2.2 textract-1.6.3 xlrd-1.2.0\n"
          ],
          "name": "stdout"
        },
        {
          "output_type": "display_data",
          "data": {
            "application/vnd.colab-display-data+json": {
              "pip_warning": {
                "packages": [
                  "six"
                ]
              }
            }
          },
          "metadata": {
            "tags": []
          }
        },
        {
          "output_type": "stream",
          "text": [
            "Reading package lists... Done\n",
            "Building dependency tree       \n",
            "Reading state information... Done\n",
            "The following NEW packages will be installed:\n",
            "  antiword\n",
            "0 upgraded, 1 newly installed, 0 to remove and 29 not upgraded.\n",
            "Need to get 128 kB of archives.\n",
            "After this operation, 633 kB of additional disk space will be used.\n",
            "Get:1 http://archive.ubuntu.com/ubuntu bionic/universe amd64 antiword amd64 0.37-11build1 [128 kB]\n",
            "Fetched 128 kB in 2s (84.1 kB/s)\n",
            "Selecting previously unselected package antiword.\n",
            "(Reading database ... 160975 files and directories currently installed.)\n",
            "Preparing to unpack .../antiword_0.37-11build1_amd64.deb ...\n",
            "Unpacking antiword (0.37-11build1) ...\n",
            "Setting up antiword (0.37-11build1) ...\n",
            "Processing triggers for man-db (2.8.3-2ubuntu0.1) ...\n",
            "Processing triggers for hicolor-icon-theme (0.17-2) ...\n",
            "Processing triggers for mime-support (3.60ubuntu1) ...\n"
          ],
          "name": "stdout"
        }
      ]
    },
    {
      "cell_type": "code",
      "metadata": {
        "colab": {
          "base_uri": "https://localhost:8080/"
        },
        "id": "ZN3rO52NDOLd",
        "outputId": "35c28d37-3884-4cf2-e518-ca6e594dc12c"
      },
      "source": [
        "!wget https://raw.githubusercontent.com/Samoed/CourseWork2/main/data/people.csv?token=AITWEH7KE4SCWPI626GW46TAKTP36\n",
        "!wget https://raw.githubusercontent.com/Samoed/CourseWork2/main/data/vkr.csv?token=AITWEH7ZDAUWRJUVRBMMYLDAKTP7Q\n",
        "!wget https://raw.githubusercontent.com/Samoed/CourseWork2/main/data/vkrText.csv?token=AITWEH6BLDWIZWOY6OWA6T3AKTP7W"
      ],
      "execution_count": null,
      "outputs": [
        {
          "output_type": "stream",
          "text": [
            "--2021-03-13 06:12:04--  https://raw.githubusercontent.com/Samoed/CourseWork2/main/data/people.csv?token=AITWEH7KE4SCWPI626GW46TAKTP36\n",
            "Resolving raw.githubusercontent.com (raw.githubusercontent.com)... 185.199.108.133, 185.199.110.133, 185.199.109.133, ...\n",
            "Connecting to raw.githubusercontent.com (raw.githubusercontent.com)|185.199.108.133|:443... connected.\n",
            "HTTP request sent, awaiting response... 200 OK\n",
            "Length: 30447 (30K) [text/plain]\n",
            "Saving to: ‘people.csv?token=AITWEH7KE4SCWPI626GW46TAKTP36.1’\n",
            "\n",
            "people.csv?token=AI 100%[===================>]  29.73K  --.-KB/s    in 0s      \n",
            "\n",
            "2021-03-13 06:12:04 (93.3 MB/s) - ‘people.csv?token=AITWEH7KE4SCWPI626GW46TAKTP36.1’ saved [30447/30447]\n",
            "\n",
            "--2021-03-13 06:12:04--  https://raw.githubusercontent.com/Samoed/CourseWork2/main/data/vkr.csv?token=AITWEH7ZDAUWRJUVRBMMYLDAKTP7Q\n",
            "Resolving raw.githubusercontent.com (raw.githubusercontent.com)... 185.199.109.133, 185.199.111.133, 185.199.108.133, ...\n",
            "Connecting to raw.githubusercontent.com (raw.githubusercontent.com)|185.199.109.133|:443... connected.\n",
            "HTTP request sent, awaiting response... 200 OK\n",
            "Length: 801586 (783K) [text/plain]\n",
            "Saving to: ‘vkr.csv?token=AITWEH7ZDAUWRJUVRBMMYLDAKTP7Q.1’\n",
            "\n",
            "vkr.csv?token=AITWE 100%[===================>] 782.80K  --.-KB/s    in 0.06s   \n",
            "\n",
            "2021-03-13 06:12:05 (12.9 MB/s) - ‘vkr.csv?token=AITWEH7ZDAUWRJUVRBMMYLDAKTP7Q.1’ saved [801586/801586]\n",
            "\n",
            "--2021-03-13 06:12:05--  https://raw.githubusercontent.com/Samoed/CourseWork2/main/data/vkrText.csv?token=AITWEH6BLDWIZWOY6OWA6T3AKTP7W\n",
            "Resolving raw.githubusercontent.com (raw.githubusercontent.com)... 185.199.108.133, 185.199.109.133, 185.199.110.133, ...\n",
            "Connecting to raw.githubusercontent.com (raw.githubusercontent.com)|185.199.108.133|:443... connected.\n",
            "HTTP request sent, awaiting response... 200 OK\n",
            "Length: 81699381 (78M) [text/plain]\n",
            "Saving to: ‘vkrText.csv?token=AITWEH6BLDWIZWOY6OWA6T3AKTP7W.1’\n",
            "\n",
            "vkrText.csv?token=A 100%[===================>]  77.91M  94.6MB/s    in 0.8s    \n",
            "\n",
            "2021-03-13 06:12:13 (94.6 MB/s) - ‘vkrText.csv?token=AITWEH6BLDWIZWOY6OWA6T3AKTP7W.1’ saved [81699381/81699381]\n",
            "\n"
          ],
          "name": "stdout"
        }
      ]
    },
    {
      "cell_type": "code",
      "metadata": {
        "id": "ib7AX16KDRIs"
      },
      "source": [
        "import requests\n",
        "import pandas as pd\n",
        "from docx import Document\n",
        "from tqdm import tqdm\n",
        "import re\n",
        "import math\n",
        "import textract"
      ],
      "execution_count": null,
      "outputs": []
    },
    {
      "cell_type": "code",
      "metadata": {
        "colab": {
          "base_uri": "https://localhost:8080/",
          "height": 519
        },
        "id": "-F0VJfawDaIv",
        "outputId": "19f71838-6a5d-4224-fda2-365752ff7165"
      },
      "source": [
        "vkr = pd.read_csv('/content/vkr.csv?token=AITWEH7ZDAUWRJUVRBMMYLDAKTP7Q')\n",
        "vkrText = pd.read_csv('/content/vkrText.csv?token=AITWEH6BLDWIZWOY6OWA6T3AKTP7W')\n",
        "vkrText.head()"
      ],
      "execution_count": null,
      "outputs": [
        {
          "output_type": "execute_result",
          "data": {
            "text/html": [
              "<div>\n",
              "<style scoped>\n",
              "    .dataframe tbody tr th:only-of-type {\n",
              "        vertical-align: middle;\n",
              "    }\n",
              "\n",
              "    .dataframe tbody tr th {\n",
              "        vertical-align: top;\n",
              "    }\n",
              "\n",
              "    .dataframe thead th {\n",
              "        text-align: right;\n",
              "    }\n",
              "</style>\n",
              "<table border=\"1\" class=\"dataframe\">\n",
              "  <thead>\n",
              "    <tr style=\"text-align: right;\">\n",
              "      <th></th>\n",
              "      <th>Unnamed: 0</th>\n",
              "      <th>Unnamed: 0.1</th>\n",
              "      <th>link_vkr</th>\n",
              "      <th>name_vkr</th>\n",
              "      <th>name_student</th>\n",
              "      <th>name_prof</th>\n",
              "      <th>campus</th>\n",
              "      <th>programm</th>\n",
              "      <th>grade</th>\n",
              "      <th>year</th>\n",
              "      <th>link_file</th>\n",
              "      <th>fullText</th>\n",
              "      <th>shortText</th>\n",
              "    </tr>\n",
              "  </thead>\n",
              "  <tbody>\n",
              "    <tr>\n",
              "      <th>0</th>\n",
              "      <td>0</td>\n",
              "      <td>0</td>\n",
              "      <td>https://www.hse.ru/edu/vkr/219524501</td>\n",
              "      <td>Оценка стоимости компании</td>\n",
              "      <td>Дроздова Ирина Валерьевна</td>\n",
              "      <td>Абашева Александра Сергеевна</td>\n",
              "      <td>Вечерне-заочный факультет экономики и управле...</td>\n",
              "      <td>Экономика (в) (Бакалавриат)</td>\n",
              "      <td>-1</td>\n",
              "      <td>2018</td>\n",
              "      <td>NaN</td>\n",
              "      <td>NaN</td>\n",
              "      <td>NaN</td>\n",
              "    </tr>\n",
              "    <tr>\n",
              "      <th>1</th>\n",
              "      <td>1</td>\n",
              "      <td>1</td>\n",
              "      <td>https://www.hse.ru/edu/vkr/219524122</td>\n",
              "      <td>Оценка эффективности инвестиционного проекта</td>\n",
              "      <td>Стерледева Наталья Владимировна</td>\n",
              "      <td>Абашева Александра Сергеевна</td>\n",
              "      <td>Вечерне-заочный факультет экономики и управле...</td>\n",
              "      <td>Экономика (в) (Бакалавриат)</td>\n",
              "      <td>7</td>\n",
              "      <td>2018</td>\n",
              "      <td>http://lms.hse.ru/ap_service.php?getwork=1&amp;gui...</td>\n",
              "      <td>\\n ПЕРМСКИЙ ФИЛИАЛ ФЕДЕРАЛЬНОГО  ГОСУДАРСТВЕНН...</td>\n",
              "      <td>NaN</td>\n",
              "    </tr>\n",
              "    <tr>\n",
              "      <th>2</th>\n",
              "      <td>2</td>\n",
              "      <td>2</td>\n",
              "      <td>https://www.hse.ru/edu/vkr/153009903</td>\n",
              "      <td>Разработка системы управления знаниями в орган...</td>\n",
              "      <td>Беленова Анастасия Александровна</td>\n",
              "      <td>Аленина Карина Анатольевна</td>\n",
              "      <td>Факультет менеджмента (Пермь)</td>\n",
              "      <td>Менеджмент (Бакалавриат)</td>\n",
              "      <td>-1</td>\n",
              "      <td>2015</td>\n",
              "      <td>NaN</td>\n",
              "      <td>NaN</td>\n",
              "      <td>NaN</td>\n",
              "    </tr>\n",
              "    <tr>\n",
              "      <th>3</th>\n",
              "      <td>3</td>\n",
              "      <td>3</td>\n",
              "      <td>https://www.hse.ru/edu/vkr/153009689</td>\n",
              "      <td>Брендинг инновационного продукта</td>\n",
              "      <td>Воронков Кирилл Евгеньевич</td>\n",
              "      <td>Аленина Карина Анатольевна</td>\n",
              "      <td>Факультет менеджмента (Пермь)</td>\n",
              "      <td>Менеджмент (Бакалавриат)</td>\n",
              "      <td>-1</td>\n",
              "      <td>2015</td>\n",
              "      <td>NaN</td>\n",
              "      <td>NaN</td>\n",
              "      <td>NaN</td>\n",
              "    </tr>\n",
              "    <tr>\n",
              "      <th>4</th>\n",
              "      <td>4</td>\n",
              "      <td>4</td>\n",
              "      <td>https://www.hse.ru/edu/vkr/153009541</td>\n",
              "      <td>Стратегия инновационного развития бизнеса в ин...</td>\n",
              "      <td>Бадягина Мария Германовна</td>\n",
              "      <td>Аленина Карина Анатольевна</td>\n",
              "      <td>Факультет менеджмента (Пермь)</td>\n",
              "      <td>Менеджмент (Бакалавриат)</td>\n",
              "      <td>-1</td>\n",
              "      <td>2015</td>\n",
              "      <td>NaN</td>\n",
              "      <td>NaN</td>\n",
              "      <td>NaN</td>\n",
              "    </tr>\n",
              "  </tbody>\n",
              "</table>\n",
              "</div>"
            ],
            "text/plain": [
              "   Unnamed: 0  ...  shortText\n",
              "0           0  ...        NaN\n",
              "1           1  ...        NaN\n",
              "2           2  ...        NaN\n",
              "3           3  ...        NaN\n",
              "4           4  ...        NaN\n",
              "\n",
              "[5 rows x 13 columns]"
            ]
          },
          "metadata": {
            "tags": []
          },
          "execution_count": 4
        }
      ]
    },
    {
      "cell_type": "code",
      "metadata": {
        "id": "Pw2zVGSQDcs4"
      },
      "source": [
        "vkrText = vkr.copy()\n",
        "vkrText['fullText'] = ''\n",
        "vkrText['shortText'] = ''"
      ],
      "execution_count": null,
      "outputs": []
    },
    {
      "cell_type": "markdown",
      "metadata": {
        "id": "GbudyueCDuUp"
      },
      "source": [
        "## DOCX"
      ]
    },
    {
      "cell_type": "code",
      "metadata": {
        "colab": {
          "base_uri": "https://localhost:8080/"
        },
        "id": "5Nkdgc-2Dfso",
        "outputId": "046b6ab8-a3cd-4eaa-d8ce-42a4eda7c60f"
      },
      "source": [
        "successful = []\n",
        "unsuccessful = []\n",
        "for row in tqdm(range(vkr.shape[0])):\n",
        "    if type(vkr.loc[row, 'link_file'])==str:\n",
        "        url = vkr.loc[row, 'link_file']\n",
        "        r = requests.get(url, allow_redirects=True)\n",
        "        try:\n",
        "            open('test.docx', 'wb').write(r.content)\n",
        "            f = open('test.docx', 'rb')\n",
        "            document = Document(f)\n",
        "            f.close()\n",
        "            successful.append(url)\n",
        "        except:\n",
        "            unsuccessful.append(url)\n",
        "            vkrText.loc[row, 'fullText' ] = ''\n",
        "            vkrText.loc[row, 'shortText'] = ''\n",
        "            continue\n",
        "        \n",
        "        fullText = \"\"\n",
        "        for para in document.paragraphs:\n",
        "            fullText+=(para.text)+\" \"\n",
        "        vkrText.loc[row, 'fullText' ] = fullText\n",
        "        vkrText.loc[row, 'shortText'] = ''\n",
        "    else:\n",
        "        vkrText.loc[row, 'link_file'] = ''\n",
        "        vkrText.loc[row, 'fullText' ] = ''\n",
        "        vkrText.loc[row, 'shortText'] = ''"
      ],
      "execution_count": null,
      "outputs": [
        {
          "output_type": "stream",
          "text": [
            "100%|██████████| 1708/1708 [34:53<00:00,  1.23s/it]\n"
          ],
          "name": "stderr"
        }
      ]
    },
    {
      "cell_type": "code",
      "metadata": {
        "colab": {
          "base_uri": "https://localhost:8080/"
        },
        "id": "TgFunWzDkXZP",
        "outputId": "e13157db-9387-4587-cb16-5ed77c6e19b1"
      },
      "source": [
        "len(successful), len(unsuccessful)"
      ],
      "execution_count": null,
      "outputs": [
        {
          "output_type": "execute_result",
          "data": {
            "text/plain": [
              "(431, 78)"
            ]
          },
          "metadata": {
            "tags": []
          },
          "execution_count": 7
        }
      ]
    },
    {
      "cell_type": "code",
      "metadata": {
        "id": "8YQcqg1dvGi1"
      },
      "source": [
        "vkrText.to_csv('vkrText.csv')"
      ],
      "execution_count": null,
      "outputs": []
    },
    {
      "cell_type": "code",
      "metadata": {
        "id": "aFMUlkW7eyb5",
        "colab": {
          "base_uri": "https://localhost:8080/",
          "height": 1000
        },
        "outputId": "911510b0-8eb2-4817-99ad-33bbde53d84f"
      },
      "source": [
        "tmp = vkrText[vkrText['link_file']!='']\r\n",
        "tmp[tmp['fullText']=='']\r\n",
        "tmp"
      ],
      "execution_count": null,
      "outputs": [
        {
          "output_type": "execute_result",
          "data": {
            "text/html": [
              "<div>\n",
              "<style scoped>\n",
              "    .dataframe tbody tr th:only-of-type {\n",
              "        vertical-align: middle;\n",
              "    }\n",
              "\n",
              "    .dataframe tbody tr th {\n",
              "        vertical-align: top;\n",
              "    }\n",
              "\n",
              "    .dataframe thead th {\n",
              "        text-align: right;\n",
              "    }\n",
              "</style>\n",
              "<table border=\"1\" class=\"dataframe\">\n",
              "  <thead>\n",
              "    <tr style=\"text-align: right;\">\n",
              "      <th></th>\n",
              "      <th>Unnamed: 0</th>\n",
              "      <th>link_vkr</th>\n",
              "      <th>name_vkr</th>\n",
              "      <th>name_student</th>\n",
              "      <th>name_prof</th>\n",
              "      <th>campus</th>\n",
              "      <th>programm</th>\n",
              "      <th>grade</th>\n",
              "      <th>year</th>\n",
              "      <th>link_file</th>\n",
              "      <th>fullText</th>\n",
              "      <th>shortText</th>\n",
              "    </tr>\n",
              "  </thead>\n",
              "  <tbody>\n",
              "    <tr>\n",
              "      <th>1</th>\n",
              "      <td>1</td>\n",
              "      <td>https://www.hse.ru/edu/vkr/219524122</td>\n",
              "      <td>Оценка эффективности инвестиционного проекта</td>\n",
              "      <td>Стерледева Наталья Владимировна</td>\n",
              "      <td>Абашева Александра Сергеевна</td>\n",
              "      <td>Вечерне-заочный факультет экономики и управле...</td>\n",
              "      <td>Экономика (в) (Бакалавриат)</td>\n",
              "      <td>7</td>\n",
              "      <td>2018</td>\n",
              "      <td>http://lms.hse.ru/ap_service.php?getwork=1&amp;gui...</td>\n",
              "      <td></td>\n",
              "      <td></td>\n",
              "    </tr>\n",
              "    <tr>\n",
              "      <th>22</th>\n",
              "      <td>22</td>\n",
              "      <td>https://www.hse.ru/edu/vkr/365111685</td>\n",
              "      <td>Оптимизация маркетинговых коммуникаций компани...</td>\n",
              "      <td>Боталов Владислав Сергеевич</td>\n",
              "      <td>Андреева Ольга Юрьевна</td>\n",
              "      <td>Факультет экономики, менеджмента и бизнес-инф...</td>\n",
              "      <td>Smart-маркетинг</td>\n",
              "      <td>8</td>\n",
              "      <td>2020</td>\n",
              "      <td>http://lms.hse.ru/ap_service.php?getwork=1&amp;gui...</td>\n",
              "      <td>ПЕРМСКИЙ ФИЛИАЛ ФЕДЕРАЛЬНОГО  ГОСУДАРСТВЕННОГО...</td>\n",
              "      <td></td>\n",
              "    </tr>\n",
              "    <tr>\n",
              "      <th>26</th>\n",
              "      <td>26</td>\n",
              "      <td>https://www.hse.ru/edu/vkr/296306236</td>\n",
              "      <td>Разработка программы коммуникаций для детского...</td>\n",
              "      <td>Норова Анастасия Олеговна</td>\n",
              "      <td>Андреева Ольга Юрьевна</td>\n",
              "      <td>Факультет экономики, менеджмента и бизнес-инф...</td>\n",
              "      <td>Smart-маркетинг</td>\n",
              "      <td>7</td>\n",
              "      <td>2019</td>\n",
              "      <td>http://lms.hse.ru/ap_service.php?getwork=1&amp;gui...</td>\n",
              "      <td>ПЕРМСКИЙ ФИЛИАЛ ФЕДЕРАЛЬНОГО  ГОСУДАРСТВЕННОГО...</td>\n",
              "      <td></td>\n",
              "    </tr>\n",
              "    <tr>\n",
              "      <th>31</th>\n",
              "      <td>31</td>\n",
              "      <td>https://www.hse.ru/edu/vkr/219186347</td>\n",
              "      <td>Разработка Social Media Based Brand Community ...</td>\n",
              "      <td>Зинкина Юлия Игоревна</td>\n",
              "      <td>Андреева Ольга Юрьевна</td>\n",
              "      <td>Факультет экономики, менеджмента и бизнес-инф...</td>\n",
              "      <td>Маркетинг (Магистратура)</td>\n",
              "      <td>8</td>\n",
              "      <td>2018</td>\n",
              "      <td>http://lms.hse.ru/ap_service.php?getwork=1&amp;gui...</td>\n",
              "      <td>ФЕДЕРАЛЬНОЕ ГОСУДАРСТВЕННОЕ АВТОНОМНОЕ ОБРАЗОВ...</td>\n",
              "      <td></td>\n",
              "    </tr>\n",
              "    <tr>\n",
              "      <th>35</th>\n",
              "      <td>35</td>\n",
              "      <td>https://www.hse.ru/edu/vkr/206742048</td>\n",
              "      <td>Влияние запуска новых продуктов на продуктовую...</td>\n",
              "      <td>Шляпина Екатерина Викторовна</td>\n",
              "      <td>Андреева Ольга Юрьевна</td>\n",
              "      <td>Факультет экономики, менеджмента и бизнес-инф...</td>\n",
              "      <td>Маркетинг (Магистратура)</td>\n",
              "      <td>9</td>\n",
              "      <td>2017</td>\n",
              "      <td>http://lms.hse.ru/ap_service.php?getwork=1&amp;gui...</td>\n",
              "      <td>ПЕРМСКИЙ ФИЛИАЛ ФЕДЕРАЛЬНОГО  ГОСУДАРСТВЕННОГО...</td>\n",
              "      <td></td>\n",
              "    </tr>\n",
              "    <tr>\n",
              "      <th>...</th>\n",
              "      <td>...</td>\n",
              "      <td>...</td>\n",
              "      <td>...</td>\n",
              "      <td>...</td>\n",
              "      <td>...</td>\n",
              "      <td>...</td>\n",
              "      <td>...</td>\n",
              "      <td>...</td>\n",
              "      <td>...</td>\n",
              "      <td>...</td>\n",
              "      <td>...</td>\n",
              "      <td>...</td>\n",
              "    </tr>\n",
              "    <tr>\n",
              "      <th>1701</th>\n",
              "      <td>1701</td>\n",
              "      <td>https://www.hse.ru/edu/vkr/296299895</td>\n",
              "      <td>Модификация архитектуры MVP с использованием п...</td>\n",
              "      <td>Смирнов Александр Владимирович</td>\n",
              "      <td>Ясницкий Леонид Нахимович</td>\n",
              "      <td>Факультет экономики, менеджмента и бизнес-инф...</td>\n",
              "      <td>Информационная аналитика в управлении предпри...</td>\n",
              "      <td>10</td>\n",
              "      <td>2019</td>\n",
              "      <td>http://lms.hse.ru/ap_service.php?getwork=1&amp;gui...</td>\n",
              "      <td>Пермь, 2019 год Аннотация Данная работа сод...</td>\n",
              "      <td></td>\n",
              "    </tr>\n",
              "    <tr>\n",
              "      <th>1702</th>\n",
              "      <td>1702</td>\n",
              "      <td>https://www.hse.ru/edu/vkr/296307489</td>\n",
              "      <td>Разработка информационной системы для управлен...</td>\n",
              "      <td>Пьянков Денис Витальевич</td>\n",
              "      <td>Ясницкий Леонид Нахимович</td>\n",
              "      <td>Факультет экономики, менеджмента и бизнес-инф...</td>\n",
              "      <td>Информационная аналитика в управлении предпри...</td>\n",
              "      <td>8</td>\n",
              "      <td>2019</td>\n",
              "      <td>http://lms.hse.ru/ap_service.php?getwork=1&amp;gui...</td>\n",
              "      <td>Пермский филиал федерального государственного ...</td>\n",
              "      <td></td>\n",
              "    </tr>\n",
              "    <tr>\n",
              "      <th>1704</th>\n",
              "      <td>1704</td>\n",
              "      <td>https://www.hse.ru/edu/vkr/206756043</td>\n",
              "      <td>Разработка методов совершенствования системы с...</td>\n",
              "      <td>Гордеева Елена Евгеньевна</td>\n",
              "      <td>Ясницкий Леонид Нахимович</td>\n",
              "      <td>Факультет экономики, менеджмента и бизнес-инф...</td>\n",
              "      <td>Информационная аналитика в управлении предпри...</td>\n",
              "      <td>7</td>\n",
              "      <td>2017</td>\n",
              "      <td>http://lms.hse.ru/ap_service.php?getwork=1&amp;gui...</td>\n",
              "      <td>\\nАннотация Данная работа посвящена разработке...</td>\n",
              "      <td></td>\n",
              "    </tr>\n",
              "    <tr>\n",
              "      <th>1705</th>\n",
              "      <td>1705</td>\n",
              "      <td>https://www.hse.ru/edu/vkr/206755855</td>\n",
              "      <td>Проектирование информационной системы управлен...</td>\n",
              "      <td>Ехлакова Антонида Викторовна</td>\n",
              "      <td>Ясницкий Леонид Нахимович</td>\n",
              "      <td>Факультет экономики, менеджмента и бизнес-инф...</td>\n",
              "      <td>Информационная аналитика в управлении предпри...</td>\n",
              "      <td>9</td>\n",
              "      <td>2017</td>\n",
              "      <td>http://lms.hse.ru/ap_service.php?getwork=1&amp;gui...</td>\n",
              "      <td>\\nАннотация В работе представлены результаты а...</td>\n",
              "      <td></td>\n",
              "    </tr>\n",
              "    <tr>\n",
              "      <th>1707</th>\n",
              "      <td>1707</td>\n",
              "      <td>https://www.hse.ru/edu/vkr/184561821</td>\n",
              "      <td>Разработка методики предварительной оценки сто...</td>\n",
              "      <td>Карпенко Юлия Сергеевна</td>\n",
              "      <td>Ясницкий Леонид Нахимович</td>\n",
              "      <td>Факультет экономики, менеджмента и бизнес-инф...</td>\n",
              "      <td>Информационная аналитика в управлении предпри...</td>\n",
              "      <td>7</td>\n",
              "      <td>2016</td>\n",
              "      <td>http://lms.hse.ru/ap_service.php?getwork=1&amp;gui...</td>\n",
              "      <td>Аннотация В данной работе исследуется пробле...</td>\n",
              "      <td></td>\n",
              "    </tr>\n",
              "  </tbody>\n",
              "</table>\n",
              "<p>509 rows × 12 columns</p>\n",
              "</div>"
            ],
            "text/plain": [
              "      Unnamed: 0  ... shortText\n",
              "1              1  ...          \n",
              "22            22  ...          \n",
              "26            26  ...          \n",
              "31            31  ...          \n",
              "35            35  ...          \n",
              "...          ...  ...       ...\n",
              "1701        1701  ...          \n",
              "1702        1702  ...          \n",
              "1704        1704  ...          \n",
              "1705        1705  ...          \n",
              "1707        1707  ...          \n",
              "\n",
              "[509 rows x 12 columns]"
            ]
          },
          "metadata": {
            "tags": []
          },
          "execution_count": 9
        }
      ]
    },
    {
      "cell_type": "markdown",
      "metadata": {
        "id": "dBXtWXtxEAAq"
      },
      "source": [
        "## DOC"
      ]
    },
    {
      "cell_type": "code",
      "metadata": {
        "colab": {
          "base_uri": "https://localhost:8080/"
        },
        "id": "mHoMG6S9oTpK",
        "outputId": "d314fd27-03ea-440a-f7ce-bb6c9071e0ce"
      },
      "source": [
        "successful = []\r\n",
        "unsuccessful = []\r\n",
        "for row in tqdm(range(vkr.shape[0])):\r\n",
        "    if type(vkr.loc[row, 'link_file'])==str:\r\n",
        "        if (vkrText.loc[row,'fullText'])!='':\r\n",
        "            continue\r\n",
        "        url = vkr.loc[row, 'link_file']\r\n",
        "        r = requests.get(url, allow_redirects=True)\r\n",
        "        try:\r\n",
        "            open('test.doc', 'wb').write(r.content)\r\n",
        "            vkrText.loc[row, 'fullText' ] = textract.process(\"/content/test.doc\").decode(\"utf-8\")\r\n",
        "            successful.append(url)\r\n",
        "        except:\r\n",
        "            unsuccessful.append(url)\r\n",
        "            continue"
      ],
      "execution_count": null,
      "outputs": [
        {
          "output_type": "stream",
          "text": [
            "100%|██████████| 1708/1708 [06:10<00:00,  4.61it/s]\n"
          ],
          "name": "stderr"
        }
      ]
    },
    {
      "cell_type": "code",
      "metadata": {
        "colab": {
          "base_uri": "https://localhost:8080/"
        },
        "id": "bEeMbX1Kodvs",
        "outputId": "228edec8-c1b6-4c7a-ebc9-563a7dc106ab"
      },
      "source": [
        "len(successful), len(unsuccessful)"
      ],
      "execution_count": null,
      "outputs": [
        {
          "output_type": "execute_result",
          "data": {
            "text/plain": [
              "(22, 56)"
            ]
          },
          "metadata": {
            "tags": []
          },
          "execution_count": 11
        }
      ]
    },
    {
      "cell_type": "markdown",
      "metadata": {
        "id": "Tet8JS10EBmu"
      },
      "source": [
        "## PDF"
      ]
    },
    {
      "cell_type": "code",
      "metadata": {
        "id": "TLqakpMRqV9H"
      },
      "source": [
        "successful = []\r\n",
        "unsuccessful = []\r\n",
        "for row in tqdm(range(vkr.shape[0])):\r\n",
        "    if type(vkr.loc[row, 'link_file'])==str:\r\n",
        "        if (vkrText.loc[row,'fullText'])!='':\r\n",
        "            continue\r\n",
        "        url = vkr.loc[row, 'link_file']\r\n",
        "        r = requests.get(url)\r\n",
        "        open('test.pdf', 'wb').write(r.content)\r\n",
        "        try:\r\n",
        "            vkrText.loc[row, 'fullText'] = textract.process(\"/content/test.pdf\").decode(\"utf-8\")\r\n",
        "        except:\r\n",
        "            unsuccessful.append(url)"
      ],
      "execution_count": null,
      "outputs": []
    },
    {
      "cell_type": "code",
      "metadata": {
        "id": "g73CZ3sfq8N4"
      },
      "source": [
        "vkrText.to_csv('vkrText.csv')"
      ],
      "execution_count": null,
      "outputs": []
    },
    {
      "cell_type": "code",
      "metadata": {
        "id": "RLPG-GB_wjKx"
      },
      "source": [
        " len(unsuccessful), unsuccessful"
      ],
      "execution_count": null,
      "outputs": []
    },
    {
      "cell_type": "code",
      "metadata": {
        "id": "GCWphLXgLOOO"
      },
      "source": [
        "vkrText.head()"
      ],
      "execution_count": null,
      "outputs": []
    }
  ]
}