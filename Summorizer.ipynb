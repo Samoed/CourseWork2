{
  "nbformat": 4,
  "nbformat_minor": 0,
  "metadata": {
    "colab": {
      "name": "Summorizer.ipynb",
      "provenance": [],
      "authorship_tag": "ABX9TyPq9i7lfuOG7WxPErsgFETE",
      "include_colab_link": true
    },
    "kernelspec": {
      "display_name": "Python 3",
      "name": "python3"
    },
    "widgets": {
      "application/vnd.jupyter.widget-state+json": {
        "6a2eddb7f5c04c16a5d730449659f7a0": {
          "model_module": "@jupyter-widgets/controls",
          "model_name": "HBoxModel",
          "state": {
            "_view_name": "HBoxView",
            "_dom_classes": [],
            "_model_name": "HBoxModel",
            "_view_module": "@jupyter-widgets/controls",
            "_model_module_version": "1.5.0",
            "_view_count": null,
            "_view_module_version": "1.5.0",
            "box_style": "",
            "layout": "IPY_MODEL_09760cc9be7e445bbde1536b7a9f1ed6",
            "_model_module": "@jupyter-widgets/controls",
            "children": [
              "IPY_MODEL_dc85e41ccc2846bba6106fa0346b1f0e",
              "IPY_MODEL_2b392651ba0c4062bec447ed1365f09b"
            ]
          }
        },
        "b8ca524f4f6848a3abed8bac67880f47": {
          "model_module": "@jupyter-widgets/controls",
          "model_name": "HBoxModel",
          "state": {
            "_view_name": "HBoxView",
            "_dom_classes": [],
            "_model_name": "HBoxModel",
            "_view_module": "@jupyter-widgets/controls",
            "_model_module_version": "1.5.0",
            "_view_count": null,
            "_view_module_version": "1.5.0",
            "box_style": "",
            "layout": "IPY_MODEL_28942a5c69b242debcbda7c440ba7d47",
            "_model_module": "@jupyter-widgets/controls",
            "children": [
              "IPY_MODEL_f2b9e0b298db462d8b0a9ad74571e3d2",
              "IPY_MODEL_59f37a85098a44ccade12f272fba9b7d"
            ]
          }
        },
        "b5a5a6c7cc8e4d8a9a5a9094e558c9d9": {
          "model_module": "@jupyter-widgets/controls",
          "model_name": "HBoxModel",
          "state": {
            "_view_name": "HBoxView",
            "_dom_classes": [],
            "_model_name": "HBoxModel",
            "_view_module": "@jupyter-widgets/controls",
            "_model_module_version": "1.5.0",
            "_view_count": null,
            "_view_module_version": "1.5.0",
            "box_style": "",
            "layout": "IPY_MODEL_ac21acb69a394ff0b837a374cad1cb90",
            "_model_module": "@jupyter-widgets/controls",
            "children": [
              "IPY_MODEL_342066c5f567428ba0237160faa8182b",
              "IPY_MODEL_abc337ad14ed41ee800eece08271ebda"
            ]
          }
        },
        "926d64843a0747679b9aabdf08b39723": {
          "model_module": "@jupyter-widgets/controls",
          "model_name": "HBoxModel",
          "state": {
            "_view_name": "HBoxView",
            "_dom_classes": [],
            "_model_name": "HBoxModel",
            "_view_module": "@jupyter-widgets/controls",
            "_model_module_version": "1.5.0",
            "_view_count": null,
            "_view_module_version": "1.5.0",
            "box_style": "",
            "layout": "IPY_MODEL_7b13814d744148bca88a990c3970ee0a",
            "_model_module": "@jupyter-widgets/controls",
            "children": [
              "IPY_MODEL_321273da380e471ca4e73ae6f2375c1a",
              "IPY_MODEL_57f1dbf22e8a4092b3fe60b5ccfaf440"
            ]
          }
        },
        "08abd6f2005e410ebe983701f7c56580": {
          "model_module": "@jupyter-widgets/controls",
          "model_name": "HBoxModel",
          "state": {
            "_view_name": "HBoxView",
            "_dom_classes": [],
            "_model_name": "HBoxModel",
            "_view_module": "@jupyter-widgets/controls",
            "_model_module_version": "1.5.0",
            "_view_count": null,
            "_view_module_version": "1.5.0",
            "box_style": "",
            "layout": "IPY_MODEL_7ac1a719aaac49eca0f626a662fff4b7",
            "_model_module": "@jupyter-widgets/controls",
            "children": [
              "IPY_MODEL_fe762dd32fbb43fda32729fc93241600",
              "IPY_MODEL_a12ae0e380674abf8531419cd909f212"
            ]
          }
        }
      }
    }
  },
  "cells": [
    {
      "cell_type": "markdown",
      "metadata": {
        "id": "view-in-github",
        "colab_type": "text"
      },
      "source": [
        "<a href=\"https://colab.research.google.com/github/Samoed/CourseWork2/blob/main/Summorizer.ipynb\" target=\"_parent\"><img src=\"https://colab.research.google.com/assets/colab-badge.svg\" alt=\"Open In Colab\"/></a>"
      ]
    },
    {
      "cell_type": "code",
      "metadata": {
        "colab": {
          "base_uri": "https://localhost:8080/"
        },
        "id": "egvHm65UW-Qy",
        "outputId": "bd5254bc-601c-4901-9ef3-d8e08d24b86d"
      },
      "source": [
        "!pip install -U bert-extractive-summarizer\n",
        "!pip install -U python-docx\n",
        "!pip install -U transformers\n",
        "#!pip install -U textract\n",
        "#!apt-get install antiword"
      ],
      "execution_count": 1,
      "outputs": [
        {
          "output_type": "stream",
          "text": [
            "Collecting bert-extractive-summarizer\n",
            "  Downloading https://files.pythonhosted.org/packages/e4/73/a1faff60824aa5a3746dc6b73ad666b936250178f296a09ddd13911c8c86/bert_extractive_summarizer-0.6.1-py3-none-any.whl\n",
            "Collecting transformers\n",
            "\u001b[?25l  Downloading https://files.pythonhosted.org/packages/5e/bb/61bf4a221150aff2756935d032a83f2e68976b050e8606d990a0f3054179/transformers-4.3.0-py3-none-any.whl (1.8MB)\n",
            "\u001b[K     |████████████████████████████████| 1.8MB 5.7MB/s \n",
            "\u001b[?25hRequirement already satisfied, skipping upgrade: scikit-learn in /usr/local/lib/python3.6/dist-packages (from bert-extractive-summarizer) (0.22.2.post1)\n",
            "Requirement already satisfied, skipping upgrade: spacy in /usr/local/lib/python3.6/dist-packages (from bert-extractive-summarizer) (2.2.4)\n",
            "Requirement already satisfied, skipping upgrade: filelock in /usr/local/lib/python3.6/dist-packages (from transformers->bert-extractive-summarizer) (3.0.12)\n",
            "Requirement already satisfied, skipping upgrade: regex!=2019.12.17 in /usr/local/lib/python3.6/dist-packages (from transformers->bert-extractive-summarizer) (2019.12.20)\n",
            "Requirement already satisfied, skipping upgrade: importlib-metadata; python_version < \"3.8\" in /usr/local/lib/python3.6/dist-packages (from transformers->bert-extractive-summarizer) (3.4.0)\n",
            "Collecting sacremoses\n",
            "\u001b[?25l  Downloading https://files.pythonhosted.org/packages/7d/34/09d19aff26edcc8eb2a01bed8e98f13a1537005d31e95233fd48216eed10/sacremoses-0.0.43.tar.gz (883kB)\n",
            "\u001b[K     |████████████████████████████████| 890kB 19.4MB/s \n",
            "\u001b[?25hRequirement already satisfied, skipping upgrade: dataclasses; python_version < \"3.7\" in /usr/local/lib/python3.6/dist-packages (from transformers->bert-extractive-summarizer) (0.8)\n",
            "Requirement already satisfied, skipping upgrade: requests in /usr/local/lib/python3.6/dist-packages (from transformers->bert-extractive-summarizer) (2.23.0)\n",
            "Requirement already satisfied, skipping upgrade: numpy>=1.17 in /usr/local/lib/python3.6/dist-packages (from transformers->bert-extractive-summarizer) (1.19.5)\n",
            "Collecting tokenizers<0.11,>=0.10.1\n",
            "\u001b[?25l  Downloading https://files.pythonhosted.org/packages/fd/5b/44baae602e0a30bcc53fbdbc60bd940c15e143d252d658dfdefce736ece5/tokenizers-0.10.1-cp36-cp36m-manylinux2010_x86_64.whl (3.2MB)\n",
            "\u001b[K     |████████████████████████████████| 3.2MB 21.8MB/s \n",
            "\u001b[?25hRequirement already satisfied, skipping upgrade: tqdm>=4.27 in /usr/local/lib/python3.6/dist-packages (from transformers->bert-extractive-summarizer) (4.41.1)\n",
            "Requirement already satisfied, skipping upgrade: packaging in /usr/local/lib/python3.6/dist-packages (from transformers->bert-extractive-summarizer) (20.9)\n",
            "Requirement already satisfied, skipping upgrade: joblib>=0.11 in /usr/local/lib/python3.6/dist-packages (from scikit-learn->bert-extractive-summarizer) (1.0.0)\n",
            "Requirement already satisfied, skipping upgrade: scipy>=0.17.0 in /usr/local/lib/python3.6/dist-packages (from scikit-learn->bert-extractive-summarizer) (1.4.1)\n",
            "Requirement already satisfied, skipping upgrade: wasabi<1.1.0,>=0.4.0 in /usr/local/lib/python3.6/dist-packages (from spacy->bert-extractive-summarizer) (0.8.2)\n",
            "Requirement already satisfied, skipping upgrade: setuptools in /usr/local/lib/python3.6/dist-packages (from spacy->bert-extractive-summarizer) (53.0.0)\n",
            "Requirement already satisfied, skipping upgrade: murmurhash<1.1.0,>=0.28.0 in /usr/local/lib/python3.6/dist-packages (from spacy->bert-extractive-summarizer) (1.0.5)\n",
            "Requirement already satisfied, skipping upgrade: cymem<2.1.0,>=2.0.2 in /usr/local/lib/python3.6/dist-packages (from spacy->bert-extractive-summarizer) (2.0.5)\n",
            "Requirement already satisfied, skipping upgrade: catalogue<1.1.0,>=0.0.7 in /usr/local/lib/python3.6/dist-packages (from spacy->bert-extractive-summarizer) (1.0.0)\n",
            "Requirement already satisfied, skipping upgrade: thinc==7.4.0 in /usr/local/lib/python3.6/dist-packages (from spacy->bert-extractive-summarizer) (7.4.0)\n",
            "Requirement already satisfied, skipping upgrade: preshed<3.1.0,>=3.0.2 in /usr/local/lib/python3.6/dist-packages (from spacy->bert-extractive-summarizer) (3.0.5)\n",
            "Requirement already satisfied, skipping upgrade: plac<1.2.0,>=0.9.6 in /usr/local/lib/python3.6/dist-packages (from spacy->bert-extractive-summarizer) (1.1.3)\n",
            "Requirement already satisfied, skipping upgrade: srsly<1.1.0,>=1.0.2 in /usr/local/lib/python3.6/dist-packages (from spacy->bert-extractive-summarizer) (1.0.5)\n",
            "Requirement already satisfied, skipping upgrade: blis<0.5.0,>=0.4.0 in /usr/local/lib/python3.6/dist-packages (from spacy->bert-extractive-summarizer) (0.4.1)\n",
            "Requirement already satisfied, skipping upgrade: zipp>=0.5 in /usr/local/lib/python3.6/dist-packages (from importlib-metadata; python_version < \"3.8\"->transformers->bert-extractive-summarizer) (3.4.0)\n",
            "Requirement already satisfied, skipping upgrade: typing-extensions>=3.6.4; python_version < \"3.8\" in /usr/local/lib/python3.6/dist-packages (from importlib-metadata; python_version < \"3.8\"->transformers->bert-extractive-summarizer) (3.7.4.3)\n",
            "Requirement already satisfied, skipping upgrade: six in /usr/local/lib/python3.6/dist-packages (from sacremoses->transformers->bert-extractive-summarizer) (1.15.0)\n",
            "Requirement already satisfied, skipping upgrade: click in /usr/local/lib/python3.6/dist-packages (from sacremoses->transformers->bert-extractive-summarizer) (7.1.2)\n",
            "Requirement already satisfied, skipping upgrade: idna<3,>=2.5 in /usr/local/lib/python3.6/dist-packages (from requests->transformers->bert-extractive-summarizer) (2.10)\n",
            "Requirement already satisfied, skipping upgrade: certifi>=2017.4.17 in /usr/local/lib/python3.6/dist-packages (from requests->transformers->bert-extractive-summarizer) (2020.12.5)\n",
            "Requirement already satisfied, skipping upgrade: urllib3!=1.25.0,!=1.25.1,<1.26,>=1.21.1 in /usr/local/lib/python3.6/dist-packages (from requests->transformers->bert-extractive-summarizer) (1.24.3)\n",
            "Requirement already satisfied, skipping upgrade: chardet<4,>=3.0.2 in /usr/local/lib/python3.6/dist-packages (from requests->transformers->bert-extractive-summarizer) (3.0.4)\n",
            "Requirement already satisfied, skipping upgrade: pyparsing>=2.0.2 in /usr/local/lib/python3.6/dist-packages (from packaging->transformers->bert-extractive-summarizer) (2.4.7)\n",
            "Building wheels for collected packages: sacremoses\n",
            "  Building wheel for sacremoses (setup.py) ... \u001b[?25l\u001b[?25hdone\n",
            "  Created wheel for sacremoses: filename=sacremoses-0.0.43-cp36-none-any.whl size=893261 sha256=990605bbd6668e4cacafc65544a968aa66cae5708cd95418e7e8c1025509b1da\n",
            "  Stored in directory: /root/.cache/pip/wheels/29/3c/fd/7ce5c3f0666dab31a50123635e6fb5e19ceb42ce38d4e58f45\n",
            "Successfully built sacremoses\n",
            "Installing collected packages: sacremoses, tokenizers, transformers, bert-extractive-summarizer\n",
            "Successfully installed bert-extractive-summarizer-0.6.1 sacremoses-0.0.43 tokenizers-0.10.1 transformers-4.3.0\n",
            "Collecting python-docx\n",
            "\u001b[?25l  Downloading https://files.pythonhosted.org/packages/e4/83/c66a1934ed5ed8ab1dbb9931f1779079f8bca0f6bbc5793c06c4b5e7d671/python-docx-0.8.10.tar.gz (5.5MB)\n",
            "\u001b[K     |████████████████████████████████| 5.5MB 5.2MB/s \n",
            "\u001b[?25hRequirement already satisfied, skipping upgrade: lxml>=2.3.2 in /usr/local/lib/python3.6/dist-packages (from python-docx) (4.2.6)\n",
            "Building wheels for collected packages: python-docx\n",
            "  Building wheel for python-docx (setup.py) ... \u001b[?25l\u001b[?25hdone\n",
            "  Created wheel for python-docx: filename=python_docx-0.8.10-cp36-none-any.whl size=184491 sha256=0e3495fe10aecc24327f92d37ede0a7f0954067dc66575a0e0a5dd66e707847f\n",
            "  Stored in directory: /root/.cache/pip/wheels/18/0b/a0/1dd62ff812c857c9e487f27d80d53d2b40531bec1acecfa47b\n",
            "Successfully built python-docx\n",
            "Installing collected packages: python-docx\n",
            "Successfully installed python-docx-0.8.10\n",
            "Requirement already up-to-date: transformers in /usr/local/lib/python3.6/dist-packages (4.3.0)\n",
            "Requirement already satisfied, skipping upgrade: tokenizers<0.11,>=0.10.1 in /usr/local/lib/python3.6/dist-packages (from transformers) (0.10.1)\n",
            "Requirement already satisfied, skipping upgrade: dataclasses; python_version < \"3.7\" in /usr/local/lib/python3.6/dist-packages (from transformers) (0.8)\n",
            "Requirement already satisfied, skipping upgrade: importlib-metadata; python_version < \"3.8\" in /usr/local/lib/python3.6/dist-packages (from transformers) (3.4.0)\n",
            "Requirement already satisfied, skipping upgrade: regex!=2019.12.17 in /usr/local/lib/python3.6/dist-packages (from transformers) (2019.12.20)\n",
            "Requirement already satisfied, skipping upgrade: tqdm>=4.27 in /usr/local/lib/python3.6/dist-packages (from transformers) (4.41.1)\n",
            "Requirement already satisfied, skipping upgrade: requests in /usr/local/lib/python3.6/dist-packages (from transformers) (2.23.0)\n",
            "Requirement already satisfied, skipping upgrade: sacremoses in /usr/local/lib/python3.6/dist-packages (from transformers) (0.0.43)\n",
            "Requirement already satisfied, skipping upgrade: filelock in /usr/local/lib/python3.6/dist-packages (from transformers) (3.0.12)\n",
            "Requirement already satisfied, skipping upgrade: packaging in /usr/local/lib/python3.6/dist-packages (from transformers) (20.9)\n",
            "Requirement already satisfied, skipping upgrade: numpy>=1.17 in /usr/local/lib/python3.6/dist-packages (from transformers) (1.19.5)\n",
            "Requirement already satisfied, skipping upgrade: typing-extensions>=3.6.4; python_version < \"3.8\" in /usr/local/lib/python3.6/dist-packages (from importlib-metadata; python_version < \"3.8\"->transformers) (3.7.4.3)\n",
            "Requirement already satisfied, skipping upgrade: zipp>=0.5 in /usr/local/lib/python3.6/dist-packages (from importlib-metadata; python_version < \"3.8\"->transformers) (3.4.0)\n",
            "Requirement already satisfied, skipping upgrade: chardet<4,>=3.0.2 in /usr/local/lib/python3.6/dist-packages (from requests->transformers) (3.0.4)\n",
            "Requirement already satisfied, skipping upgrade: idna<3,>=2.5 in /usr/local/lib/python3.6/dist-packages (from requests->transformers) (2.10)\n",
            "Requirement already satisfied, skipping upgrade: urllib3!=1.25.0,!=1.25.1,<1.26,>=1.21.1 in /usr/local/lib/python3.6/dist-packages (from requests->transformers) (1.24.3)\n",
            "Requirement already satisfied, skipping upgrade: certifi>=2017.4.17 in /usr/local/lib/python3.6/dist-packages (from requests->transformers) (2020.12.5)\n",
            "Requirement already satisfied, skipping upgrade: click in /usr/local/lib/python3.6/dist-packages (from sacremoses->transformers) (7.1.2)\n",
            "Requirement already satisfied, skipping upgrade: six in /usr/local/lib/python3.6/dist-packages (from sacremoses->transformers) (1.15.0)\n",
            "Requirement already satisfied, skipping upgrade: joblib in /usr/local/lib/python3.6/dist-packages (from sacremoses->transformers) (1.0.0)\n",
            "Requirement already satisfied, skipping upgrade: pyparsing>=2.0.2 in /usr/local/lib/python3.6/dist-packages (from packaging->transformers) (2.4.7)\n"
          ],
          "name": "stdout"
        }
      ]
    },
    {
      "cell_type": "code",
      "metadata": {
        "colab": {
          "base_uri": "https://localhost:8080/"
        },
        "id": "jG3R42-DeWMB",
        "outputId": "3bdea48e-0625-49f3-fbe8-cd6d641325ef"
      },
      "source": [
        "!wget http://download.cdn.yandex.net/mystem/mystem-3.0-linux3.1-64bit.tar.gz\n",
        "!tar -xvf mystem-3.0-linux3.1-64bit.tar.gz\n",
        "!cp mystem /root/.local/bin/mystem"
      ],
      "execution_count": 9,
      "outputs": [
        {
          "output_type": "stream",
          "text": [
            "--2021-02-09 05:03:16--  http://download.cdn.yandex.net/mystem/mystem-3.0-linux3.1-64bit.tar.gz\n",
            "Resolving download.cdn.yandex.net (download.cdn.yandex.net)... 5.45.205.241, 5.45.205.242, 5.45.205.243, ...\n",
            "Connecting to download.cdn.yandex.net (download.cdn.yandex.net)|5.45.205.241|:80... connected.\n",
            "HTTP request sent, awaiting response... 302 Found\n",
            "Location: http://cache-mskm909.cdn.yandex.net/download.cdn.yandex.net/mystem/mystem-3.0-linux3.1-64bit.tar.gz [following]\n",
            "--2021-02-09 05:03:16--  http://cache-mskm909.cdn.yandex.net/download.cdn.yandex.net/mystem/mystem-3.0-linux3.1-64bit.tar.gz\n",
            "Resolving cache-mskm909.cdn.yandex.net (cache-mskm909.cdn.yandex.net)... 5.45.220.19, 2a02:6b8:0:2002::1a\n",
            "Connecting to cache-mskm909.cdn.yandex.net (cache-mskm909.cdn.yandex.net)|5.45.220.19|:80... connected.\n",
            "HTTP request sent, awaiting response... 200 OK\n",
            "Length: 16457938 (16M) [application/octet-stream]\n",
            "Saving to: ‘mystem-3.0-linux3.1-64bit.tar.gz.1’\n",
            "\n",
            "mystem-3.0-linux3.1 100%[===================>]  15.70M  8.85MB/s    in 1.8s    \n",
            "\n",
            "2021-02-09 05:03:18 (8.85 MB/s) - ‘mystem-3.0-linux3.1-64bit.tar.gz.1’ saved [16457938/16457938]\n",
            "\n",
            "mystem\n"
          ],
          "name": "stdout"
        }
      ]
    },
    {
      "cell_type": "code",
      "metadata": {
        "colab": {
          "base_uri": "https://localhost:8080/"
        },
        "id": "3fbWr5dT_V2d",
        "outputId": "8d89bf01-940e-4ad3-d94f-60606559bbea"
      },
      "source": [
        "!wget https://raw.githubusercontent.com/Samoed/CourseWork2/main/data/people.csv?token=AITWEHYTYLFFCBVPMPPERTTAETPYA\n",
        "!wget https://raw.githubusercontent.com/Samoed/CourseWork2/main/data/vkr.csv?token=AITWEH753HPJ6QHZPBGT47LAETPYE\n",
        "!wget https://raw.githubusercontent.com/Samoed/CourseWork2/main/data/vkrText.csv?token=AITWEHZ4A4DHCMHXSKF2FOTAFIAJC"
      ],
      "execution_count": 3,
      "outputs": [
        {
          "output_type": "stream",
          "text": [
            "--2021-02-09 05:02:40--  https://raw.githubusercontent.com/Samoed/CourseWork2/main/data/people.csv?token=AITWEHYTYLFFCBVPMPPERTTAETPYA\n",
            "Resolving raw.githubusercontent.com (raw.githubusercontent.com)... 151.101.0.133, 151.101.64.133, 151.101.128.133, ...\n",
            "Connecting to raw.githubusercontent.com (raw.githubusercontent.com)|151.101.0.133|:443... connected.\n",
            "HTTP request sent, awaiting response... 200 OK\n",
            "Length: 30447 (30K) [text/plain]\n",
            "Saving to: ‘people.csv?token=AITWEHYTYLFFCBVPMPPERTTAETPYA’\n",
            "\n",
            "people.csv?token=AI 100%[===================>]  29.73K  --.-KB/s    in 0.002s  \n",
            "\n",
            "2021-02-09 05:02:40 (11.7 MB/s) - ‘people.csv?token=AITWEHYTYLFFCBVPMPPERTTAETPYA’ saved [30447/30447]\n",
            "\n",
            "--2021-02-09 05:02:40--  https://raw.githubusercontent.com/Samoed/CourseWork2/main/data/vkr.csv?token=AITWEH753HPJ6QHZPBGT47LAETPYE\n",
            "Resolving raw.githubusercontent.com (raw.githubusercontent.com)... 151.101.0.133, 151.101.64.133, 151.101.128.133, ...\n",
            "Connecting to raw.githubusercontent.com (raw.githubusercontent.com)|151.101.0.133|:443... connected.\n",
            "HTTP request sent, awaiting response... 200 OK\n",
            "Length: 801586 (783K) [text/plain]\n",
            "Saving to: ‘vkr.csv?token=AITWEH753HPJ6QHZPBGT47LAETPYE’\n",
            "\n",
            "vkr.csv?token=AITWE 100%[===================>] 782.80K  --.-KB/s    in 0.06s   \n",
            "\n",
            "2021-02-09 05:02:41 (12.3 MB/s) - ‘vkr.csv?token=AITWEH753HPJ6QHZPBGT47LAETPYE’ saved [801586/801586]\n",
            "\n",
            "--2021-02-09 05:02:41--  https://raw.githubusercontent.com/Samoed/CourseWork2/main/data/vkrText.csv?token=AITWEHZ4A4DHCMHXSKF2FOTAFIAJC\n",
            "Resolving raw.githubusercontent.com (raw.githubusercontent.com)... 151.101.0.133, 151.101.64.133, 151.101.128.133, ...\n",
            "Connecting to raw.githubusercontent.com (raw.githubusercontent.com)|151.101.0.133|:443... connected.\n",
            "HTTP request sent, awaiting response... 200 OK\n",
            "Length: 81699381 (78M) [text/plain]\n",
            "Saving to: ‘vkrText.csv?token=AITWEHZ4A4DHCMHXSKF2FOTAFIAJC’\n",
            "\n",
            "vkrText.csv?token=A 100%[===================>]  77.91M  96.4MB/s    in 0.8s    \n",
            "\n",
            "2021-02-09 05:02:43 (96.4 MB/s) - ‘vkrText.csv?token=AITWEHZ4A4DHCMHXSKF2FOTAFIAJC’ saved [81699381/81699381]\n",
            "\n"
          ],
          "name": "stdout"
        }
      ]
    },
    {
      "cell_type": "code",
      "metadata": {
        "colab": {
          "base_uri": "https://localhost:8080/"
        },
        "id": "PaR9lynvY6mA",
        "outputId": "3bb6c34a-156d-492f-ce56-00db758aee6b"
      },
      "source": [
        "import requests\n",
        "import pandas as pd\n",
        "from docx import Document\n",
        "from summarizer import Summarizer\n",
        "from transformers import AutoTokenizer, AutoModel, AutoConfig\n",
        "from tqdm import tqdm\n",
        "\n",
        "import nltk\n",
        "from nltk.corpus import stopwords\n",
        "from nltk.stem import PorterStemmer\n",
        "from nltk.stem.snowball import SnowballStemmer\n",
        "from nltk.tokenize import sent_tokenize, word_tokenize\n",
        "from collections import Counter\n",
        "import string\n",
        "\n",
        "from pymystem3 import Mystem\n",
        "import re\n",
        "import math\n",
        "\n",
        "#import textract\n",
        "\n",
        "nltk.download('stopwords')\n",
        "russian_stopwords = stopwords.words(\"russian\")\n",
        "russian_stopwords.append('рис')\n",
        "russian_stopwords.append('т.к.')"
      ],
      "execution_count": 4,
      "outputs": [
        {
          "output_type": "stream",
          "text": [
            "[nltk_data] Downloading package stopwords to /root/nltk_data...\n",
            "[nltk_data]   Unzipping corpora/stopwords.zip.\n"
          ],
          "name": "stdout"
        }
      ]
    },
    {
      "cell_type": "code",
      "metadata": {
        "colab": {
          "base_uri": "https://localhost:8080/",
          "height": 380
        },
        "id": "veAauHQHdP9H",
        "outputId": "dedffdde-3c83-4f17-d94e-991eecda70d4"
      },
      "source": [
        "vkr = pd.read_csv('/content/vkr.csv?token=AITWEH753HPJ6QHZPBGT47LAETPYE')\n",
        "vkrText = pd.read_csv('/content/vkrText.csv?token=AITWEHZ4A4DHCMHXSKF2FOTAFIAJC')\n",
        "vkrText.head()"
      ],
      "execution_count": 5,
      "outputs": [
        {
          "output_type": "execute_result",
          "data": {
            "text/html": [
              "<div>\n",
              "<style scoped>\n",
              "    .dataframe tbody tr th:only-of-type {\n",
              "        vertical-align: middle;\n",
              "    }\n",
              "\n",
              "    .dataframe tbody tr th {\n",
              "        vertical-align: top;\n",
              "    }\n",
              "\n",
              "    .dataframe thead th {\n",
              "        text-align: right;\n",
              "    }\n",
              "</style>\n",
              "<table border=\"1\" class=\"dataframe\">\n",
              "  <thead>\n",
              "    <tr style=\"text-align: right;\">\n",
              "      <th></th>\n",
              "      <th>Unnamed: 0</th>\n",
              "      <th>Unnamed: 0.1</th>\n",
              "      <th>link_vkr</th>\n",
              "      <th>name_vkr</th>\n",
              "      <th>name_student</th>\n",
              "      <th>name_prof</th>\n",
              "      <th>campus</th>\n",
              "      <th>programm</th>\n",
              "      <th>grade</th>\n",
              "      <th>year</th>\n",
              "      <th>link_file</th>\n",
              "      <th>fullText</th>\n",
              "      <th>shortText</th>\n",
              "    </tr>\n",
              "  </thead>\n",
              "  <tbody>\n",
              "    <tr>\n",
              "      <th>0</th>\n",
              "      <td>0</td>\n",
              "      <td>0</td>\n",
              "      <td>https://www.hse.ru/edu/vkr/219524501</td>\n",
              "      <td>Оценка стоимости компании</td>\n",
              "      <td>Дроздова Ирина Валерьевна</td>\n",
              "      <td>Абашева Александра Сергеевна</td>\n",
              "      <td>Вечерне-заочный факультет экономики и управле...</td>\n",
              "      <td>Экономика (в) (Бакалавриат)</td>\n",
              "      <td>-1</td>\n",
              "      <td>2018</td>\n",
              "      <td>NaN</td>\n",
              "      <td>NaN</td>\n",
              "      <td>NaN</td>\n",
              "    </tr>\n",
              "    <tr>\n",
              "      <th>1</th>\n",
              "      <td>1</td>\n",
              "      <td>1</td>\n",
              "      <td>https://www.hse.ru/edu/vkr/219524122</td>\n",
              "      <td>Оценка эффективности инвестиционного проекта</td>\n",
              "      <td>Стерледева Наталья Владимировна</td>\n",
              "      <td>Абашева Александра Сергеевна</td>\n",
              "      <td>Вечерне-заочный факультет экономики и управле...</td>\n",
              "      <td>Экономика (в) (Бакалавриат)</td>\n",
              "      <td>7</td>\n",
              "      <td>2018</td>\n",
              "      <td>http://lms.hse.ru/ap_service.php?getwork=1&amp;gui...</td>\n",
              "      <td>\\n ПЕРМСКИЙ ФИЛИАЛ ФЕДЕРАЛЬНОГО  ГОСУДАРСТВЕНН...</td>\n",
              "      <td>NaN</td>\n",
              "    </tr>\n",
              "    <tr>\n",
              "      <th>2</th>\n",
              "      <td>2</td>\n",
              "      <td>2</td>\n",
              "      <td>https://www.hse.ru/edu/vkr/153009903</td>\n",
              "      <td>Разработка системы управления знаниями в орган...</td>\n",
              "      <td>Беленова Анастасия Александровна</td>\n",
              "      <td>Аленина Карина Анатольевна</td>\n",
              "      <td>Факультет менеджмента (Пермь)</td>\n",
              "      <td>Менеджмент (Бакалавриат)</td>\n",
              "      <td>-1</td>\n",
              "      <td>2015</td>\n",
              "      <td>NaN</td>\n",
              "      <td>NaN</td>\n",
              "      <td>NaN</td>\n",
              "    </tr>\n",
              "    <tr>\n",
              "      <th>3</th>\n",
              "      <td>3</td>\n",
              "      <td>3</td>\n",
              "      <td>https://www.hse.ru/edu/vkr/153009689</td>\n",
              "      <td>Брендинг инновационного продукта</td>\n",
              "      <td>Воронков Кирилл Евгеньевич</td>\n",
              "      <td>Аленина Карина Анатольевна</td>\n",
              "      <td>Факультет менеджмента (Пермь)</td>\n",
              "      <td>Менеджмент (Бакалавриат)</td>\n",
              "      <td>-1</td>\n",
              "      <td>2015</td>\n",
              "      <td>NaN</td>\n",
              "      <td>NaN</td>\n",
              "      <td>NaN</td>\n",
              "    </tr>\n",
              "    <tr>\n",
              "      <th>4</th>\n",
              "      <td>4</td>\n",
              "      <td>4</td>\n",
              "      <td>https://www.hse.ru/edu/vkr/153009541</td>\n",
              "      <td>Стратегия инновационного развития бизнеса в ин...</td>\n",
              "      <td>Бадягина Мария Германовна</td>\n",
              "      <td>Аленина Карина Анатольевна</td>\n",
              "      <td>Факультет менеджмента (Пермь)</td>\n",
              "      <td>Менеджмент (Бакалавриат)</td>\n",
              "      <td>-1</td>\n",
              "      <td>2015</td>\n",
              "      <td>NaN</td>\n",
              "      <td>NaN</td>\n",
              "      <td>NaN</td>\n",
              "    </tr>\n",
              "  </tbody>\n",
              "</table>\n",
              "</div>"
            ],
            "text/plain": [
              "   Unnamed: 0  ...  shortText\n",
              "0           0  ...        NaN\n",
              "1           1  ...        NaN\n",
              "2           2  ...        NaN\n",
              "3           3  ...        NaN\n",
              "4           4  ...        NaN\n",
              "\n",
              "[5 rows x 13 columns]"
            ]
          },
          "metadata": {
            "tags": []
          },
          "execution_count": 5
        }
      ]
    },
    {
      "cell_type": "code",
      "metadata": {
        "id": "XGln4Tfhjjn9"
      },
      "source": [
        "vkrText = vkr.copy()\n",
        "vkrText['fullText'] = ''\n",
        "vkrText['shortText'] = ''"
      ],
      "execution_count": null,
      "outputs": []
    },
    {
      "cell_type": "code",
      "metadata": {
        "colab": {
          "base_uri": "https://localhost:8080/"
        },
        "id": "xUmhBLZvjzlA",
        "outputId": "2deb4fa9-2beb-48ef-bcc1-faf44c9f0c15"
      },
      "source": [
        "successful = []\n",
        "unsuccessful = []\n",
        "for row in tqdm(range(vkr.shape[0])):\n",
        "    if type(vkr.loc[row, 'link_file'])==str:\n",
        "        url = vkr.loc[row, 'link_file']\n",
        "        r = requests.get(url, allow_redirects=True)\n",
        "        try:\n",
        "            open('test.doc', 'wb').write(r.content)\n",
        "            f = open('test.doc', 'rb')\n",
        "            document = Document(f)\n",
        "            f.close()\n",
        "            successful.append(url)\n",
        "        except:\n",
        "            unsuccessful.append(url)\n",
        "            vkrText.loc[row, 'fullText' ] = ''\n",
        "            vkrText.loc[row, 'shortText'] = ''\n",
        "            continue\n",
        "        \n",
        "        fullText = \"\"\n",
        "        for para in document.paragraphs:\n",
        "            fullText+=(para.text)+\" \"\n",
        "        vkrText.loc[row, 'fullText' ] = fullText\n",
        "        vkrText.loc[row, 'shortText'] = ''\n",
        "    else:\n",
        "        vkrText.loc[row, 'link_file'] = ''\n",
        "        vkrText.loc[row, 'fullText' ] = ''\n",
        "        vkrText.loc[row, 'shortText'] = ''"
      ],
      "execution_count": null,
      "outputs": [
        {
          "output_type": "stream",
          "text": [
            "100%|██████████| 1708/1708 [03:41<00:00,  7.70it/s]\n"
          ],
          "name": "stderr"
        }
      ]
    },
    {
      "cell_type": "code",
      "metadata": {
        "colab": {
          "base_uri": "https://localhost:8080/"
        },
        "id": "TgFunWzDkXZP",
        "outputId": "93123b28-fbe5-4e8c-d6c3-fa8664c193d6"
      },
      "source": [
        "len(successful), len(unsuccessful)"
      ],
      "execution_count": null,
      "outputs": [
        {
          "output_type": "execute_result",
          "data": {
            "text/plain": [
              "(0, 72)"
            ]
          },
          "metadata": {
            "tags": []
          },
          "execution_count": 41
        }
      ]
    },
    {
      "cell_type": "code",
      "metadata": {
        "id": "8YQcqg1dvGi1"
      },
      "source": [
        "vkrText.to_csv('vkrText.csv')"
      ],
      "execution_count": null,
      "outputs": []
    },
    {
      "cell_type": "code",
      "metadata": {
        "id": "aFMUlkW7eyb5"
      },
      "source": [
        "tmp = vkrText[vkrText['link_file']!='']\r\n",
        "tmp[tmp['fullText']=='']\r\n",
        "tmp"
      ],
      "execution_count": null,
      "outputs": []
    },
    {
      "cell_type": "code",
      "metadata": {
        "colab": {
          "base_uri": "https://localhost:8080/"
        },
        "id": "mHoMG6S9oTpK",
        "outputId": "c5b23962-5721-4140-a749-44acc41f83bd"
      },
      "source": [
        "successful = []\r\n",
        "unsuccessful = []\r\n",
        "for row in tqdm(range(vkr.shape[0])):\r\n",
        "    if type(vkr.loc[row, 'link_file'])==str:\r\n",
        "        if (vkrText.loc[row,'fullText'])!='':\r\n",
        "            continue\r\n",
        "        url = vkr.loc[row, 'link_file']\r\n",
        "        r = requests.get(url, allow_redirects=True)\r\n",
        "        try:\r\n",
        "            open('test.doc', 'wb').write(r.content)\r\n",
        "            vkrText.loc[row, 'fullText' ] = textract.process(\"/content/test.doc\").decode(\"utf-8\")\r\n",
        "            successful.append(url)\r\n",
        "        except:\r\n",
        "            unsuccessful.append(url)\r\n",
        "            continue"
      ],
      "execution_count": null,
      "outputs": [
        {
          "output_type": "stream",
          "text": [
            "100%|██████████| 1708/1708 [04:33<00:00,  6.24it/s]\n"
          ],
          "name": "stderr"
        }
      ]
    },
    {
      "cell_type": "code",
      "metadata": {
        "colab": {
          "base_uri": "https://localhost:8080/"
        },
        "id": "bEeMbX1Kodvs",
        "outputId": "3538d937-bf90-43bc-e2db-11999e57b706"
      },
      "source": [
        "len(successful), len(unsuccessful)"
      ],
      "execution_count": null,
      "outputs": [
        {
          "output_type": "execute_result",
          "data": {
            "text/plain": [
              "(22, 50)"
            ]
          },
          "metadata": {
            "tags": []
          },
          "execution_count": 74
        }
      ]
    },
    {
      "cell_type": "code",
      "metadata": {
        "id": "TLqakpMRqV9H"
      },
      "source": [
        "successful = []\r\n",
        "unsuccessful = []\r\n",
        "for row in tqdm(range(vkr.shape[0])):\r\n",
        "    if type(vkr.loc[row, 'link_file'])==str:\r\n",
        "        if (vkrText.loc[row,'fullText'])!='':\r\n",
        "            continue\r\n",
        "        url = vkr.loc[row, 'link_file']\r\n",
        "        r = requests.get(url, allow_redirects=True)\r\n",
        "        open('test.pdf', 'wb').write(r.content)\r\n",
        "        try:\r\n",
        "            vkrText.loc[row, 'fullText'] = textract.process(\"/content/test.pdf\").decode(\"utf-8\")\r\n",
        "        except:\r\n",
        "            unsuccessful.append(url)"
      ],
      "execution_count": null,
      "outputs": []
    },
    {
      "cell_type": "code",
      "metadata": {
        "id": "g73CZ3sfq8N4"
      },
      "source": [
        "vkrText.to_csv('vkrText.csv')"
      ],
      "execution_count": null,
      "outputs": []
    },
    {
      "cell_type": "code",
      "metadata": {
        "colab": {
          "base_uri": "https://localhost:8080/"
        },
        "id": "RLPG-GB_wjKx",
        "outputId": "1e64db02-1701-4fe4-ed72-583070a98a65"
      },
      "source": [
        " len(unsuccessful), unsuccessful"
      ],
      "execution_count": null,
      "outputs": [
        {
          "output_type": "execute_result",
          "data": {
            "text/plain": [
              "(20,\n",
              " ['http://lms.hse.ru/ap_service.php?getwork=1&guid=25FDAA4B-6E10-4D95-9B41-EB728C9F1D56',\n",
              "  'http://lms.hse.ru/ap_service.php?getwork=1&guid=645FE2D8-35C1-420D-9F27-92EDDE1F7B21',\n",
              "  'http://lms.hse.ru/ap_service.php?getwork=1&guid=2B42CEB5-D802-48FB-BF2B-0C961D408E22',\n",
              "  'http://lms.hse.ru/ap_service.php?getwork=1&guid=3D0A5337-5604-4646-A4E2-3D9A63A3160A',\n",
              "  'http://lms.hse.ru/ap_service.php?getwork=1&guid=880D0A43-B9A7-47EE-9440-E200964C399D',\n",
              "  'http://lms.hse.ru/ap_service.php?getwork=1&guid=DE0CC8F2-DC9B-407F-AE0B-3579C1C900D2',\n",
              "  'http://lms.hse.ru/ap_service.php?getwork=1&guid=819D0194-4397-400A-945C-05E32B4AED65',\n",
              "  'http://lms.hse.ru/ap_service.php?getwork=1&guid=DFDFD1A3-A42A-4F71-AE09-A4CFA04CE491',\n",
              "  'http://lms.hse.ru/ap_service.php?getwork=1&guid=84D8F5CC-3FAA-4BC0-BBCD-B9050161E620',\n",
              "  'http://lms.hse.ru/ap_service.php?getwork=1&guid=420F4757-25A0-4B60-9EC9-2CDB58EF5E45',\n",
              "  'http://lms.hse.ru/ap_service.php?getwork=1&guid=100D11A6-E89B-45B0-B2B7-44592CE433EC',\n",
              "  'http://lms.hse.ru/ap_service.php?getwork=1&guid=F0D5AB77-8703-42F6-834F-B1E85BB8EA09',\n",
              "  'http://lms.hse.ru/ap_service.php?getwork=1&guid=5CABA95D-4C38-4C4C-B5C7-D9773CE5D6D3',\n",
              "  'http://lms.hse.ru/ap_service.php?getwork=1&guid=9CE0CA18-B671-4623-BB8C-91D5B6A20E3D',\n",
              "  'http://lms.hse.ru/ap_service.php?getwork=1&guid=BB116FE3-1088-4B6A-B4BB-311677B5249E',\n",
              "  'http://lms.hse.ru/ap_service.php?getwork=1&guid=3C533DAF-EDAA-4A9F-A103-8741B64F26D0',\n",
              "  'http://lms.hse.ru/ap_service.php?getwork=1&guid=88A94C48-FF2C-4FB2-96BE-08F884FBB924',\n",
              "  'http://lms.hse.ru/ap_service.php?getwork=1&guid=C96E3D15-27A8-4BE2-9C65-62FA5A3AAE98',\n",
              "  'http://lms.hse.ru/ap_service.php?getwork=1&guid=77BB48B2-AE58-420A-A6C0-476E18E7DADA',\n",
              "  'http://lms.hse.ru/ap_service.php?getwork=1&guid=A09E546A-53CA-45F5-B7F1-BFE842AAEB3B'])"
            ]
          },
          "metadata": {
            "tags": []
          },
          "execution_count": 98
        }
      ]
    },
    {
      "cell_type": "code",
      "metadata": {
        "id": "1TEnmd2rO-ZP",
        "colab": {
          "base_uri": "https://localhost:8080/",
          "height": 109,
          "referenced_widgets": [
            "6a2eddb7f5c04c16a5d730449659f7a0",
            "b8ca524f4f6848a3abed8bac67880f47",
            "b5a5a6c7cc8e4d8a9a5a9094e558c9d9",
            "926d64843a0747679b9aabdf08b39723",
            "08abd6f2005e410ebe983701f7c56580"
          ]
        },
        "outputId": "e37b944e-dddc-4cf0-e62f-b18ed567705a"
      },
      "source": [
        "custom_config = AutoConfig.from_pretrained('DeepPavlov/rubert-base-cased')\n",
        "custom_config.output_hidden_states=True\n",
        "custom_tokenizer = AutoTokenizer.from_pretrained('DeepPavlov/rubert-base-cased')\n",
        "custom_model = AutoModel.from_pretrained('DeepPavlov/rubert-base-cased', config=custom_config)"
      ],
      "execution_count": 16,
      "outputs": [
        {
          "output_type": "display_data",
          "data": {
            "application/vnd.jupyter.widget-view+json": {
              "model_id": "6a2eddb7f5c04c16a5d730449659f7a0",
              "version_minor": 0,
              "version_major": 2
            },
            "text/plain": [
              "HBox(children=(FloatProgress(value=0.0, description='Downloading', max=642.0, style=ProgressStyle(description_…"
            ]
          },
          "metadata": {
            "tags": []
          }
        },
        {
          "output_type": "stream",
          "text": [
            "\n"
          ],
          "name": "stdout"
        },
        {
          "output_type": "display_data",
          "data": {
            "application/vnd.jupyter.widget-view+json": {
              "model_id": "b8ca524f4f6848a3abed8bac67880f47",
              "version_minor": 0,
              "version_major": 2
            },
            "text/plain": [
              "HBox(children=(FloatProgress(value=0.0, description='Downloading', max=1649718.0, style=ProgressStyle(descript…"
            ]
          },
          "metadata": {
            "tags": []
          }
        },
        {
          "output_type": "stream",
          "text": [
            "\n"
          ],
          "name": "stdout"
        },
        {
          "output_type": "display_data",
          "data": {
            "application/vnd.jupyter.widget-view+json": {
              "model_id": "b5a5a6c7cc8e4d8a9a5a9094e558c9d9",
              "version_minor": 0,
              "version_major": 2
            },
            "text/plain": [
              "HBox(children=(FloatProgress(value=0.0, description='Downloading', max=112.0, style=ProgressStyle(description_…"
            ]
          },
          "metadata": {
            "tags": []
          }
        },
        {
          "output_type": "stream",
          "text": [
            "\n"
          ],
          "name": "stdout"
        },
        {
          "output_type": "display_data",
          "data": {
            "application/vnd.jupyter.widget-view+json": {
              "model_id": "926d64843a0747679b9aabdf08b39723",
              "version_minor": 0,
              "version_major": 2
            },
            "text/plain": [
              "HBox(children=(FloatProgress(value=0.0, description='Downloading', max=2.0, style=ProgressStyle(description_wi…"
            ]
          },
          "metadata": {
            "tags": []
          }
        },
        {
          "output_type": "stream",
          "text": [
            "\n"
          ],
          "name": "stdout"
        },
        {
          "output_type": "display_data",
          "data": {
            "application/vnd.jupyter.widget-view+json": {
              "model_id": "08abd6f2005e410ebe983701f7c56580",
              "version_minor": 0,
              "version_major": 2
            },
            "text/plain": [
              "HBox(children=(FloatProgress(value=0.0, description='Downloading', max=711456796.0, style=ProgressStyle(descri…"
            ]
          },
          "metadata": {
            "tags": []
          }
        },
        {
          "output_type": "stream",
          "text": [
            "\n"
          ],
          "name": "stdout"
        }
      ]
    },
    {
      "cell_type": "code",
      "metadata": {
        "id": "v8A0tp1oRuFr"
      },
      "source": [
        "def lowerCase(Corpus):\n",
        "    corpus = \"\".join([i.lower().replace('\\n',' ') for i in Corpus])\n",
        "    return corpus\n",
        "\n",
        "PUNCT_TO_REMOVE = \"'#$%&\\()*+-/<=>|\"\n",
        "def remove_punctuation(Corpus):\n",
        "    \"\"\"custom function to remove the punctuation\"\"\"\n",
        "    return \"\".join([i.translate(str.maketrans('', '', PUNCT_TO_REMOVE)) for i in Corpus])\n",
        "\n",
        "def remove_stopwords(Corpus):\n",
        "    \"\"\"custom function to remove the stopwords\"\"\"\n",
        "    return \" \".join([token for token in Corpus.split() if token not in russian_stopwords])\n",
        "\n",
        "def remove_freqwords(Corpus):\n",
        "    cnt = Counter()\n",
        "    for text in Corpus:\n",
        "        for word in text.split():\n",
        "            cnt[word] += 1\n",
        "    FREQWORDS = set([w for (w, wc) in cnt.most_common(30)])\n",
        "    return \" \".join([word for word in str(Corpus).split() if word not in FREQWORDS])\n",
        "\n",
        "def remove_urls(Corpus):\n",
        "    url_pattern = re.compile(r'https?://\\S+|www\\.\\S+')\n",
        "    html_pattern = re.compile('<.*?>')\n",
        "    return_text=[]\n",
        "    for text in Corpus:\n",
        "        text=url_pattern.sub(r'', text)\n",
        "        text=html_pattern.sub(r'',text)\n",
        "        return_text.append(text)\n",
        "    return \"\".join(i for i in return_text)\n",
        "    \n",
        "def remove_numbers(Corpus):\n",
        "    text = [\"\".join(i for i in text if not i.isdigit()) for text in Corpus]\n",
        "    return \"\".join(i for i in text)\n",
        "\n",
        "def Stem(Corpus):\n",
        "    stemmer = SnowballStemmer(\"russian\") \n",
        "    return \"\".join(m.lemmatize(Corpus))\n",
        "\n",
        "def Lemm(Corpus):\n",
        "    m = Mystem()\n",
        "    return \"\".join(m.lemmatize(Corpus))\n",
        "\n",
        "def textToTokens(Corpus):\n",
        "    corpus = [i.split() for i in Corpus]\n",
        "    return corpus \n",
        "\n",
        "def clearTextAfterGarbage(Corpus):\n",
        "    corpus = Corpus\n",
        "    corpus = lowerCase(Corpus)\n",
        "    corpus = remove_urls(corpus)\n",
        "    corpus = remove_numbers(corpus)\n",
        "    corpus = remove_stopwords(corpus)\n",
        "    corpus = remove_punctuation(corpus)\n",
        "    corpus = Lemm(corpus)\n",
        "    #corpus = Stem(corpus)\n",
        "    corpus = remove_freqwords(corpus)\n",
        "    return corpus"
      ],
      "execution_count": 13,
      "outputs": []
    },
    {
      "cell_type": "code",
      "metadata": {
        "colab": {
          "base_uri": "https://localhost:8080/",
          "height": 109
        },
        "id": "uAIKZnZVCukX",
        "outputId": "a245773a-7b6e-4d97-913e-3ba3bac9263c"
      },
      "source": [
        "text = clearTextAfterGarbage(vkrText.loc[1, 'fullText'])\r\n",
        "text"
      ],
      "execution_count": 14,
      "outputs": [
        {
          "output_type": "execute_result",
          "data": {
            "application/vnd.google.colaboratory.intrinsic+json": {
              "type": "string"
            },
            "text/plain": [
              "'пермский филиал федеральный государственный автономный образовательный учреждение высокий образование «национальный исследовательский университет «высокий школа экономика» факультет экономика, менеджмент бизнесинформатика стерледев наталья владимировна оценка эффективность инвестиционный проект выпускной квалификационный работа бакалаврский работа студент образовательный программа бакалавриат «экономика» направление подготовка .. экономика рецензент руководитель а.б. прасол а.с. абашев пермь, год аннотация цель работа являться оценка эффективность инвестиционный проект аквацентр. поставлять задача: описывать принцип организация предприятие перечень предоставлять услуга, проанализировать рынок, спрос конкурент, рассчитать сумма первоначальный вложение, разрабатывать бюджет доход расход, бюджет движение денежный средство, график финансирование, рассчитать показатель эффективность проект. итог получать следующий результат: исследовать проект аквацентр «лагуна» первый год реализация генерировать положительный чистый прибыль, год достигать дисконтировать окупаемость. irr проект превышать средневзвешенный стоимость капитал wacc, это говорить эффективность проект. чистый приводить стоимость проект положительный. индекс отдача проект положительный, также говорить эффективность проект. анализ риск проект метод чувствительность говорить тот, уменьшение выручка индивидуальный занятие проект становиться неэффективный. касаться инвестиционный затрата, рост должный превышать иной случай проект также оказываться неэффективный. целое, проект являться эффективный финансовый реализовать. оглавление введение ….. глава теоретический аспект оценка эффективность инвестпроект……………………………………………………………….. .. моделирование инвестпроект остервальдера…………...... .. шаг расчет денежный поток инвестиционный проект….. .. расчет ставка дисконтирование……………………………...… .. расчет показатель эффективность……………………………. .. оценка риск инвестпроект………………………………….. глава анализ рынок моделирование остервальдера….… .. основной параметр проект…………………………………. .. обоснование выбор место расположение объект............................ .. модель инвестпроект остервальдера ……………….….... .. анализ российский рынок аквапарк…………………..…… анализ рынок бассейн пермь……………………………...… .. барьер вход………………………………………………...… глава прогноз реализация проект ……………………………... .. план первоначальный вложение………………………...…….. .. прогноз доход расход операционный деятельность. .. финансирование проект определение ставка дисконтирование……………………………………………………... .. расчет ликвидационный стоимость здание, земля, оборудование…………………………………………………………. .. оценка эффективность проект…………………………...……. .. оценка риск метод анализ чувствительность ……….… заключение .. список использовать литература……………………………….. приложение ….. введение анализ эффективность инвестиционный проект — тема, терять свой актуальность. успешный ведение бизнес необходимо правильно оценивать комплекс усилие, который потребоваться внедрение инвестпроект жизнь, финансовый, временный, трудовой прочий затрата, который быть понести ход реализация тот отдача, который получать результат. первый этап необходимо правильно оценивать потенциальный клиентура, объем рынок, который предстоять работать. затем, основание получать данные, создавать максимально подходящий иметься условие модель бизнес, который давать достойный прибыль минимум затрата. наконец, последний этап необходимо просчитывать риск внедрение, оценивать эффективность создавать модель. отдаленный район пермь существовать дефицит услуга бассейн. город сей пора построить аквапарк. строительство масштабный аквапарк стоимость несколько миллиард рубль – достаточно трудновыполнимый задача: сложно находить инвестор, строительство растягиваться несколько год, гарантия будущий рентабельность проект. предлагаться восполнять потребность житель один спальный район пермь микрорайон гайв аквауслуга счет реализация проект строительство бассейн элемент аквапарк. цель работа являться оценка эффективность инвестиционный проект. объект исследование являться проект создание аквацентр поселок гайв пермь. достижение цель поставлять задача: ознакомляться теоретический аспект инвестиционный моделирование, описывать принцип организация предприятие перечень предоставлять услуга, проанализировать рынок, спрос конкурент, рассчитать сумма первоначальный вложение, разрабатывать бюджет доход расход, бюджет движение денежный средство, график финансирование, рассчитать показатель эффективность проект. работа состоять введение, три глава, заключение приложение. глава приводиться теоретический аспект инвестиционный моделирование оценка эффективность инвестпроект, рассматриваться критерий эффективность, использовать анализ инвестпроект способ оценка риск. глава анализироваться модель проект остервальдера, производиться анализ российский рынок аквапарк анализ рынок бассейн г. пермь, обосновываться выбор место расположение аквацентр, актуальность строительство микрорайон гайв орджоникидзевский район, прогнозироваться доход расход, составляться инвестиционный план, подсчитываться ликвидационный стоимость основной средство момент окончание проект, проводиться оценка эффективность риск проект. заключение делаться вывод эффективность проект. приложение вынести расчетный таблица. написание работа использоваться научный работа, периодический издание, материал свободный доступ сеть интернет. глава теоретический аспект оценка эффективность инвестпроект моделирование инвестпроект остервальдера инвестиционный проект – это замысел, реализация который необходимый вложение средство реальный актив ценный бумага. главный цель инвестирование являться получение прибыль. соответственно, цель инвестиционный проект являться задача вкладывать средство такой образ, вложение потратить впустую, приносить определенный выгода. именно цель прогнозирование успешность проект реализация проводиться масса предварительный мероприятие, который позволять давать оценка эффективность вложение. так, самый ранний этап инвестиционный моделирование проводиться анализ рынок, который включать исследование стратегия конкурент, ценовой политика, основной конкурентный преимущество, оценивать сегмент рынок, который работать, оценивать емкость рынок, возможный вход рынок новый игрок. исходить этот данные строиться бизнесмодель, который учитывать опыт ошибка конкурент. бизнесмодель – это инструмент проектирование планирование бизнес процесс, позволять находить наиболее эффективный способ извлечение прибыль. понятие бизнесмодель возникать конец век. бизнес приходить непрофессионал, который время, деньги знание то, разрабатывать глубокий стратегия развитие, нужный эффективный быстрый инструмент максимальный извлечение прибыль. александр остервальдер ива пиний свой книга «построение бизнес модель» предлагать акцентировать внимание девять структурный блок. различный сочетание блок позволять создавать самый разный модификация бизнесмодель. начало остервальдера предлагать оценивать вероятный поставщик партнер бизнес. качество основный цель партнерский отношение автор выделять оптимизация производство, снижение риск, поставка ресурс совместный деятельность. следующий блок, который предлагать рассматривать остервальдера «основной направление деятельность». раздел описывать действие, который необходимый реализация бизнесмодель. третий блок «предлагать преимущество» остервальдера называть ключевой процесс выбор модель последующий позиционирование продукт услуга. пункт необходимо четко сформулировать преимущество создаваемый продукт конкурент. пункт «сегмент клиент» остервальдер предлагать определять, кто разрабатываться продукт услуга. пункт, «основной ресурс» оценивать, какой ресурс быть необходимый работа проект продвижение: персонал? финансы? технология? следующий блок автор рекомендовать проанализировать канал сбыт продукция отвечать вопрос: какой канал быть работать все, какой требовать маленький затрата? пункт «структура расход» необходимо описывать расход, связанный функционирование бизнесмодель отвечать вопрос: какой ключевой ресурс быть самый дорогой, какой основный «активность» являться самый дорогой? пункт «поток поступление доход» оцениваться, откуда предприятие получать прибыль. это продажа актив товар, плата использование, оплата подписка, арендализинрент, лицензия, брокерский процент, реклама. помимо схема остервальдера существовать другой способ построение бизнесмодель. так, модель стив бланк боб дорф выделять пять группа — потребитель кто они, предлагать удерживать?, продукт чем хороший доставлять покупатель?, доход как зарабатывать увеличивать прибыль?, ресурс что нужно, чоба достигать цель, находиться ресурс привлекать?, партнер кто помогать достижение цель привлекать?бланк, дорф, существовать также бизнесмодель эша маурья, который автор называть «бережливый». являться аналог шаблон остервальдера, однако, мнение маурья, главное бизнес являться нахождение преимущество, который мочь скопировать недобросовестный конкурент технология, способ взаимодействие покупатель, особенность дистрибьюциимаурий,. бизнесмодель представлять различный модификация один идея – один сторона, отдельный планирование работа партнер, потребитель, управление издержки, поток сбыт прочий направление деятельность компания, сторона, понимание, блок действовать тесный взаимосвязь, который существовать. шаг расчет денежный поток инвестиционный проект эффективность проект традиционно оцениваться течение расчетный период, горизонт планирование проект начало окончание. начало проект, правило, подразумевать начало вложение проектный изыскательский работа, окончание проект – ликвидация. бизнес предполагаться ликвидировать, конец расчетный период становиться, например, завершение срок кредитование. расчетный период разбивать отрезок время, рамка который производиться сбор данные оценка денежный поток дисконтирование поток. длительность шаг расчет измеряться год доля год. необходимо, шаг соответствовать продолжительность важный фаза жизненный цикл проект. пример, момент завершение освоение вводить производственный мощность, замена основной средство совпадать окончание шаг. выбор шаг расчет важно учитывать неравномерность денежный поступление, затрата, также сезонный колебание рынок. учитываться также периодичность финансирование проект, срок получение возврат кредит. высокий инфляция течение шаг цена должный изменяться повышенный риск также следовать сокращать шаг расчет расчетный период шаг расчет, реализация инвестпроект формироваться различный денежный поток. отток относить любой капитальный текущий затрата, приток – выручка прочий доход. зависимость вид деятельность денежный поток делиться вид: поток инвестиционный деятельность, денежный поток операционный деятельность денежный поток финансовый деятельность. отток денежный поток инвестиционный деятельность быть учитывать затрата пусконаладочный работа, увеличение оборотный капитал, вложение дополнительный фонд. приток быть упоминать доход продажа актив, поступление уменьшение оборотный капитал. отток поток финансовый деятельность быть учитывать затрата возврат заем, выпускать предприятие облигация, также выплата дивиденд акция. приток быть фигурировать вложение собственный капитал заемный средство. отток операционный деятельность быть отмечать затрата создание нематериальный актив, приток – выручка продажа нма, другой внереализационный доход. пример, поступление продажа право интеллектуальный собственность расчетный период шаг расчет, .. расчет ставка дисконтирование ставка дисконтирование использоваться тот, будущий стоимость приводить текущий. это процентный ставка, который использоваться перерасчет денежный поток будущее величина текущий стоимость. зависимость структура финансирование проект задача анализ применяться разный вид расчет ставка дисконтирование. так, применять метод рыночный мультипликатор, метод средневзвешенный стоимость капитал wacc, метод кумулятивный построение, метод среднеотраслевой рентабельность актив капитал, модель оценка капитальный актив capm. определять ставка дисконтирование, следовать учитывать: структура финансирование, важность изменение стоимость деньги время, фактор риск. расчет ставка дисконтирование денежный поток собственный капитал применяться вариант расчет: модель сарма метод кумулятивный построение. расчет ставка дисконтирование инвестированный капитал применяться модель определение средневзвешенный стоимость капитал wacc барамия, модель оценка капитальный актив capm взаимосвязь риск доходность согласно модель оценка долгосрочный актив описываться формула модель оценка долгосрочный актив, : ke krf β·kmkrf, где: ke — ожидать норма доходность krf — безрисковый доход km — доходность рынок целое β — коэффициент бета главный достоинство модель capm являться то, основа модель лежать фундаментальный принцип связь доходность акция рыночный риск барамия, метод кумулятивный построение сравнение метод capm иметь следующий преимущество: нужный расчет коэффициент β исключаться неточность, связывать допущение модель capm. однако возникать другой трудность – проблема экспертный обоснование влиять ставка дисконтирование фактор, также сложность соотнесение система корректировка российский условие. метод кумулятивный построение ставка дисконтирование рассчитываться путем сложение безрисковый ставка премия риск. модель wacc стоимость капитал рассчитываться сумма взвешивать ставка отдача собственный заемный средство. это, весы являться доля заемный собственный средство структура капитал. учитываться также, ставка отдача заемный капитал уменьшаться ставка налог прибыль. расчет wacc производиться формула финансовый анализ, : [pic], где: kd рыночный ставка заемный капитал; t ставка налог прибыль; d сумма заемный капитал; e сумма собственный капитал; ke – требовать доходность собственный капитал. каждый представлять метод расчет ставка дисконтирование иметь свой преимущество недостаток, поэтому нино барамия советовать рассчитывать ставка дисконтирование несколько способ сопоставлять получаться результат барамия, расчет показатель эффективность правило, оценка эффективность проект применяться анализ дисконтированный денежный поток. инвестиция считаться эффективный, сумма дисконтировать поток достаточный возврат изначальный сумма капвложение обеспечение требовать отдача вкладывать капитал савчук, оценка эффективность инвестиционный затрата проект использовать показатель: дисконтированный срок окупаемость discounted payback period, dpp, чистый текущий стоимость net present value, npv, внутренний норма рентабельность internal rate of return, irr, индекс отдача profitability index, pi. основополагающий база расчет этот показатель эффективность являться чистый денежный поток net cashflow, ncf. ncf включать выручка реализация, текущий инвестиционный затрата, налоговый платеж прирост потребность оборотный капитал. стоить отмечать, чистый денежный поток учитывать структура финансирование вложение собственный средство кредитный ресурс, первоначальный этап чистый денежный поток отрицательный. инвестор устраивать, доход будущий период покрывать инвестиция, больше. поэтому оценка эффективность новый проект применяться дисконтированный денежный поток, который ncf каждый год уменьшаться величина ставка дисконтирование. результат, будущий денежный поток темп рост, равный ставка дисконтирование, «обесцениваться», окупаемость проект меняться. такой образ получаться показатель npv – чистый стоимость, который приносить проект учет дисконтирование. высчитываться формула чистый текущий стоимость, : [pic] где: npv чистый текущий стоимость, n, t — количество временной период, cf — денежный поток cash flow, — стоимость капитал ставка дисконтирование, rate считаться, любой значение npv ноль демонстрировать хороший эффективность проект. дополнение npv рассчитывать показатель — irr внутренний норма рентабельность проект. это значение ставка дисконтирование, который npv становиться равный ноль. irr демонстрировать, какой максимальный требование годовой доход вкладывать деньги инвестор учитывать свой план, инвестпроект сохранять привлекательность. финансирование проект использоваться кредитный деньги, irr показывать максимальный величина процентный ставка кредит, который окупаться ход реализация проект. формула irr выглядеть финансы мсфо: теория практика, : [pic], где: cf t — денежный поток проект момент время t n — количество период время, irr — внутренний норма доходность. однако, рассчитать значение irr формула невозможно, показатель находиться путем подбор, либо помощь компьютерный программа excel. показатель, использовать анализ эффективность инвестиция срок окупаемость инвестиция. этот время, который требоваться, инвестиция обеспечивать достаточный поступление деньги возмещение вкладывать средство. показатель иметь особый значение бизнес, располагать страна очень устойчивый финансовый система, также, бизнес связывать передовой технология, происходить молниеносный устаревание товар. находить дисконтированный срок окупаемость, dpp, нужно построить график находить точка, который накоплять несколько период дисконтированный ncf становиться положительный. способ получение показатель — складывать дисконтировать поток первый второй, первоговтороготретий, первоговтороготретьегочетвертого, далее, период год, тот пора, пока сумма поток становиться много, первоначальный инвестиция. год, который сумма поток становиться перевешивать вложение, дисконтированный срок окупаемость инвестиция. срок окупаемость — показатель индивидуальный. размер срок окупаемость существовать ясный требование. иметь смысл сравнивать показатель среднеотраслевой значение оценивать точка зрение тот запрос, который предъявлять проект инвестор. однако, мало срок окупаемость, хорошо. pi profitability index индекс отдача инвестиция. показатель являться отношение отдача капитал объем вложение проект. иной слово, pi относительный прибыльность планироваться бизнес дисконтировать стоимость финансовый поступление единица вложение. индекс отдача рассчитываться формула показатель эффективность инвестиция, : pi npv pvi где: i вложение проект, npv – чистый текущий стоимость проект. pi использовать сравнительный оценка эффективность разный вариант проект, число, различный объем инвестиция. индекс pi проект ноль, проект эффективный, мало – неприемлемый. проект высокий индекс отдача наиболее эффективный показатель эффективность инвестиция, .. оценка риск инвестпроект отдельно инвестанализ изучаться оценка риск, который сопровождать реализация инвестпроект. «идентификация анализ риск предполагать проведение качественный, затем количественный изучение риск, который сталкиваться фирма», сообщать кира ким журнал «оценка инвестиция». качественный анализ риск предполагать обнаружение риск, исследование особенность, выявление последствие конкретный риск, размер потенциальный ущерб. включать такой метод, метод экспертный оценка, мозговой штурм метод дельфи. экспертный оценка – этот суждение, предоставлять отдельный человек экспертный организация, обладать компетенция область знание, сфера деятельность, отрасль, который относиться бизнеспроект. мозговой штурм это метод сбор информация предложение решение, который использоваться идентификация риск, пора решение проблема. мозговой штурм участвовать группа эксперт. метод дельфи – метод сбор информация, использовать достижение консенсус эксперт какомулибо вопрос. суть метод заключаться тот, помощь целый последовательность действие опрос, интервью, мозговой штурм приходить соглашение эксперт определение правильный решение. случай анализ проводиться несколько этап, результат обрабатываться статистический метод. проанализировать риск качественный метод, переходить количественный метод оценка риск. качественный оценка риск становиться предварительный шаг переход количественный, поскольку анализировать риск математический метод, необходимо сначала собирать информация частота, вероятность возникновение, размер убыток, другой характеристика потенциальный риск. получать, число, экспертный оценка. выявление фактор риск степень воздействие мочь также использовать метод статистический обработка данные. именно, корреляционный дисперсионный анализ, анализ временный ряд, факторный анализ, математический моделирование ким, количественный метод оценка риск относиться: метод сценарий, анализ чувствительность метод монтекарло. анализ метод сценарий, правило, рассматривать сценарий: базовый, хороший плохой, проводить сценарный анализ три точка. правило, хороший плохой сценарий приписывать вероятность основный сценарий – действительность вероятность мочь отличаться, количество сценарий больше, обычно аналитик ограничиваться именно «три точка» оценка. каждый сценарий рассчитываться показатель эффективность. это npv. учет вероятность сценарий показатель рассчитываться прогнозный npv проект, исходить среднеквадратический отклонение коэффициент вариация проект, который сравнивать средний отрасль, аналогичный показатель эффективность другой проект компания. анализ метод сценарий давать возможность получать информация риск конкретный, автономный проект компания, который этот проект несколько. способ анализ риск метод монтекарло – рассчитывать стоимость проект длительность проект использование величина, произвольно взять возможный значение стоимость длительность, причем, делаться это многократно. цель метод – получать распределение вероятность значение общий стоимость проект, или, заинтересованность инвестор, дата окончание проект. третий метод количественный оценка риск – метод чувствительность. классический способ расчет метод чувствительность предполагать использование базовый вариант проект, который описываться наиболее вероятный значение несколько переменный. анализироваться эффективность основный вариант. затем рассматриваться ситуация, значение отдельный переменный отклоняться ,,, оцениваться, какой влияние это оказывать эффективность проект. оценка эффективность браться ключевой показатель проект. чувствительность показатель изменение отдельный параметр проект исследоваться. обычно качество ключевой параметр использоваться npv irr. конечный итог набор значение ключевой показатель накладываться график, который демонстрировать, насколько зависимый этот значение изменение каждый переменный. глава анализ рынок моделирование остервальдера ..основной параметр проект замысел проект заключаться то, предлагать аквауслуга доступный цена семейный клиент спальный микрорайон, изначально меньший первоначальный расход строительство, крупный аквапарк. микрорайон гайв, планировать строить, население составлять тысяча житель население поселок гайв, среди молодой семья средний достаток, пенсионер, школьник, студент. часть становиться постоянный клиент, это гарантировать успех. предполагать охват аудитория – гайв, близлежащий микрорайон орджоникидзевский район г. пермь, население который составлять тыс. человек район сегодня, исключать другой район г. пермь, который житель также мочь приезжать аквацентр, достаточно интересный план предлагать услуга сервис. воплощение проект необходимо осуществлять строительство двухэтажный здание два бассейн, каждый который оборудовать водный аттракцион. здание санузел, два душевой мужской женский два минисауна, два комната переодевание. также комната персонал, кафе комната групповой фитнес. здание построить новый. название проект: аквацентр «лагуна». юридический форма – ооо. проект создаваться «с ноль». финансирование быть использовать кредитный средство собственный средство инвестор. таблица график реализация проект основной этап проект срок стоимость регистрация ооо август год тыс. руб. «лагуна» приобретение участок август год млн. руб земля собственность аукцион создание августоктябрь проекносметный год документация создание октябрьдекабрь г., млн. руб. проектносметный документация проведение аукцион надекабрь г.январь строительство здание, г. установка чаша бассейн, отделочный работа получение разрешение наянварь г. строительство начинать строительный март г. млн руб. работа окончание строительный март год работа получение лицензия апрель год руб. запуск аквацентр июнь год это год бдрбддс нулевой год реализация проект самый дело растягиваться полтора год .. обоснование выбор место расположение объект оржоникидзевский район – удаленный центр район г. пермь, площадь занимать город. согласно информация горадминистрация пермь, район существовать бассейн район сегодня, очевидно, этот число входить школьный бассейн длина дорожка м, бассейн лицей № такой габарит метровый бассейн санаторий «сосновый бор» гайв, принимать сторонний посетитель лишь треть рабочий время. достойный бассейн, комфортный способный принимать большой количество человек, район нет. поэтому любитель плавание посещать городской бассейн – «олимпия», «бм», «кама». налицо «покупательский боль». человек готовый посещать бассейн, этот услуга предоставлять. январь общий численность население орджоникидзевский район составлять тыс. чело., число трудоспособный возраст тыс. чело. район включать микрорайон: гайв, заозерье, бумкомбинат, левшино, домостроительный, молодежный, кислотный дача, камгэс, чапаев, чусовской водозабор, январский район сегодня, территория район осуществлять деятельность тыс. юридический лицо тыс. индивидуальный предприниматель. орджоникидзевский район располагать значимый город предприятие: пао нпо «искра», филиал пао «русгидро» «камский гэс», ооо «камский кабель», группа предприятие «пермский целлюлознобумажный компания», зао «искра энергетика», оао «уралгидросталь», ооо «жбк», оао «камтэксхимпром», ооо «камский завод масло», ооо «вторчермет нлмк пермь», оао «пермский домостроительный комбинат», ооо «плитпром», ооо гк «промтех», ооо «квин». территория район начало год располагать объект потребительский рынок число, магазин, учреждение образование. февраль год общеобразовательный учреждение обучаться человек, детсад посещать момент ребенок район сегодня, качество альтернативный вариант размещение бассейн орджоникидзевский район рассматривать вариант размещение поселок голованово левшино. голованово большой потребность фитнес, оздоровительный развлекательный услуга, население поселок человек, один школа, детский садик. другой микрорайон достаточно сильно удалять опасность собирать необходимый уровень выручка окупаемость проект. кроме тот, невысокий платежеспособность большинство жить гражданин. вариант рассматриваться динамично развиваться микрорайон левшино детский сад, два школа. однако, население микрорайон также недостаточно большой обеспечение окупаемость порядок тыс. человек. кроме то, связь перенос железнодорожный ветка пермь i, связь проект развитие набережная риск тот, оба район быть отрезать железнодорожный сообщение выезжать проблематичный, сейчас. риск размещение микрорайон левшино – планироваться размещать аквапарк. микрорайон гайв располагать близко центр город, упоминать микрорайон левшино голованово. мочь добираться житель левшино, голованово, молодежный, который гайв значительно близко, центр город. население микрорайон гайв составлять порядок тыс. человек. микрорайон располагать серьезный промышленный объект значит, работодатель работник, потенциальный клиент: филиал «русгидро» камгэс, ао «камкабель», ао «элиз», тэц № объект здравоохранение называть мсч №, поликлиника № мсч №, поликлиника № детский городской больница №. гайв достаточно образовательный учреждение: пермский промышленнокоммерческий колледж, пять средний школа № вечерний сменный школа №, школагимназия № детский сад № «золотой ключик», детский сад № гайв, микрорайон, этот, микрорайон специально оборудовать бассейн. оценка местный житель, гайв свойственный: удаленность центр, хороший обеспеченность магазин, транспорт, школа, детский сад, жилье разный уровень, кафе бар. микрорайон располагаться вблизи лес луг. но, заявлять сам житель, минус территория «мало место активный отдых: хороший бассейн, кинотеатр» домофонд, единственный бассейн располагать санаторий «сосновый бор» удаление город принимать посетитель четыре час среднее американец посещать бассейн год. россия статистика нет. однако, тыс. житель гайва каждый посещать бассейн год, это посещение год посещение день раз много, нужный выручка, гарантировать окупаемость исследовать проект. население орджоникидзевский район каждый посещать наш бассейн год, это тыс. посещение год, т.е. посещение день – чрезмерно наш аквацентр. окупаемость исследовать проект достаточно, житель орджоникидзевский район каждый посещать бассейн хотя год. территория орджоникидзевский район осуществлять деятельность тыс. юридический лицо тыс. индивидуальный. такой образ, число потенциальный посетитель бассейн добавляться жить, работать район, член семья, который мочь становиться потенциальный клиент. .. модель инвестпроект остервальдера. проект, который планировать реализовать – это гибрид бассейн аквапарк. рассчитать местный аудитория спальный район почему это именно «миниаквацентр»? быстро строить, быстро окупаться. молодой семья спальный район, фитнес центр, практически местный развлечение ребенок, небольшой аквацентр вполне достаточно. исходить то, быть ограничивать средство как правило, изза отсутствие инвесторский деньги многий проект реализовать, иметь смысл замахиваться безнадежный сумма проект?. речь идти строительство физкультурнооздоровительный центр район, который действительно нуждаться, возможность получать какуюто господдержка мочь быть, госгарантия кредит. наш основной потребитель – это молодой семья ребенок, школьный детсадовский группа. исключать взрослый население любитель плавание, число, пенсионер. ктото посещать бассейн, ктото заинтересовываться горка, часть клиент посещать фитнесзать групповой занятие йога, пилатес пр. такой образ, многосторонний платформа по остервальдера, объединять несколько связанный группа потребитель, создавать повышенный ценность благодаря взаимодействие группа. ребенок приводить родитель, родитель обнаруживать, кроме бассейн фитнес, возможность отпраздновать день рождение, т.д. процесс создание модель задавать вопрос, мочь привлекать достаточно большой количество клиент каждый сторона платформа. ответ: да, мочь. это мочь услуга проведение день рождение, праздник ребенок, занятие фитнес. позиционировать многопрофильный предприятие, диверсифицироваться предлагать помимо бассейн горка услуга фитнесцентр зал групповой занятие возможность проводить корпоратив. такой образ, привлекать тот группа клиент, другой цель. взаимодействие потребитель осуществляться разный канал сбыт. например, школьный детсадовский группа привлекать личный общение директор ходить образовательный учреждение, договариваться, заключать долгосрочный контракт. отдельный посетитель привлекать реклама раздавать флаер, повесить баннер. размещать реклама газета, предлагать сотрудник бесплатный посещение бассейн. «убивать несколько заяц» – приводить новый клиент, знакомить спортивнооздоровительный комплекс. оценивать наш предложение, мочь приводить свой знакомый. это, получать реклама газета, который охватывать широкий слой население. кроме то, быть доносить информация потребитель интернет: группа соцсеть, собственный сайт, вирусный реклама. отвечать вопрос: кто создавать ценностный предложение, какой клиент важный? какой проблема помогать решать, какой потребность удовлетворять, набор услуга мочь предлагать каждый потребительский сегмент? взять сегмент «молодой семья ребенок». особенно важный чистота ребенок часто болеть, теплый вода один бассейн должный соответствовать этот требование. должный развлечение ребенок это горка «минитобоган» массажный душ. это, соответствовать требование безопасность устроенный так, ребенок друг друг «затаптывать». добавлять маленький штрих – например, подогревать полотенце пользователь прокатный полотенце. недорого обслуживание, приятно. видеотрансляция кафе мама, следить ребенок, который плавать бассейн достаточно пара компьютер камера, очень удобный. сегмент «молодой мама»: стараться сохранять фигура, уставать постоянный наблюдение ребенок. пара велотренажер зал, бассейн, удовлетворять потребность фитнес. зал должный инструктор, присматривать ребенок. сегмент «молодой папа»: холл – трансляция матч папа, который приходиться сидеть ребенок, одевать, терпение хватать. фитнесбар безалкогольный напиток. сегмент «школьный детсадовский группа»: тренер помощь воспитатель, который помогать раздевать ребенок прослеживать они. развлекательный пятиминутка приз маленький. особый оздоровительный программа ребенок фитнеспрограмма подросток. дополнительный услуга, который требовать лишь привлечение один инструктор: аква танец, аквайога, аквакросс. продумывать реализация предложение, который привлекать новый клиент: врач массажист «на аутсорсинг» принимать неделя профессионал, делать массаж воротниковый зона каждый четвертый массаж пожилой клиент бесплатно. привлечение тренер позволять снижать риск, связанный невнимательность родитель. отвечать вопрос, какой канал сбыт желательный наш потребительский сегмент, предполагать, большинство смочь покупать билет абонемент, приходить аквацентр – это виртуальный услуга. быть использовать другой канал сбыт: сайт компания, продажа абонемент школа детсад. помогать клиент оценивать ценностный предложение наш компания? давать бесплатный первый посещение, выдавать бесплатный приглашение несколько семья пусть это конкурс талант школа. каждый сотрудник приводить клиент получать бонус. групповой клиент – крупный бонус. предлагать возможность подработка менеджер продажа весь работник аквацентр. кроме то, работать рекламный агентадминистратор. билет абонемент продавать везде, мочь купить – школа, библиотека, детский центр развитие, театральный касса. это, наиболее выгодный быть такой канал соцсеть, флаер, вирусный реклама, собственный сайт. какой поток поступление доход быть наш проект? это поступление оплата пользование бассейн, также групповой занятие школьный детсадовский группа, доход группа фитнес, доход проведение торжественный мероприятие. наш ключевой ресурс быть здание, оборудование, персонал хороший тренер, успешный продажник. ключевой ресурс – вода отопление. ключевой вид деятельность аквацентр – предоставление оздоровительный развлекательный, фитнесуслуга. ключевой партнер становиться банк, предоставлять кредитный линия, администрация, предоставлять субсидия, школа детсад поставщик постоянный клиентский группа, естественный монополия, поставлять вода, тепло, электроэнергия. наиболее важный расход, который предполагать наш бизнесмодель, это расход вода, система очистка, отопление, оплата труд персонал. изначально – строительство здание сам бассейн горка. необходимо рассматривать возможность договор поставщик ресурс скидка счет масштаб приобретение ресурс. таблица модель инвестпроект аквацентр «лагуна» остервальдера ключевой ключевой видыценностный взаимоотношенипотребительс партнер деятельность предложение клиент кий сегмент банк, предоставленихороший уровень частично – молодой поставщик аквауслуга самообслуживансемья тепло, оздоровительнтепло, чистый, ия, ребенок, энергия, ых, кондиционированночастичноперсошкольный детсад, развлекательнм помещение. нальный детсадовский школа ых, дополнительный поддержка группа, фитнесуслуга фишка: горка, любитель массажный душа, плавание, теплый полотенце пенсионер ключевой канал сбыт ресурс продажа здание, билет оборудование, место, сайт персонал, компания, вода, школа, детсад отопление, электроэнерг структура издержки поток поступление доход расход вода, система индивидуальный посетитель, группа очистка, отопление, оплата труд по аквааэробика, группа фитнес персонал. строительство здание зал сам бассейн горка. .. анализ российский рынок аквапарк оценивать конкурентный среда, который приходиться работать будущий аквацентр. один сторона, какойто степень приходиться конкурировать аквапарк, который возить свой ребенок пермяк. сторона, прямой конкурент быть бассейн, поскольку аквацентр – это аквапарк прямой смысл. это скоро бассейн встраивать горка широкий линейка услуга. россия существовать около крупный аквапарк, порядок – крытый самый большой аквапарк россия, пермский сми активно обсуждаться вопрос возможность строительство аквапарк связь идея власть строить аквапарк ул. щербаков орджоникидзевский район. однако, построить аквапарк, неизвестно. окончательный договоренность подрядчик заключать. становиться известно конец год, зао »коросаква» готовить инвестиционный предложение пермский власть строительство аквапарк этот адрес. стоимость строительство, данные год, поставлять порядок млрд. руб. аквапарк детский шаг, семь год назад пермский край открываться аквацентр территория курорт «устькачка». это бассейн элемент аквапарк — один витой горка душ»грибок». «однако этот нехитрый приспособление вполне достаточно то, аквацентр пользоваться популярность. сообщать мы телефон центр, день посещать порядок человек. ехать курортный аквацентр сам поселок устькачка, близкий деревня, дачный поселок пермь — дорога посетитель смущать, поскольку, видимо, устраивать уровень сервис спектр предлагать услуга.» стоить оговариваться, всетака, недостаток посетитель аквацентр устькачка прежде изза вхождение бизнес курорт. предполагать, посетитель – клиент курорт аквапарк детский шаг, рассматривать крытый аквапарк, обращать особый внимание аквапарк тот территория, который «наезживать» туристический маршрут. т. е., тот, который пермяк ездить мочь поехать подача турагентство. «пул» аквапарк, который мочь конкурент аквапарк пермь, условие, построить, входить аквапарк казань, екатеринбург, москва, санктпетербург. сожаление, далеко аквапарк декларировать отчетность, то, складываться ощущение, всячески «вуалировать». однако, коекакий данные представлять «спаркинтерфакс». многий пермяк посещать аквапарк казань. казанский аквапарк юридический название ооо «аквапарксувар», управляющий компания ооо «казанская ривьера». персонал: человек. создавать год. выручка продажа год составлять млн руб. чистый прибыль период – млн рубль чистый актив млн. руб. центр раскрытие корпоративный информация, пример неудачный реализация проект, возможно, изза влияние климатический условие, приводить ооо «аренааквапарк» норильск. данные «спаркинтерфакс», персонал составлять чело. выручка продажа год млн. руб., чистый убыток млн. руб., чистый актив – млн. руб.центр раскрытие корпоративный информация, г. череповец аквапарк «радужный» принадлежать мэрия город череповец, который зарегистрировать качество головной компания аквапарк. персонал предприятие чело, уставной капитал млн. руб., выручка продажа год млн. руб., чистый прибыль млн. руб., чистый актив млн. руб центр раскрытие корпоративный информация, приморский край небольшой аквапарк база отдых «океан». иметь отдельный юрлицо ооо «аквапарк». персонал человек, выручка продажа год млн. руб., чистый прибыль млн. руб., чистый актив млн. руб. центр раскрытие корпоративный информация, аквапарк москва перово «карибия» зарегистрировать юрлицо ооо «апогей». находиться стадия внешний управление процедура банкротство. уставный капитал млн. руб. год, выручка продажа год млн. руб., чистый убыток год млн. руб., чистый актив минус минус млрд. руб. центр раскрытие корпоративный информация, санктпетербург ооо «аквапарк «питерлэнд» иметь персонал человек. выручка год составлять млн. руб., чистый убыток млн. руб., убыток чистый актив млн. руб. центр раскрытие корпоративный информация, москва петербург существовать несколько аквапарк, возможно, это связанный убыточность тот они, который декларировать отчетность. пермь действовать аквацентр санаторий «устькачка». оформлять ипать, отчетность публиковать. курорт устькачка, сам курорт «устькачка» известно, выручка продажа год составлять млн. руб, чистый прибыль млн. руб. центр раскрытие корпоративный информация, сравнение, обращаться южный аквапарк. аквапарк «анапа» ул. гребенской, иметь выручка продажа млн. руб., чистый прибыль млн. руб., чистый актив млн. руб. центр раскрытие корпоративный информация, клинический санаторный комплекс «аквалоо», основа который составлять аквапарк гостиница, г. сочи иметь персонал человек. выручка продажа млрд. руб., чистый прибыль млн. руб., чистый актив млн. руб. год центр раскрытие корпоративный информация, мало крупный аквапарк сочи ооо «морской звезда» иметь выручка продажа год млн. руб., чистый прибыль млн. руб., чистый актив млн. руб. центр раскрытие корпоративный информация, аквапарк предлагать целый комплекс услуга. крупный аквапарк представлять различный аттракцион – самый разнообразный горка – «ниагар», «анаконда», эффект морской волна, плавание доска серфинг, детский аттракцион пиратский тематика. несколько бассейн подогревать вода, сауна, шезлонг, кафе. так, аквапарк «лимпопо» аттракцион «медленный река», экстремальный горка, волновой бассейн пляж, бассейн активный игра. несколько баня – финский, турецкий, русский. посетитель предлагаться акция – фитнесутро, «вечерний», «радость каждый» для инвалид, «именинник» пр. аквапарк «питерлэнд» включать аквапарк, магазин, ресторанный дворик, набережная, парк залив. однако, отмечать посетитель, выходной аквапарк неудобно парковка. «тропикан» норильск, представлять кафе, аттракцион, гидромассажный гейзерный бассейн, джакузи, детский зона, хам, мыльный комната релаксировать пена, зона отдых, солярий, кедровый бочка, услуга массажист. несмотря заманчивость предлагать услуга, норильский аквапарк «питерлэнд» убыточный. таблица финансовый результат расположение российский аквапарк «казанск«арена» «радужный» аквапарк «апогей» питерлэнд норильск череповец «океан» «карибия» ривьера» приморский москва край цена взрослый взрослый взрослый взрослый полный взрослый безлимит ребенок ребенок ребенок ребенок цена час час час час час взрослый взрослый взрослый ребенок ребенок цена взрослый продление ребенок ребенок ниже час взрослый ребенок на час год см бесплатно ребенок ребенок ребенок ребенок метр метр см бесплатно бесплатно составлять по: здоровый отдых карибия,;аквапарк ривьера,; лимпопо аквапарк,; питерлэнд,; тропикан аквапарк,. бассейн сегодня также идти путь диверсификация предлагать помимо традиционный услуга целый комплекс сопутствовать. так, ск «олимпия» действовать фитнесцентр, центр плавание, бассейн, сауна, центр кинезотерапия, spaцентр. бассейн бм фитнесцентр, солярий, предоставляться услуга аквааэробика, детский плавание, действовать спортшкола. бассейн «кама» иметь свой фитнесклуб. таблица цена выручка ведущий бассейн пермь, руб. олимпия бм кама будни будни вечер любой время выручка, год составлять по: центр раскрытие информация, ; спорткомплекс,; плавательный бассейн кама,; бм спортивный комплекс,. итого, согласно данные таблица ориентировочный общий объем рынок услуга бассейн г. пермь учет допущение составлять млн. руб. это, рынок объем продажа занимать «олимпия», бассейн «бм», аквацентр «устькачка», бассейн «кама», «солнечный речка», «дельфин», «сосновый бор» ,. выручка сосредотачивать рука пять сильный игрок; выручка сосредотачивать два сильный игрок. тип рынок – монополистический конкуренция. таблица бассейн пермь: цена, габарит, ориентировочный выручка название адрес длина цена, выручка дорожка,м. руб.час за год, млн. руб. аквацентр ул. аркадий гайдар «детский» «кама» ул. краснополянский, бассейн гимназииул. целинный № «солнечный ул. николай речка» островский, бм ул. коминтерн, дельфин краснокамск, ул. школьный бассейн школа № ул. старцева бассейн школа № ул. луначарский «дельфин» спортивноразвлеул. генерал при банный кательный доватор, комплекс день комплекс человек «австерий» акваклуб ул. петропавловский. «золотой рыбка» акваклуб ул. советский артхаус ул.костаревскаяа бассейн банный человек комплекс олимпияпермь ул. мир эдвардджим ул. транспортный, бассейн противоток гидромассаж «сосновый бор» ул. усадебный, бассейн лицей № кислотный дача, орджоникидзевский район ул. генерал черняховский, бодибум ул. докучаев, малый хfit ул.газета «звезда», малый аквацентр устькачка бассейн школа №ул. лев толстой, составлять по: бассейн плавательный пермь, ; карта спорт,; центр раскрытие информация, ;сейчас спорткомплекс,; плавательный бассейн кама,; бм спортивный комплекс, считать, будни день год экспертный данные загрузка будни снижаться минимум поэтому считать загрузка будни выходной полный равномерный загрузка гарантировать никто, однако данный случай анализировать рынок точка зрение возможность бассейн принимать определенный количество человек, точка зрение реальный загрузка. санаторий «сосновый бор» загрузка будни расчет пропускной способность бассейн: норматив минспорт рф, единовременный пропускной способность плавательный бассейн составлять дорожка: ванна – человек, ванна – человек, ванна обучение плавание ,х – человек. стоимость плавание школьный бассейн составлять порядок руб. человек час занятие. приход рынок новый игрок возможный, говорить сам игрок рынок. так, семенов, директор бассейн «бм» отмечать, необходимость бассейн г. пермь закрывать [к аквапарк детский шаг, ]. многий спальный район, удаленный центр пермь, жить молодой семья там просто купить квартира, поскольку цена ниже, бассейн просто нет. такой район – гайв. [pic] рис.. распределение доля крупный участник пермский рынок аквауслуга составлять таблица уровень микрорайон конкурент аквацентр практически быть. единственный конкурент бассейн санаторий «сосновый бор». информация то, бассейн санаторий единственный микрорайон, подтверждать сообщение сайт сам санаторий, который говориться, бассейн санаториипрофилакторий «сосновый бор» являться единственный закрытый плавательный сооружение микрорайон гайв, г. пермь сосновый бор, поскольку бассейн являться единственный наш конкурент микрорайон, подробно рассматривать характеристика. характеристика бассейн «сосновый бор»: • длина – метр • ширина – метр дорожка • глубина – м. • температура вода ос, ± • система очистка вода – традиционный, хлорировать средство • сауна позиционировать собственник, бассейн идеально подходить занятие водный вид спорт, такой плавание, подводный спорт, водный поло, подводный регби, синхронный плавание, аквааэробика лечебный физический культура. очевидный недостаток заведение: сторонний посетитель бассейн открывать вторник воскресение, понедельник – санитарный день. цена бассейн соответствовать городской стандарт. взрослый билет стоять руб., детский руб., час занятие аэробика – руб. сосновый бор, .. барьер вход барьер вход рынок следовать относить проблема выделение земля, получение необходимый согласование, лицензия – процесс занимать около год. решаться проблема социальный значимость физкультурнооздоровительный комплекс удаленный район, возможный, власть пойти навстречу, помогать решать вопрос лишний проволочка. высокий конкуренция существовать игрок данный случай барьер вход, поскольку микрорайон конкурент практически нет. ведущий игрок рынок находиться далеко. определенный доля рынок занимать удаваться любой случай. главный барьер вход данный случай являться затрата строительство объект, т. е., финансовый. финансовый барьер вход – млн. руб. строительство здание бассейн. строительство аквапарк полный комплекс услуга многообразие горка стоить млрд. руб. возвращаться тема выбор глобальный аквапарк бассейн дополнительный услуга, отмечать: показывать опыт, аквапарк далеко прибыльный. это, стоимость строительство аквапарк достаточно высокий от млрд. руб.. правда, данные интернетплощадка франчайзинг, рентабельность аквапарк составлять свой бизнес, самый дело, раскручивать аквапарк, предлагать большой многообразие горка налаживать иногородний туризм, проблема посещаемость нет. доходность большой финансовый барьер вход, риск. глава прогноз реализация проект .. план первоначальный вложение запускать проект, мы понадобиться зарегистрировать ооо, производить работа проектирование, строительство здание лицензирование, закупать устанавливать основной офисный оборудование, заплатить аванс сотрудник, проводить первоначальный маркетинговый компания. регистрация ооо «лагуна», приобретать собственность участок земля. согласно объявление, обновлять март год, продажа микрорайон гайв выставлять участок земля, соответствующий весь требование инвестпроект недвижимость perm, размер участок – сотка. расположение – рядом популярный торговый центр «кит» перекресток улица писарев карбышев. участок удачный, поскольку близость торговый центр гарантировать высокий пропускной способность, подведение коммуникация также должно сложность. информация продавец, участок квадратный, назначение земля населенный пункт, разрешать использование строительство комплекс объект дорожный сервис. зона обслуживание деловой активность: ц. возможный использование: торговоразвлекательный центр, логистический центр, офисный помещение, производственный предприятие. цена участок – млн. руб. тип объект – земля поселение. участок планироваться приобретать август год. объявлять конкурс создание проектносметный документация. создание проектносметный документация строительство бассейн ул. сысольский год потратить млн. руб. строительство бассейн закамск, проведение конкурсный процедура начинаться строительство здание. разный данный то, сколько стоить строительство здание два чаша бассейн. строительство спортивный центр плавательный бассейн м. пропускной способность человексмен, второй бассейн площадь метр пропускной способность человексмен, общий площадь здание кв.м., год оцениваться млн. руб. плавательный бассейн спорткомплекс бассейн, типовой проект позволять располагать любой планировочный структура городской микрорайон. проект предусматривать расположение цокольный этаж бытовой помещение рабочий, мастерская технический помещение осмотр ванна, помещение фильтрование, очистка, нагревание циркуляция вода. первый этаж – гардероб, касса, регистратура, охрана, киоск продажа купальный принадлежность, ванна зал сухой плавание. второй этаж – административный помещение, буфет плавательный бассейн спорткомплекс бассейн, год осуществлять строительство аналогичный наш требование трехэтажный здание бассейн следующий характеристика: наружный стена – сэндвичпанель, перекрытие покрытие – монолитный железобетон, перегородкикирпичный, кровлямягкий рулонный послойный сборка профилировать лист утеплитель, лестница – монолитный железобетон, полыкерамогранитный плитка, линолеум, окно – пвх, алюминиевый профиль, дверипвх, деревянный. наружный отделка – сэндвичпанель, керамогранитный плитка, композитный панель. внутренний отделка – керамогранитный плитка, окраска водоэмульсионный краска. потолок – водоэмульсионный краска, подвесной реечный потолок. инженерный оборудование – водопровод – стальной водогазопроводный оцинковывать труба гост пересчет сегодняшний курс доллар, стоимость проект составлять млн. руб. тогда, курс доллар руб., оцениваться млн. гг. микрорайон пролетарский пермь реализоваться проект, аналогичный наш. трехэтажный здание два бассейн – взрослый детский, – элемент аквапарк. проект рбкпермь сообщать, конец год микрорайон пролетарский заканчиваться строительство бассейн. сам здание многосекционный, переменный этажность. бассейн два: взрослый – метр пять дорожка игровой бассейн – метр элемент аквапарк ребенок зона джакузи. также спорткомплекс предусматривать тренажерный зал, зал единоборство, турецкий баня сауна. этаж, этаж, этаж технический помещение, гардероб, кабинет врач, пункт продажа спортинвентарь, тренажерный зал, помещение сушка волос, парикмахерская, помещение персонал др.» объем инвестиция проект составлять порядок млн. руб.пзсп сдавать бассейн пролетарка, одновременно район строиться бассейн ул. сысольский площадь здание составлять тыс. кв. м., размер чаша бассейн м. здание одноэтажный цокольный этаж. проект оцениваться млн. руб. наш случай построить этажный здание два бассейн – взрослый метр пять дорожка, детский элемент аквапарк зона джакузи метр. здание санузел, два душевой мужской женский два минисауна, два переодевальня. комната персонал, кафе комната групповой фитнес. здание построить новый. стоимость строительство оцениваться млн. руб. стоимость оборудование подсчитывать, исходить следующий данные: импортный оборудование бассейн стоить рубль. для подогрев вода купить электронагреватель, цена который достигать рубль. для дезинфицирование вода нужный хлоргенератор стоимость около руб. установка массажный душа расход строительство бассейн увеличиваться сумма руб.строительный совет, [pic] рис.. структура первоначальный затрата инвестпроект аквацентр «лагуна». составлять табла. такой образ, стоимость оборудование один бассейн составлять порядок тыс. руб. два – тыс. руб. горка «минитобоган» диаметр виток метр, желоб мм, обходиться евро, курс евро март год руб. аквапарк, оборудование санузел тыс. руб оборудование фитнес – велотренажер, руб. оборудование офис – стол, стул пр. руб. стоимость система кондиционирование система вентиляция кондиционирование, составлять евро площадь кв.м. пересчет наш площадь м.кв. стоимость составлять млн. руб. такой образ, общий затрата основной оборудование составлять руб., вспомогательный офисный оборудование – руб. исходить этот данные, составлять план первоначальный вложение. таблица план первоначальный вложение статья расход затрата, руб. срок реализация первоначальный вложение инвестиционный характер регистрация ооо «лагуна» август год приобретение участок август год земля собственность проектносметный августноябрь документация разрешение год. на строительство строительство здание март март м.кв. оплата труд год подрядчик, предоплата. затрата март год инфраструктура приобретение установка март год основный оборудование офисный оборудование март год получение лицензия март год первоначальный вложение операционный характер аванс заработный плата март год сотрудник ½ месячный зарплата сотрудник оклад сдельный стартовый рекламный февральмарт год компания бахила, стаканчик, чай март год итого первоначальный вложение .. прогноз доход расход операционный деятельность цена услуга назначать, опираться цена конкурент. первый год цена разовый посещение час минута составлять руб. ежегодно цена расти бассейн бм цена возрастать минимум руб. ежегодно. оплата производиться факт посещение. цена групповой посещение составлять руб. участие групповой занятие один лицо. прогнозировать объем продажа, исходить то, согласно норматив, наш бассейн мочь час принимать чело. такой образ, день работа аквацентр принимать человек. первый год, момент раскрутка считать загрузка будни выходной будни, выходной год. это, каждый день вычесть четыре час групповой занятие бассейн. такой образ, считать максимально возможный загрузка бассейн разовый посещение час день. ежегодно загрузка расти последний год загрузка достигать максимум. доход групповой занятие: проводить часовой групповой занятие день такой образ, год получать час групповой занятие, каждый который приходить человек. предполагать, посещаемость расти закладывать рост порядок год, только первый год также небольшой рост цена групповой занятие руб. год. выручка днейрождение, групповой занятие зал: корпоратив: считать, первоначально быть провожать порядок корпоратив день рождение месяц – неделя, стоимость оплата тыс. руб. час мероприятие. затем количество возрастать, большой рост закладывать. групповой занятие зал: быть провожать групповой занятие зал день объем группа порядок человек, стоимость занятие первый год руб., затем расти руб. год. предполагаться, посещаемость расти год. [pic] рис.. поступление индивидуальный посещение, также групповой прочий мероприятие, руб. составлять табла.. подсчитывать расход операционный деятельность. основной ресурс, который быть платить, являться электроэнергия, тепло, система очистка вода. содержание среднестатистический бассейн, рассчитать кубометр вода, обходиться доллар месяц привязка доллар связанный то, использоваться, правило, химия иностранный производство оборудование бассейн,. вместимость чаша составлять кубометр, затрата возрастать доллар месяц. бассейн, сумма чаша примерно кубометр. стоимость обслуживание год руб. за доллар бассейн руб. переходить затрата электроэнергия. использование бассейн час день, потребление электроэнергия месяц выглядеть следующий образ: ,подсветка час работа сутки сутки месяц ,противоток час работа сутки сутки месяц ,насос фильтрация автоматика час работа сутки сутки месяц квт руб. руб. еврострой инжиниринг, расчет производить бассейн площадь : м. площадь два бассейн раз, использовать бассейн быть течение час день. такой образ, электроэнергия месяц быть тратить порядок руб. год. плюс оплата освещение отопление сам здание площадь кв. м. цена квткуб.м. год составлять год. расчет затрата отопление помещение, итого, затрата электроэнергия, отопление содержание бассейн год составлять руб. год. это, оценка эксперт, рост тариф электроэнергия составлять порядок год. миф вокруг тариф,. учитывать это наш расчет бдрбддс. рассматривать фонд оплата труд. сотрудник оклад: управляющий – тыс. мес. администратор оклад тыс. мес. уборщица оклад тыс. мес. инструктораспасатель тыс. мес. рекламный агент процент продажа групповой клиент. вместе зарплата сотрудник оклад составлять тыс. руб. месяц, тыс. руб. год. подсчитывать зарплата сдельный сотрудник. аниматор руб. час, год, руб. год. инструктор групповой занятие руб. час, год, тыс. год. вместе затрата сдельный сотрудник год. суммарный зарплата сдельный сотрудник оклад фот составлять год. год проект принимать штат инструктор групповой занятие инструктораспасатель зарплата тыс. руб. связь увеличение спрос, также повышать зарплата администратор тыс руб. итого, фот возрастать тыс. руб. месяц, тыс. руб. год счет расширение штат. плюс, повышать зарплата весь персонал управленческий расход транспорт, расход юридический аудиторский услуга. аренда автомобиль тыс. руб. мес., тыс. руб. месяц бухгалтерский юридический услуга приходить сотрудник договор, итого руб. год, год зарплата индексировать коммерческий расход реклама – тыс. руб. первый год мы стартовать проект, последующий год тыс. руб., год тыс. руб., год – тыс. руб. общехозяйственный расход бахила, стаканчик, закладывать бахила стаканчик день оптовый цена – руб. стаканчик копа. пара бахила. услуга прачечная: руб. кг неделя кг мес. это тыс. руб., год руб. быть работать упрощенный система налогообложение. система налоговый ставка зависеть выбирать предприниматель организация объект налогообложение. объект налогообложение «доход» ставка составлять система устанавливать ограничение сумма выручка – млн. руб. год, ограничение попадать – максимальный выручка год реализация проект составлять млн. руб. страховой выплата составлять фонд оплата труд. таблица доход расход операционный характер доход, руб. год расход, руб. год вид сумма вид сумма выручка электроэнергия, электроэнергия индивидуальный тепло, очистка бассейн занятие вода освещение отопление здание содержание бассейн, очистка вода система кондиционирование выручка фот – сотрудник групповой на оклад занятие бассейн зал сдельный сотрудник выручка бахила, проведение стаканчик, праздник канцтовары прачечная управленческий расход реклама основание прогноз доход мочь сделать определенный вывод то, какой доля рынок мочь занимать окончание срок реализация проект. подсчитывать п.., ориентировочный общий объем рынок услуга бассейн г. пермь учет допущение составлять млн. руб. допускать, приход новый игрок как минимум, появляться бассейн район пролетарский, увеличивать объем рынок это, цена быть возрастать ежегодно ежегодно цена бассейн бм возрастать руб. минимум ориентировочный объем продажа пермский рынок составлять порядок млн руб. тогда, согласно план продажа, му год реализация проект мочь занимать прогнозировать выручка млн.руб. региональный рынок. цена «сосновый бор» быть расти соразмерно на год, рынок аквауслуга микрорайон «гайв», состоять два игрок, составлять млн руб. это, рынок микрорайон занимать аквацентр «лагуна». .. финансирование проект определение ставка дисконтирование потребность финансирование проект составлять млн. руб. соотношение кредитный собственный средство – : заемный, собственный средство инвестор. выплата кредит осуществляться схема аннуитет – ежегодный равный платеж конец год выплата основной сумма долг. кредит размер млн. руб. предоставлять год годовой. это, инвестор согласный предоставлять средство годовой. таблица планграфик полученияпогашение кредит выплата получение, руб. дата получение август год выплата июль год выплата июль год выплата июль год выплата июль год выплата июль год выплата июль год выплата июль год выплата июль год определять ставка дисконтирование. поскольку использовать кредитный собственный средство, использовать формула доля долг составлять ,, доля собственный капитал такой образ, wacc налоговый щит учитывать, поскольку налогообложение идти выручка. иной слово, ставка дисконтирование составлять годовой. .. расчет ликвидационный стоимость здание, земля, оборудование подсчитывать прогнозировать износ здание год реализация проект. здание бассейн следующий характеристика: наружный стена – сэндвичпанель, перекрытие покрытие – монолитный железобетон, перегородка кирпичный, кровля – мягкий рулонный послойный сборка профилировать лист утеплитель, лестница – монолитный железобетон. наружный отделка – сэндвичпанель, керамогранитный плитка. инженерный оборудование – водопровод – стальной водо газопроводный оцинковывать труба. инженерный оборудование оцинковывать труба год достигать износ ведомственный строительный норма, внутренний канализация чугунный год износ. срок служба здание сэндвичпанель составлять год здание металлоконструкция сэндвичпанель, изза воздействие среда повышенный влажность срок служба снижаться год срок служба здание агрессивный среда год долговечность конструкция условие агрессивный среда, физический износ слоистый конструкция срок служба год кровля год достигать износ система внутренний электрооборудование – износ система внутренний отопление радиатор чугунный – таблица износ отдельный участок здание участок материал удельный вес степень общий стоимость износ, здание стена, наружный сэндвичпанель отделка перекрытие, бетонный фундамент, чаша бассейн кровля слоистый конструкция, чаша бассейн бетонный внутренний линолеум, отделка керамический плитка, пластиковый панель отопление, чугунный, водоснабжение, оцинковывать электричество конструкция итого, степень износ здание составлять: ,, размер обесценение от руб. составлять млн. руб. стоимость здание учет износ – руб. добавлять индекс рост цена учет ежегодный инфляция прогноз инфляция, цена недвижимость район нестабильный, повышаться, падать. цена продажа аренда квартира, пермь, рейтинг район пермь, поэтому рост цена недвижимость закладывать быть. итого, стоимость объект учет обесценение учет индекс рост цена составлять: руб. стоимость земля учет индекс рост цена учет улучшение подведение инфраструктура, тыс. руб., составлять млн. тыс., руб. оборудование бассейн составлять порядок тыс. руб. износ стоимость обесценение составлять тыс. руб. горка «минитобоган» диаметр виток метр, желоб мм, обходиться евро, курс евро март год руб. срок служба год аквапарк,. износ стоимость обесценение составлять тыс. руб. оборудование санузел минисауна тыс. руб. – износ, стоимость обесценение тыс. руб. оборудование фитнес – велотренажер, руб. – износ, новый стоимость тыс. руб. стоимость система кондиционирование млн. руб. срок служба система кондиционирование год срок служба кондиционер, – износ год, новый стоимость итого, стоимость оборудование учет обесценение составлять: тыс. руб. стоимость уценка первоначальный стоимость оборудование составлять подсчитывать стоимость основной средство предприятие конец проектный период. стоимость основный оборудование – руб., стоимость земля руб., стоимость здание руб. общий стоимость основной средство обесценивание терминальный стоимость проект составлять руб. .. оценка эффективность проект исходить получать данные бдр бддссм. приложение ,. ежегодно, начинать первый год реализация, проект генерировать положительный чистый прибыль. итог бдр видно, год проект выходить окупаемость. подсчитывать npv, pb, irr убеждаться прибыльность проект. npv проект ноль руб. это говорить то, проект приносить прибыль инвестор. irr составлять величина irr проект стоимость капитал компания wacc, проект следовать принимать. данный случай irr превышать wacc дисконтированный период окупаемость dpp год, проект начинать окупаться год погашение кредит. pi индекс отдача проект равный ноль. pi — это относительный прибыльность будущий предприятие, также дисконтировать стоимость финансовый поступление расчет единица вложение. значение pi ноль проект эффективный. показатель эффективность проект говорить то, реализовать приносить прибыль инвестор. .. оценка риск метод анализ чувствительность оценка риск проект метод анализ чувствительность см. приложение рис. говорить то, взять мы качество контрольный показатель npv наиболее чувствительный изменение такой параметр, инвестиционный затрата поступление индивидуальный занятие. гораздо меньший степень эффективность проект зависеть посещаемость групповой занятие. [pic] рис.. чувствительность npv инвестиционный проект изменение входной параметр, руб.,. составлять приложение так, снижение выручка групповой занятие npv становиться близкий ноль, «в минус» уходить. время, снижение поступление индивидуальный занятие npv становиться отрицательный. показатель также уходить «в минус» возрастание инвестиционный затрата падение продажа индивидуальный занятие npv достигать – млн руб., рост инвестиционный затрата показатель снижаться млн руб. это, npv реагировать изменение такой статья расход, постоянный переменный затрата. вывод: изменение коньюнктура рынок, появление другой игрок, который отнимать часть рынок, либо снижение стоимость индивидуальный занятие, повлечь себя изменение выручка индивидуальный занятие ,, проект становиться неэффективный. касаться инвестиционный затрата, рост должный превышать заключение рамка данный работа мы поставлять ряд задача: проанализировать теоретический база инвестиционный моделирование, оценивать опыт конкурент, создавать бизнесмодель, рассчитать первоначальный затрата проект, составлять бюджет доход расход, бюджет движение денежный средство оценивать эффективность инвестиционный проект строительство аквацентр. поставлять мы цель задача достигать. описывать принцип организация предприятие перечень предоставлять услуга, проанализировать рынок опыт конкурент, стратегия ценовой политика, географический положение. основа опыт конкурент сделать вывод оптимальный ценовый политика, расположение комплекс услуга, который иметь смысл предлагать клиент аквацентр. сделать вывод то, хороший решение спальный район город пермь строительство аквацентр два бассейн элемент аквапарк. проект предполагать многомиллиардный вложение как полноценный аквапарк, удовлетворять потребность житель бассейн водный развлечение. построить бизнесмодель аквацентр остервальдера. принимать решение расположение аквацентр микрорайон гайв, существовать дефицит аквауслуга, высокий плотность население, благодаря что обеспечивать хороший поток клиент. качество площадка, который располагать аквацентр, выбирать земельный участок поселок гайв близ популярный торговый центр «кит». такой расположение обеспечивать высокий пропускной способность. далее оценивать первоначальный вложение, рассчитать бюджет доход расход, бюджет движение денежный средство, построить график финансирование. рассчитать показатель эффективность проект, который подтверждать финансовый реализуемость: проект аквацентр «лагуна» первый год реализация генерировать положительный чистый прибыль, год достигать дисконтировать окупаемость. irr проект превышать средневзвешенный стоимость капитал wacc, говорить эффективность проект. чистый приводить стоимость проект положительный, говорить то, проект приносить прибыль инвестор. индекс отдача проект положительный, также говорить эффективность. прогноз выручка давать основание предполагать, окончание срок кредитование «лагуна» занимать рынок бассейн гайва. время, анализ риск проект метод чувствительность говорить тот, изменение конъюнктура рынок, появление другой игрок, который отнимать часть рынок, либо снижение стоимость индивидуальный занятие, повлечь себя уменьшение выручка индивидуальный занятие ,, проект становиться неэффективный. рост инвестиционный затрата должный превышать иной случай проект также оказываться неэффективный. целое, проект эффективный финансовый реализовывать. список использовать источник аквапарк, url: http:www.swpool.ruakvaparkiдата обращение ... барамия н., основной метод определение ставка дисконтирование оценка стоимость бизнесамолодой ученый, №, с.. бассейн плавательный пермь, url: www.yell.rupermtopbasseynyplavatelnyeдата обращение ... бланк с., дорф б. «стартап: настольный книга основатель». м.: альпина паблишер, бм спортивный комплекс, url: http:www.basseinbm.ru дата обращение ... ведомственный строительный норма, url: http:www.ocenchik.rudocs.html дата обращение ... долговечность конструкция условие агрессивный среда, url: http:www.remontlib.rudolgovechnostkonstruktsiyvusloviyah agressivnoytehnologicheskoysredy.htmlдата обращение ... домофонд, url: http: www.domofond.rudomnaprodazhuperm дата обращение ... еврострой инжиниринг, url: https:www.eurostroy.ruarticles ekspluataczionnyierasxodyiposistemevodopodgotovkibassejnaдата обращение ... здание металлоконструкция сэндвичпанель, url: http:www.sendvichpaneli.rulikbezzdaniyaizmetallokonstruktsij isendvichpanelejдата обращение ... аквапарк детский шаг, url: www.newsko.ruarticlesnk .htmlдата обращение ... карта спорт, url: http:perm.kartasporta.rumestabasseyn дата обращение ... ким к., «идентификация анализ инвестиционный риск». журнал «оценка инвестиция» № курорт устькачка, url: http:ustkachka.amaks kurort.ru?utm_sourcegautm_mediumcpcutm_campaignpoiskutm_content brendutm_termbаквацентр дата обращение ... маурья эш, «бережливый стартап». url: http:klex.ru дата обращение ... миф вокруг тариф, url: https:www.newsko.ruarticlesnk .html. дата обращение ... модель оценка долгосрочный акив, url: http:berg.com.uafundamcapm дата обращение ... население поселок гайв, url: http:ru.calameo.combooksbaabeb дата обращение .. недвижимость perm, url: https:perm.mian.rupropertyprodazha uchastkapisarevadomaдата обращение ... оборудование бассейн,. url: https:amaster.ruzatratyna soderzhanieiobsluzhivaniebasseynov.htmlдата обращение ... остервальдера а., пинье и. «business model generation: a handbook for visionaries, game changers, and challengers», пзсп сдавать бассейн пролетарка, url: https:www.kommersant.rudocдата обращение ... плавательный бассейн спорткомплекс бассейн, url:https:www.sportreestr.rucontentorder_projectsection.php?sectio пдатый обращение ... плавательный бассейн кама,. url: http:skkama.ru дата обращение ... показатель эффективность инвестиция, url: http:www.nostgroup.rubiznesplanpokazatelieffektivnosti investicy дата обращение ... прогноз инфляция,. url: https:apecon.ruprognozinflyatsiina godyvrossii дата обращение ... район сегодня, url: http:www.gorodperm.rustructuremainadmin_citydistrictordjonikidto day_ordjonikidze дата обращение ... гайв, микрорайон,, url: http:enc.permculture.rushowobject.do?object дата обращение .. расчет затрата отопление помещение,. url: http:exd.rucortemqfmruc_b.htmlдата обращение ... расчетный период шаг расчет, url: https:studme.orginvestirovanieraschetnyy_period_shagi_raschet a дата обращение ... рейтинг район пермь,. url:https:metrosphera.rupresspublicationsreyting_rayonov_permi_ryn ok_zhilya дата обращение ... савчук в.п. «оценка эффективность инвестиционный проект», url: http:www.cfin.rufinanalysissavchuk.shtml дата обращение ... самый большой аквапарк россия, url: https:www.lifejourney.clubkudapoehatparkirazvlecheniy rossiyasamyebolshieakvaparkirussia.htmlдата обращение ... свой бизнес, url: https:www.openbusiness.ruhtmldopakvapark.htmдата обращение ... спорткомплекс, url: https:olympiaperm.ru дата обращение ... система вентиляция кондиционирование,. url: http:www.ventmax.ru solutionsдата обращение ... спортивнооздоровительный комплекс санаторийпрофилакторий »сосновый бор», url: http:sokperm.ruдата обращение ... срок служба кондиционер, url: http:kvent.rustatisrok sluzhbykondicionera.htmlдата обращение ... строительный совет, url: www.stroitelstvosovety.ruдата обращение ... строительство бассейн закамск, url:https:perm.rbc.rupermfreenewsbddabfcbe дата обращение ... строительство бассейн, url: http:www.aqualand.orgcntntstroitelstvo_bassejnovstroitelstvo_basse jnov_ceny.htm дата обращение ... финансовый анализ, url: http:fin.ru?idtдата обращение ... финансы мсфо, теория практика, url: http:msfo dipifr.ruvnutrennyayanormadoxodnostiformularaschetairr investicionnogoproektaдаа обращение ... цена продажа аренда квартира, пермь, url: https:www.domofond.rutsenynanedvizhimostpermskiy_ krayperm сдатый обращение ... чистый текущий стоимость, url: http:investment analysis.rumetodianetpresentvalue.html дата обращение ... эксперт: рынок бассейн расти url: https:www.rbc.rusocietycdaddeebдата обращение ... приложение таблица бюджет доход расход год статья год год год выручка посещение индив. количество посещение цена выручка групповой занятие количество посещение цена количество посещение группа зал группа зал выручка корпоратив выручка итого: переменный затрата зпл. сдельный сотрудник электроэнергия, тепло,обработка вода бахила, стаканчик, канцтовары прачечная постоянный затрата ,,, зпл сотрудник оклад амортизация ,,, управленческий расход расход маркетинг регистрация юрлица амортизация здание срок использование,,, год амортизация оборудование основной ср.и. л. амортизация оборудование срок служба год процент кредит ,, ebt ,,, налог eat ,,, приложение таблица бюджет доход расход год. статья год год год год cfo ,,, поступление бассейн горка инд. поступление груп. занятие прочий мепроприятие переменный затрата постоянный затрата ,,, фот только страховой выплата страховой выплата налог cfi оборудование основной оборудование офисный здание строительство затрата инфраструктура получение лицензия приобретение земля проектносметный документация терминальный стоимость cff взнос собственник получение кредит погашение кредит баланс наличность приложение таблица бюджет движение денежный средство год статья cfo поступление бассейн инд. поступление групповой заняий прочий мероприятие переменный затрата постоянный затрата фот страховой выплата налог терминальный стоимость cff получение кредит погашение кредит баланс наличность приложение расчет выплата кредит расчет кредит для расчет процент процент выплата выплата тело долг остаток тело долг приложение анализ риск метод чувствительность поступление индивидуальный занятие поступление групповой занятие прочий мероприятие переменный затрата постоянный затрата инвестиционный затрата'"
            ]
          },
          "metadata": {
            "tags": []
          },
          "execution_count": 14
        }
      ]
    },
    {
      "cell_type": "code",
      "metadata": {
        "colab": {
          "base_uri": "https://localhost:8080/"
        },
        "id": "a_RVVp_3XqjK",
        "outputId": "89c25250-4f89-468c-b764-57004eeb4bae"
      },
      "source": [
        "modelSum = Summarizer(custom_model=custom_model, custom_tokenizer=custom_tokenizer)\n",
        "result = modelSum(text, min_length=20, max_length=100)\n",
        "summary = \"\".join(result)\n",
        "print(len(summary), summary)"
      ],
      "execution_count": 18,
      "outputs": [
        {
          "output_type": "stream",
          "text": [
            "4165 irr проект превышать средневзвешенный стоимость капитал wacc, это говорить эффективность проект. целое, проект являться эффективный финансовый реализовать. оценка эффективность проект…………………………...……. .. оценка риск метод анализ чувствительность ……….… цель работа являться оценка эффективность инвестиционный проект. приложение вынести расчетный таблица. следующий блок, который предлагать рассматривать остервальдера «основной направление деятельность». длительность шаг расчет измеряться год доля год. необходимо, шаг соответствовать продолжительность важный фаза жизненный цикл проект. срок окупаемость — показатель индивидуальный. pi profitability index индекс отдача инвестиция. метод дельфи – метод сбор информация, использовать достижение консенсус эксперт какомулибо вопрос. получать, число, экспертный оценка. часть становиться постоянный клиент, это гарантировать успех. здание санузел, два душевой мужской женский два минисауна, два комната переодевание. также комната персонал, кафе комната групповой фитнес. здание построить новый. финансирование быть использовать кредитный средство собственный средство инвестор. установка чаша бассейн, отделочный работа получение разрешение наянварь г. январь общий численность население орджоникидзевский район составлять тыс. юридический лицо тыс. россия статистика нет. модель инвестпроект остервальдера. быстро строить, быстро окупаться. быть использовать другой канал сбыт: сайт компания, продажа абонемент школа детсад. помогать клиент оценивать ценностный предложение наш компания? какой поток поступление доход быть наш проект? чистый прибыль период – млн рубль чистый актив млн. выручка продажа год млн. персонал предприятие чело, уставной капитал млн. персонал человек, выручка продажа год млн. чистый убыток год млн. курорт устькачка, сам курорт «устькачка» известно, выручка продажа год составлять млн. выручка продажа млрд. несколько бассейн подогревать вода, сауна, шезлонг, кафе. пермь учет допущение составлять млн. тип рынок – монополистический конкуренция. школьный бассейн школа № ул. генерал при банный кательный доватор, комплекс день комплекс человек «австерий» акваклуб ул. ведущий игрок рынок находиться далеко. финансовый барьер вход – млн. тип объект – земля поселение. строительство бассейн закамск, проведение конкурсный процедура начинаться строительство здание. наружный отделка – сэндвичпанель, керамогранитный плитка, композитный панель. здание одноэтажный цокольный этаж. проект оцениваться млн. горка «минитобоган» диаметр виток метр, желоб мм, обходиться евро, курс евро март год руб. пересчет наш площадь м.кв. такой образ, общий затрата основной оборудование составлять руб., прогнозировать объем продажа, исходить то, согласно норматив, наш бассейн мочь час принимать чело. pic] рис.. поступление индивидуальный посещение, также групповой прочий мероприятие, руб. переходить затрата электроэнергия. плюс оплата освещение отопление сам здание площадь кв. администратор оклад тыс. инструктор групповой занятие руб. вместе затрата сдельный сотрудник год. аренда автомобиль тыс. месяц бухгалтерский юридический услуга приходить сотрудник договор, итого руб. общехозяйственный расход бахила, стаканчик, закладывать бахила стаканчик день оптовый цена – руб. страховой выплата составлять фонд оплата труд. подсчитывать п.., ориентировочный общий объем рынок услуга бассейн г. минимум ориентировочный объем продажа пермский рынок составлять порядок млн руб. это, рынок микрорайон занимать аквацентр «лагуна». .. предоставлять год годовой. иной слово, ставка дисконтирование составлять годовой. .. износ стоимость обесценение составлять тыс. оборудование фитнес – велотренажер, руб. – стоимость здание руб. irr составлять величина irr проект стоимость капитал компания wacc, проект следовать принимать. гораздо меньший степень эффективность проект зависеть посещаемость групповой занятие. [ поставлять мы цель задача достигать. чистый приводить стоимость проект положительный, говорить то, проект приносить прибыль инвестор. индекс отдача проект положительный, также говорить эффективность. url: http:klex.ru дата обращение ... миф вокруг тариф, url: https:www.newsko.ruarticlesnk .html.\n"
          ],
          "name": "stdout"
        }
      ]
    },
    {
      "cell_type": "code",
      "metadata": {
        "id": "yi9uALgWwtRV",
        "colab": {
          "base_uri": "https://localhost:8080/"
        },
        "outputId": "eacb6f2d-8229-45b0-8613-bde2b3236982"
      },
      "source": [
        "%%time\r\n",
        "modelSum = Summarizer(custom_model=custom_model, custom_tokenizer=custom_tokenizer)\r\n",
        "for row in tqdm(range(vkrText.shape[0])):\r\n",
        "    if type(vkrText.loc[row, 'fullText'])==str:\r\n",
        "        #print(row, vkrText.loc[row, 'fullText'])\r\n",
        "        text = clearTextAfterGarbage(vkrText.loc[row, 'fullText'])\r\n",
        "        result = modelSum(text, min_length=20, max_length=100)\r\n",
        "        summary = \"\".join(result)\r\n",
        "        vkrText.loc[row, 'shortText'] = summary"
      ],
      "execution_count": 19,
      "outputs": [
        {
          "output_type": "stream",
          "text": [
            "100%|██████████| 1708/1708 [4:13:35<00:00,  8.91s/it]"
          ],
          "name": "stderr"
        },
        {
          "output_type": "stream",
          "text": [
            "CPU times: user 4h 1min 43s, sys: 16min 41s, total: 4h 18min 24s\n",
            "Wall time: 4h 13min 35s\n"
          ],
          "name": "stdout"
        },
        {
          "output_type": "stream",
          "text": [
            "\n"
          ],
          "name": "stderr"
        }
      ]
    },
    {
      "cell_type": "code",
      "metadata": {
        "id": "8dHm9ao0I60F",
        "colab": {
          "base_uri": "https://localhost:8080/"
        },
        "outputId": "1dd82ed5-48ec-4864-b5db-f2180fccdf9f"
      },
      "source": [
        "vkrText['shortText'].nunique()"
      ],
      "execution_count": 21,
      "outputs": [
        {
          "output_type": "execute_result",
          "data": {
            "text/plain": [
              "481"
            ]
          },
          "metadata": {
            "tags": []
          },
          "execution_count": 21
        }
      ]
    },
    {
      "cell_type": "code",
      "metadata": {
        "id": "40GU5B6HsGqf",
        "colab": {
          "base_uri": "https://localhost:8080/",
          "height": 397
        },
        "outputId": "21f06785-c436-4544-db32-c715c8f5641c"
      },
      "source": [
        "vkrText.head()"
      ],
      "execution_count": 22,
      "outputs": [
        {
          "output_type": "execute_result",
          "data": {
            "text/html": [
              "<div>\n",
              "<style scoped>\n",
              "    .dataframe tbody tr th:only-of-type {\n",
              "        vertical-align: middle;\n",
              "    }\n",
              "\n",
              "    .dataframe tbody tr th {\n",
              "        vertical-align: top;\n",
              "    }\n",
              "\n",
              "    .dataframe thead th {\n",
              "        text-align: right;\n",
              "    }\n",
              "</style>\n",
              "<table border=\"1\" class=\"dataframe\">\n",
              "  <thead>\n",
              "    <tr style=\"text-align: right;\">\n",
              "      <th></th>\n",
              "      <th>Unnamed: 0</th>\n",
              "      <th>Unnamed: 0.1</th>\n",
              "      <th>link_vkr</th>\n",
              "      <th>name_vkr</th>\n",
              "      <th>name_student</th>\n",
              "      <th>name_prof</th>\n",
              "      <th>campus</th>\n",
              "      <th>programm</th>\n",
              "      <th>grade</th>\n",
              "      <th>year</th>\n",
              "      <th>link_file</th>\n",
              "      <th>fullText</th>\n",
              "      <th>shortText</th>\n",
              "    </tr>\n",
              "  </thead>\n",
              "  <tbody>\n",
              "    <tr>\n",
              "      <th>0</th>\n",
              "      <td>0</td>\n",
              "      <td>0</td>\n",
              "      <td>https://www.hse.ru/edu/vkr/219524501</td>\n",
              "      <td>Оценка стоимости компании</td>\n",
              "      <td>Дроздова Ирина Валерьевна</td>\n",
              "      <td>Абашева Александра Сергеевна</td>\n",
              "      <td>Вечерне-заочный факультет экономики и управле...</td>\n",
              "      <td>Экономика (в) (Бакалавриат)</td>\n",
              "      <td>-1</td>\n",
              "      <td>2018</td>\n",
              "      <td>NaN</td>\n",
              "      <td>NaN</td>\n",
              "      <td>NaN</td>\n",
              "    </tr>\n",
              "    <tr>\n",
              "      <th>1</th>\n",
              "      <td>1</td>\n",
              "      <td>1</td>\n",
              "      <td>https://www.hse.ru/edu/vkr/219524122</td>\n",
              "      <td>Оценка эффективности инвестиционного проекта</td>\n",
              "      <td>Стерледева Наталья Владимировна</td>\n",
              "      <td>Абашева Александра Сергеевна</td>\n",
              "      <td>Вечерне-заочный факультет экономики и управле...</td>\n",
              "      <td>Экономика (в) (Бакалавриат)</td>\n",
              "      <td>7</td>\n",
              "      <td>2018</td>\n",
              "      <td>http://lms.hse.ru/ap_service.php?getwork=1&amp;gui...</td>\n",
              "      <td>\\n ПЕРМСКИЙ ФИЛИАЛ ФЕДЕРАЛЬНОГО  ГОСУДАРСТВЕНН...</td>\n",
              "      <td>irr проект превышать средневзвешенный стоимост...</td>\n",
              "    </tr>\n",
              "    <tr>\n",
              "      <th>2</th>\n",
              "      <td>2</td>\n",
              "      <td>2</td>\n",
              "      <td>https://www.hse.ru/edu/vkr/153009903</td>\n",
              "      <td>Разработка системы управления знаниями в орган...</td>\n",
              "      <td>Беленова Анастасия Александровна</td>\n",
              "      <td>Аленина Карина Анатольевна</td>\n",
              "      <td>Факультет менеджмента (Пермь)</td>\n",
              "      <td>Менеджмент (Бакалавриат)</td>\n",
              "      <td>-1</td>\n",
              "      <td>2015</td>\n",
              "      <td>NaN</td>\n",
              "      <td>NaN</td>\n",
              "      <td>NaN</td>\n",
              "    </tr>\n",
              "    <tr>\n",
              "      <th>3</th>\n",
              "      <td>3</td>\n",
              "      <td>3</td>\n",
              "      <td>https://www.hse.ru/edu/vkr/153009689</td>\n",
              "      <td>Брендинг инновационного продукта</td>\n",
              "      <td>Воронков Кирилл Евгеньевич</td>\n",
              "      <td>Аленина Карина Анатольевна</td>\n",
              "      <td>Факультет менеджмента (Пермь)</td>\n",
              "      <td>Менеджмент (Бакалавриат)</td>\n",
              "      <td>-1</td>\n",
              "      <td>2015</td>\n",
              "      <td>NaN</td>\n",
              "      <td>NaN</td>\n",
              "      <td>NaN</td>\n",
              "    </tr>\n",
              "    <tr>\n",
              "      <th>4</th>\n",
              "      <td>4</td>\n",
              "      <td>4</td>\n",
              "      <td>https://www.hse.ru/edu/vkr/153009541</td>\n",
              "      <td>Стратегия инновационного развития бизнеса в ин...</td>\n",
              "      <td>Бадягина Мария Германовна</td>\n",
              "      <td>Аленина Карина Анатольевна</td>\n",
              "      <td>Факультет менеджмента (Пермь)</td>\n",
              "      <td>Менеджмент (Бакалавриат)</td>\n",
              "      <td>-1</td>\n",
              "      <td>2015</td>\n",
              "      <td>NaN</td>\n",
              "      <td>NaN</td>\n",
              "      <td>NaN</td>\n",
              "    </tr>\n",
              "  </tbody>\n",
              "</table>\n",
              "</div>"
            ],
            "text/plain": [
              "   Unnamed: 0  ...                                          shortText\n",
              "0           0  ...                                                NaN\n",
              "1           1  ...  irr проект превышать средневзвешенный стоимост...\n",
              "2           2  ...                                                NaN\n",
              "3           3  ...                                                NaN\n",
              "4           4  ...                                                NaN\n",
              "\n",
              "[5 rows x 13 columns]"
            ]
          },
          "metadata": {
            "tags": []
          },
          "execution_count": 22
        }
      ]
    },
    {
      "cell_type": "code",
      "metadata": {
        "id": "mEKl-oZUGACO"
      },
      "source": [
        "vkrText.drop(['Unnamed: 0','Unnamed: 0.1','fullText'], axis=1, inplace=True)"
      ],
      "execution_count": 26,
      "outputs": []
    },
    {
      "cell_type": "code",
      "metadata": {
        "id": "qqpOty7QGKtD"
      },
      "source": [
        "vkrText.to_csv('vkrTextShort.csv')"
      ],
      "execution_count": 27,
      "outputs": []
    },
    {
      "cell_type": "code",
      "metadata": {
        "id": "_8dbGg7ZGU0y"
      },
      "source": [
        ""
      ],
      "execution_count": null,
      "outputs": []
    }
  ]
}