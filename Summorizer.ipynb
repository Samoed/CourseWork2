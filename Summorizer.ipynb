{
  "nbformat": 4,
  "nbformat_minor": 0,
  "metadata": {
    "colab": {
      "name": "Summorizer.ipynb",
      "provenance": [],
      "authorship_tag": "ABX9TyNm2vmKG8oNl9u8WygZzUUj",
      "include_colab_link": true
    },
    "kernelspec": {
      "display_name": "Python 3",
      "name": "python3"
    },
    "accelerator": "GPU"
  },
  "cells": [
    {
      "cell_type": "markdown",
      "metadata": {
        "id": "view-in-github",
        "colab_type": "text"
      },
      "source": [
        "<a href=\"https://colab.research.google.com/github/Samoed/CourseWork2/blob/main/Summorizer.ipynb\" target=\"_parent\"><img src=\"https://colab.research.google.com/assets/colab-badge.svg\" alt=\"Open In Colab\"/></a>"
      ]
    },
    {
      "cell_type": "code",
      "metadata": {
        "colab": {
          "base_uri": "https://localhost:8080/"
        },
        "id": "egvHm65UW-Qy",
        "outputId": "e506b4af-4447-442a-ac3a-0a6e761dbf81"
      },
      "source": [
        "!pip install -U bert-extractive-summarizer\n",
        "!pip install -U transformers"
      ],
      "execution_count": 1,
      "outputs": [
        {
          "output_type": "stream",
          "text": [
            "Collecting bert-extractive-summarizer\n",
            "  Downloading https://files.pythonhosted.org/packages/1a/07/fdb05f9e18b6f641499ef56737126fbd2fafe1cdc1a04ba069d5aa205901/bert_extractive_summarizer-0.7.1-py3-none-any.whl\n",
            "Requirement already satisfied, skipping upgrade: scikit-learn in /usr/local/lib/python3.7/dist-packages (from bert-extractive-summarizer) (0.22.2.post1)\n",
            "Collecting transformers\n",
            "\u001b[?25l  Downloading https://files.pythonhosted.org/packages/f9/54/5ca07ec9569d2f232f3166de5457b63943882f7950ddfcc887732fc7fb23/transformers-4.3.3-py3-none-any.whl (1.9MB)\n",
            "\u001b[K     |████████████████████████████████| 1.9MB 32.9MB/s \n",
            "\u001b[?25hRequirement already satisfied, skipping upgrade: spacy in /usr/local/lib/python3.7/dist-packages (from bert-extractive-summarizer) (2.2.4)\n",
            "Requirement already satisfied, skipping upgrade: scipy>=0.17.0 in /usr/local/lib/python3.7/dist-packages (from scikit-learn->bert-extractive-summarizer) (1.4.1)\n",
            "Requirement already satisfied, skipping upgrade: numpy>=1.11.0 in /usr/local/lib/python3.7/dist-packages (from scikit-learn->bert-extractive-summarizer) (1.19.5)\n",
            "Requirement already satisfied, skipping upgrade: joblib>=0.11 in /usr/local/lib/python3.7/dist-packages (from scikit-learn->bert-extractive-summarizer) (1.0.1)\n",
            "Collecting tokenizers<0.11,>=0.10.1\n",
            "\u001b[?25l  Downloading https://files.pythonhosted.org/packages/71/23/2ddc317b2121117bf34dd00f5b0de194158f2a44ee2bf5e47c7166878a97/tokenizers-0.10.1-cp37-cp37m-manylinux2010_x86_64.whl (3.2MB)\n",
            "\u001b[K     |████████████████████████████████| 3.2MB 45.4MB/s \n",
            "\u001b[?25hRequirement already satisfied, skipping upgrade: filelock in /usr/local/lib/python3.7/dist-packages (from transformers->bert-extractive-summarizer) (3.0.12)\n",
            "Collecting sacremoses\n",
            "\u001b[?25l  Downloading https://files.pythonhosted.org/packages/7d/34/09d19aff26edcc8eb2a01bed8e98f13a1537005d31e95233fd48216eed10/sacremoses-0.0.43.tar.gz (883kB)\n",
            "\u001b[K     |████████████████████████████████| 890kB 48.1MB/s \n",
            "\u001b[?25hRequirement already satisfied, skipping upgrade: regex!=2019.12.17 in /usr/local/lib/python3.7/dist-packages (from transformers->bert-extractive-summarizer) (2019.12.20)\n",
            "Requirement already satisfied, skipping upgrade: tqdm>=4.27 in /usr/local/lib/python3.7/dist-packages (from transformers->bert-extractive-summarizer) (4.41.1)\n",
            "Requirement already satisfied, skipping upgrade: importlib-metadata; python_version < \"3.8\" in /usr/local/lib/python3.7/dist-packages (from transformers->bert-extractive-summarizer) (3.7.0)\n",
            "Requirement already satisfied, skipping upgrade: requests in /usr/local/lib/python3.7/dist-packages (from transformers->bert-extractive-summarizer) (2.23.0)\n",
            "Requirement already satisfied, skipping upgrade: packaging in /usr/local/lib/python3.7/dist-packages (from transformers->bert-extractive-summarizer) (20.9)\n",
            "Requirement already satisfied, skipping upgrade: wasabi<1.1.0,>=0.4.0 in /usr/local/lib/python3.7/dist-packages (from spacy->bert-extractive-summarizer) (0.8.2)\n",
            "Requirement already satisfied, skipping upgrade: setuptools in /usr/local/lib/python3.7/dist-packages (from spacy->bert-extractive-summarizer) (54.0.0)\n",
            "Requirement already satisfied, skipping upgrade: murmurhash<1.1.0,>=0.28.0 in /usr/local/lib/python3.7/dist-packages (from spacy->bert-extractive-summarizer) (1.0.5)\n",
            "Requirement already satisfied, skipping upgrade: plac<1.2.0,>=0.9.6 in /usr/local/lib/python3.7/dist-packages (from spacy->bert-extractive-summarizer) (1.1.3)\n",
            "Requirement already satisfied, skipping upgrade: cymem<2.1.0,>=2.0.2 in /usr/local/lib/python3.7/dist-packages (from spacy->bert-extractive-summarizer) (2.0.5)\n",
            "Requirement already satisfied, skipping upgrade: thinc==7.4.0 in /usr/local/lib/python3.7/dist-packages (from spacy->bert-extractive-summarizer) (7.4.0)\n",
            "Requirement already satisfied, skipping upgrade: catalogue<1.1.0,>=0.0.7 in /usr/local/lib/python3.7/dist-packages (from spacy->bert-extractive-summarizer) (1.0.0)\n",
            "Requirement already satisfied, skipping upgrade: srsly<1.1.0,>=1.0.2 in /usr/local/lib/python3.7/dist-packages (from spacy->bert-extractive-summarizer) (1.0.5)\n",
            "Requirement already satisfied, skipping upgrade: blis<0.5.0,>=0.4.0 in /usr/local/lib/python3.7/dist-packages (from spacy->bert-extractive-summarizer) (0.4.1)\n",
            "Requirement already satisfied, skipping upgrade: preshed<3.1.0,>=3.0.2 in /usr/local/lib/python3.7/dist-packages (from spacy->bert-extractive-summarizer) (3.0.5)\n",
            "Requirement already satisfied, skipping upgrade: six in /usr/local/lib/python3.7/dist-packages (from sacremoses->transformers->bert-extractive-summarizer) (1.15.0)\n",
            "Requirement already satisfied, skipping upgrade: click in /usr/local/lib/python3.7/dist-packages (from sacremoses->transformers->bert-extractive-summarizer) (7.1.2)\n",
            "Requirement already satisfied, skipping upgrade: zipp>=0.5 in /usr/local/lib/python3.7/dist-packages (from importlib-metadata; python_version < \"3.8\"->transformers->bert-extractive-summarizer) (3.4.1)\n",
            "Requirement already satisfied, skipping upgrade: typing-extensions>=3.6.4; python_version < \"3.8\" in /usr/local/lib/python3.7/dist-packages (from importlib-metadata; python_version < \"3.8\"->transformers->bert-extractive-summarizer) (3.7.4.3)\n",
            "Requirement already satisfied, skipping upgrade: urllib3!=1.25.0,!=1.25.1,<1.26,>=1.21.1 in /usr/local/lib/python3.7/dist-packages (from requests->transformers->bert-extractive-summarizer) (1.24.3)\n",
            "Requirement already satisfied, skipping upgrade: chardet<4,>=3.0.2 in /usr/local/lib/python3.7/dist-packages (from requests->transformers->bert-extractive-summarizer) (3.0.4)\n",
            "Requirement already satisfied, skipping upgrade: certifi>=2017.4.17 in /usr/local/lib/python3.7/dist-packages (from requests->transformers->bert-extractive-summarizer) (2020.12.5)\n",
            "Requirement already satisfied, skipping upgrade: idna<3,>=2.5 in /usr/local/lib/python3.7/dist-packages (from requests->transformers->bert-extractive-summarizer) (2.10)\n",
            "Requirement already satisfied, skipping upgrade: pyparsing>=2.0.2 in /usr/local/lib/python3.7/dist-packages (from packaging->transformers->bert-extractive-summarizer) (2.4.7)\n",
            "Building wheels for collected packages: sacremoses\n",
            "  Building wheel for sacremoses (setup.py) ... \u001b[?25l\u001b[?25hdone\n",
            "  Created wheel for sacremoses: filename=sacremoses-0.0.43-cp37-none-any.whl size=893262 sha256=7b938be79e5a9f89c6650998c702c0a96c4ec82531362e41f31129635e053a0d\n",
            "  Stored in directory: /root/.cache/pip/wheels/29/3c/fd/7ce5c3f0666dab31a50123635e6fb5e19ceb42ce38d4e58f45\n",
            "Successfully built sacremoses\n",
            "Installing collected packages: tokenizers, sacremoses, transformers, bert-extractive-summarizer\n",
            "Successfully installed bert-extractive-summarizer-0.7.1 sacremoses-0.0.43 tokenizers-0.10.1 transformers-4.3.3\n",
            "Requirement already up-to-date: transformers in /usr/local/lib/python3.7/dist-packages (4.3.3)\n",
            "Requirement already satisfied, skipping upgrade: regex!=2019.12.17 in /usr/local/lib/python3.7/dist-packages (from transformers) (2019.12.20)\n",
            "Requirement already satisfied, skipping upgrade: tqdm>=4.27 in /usr/local/lib/python3.7/dist-packages (from transformers) (4.41.1)\n",
            "Requirement already satisfied, skipping upgrade: sacremoses in /usr/local/lib/python3.7/dist-packages (from transformers) (0.0.43)\n",
            "Requirement already satisfied, skipping upgrade: tokenizers<0.11,>=0.10.1 in /usr/local/lib/python3.7/dist-packages (from transformers) (0.10.1)\n",
            "Requirement already satisfied, skipping upgrade: importlib-metadata; python_version < \"3.8\" in /usr/local/lib/python3.7/dist-packages (from transformers) (3.7.0)\n",
            "Requirement already satisfied, skipping upgrade: numpy>=1.17 in /usr/local/lib/python3.7/dist-packages (from transformers) (1.19.5)\n",
            "Requirement already satisfied, skipping upgrade: requests in /usr/local/lib/python3.7/dist-packages (from transformers) (2.23.0)\n",
            "Requirement already satisfied, skipping upgrade: packaging in /usr/local/lib/python3.7/dist-packages (from transformers) (20.9)\n",
            "Requirement already satisfied, skipping upgrade: filelock in /usr/local/lib/python3.7/dist-packages (from transformers) (3.0.12)\n",
            "Requirement already satisfied, skipping upgrade: six in /usr/local/lib/python3.7/dist-packages (from sacremoses->transformers) (1.15.0)\n",
            "Requirement already satisfied, skipping upgrade: click in /usr/local/lib/python3.7/dist-packages (from sacremoses->transformers) (7.1.2)\n",
            "Requirement already satisfied, skipping upgrade: joblib in /usr/local/lib/python3.7/dist-packages (from sacremoses->transformers) (1.0.1)\n",
            "Requirement already satisfied, skipping upgrade: zipp>=0.5 in /usr/local/lib/python3.7/dist-packages (from importlib-metadata; python_version < \"3.8\"->transformers) (3.4.1)\n",
            "Requirement already satisfied, skipping upgrade: typing-extensions>=3.6.4; python_version < \"3.8\" in /usr/local/lib/python3.7/dist-packages (from importlib-metadata; python_version < \"3.8\"->transformers) (3.7.4.3)\n",
            "Requirement already satisfied, skipping upgrade: certifi>=2017.4.17 in /usr/local/lib/python3.7/dist-packages (from requests->transformers) (2020.12.5)\n",
            "Requirement already satisfied, skipping upgrade: idna<3,>=2.5 in /usr/local/lib/python3.7/dist-packages (from requests->transformers) (2.10)\n",
            "Requirement already satisfied, skipping upgrade: chardet<4,>=3.0.2 in /usr/local/lib/python3.7/dist-packages (from requests->transformers) (3.0.4)\n",
            "Requirement already satisfied, skipping upgrade: urllib3!=1.25.0,!=1.25.1,<1.26,>=1.21.1 in /usr/local/lib/python3.7/dist-packages (from requests->transformers) (1.24.3)\n",
            "Requirement already satisfied, skipping upgrade: pyparsing>=2.0.2 in /usr/local/lib/python3.7/dist-packages (from packaging->transformers) (2.4.7)\n"
          ],
          "name": "stdout"
        }
      ]
    },
    {
      "cell_type": "code",
      "metadata": {
        "colab": {
          "base_uri": "https://localhost:8080/"
        },
        "id": "jG3R42-DeWMB",
        "outputId": "df50f2c1-caa1-4100-dfab-f73e74648d4a"
      },
      "source": [
        "!wget http://download.cdn.yandex.net/mystem/mystem-3.0-linux3.1-64bit.tar.gz\n",
        "!tar -xvf mystem-3.0-linux3.1-64bit.tar.gz\n",
        "!cp mystem /root/.local/bin/mystem"
      ],
      "execution_count": 20,
      "outputs": [
        {
          "output_type": "stream",
          "text": [
            "--2021-03-14 05:07:09--  http://download.cdn.yandex.net/mystem/mystem-3.0-linux3.1-64bit.tar.gz\n",
            "Resolving download.cdn.yandex.net (download.cdn.yandex.net)... 5.45.205.245, 5.45.205.243, 5.45.205.242, ...\n",
            "Connecting to download.cdn.yandex.net (download.cdn.yandex.net)|5.45.205.245|:80... connected.\n",
            "HTTP request sent, awaiting response... 302 Found\n",
            "Location: http://cache-mskm910.cdn.yandex.net/download.cdn.yandex.net/mystem/mystem-3.0-linux3.1-64bit.tar.gz [following]\n",
            "--2021-03-14 05:07:09--  http://cache-mskm910.cdn.yandex.net/download.cdn.yandex.net/mystem/mystem-3.0-linux3.1-64bit.tar.gz\n",
            "Resolving cache-mskm910.cdn.yandex.net (cache-mskm910.cdn.yandex.net)... 5.45.220.20, 2a02:6b8:0:2002::1b\n",
            "Connecting to cache-mskm910.cdn.yandex.net (cache-mskm910.cdn.yandex.net)|5.45.220.20|:80... connected.\n",
            "HTTP request sent, awaiting response... 200 OK\n",
            "Length: 16457938 (16M) [application/octet-stream]\n",
            "Saving to: ‘mystem-3.0-linux3.1-64bit.tar.gz.1’\n",
            "\n",
            "mystem-3.0-linux3.1 100%[===================>]  15.70M  9.43MB/s    in 1.7s    \n",
            "\n",
            "2021-03-14 05:07:12 (9.43 MB/s) - ‘mystem-3.0-linux3.1-64bit.tar.gz.1’ saved [16457938/16457938]\n",
            "\n",
            "mystem\n"
          ],
          "name": "stdout"
        }
      ]
    },
    {
      "cell_type": "code",
      "metadata": {
        "colab": {
          "base_uri": "https://localhost:8080/"
        },
        "id": "3fbWr5dT_V2d",
        "outputId": "9cf33a14-c6a5-470d-dad4-dc78544916db"
      },
      "source": [
        "!wget https://raw.githubusercontent.com/Samoed/CourseWork2/main/data/people.csv?token=AITWEH7KE4SCWPI626GW46TAKTP36\n",
        "!wget https://raw.githubusercontent.com/Samoed/CourseWork2/main/data/vkr.csv?token=AITWEH7ZDAUWRJUVRBMMYLDAKTP7Q\n",
        "!wget https://raw.githubusercontent.com/Samoed/CourseWork2/main/data/vkrText.csv?token=AITWEH6BLDWIZWOY6OWA6T3AKTP7W"
      ],
      "execution_count": 3,
      "outputs": [
        {
          "output_type": "stream",
          "text": [
            "--2021-03-14 04:52:29--  https://raw.githubusercontent.com/Samoed/CourseWork2/main/data/people.csv?token=AITWEH7KE4SCWPI626GW46TAKTP36\n",
            "Resolving raw.githubusercontent.com (raw.githubusercontent.com)... 185.199.108.133, 185.199.109.133, 185.199.110.133, ...\n",
            "Connecting to raw.githubusercontent.com (raw.githubusercontent.com)|185.199.108.133|:443... connected.\n",
            "HTTP request sent, awaiting response... 200 OK\n",
            "Length: 30447 (30K) [text/plain]\n",
            "Saving to: ‘people.csv?token=AITWEH7KE4SCWPI626GW46TAKTP36’\n",
            "\n",
            "people.csv?token=AI 100%[===================>]  29.73K  --.-KB/s    in 0s      \n",
            "\n",
            "2021-03-14 04:52:29 (125 MB/s) - ‘people.csv?token=AITWEH7KE4SCWPI626GW46TAKTP36’ saved [30447/30447]\n",
            "\n",
            "--2021-03-14 04:52:29--  https://raw.githubusercontent.com/Samoed/CourseWork2/main/data/vkr.csv?token=AITWEH7ZDAUWRJUVRBMMYLDAKTP7Q\n",
            "Resolving raw.githubusercontent.com (raw.githubusercontent.com)... 185.199.111.133, 185.199.109.133, 185.199.110.133, ...\n",
            "Connecting to raw.githubusercontent.com (raw.githubusercontent.com)|185.199.111.133|:443... connected.\n",
            "HTTP request sent, awaiting response... 200 OK\n",
            "Length: 801586 (783K) [text/plain]\n",
            "Saving to: ‘vkr.csv?token=AITWEH7ZDAUWRJUVRBMMYLDAKTP7Q’\n",
            "\n",
            "vkr.csv?token=AITWE 100%[===================>] 782.80K  --.-KB/s    in 0.02s   \n",
            "\n",
            "2021-03-14 04:52:29 (40.8 MB/s) - ‘vkr.csv?token=AITWEH7ZDAUWRJUVRBMMYLDAKTP7Q’ saved [801586/801586]\n",
            "\n",
            "--2021-03-14 04:52:29--  https://raw.githubusercontent.com/Samoed/CourseWork2/main/data/vkrText.csv?token=AITWEH6BLDWIZWOY6OWA6T3AKTP7W\n",
            "Resolving raw.githubusercontent.com (raw.githubusercontent.com)... 185.199.108.133, 185.199.109.133, 185.199.110.133, ...\n",
            "Connecting to raw.githubusercontent.com (raw.githubusercontent.com)|185.199.108.133|:443... connected.\n",
            "HTTP request sent, awaiting response... 200 OK\n",
            "Length: 81699381 (78M) [text/plain]\n",
            "Saving to: ‘vkrText.csv?token=AITWEH6BLDWIZWOY6OWA6T3AKTP7W’\n",
            "\n",
            "vkrText.csv?token=A 100%[===================>]  77.91M   306MB/s    in 0.3s    \n",
            "\n",
            "2021-03-14 04:52:30 (306 MB/s) - ‘vkrText.csv?token=AITWEH6BLDWIZWOY6OWA6T3AKTP7W’ saved [81699381/81699381]\n",
            "\n"
          ],
          "name": "stdout"
        }
      ]
    },
    {
      "cell_type": "code",
      "metadata": {
        "colab": {
          "base_uri": "https://localhost:8080/"
        },
        "id": "PaR9lynvY6mA",
        "outputId": "28dd1e07-2882-4a48-8a33-ca24d980b8a3"
      },
      "source": [
        "import requests\n",
        "import pandas as pd\n",
        "from summarizer import Summarizer\n",
        "from transformers import BertTokenizer, BertModel, BertConfig\n",
        "from tqdm import tqdm\n",
        "\n",
        "import torch\n",
        "\n",
        "import nltk\n",
        "from nltk.corpus import stopwords\n",
        "from nltk.stem import PorterStemmer\n",
        "from nltk.stem.snowball import SnowballStemmer\n",
        "from nltk.tokenize import sent_tokenize, word_tokenize\n",
        "from collections import Counter\n",
        "import string\n",
        "\n",
        "from pymystem3 import Mystem\n",
        "import re\n",
        "import math\n",
        "\n",
        "nltk.download('stopwords')\n",
        "russian_stopwords = stopwords.words(\"russian\")\n",
        "russian_stopwords.append('рис')\n",
        "russian_stopwords.append('т.к.')\n",
        "russian_stopwords.append('пермь')\n",
        "russian_stopwords.append('аннотация')\n",
        "russian_stopwords.append('оглавление')\n",
        "russian_stopwords.append('год')"
      ],
      "execution_count": 21,
      "outputs": [
        {
          "output_type": "stream",
          "text": [
            "[nltk_data] Downloading package stopwords to /root/nltk_data...\n",
            "[nltk_data]   Package stopwords is already up-to-date!\n"
          ],
          "name": "stdout"
        }
      ]
    },
    {
      "cell_type": "code",
      "metadata": {
        "colab": {
          "base_uri": "https://localhost:8080/",
          "height": 397
        },
        "id": "veAauHQHdP9H",
        "outputId": "84e67715-d1a1-4ab2-fa68-a902fe83c400"
      },
      "source": [
        "vkr = pd.read_csv('/content/vkr.csv?token=AITWEH7ZDAUWRJUVRBMMYLDAKTP7Q')\n",
        "vkrText = pd.read_csv('/content/vkrText.csv?token=AITWEH6BLDWIZWOY6OWA6T3AKTP7W')\n",
        "vkrText.head()"
      ],
      "execution_count": 5,
      "outputs": [
        {
          "output_type": "execute_result",
          "data": {
            "text/html": [
              "<div>\n",
              "<style scoped>\n",
              "    .dataframe tbody tr th:only-of-type {\n",
              "        vertical-align: middle;\n",
              "    }\n",
              "\n",
              "    .dataframe tbody tr th {\n",
              "        vertical-align: top;\n",
              "    }\n",
              "\n",
              "    .dataframe thead th {\n",
              "        text-align: right;\n",
              "    }\n",
              "</style>\n",
              "<table border=\"1\" class=\"dataframe\">\n",
              "  <thead>\n",
              "    <tr style=\"text-align: right;\">\n",
              "      <th></th>\n",
              "      <th>Unnamed: 0</th>\n",
              "      <th>Unnamed: 0.1</th>\n",
              "      <th>link_vkr</th>\n",
              "      <th>name_vkr</th>\n",
              "      <th>name_student</th>\n",
              "      <th>name_prof</th>\n",
              "      <th>campus</th>\n",
              "      <th>programm</th>\n",
              "      <th>grade</th>\n",
              "      <th>year</th>\n",
              "      <th>link_file</th>\n",
              "      <th>fullText</th>\n",
              "      <th>shortText</th>\n",
              "    </tr>\n",
              "  </thead>\n",
              "  <tbody>\n",
              "    <tr>\n",
              "      <th>0</th>\n",
              "      <td>0</td>\n",
              "      <td>0</td>\n",
              "      <td>https://www.hse.ru/edu/vkr/219524501</td>\n",
              "      <td>Оценка стоимости компании</td>\n",
              "      <td>Дроздова Ирина Валерьевна</td>\n",
              "      <td>Абашева Александра Сергеевна</td>\n",
              "      <td>Вечерне-заочный факультет экономики и управле...</td>\n",
              "      <td>Экономика (в) (Бакалавриат)</td>\n",
              "      <td>-1</td>\n",
              "      <td>2018</td>\n",
              "      <td>NaN</td>\n",
              "      <td>NaN</td>\n",
              "      <td>NaN</td>\n",
              "    </tr>\n",
              "    <tr>\n",
              "      <th>1</th>\n",
              "      <td>1</td>\n",
              "      <td>1</td>\n",
              "      <td>https://www.hse.ru/edu/vkr/219524122</td>\n",
              "      <td>Оценка эффективности инвестиционного проекта</td>\n",
              "      <td>Стерледева Наталья Владимировна</td>\n",
              "      <td>Абашева Александра Сергеевна</td>\n",
              "      <td>Вечерне-заочный факультет экономики и управле...</td>\n",
              "      <td>Экономика (в) (Бакалавриат)</td>\n",
              "      <td>7</td>\n",
              "      <td>2018</td>\n",
              "      <td>http://lms.hse.ru/ap_service.php?getwork=1&amp;gui...</td>\n",
              "      <td>\\n ПЕРМСКИЙ ФИЛИАЛ ФЕДЕРАЛЬНОГО  ГОСУДАРСТВЕНН...</td>\n",
              "      <td>NaN</td>\n",
              "    </tr>\n",
              "    <tr>\n",
              "      <th>2</th>\n",
              "      <td>2</td>\n",
              "      <td>2</td>\n",
              "      <td>https://www.hse.ru/edu/vkr/153009903</td>\n",
              "      <td>Разработка системы управления знаниями в орган...</td>\n",
              "      <td>Беленова Анастасия Александровна</td>\n",
              "      <td>Аленина Карина Анатольевна</td>\n",
              "      <td>Факультет менеджмента (Пермь)</td>\n",
              "      <td>Менеджмент (Бакалавриат)</td>\n",
              "      <td>-1</td>\n",
              "      <td>2015</td>\n",
              "      <td>NaN</td>\n",
              "      <td>NaN</td>\n",
              "      <td>NaN</td>\n",
              "    </tr>\n",
              "    <tr>\n",
              "      <th>3</th>\n",
              "      <td>3</td>\n",
              "      <td>3</td>\n",
              "      <td>https://www.hse.ru/edu/vkr/153009689</td>\n",
              "      <td>Брендинг инновационного продукта</td>\n",
              "      <td>Воронков Кирилл Евгеньевич</td>\n",
              "      <td>Аленина Карина Анатольевна</td>\n",
              "      <td>Факультет менеджмента (Пермь)</td>\n",
              "      <td>Менеджмент (Бакалавриат)</td>\n",
              "      <td>-1</td>\n",
              "      <td>2015</td>\n",
              "      <td>NaN</td>\n",
              "      <td>NaN</td>\n",
              "      <td>NaN</td>\n",
              "    </tr>\n",
              "    <tr>\n",
              "      <th>4</th>\n",
              "      <td>4</td>\n",
              "      <td>4</td>\n",
              "      <td>https://www.hse.ru/edu/vkr/153009541</td>\n",
              "      <td>Стратегия инновационного развития бизнеса в ин...</td>\n",
              "      <td>Бадягина Мария Германовна</td>\n",
              "      <td>Аленина Карина Анатольевна</td>\n",
              "      <td>Факультет менеджмента (Пермь)</td>\n",
              "      <td>Менеджмент (Бакалавриат)</td>\n",
              "      <td>-1</td>\n",
              "      <td>2015</td>\n",
              "      <td>NaN</td>\n",
              "      <td>NaN</td>\n",
              "      <td>NaN</td>\n",
              "    </tr>\n",
              "  </tbody>\n",
              "</table>\n",
              "</div>"
            ],
            "text/plain": [
              "   Unnamed: 0  ...  shortText\n",
              "0           0  ...        NaN\n",
              "1           1  ...        NaN\n",
              "2           2  ...        NaN\n",
              "3           3  ...        NaN\n",
              "4           4  ...        NaN\n",
              "\n",
              "[5 rows x 13 columns]"
            ]
          },
          "metadata": {
            "tags": []
          },
          "execution_count": 5
        }
      ]
    },
    {
      "cell_type": "code",
      "metadata": {
        "id": "1TEnmd2rO-ZP"
      },
      "source": [
        "device = torch.device('cuda') if torch.cuda.is_available() else torch.device('cpu')\n",
        "\n",
        "custom_config = BertConfig.from_pretrained('DeepPavlov/rubert-base-cased')\n",
        "custom_config.output_hidden_states=True\n",
        "custom_tokenizer = BertTokenizer.from_pretrained('DeepPavlov/rubert-base-cased')\n",
        "custom_model = BertModel.from_pretrained('DeepPavlov/rubert-base-cased', config=custom_config)\n",
        "custom_model.eval()\n",
        "custom_model.to('cuda')"
      ],
      "execution_count": null,
      "outputs": []
    },
    {
      "cell_type": "code",
      "metadata": {
        "id": "v8A0tp1oRuFr"
      },
      "source": [
        "def lowerCase(Corpus):\n",
        "    corpus = \"\".join([i.lower().replace('\\n',' ') for i in Corpus])\n",
        "    return corpus\n",
        "\n",
        "PUNCT_TO_REMOVE = \"'#$%&\\()*+-/<=>|_[]{}*/\\\",:\"\n",
        "def remove_punctuation(Corpus):\n",
        "    \"\"\"custom function to remove the punctuation\"\"\"\n",
        "    return \"\".join([i.translate(str.maketrans('', '', PUNCT_TO_REMOVE)) for i in Corpus])\n",
        "\n",
        "def remove_stopwords(Corpus):\n",
        "    \"\"\"custom function to remove the stopwords\"\"\"\n",
        "    return \" \".join([token for token in Corpus.split() if token not in russian_stopwords])\n",
        "\n",
        "def remove_freqwords(Corpus):\n",
        "    cnt = Counter()\n",
        "    for text in Corpus:\n",
        "        for word in text.split():\n",
        "            cnt[word] += 1\n",
        "    FREQWORDS = set([w for (w, wc) in cnt.most_common(30)])\n",
        "    return \" \".join([word for word in str(Corpus).split() if word not in FREQWORDS])\n",
        "\n",
        "def remove_urls(Corpus):\n",
        "    url_pattern = re.compile(r'https?://\\S+|www\\.\\S+')\n",
        "    html_pattern = re.compile('<.*?>')\n",
        "    return_text=[]\n",
        "    for text in Corpus:\n",
        "        text=url_pattern.sub(r'', text)\n",
        "        text=html_pattern.sub(r'',text)\n",
        "        return_text.append(text)\n",
        "    return \"\".join(i for i in return_text)\n",
        "    \n",
        "def remove_numbers(Corpus):\n",
        "    text = [\"\".join(i for i in text if not i.isdigit()) for text in Corpus]\n",
        "    return \"\".join(i for i in text)\n",
        "\n",
        "def Stem(Corpus):\n",
        "    stemmer = SnowballStemmer(\"russian\") \n",
        "    return \"\".join(m.lemmatize(Corpus))\n",
        "\n",
        "def Lemm(Corpus):\n",
        "    m = Mystem()\n",
        "    return \"\".join(m.lemmatize(Corpus))\n",
        "\n",
        "def textToTokens(Corpus):\n",
        "    corpus = [i.split() for i in Corpus]\n",
        "    return corpus \n",
        "\n",
        "def clearTextAfterGarbage(Corpus):\n",
        "    corpus = Corpus\n",
        "    corpus = lowerCase(Corpus)\n",
        "    corpus = remove_punctuation(corpus)\n",
        "    corpus = remove_urls(corpus)\n",
        "    corpus = remove_numbers(corpus)\n",
        "    corpus = remove_stopwords(corpus)\n",
        "    corpus = Lemm(corpus)\n",
        "    #corpus = Stem(corpus)\n",
        "    corpus = remove_freqwords(corpus)\n",
        "    return corpus"
      ],
      "execution_count": 22,
      "outputs": []
    },
    {
      "cell_type": "code",
      "metadata": {
        "colab": {
          "base_uri": "https://localhost:8080/",
          "height": 106
        },
        "id": "uAIKZnZVCukX",
        "outputId": "835ecb5b-5cf0-4703-8e06-eecaaefc3d91"
      },
      "source": [
        "text = clearTextAfterGarbage(vkrText.loc[290, 'fullText'])\r\n",
        "text"
      ],
      "execution_count": 23,
      "outputs": [
        {
          "output_type": "execute_result",
          "data": {
            "application/vnd.google.colaboratory.intrinsic+json": {
              "type": "string"
            },
            "text/plain": [
              "'работа описывать процесс реализация виртуальный собеседник помощь лексикосинтаксический шаблон использование язык lspl. разрабатывать виртуальный собеседник реализовать система администрирование. работа содержать глава иллюстрация приложение. введение современный продуктивный обучение предполагать интенсивный работа сторона студент сторона преподаватель число выполнение большой количество проект усвоение получать знание практика. зачастую такой проект требовать большой затрата время сторона преподаватель сторона студент. случай такой проект должный автоматизировать хотя частично. автоматизация один такой учебный проект пойти речь работа. ход работа улучшать разрабатывать ранее виртуальный собеседник деловой игра «развертывание» технология msf. ход деловой игра студент делиться группа группа должный опрашивать сотрудник отдел фирма филиал четыре город разбрасывать весь мир. каждый сотрудник обладать свой компетенция знать весь информация филиал сотрудник один филиал сумма обладать информация обо все отдел. ранее каждый сотрудник отвечать преподаватель это вызывать ряд проблема. вопервых это трудозатраты преподаватель приходиться отвечать каждый группа студент. вовторых это затрата время студент зачастую вопрос ответ проходить большой количество время. втретьих это плохо сказываться весь игра целое выходить достаточно затягивать. решение ранее описывать проблема прошлый год решать написать виртуальный собеседник который отвечать сотрудник отдел вместо преподаватель который требовать минимум трудозатраты преподаватель оперативно отвечать студент самый делать процесс проведение игра комфортный быстрый. собеседник разрабатывать протестировать студент второй курс направление «программный инженерия». тестирование показывать качество работа собеседник недостаточно высоко. проблема. деловой игра существовать проблема. преподаватель это трудозатраты студент затрата время игра целое это длительность. актуальность работа работа являться актуальный цель поставлять прошлый год достигать полностью. объект работа процесс проведение. деловой игра развертывание программный обеспечение технология msf. предмет работа автоматизация консультационный работа преподаватель ход проект. научный новизна работа улучшение ранее разрабатывать метод решение проблема именно внедрение учебный процесс виртуальный собеседник. цель улучшение виртуальный собеседник сбор информация развертывание программный продукт рамка деловой игра ускорять процесс игра снижать трудозатраты преподаватель снижать затрата студент время. задача анализ накоплять опыт разработка виртуальный собеседование разработка система администрирование опытный эксплуатация система практический ценность работа заключаться разрабатывать программный система брать часть работа преподаватель ход проект такой образ освобождать время также теоретический ценность работа сравнительный анализ возможный механизм реализация виртуальный собеседник демонстрация практический возможность реализация один они. работа разделять глава. первый глава содержать описание предметный область анализ автоматизировать процесс. второй глава приводить анализ предыдущий версия система описывать проектирование подбирать алгоритм реализация также определять методика разработка система. третий глава содержать информация разработка виртуальный собеседник система администрирование апробация виртуальный собеседник. глава описание предметный область первый глава описывать деловой игра технология msf «развертывание» выявлять недостаток предыдущий версия быть сформировывать требование новый версия система. msf метод разработка программный обеспечение msf microsoft solution framework – методология разработка программный обеспечение предлагать корпорация microsoft. msf опираться практический опыт microsoft описывать управление человек рабочий процесс процесс разработка решение. msf процесс разработка программный обеспечение иметь спиральный форма. итерация цикл представлять рис. рисунок .. модель msf каждый итерация состоять следующий этап envision выработка концепция. первый этап создаваться основной состав проектный группа готовиться описание проект оговариваться рамка проект. planning планирование. этап составляться план проект который входить функциональный спецификация дизайн разрабатывать приложение подготовка рабочий план оценка затрата срок. developing разработка. этап разработка писаться код приложение подготавливаться документация. stabilizing стабилизация. этап проводиться тестирование приложение устраняться обнаруживать ошибка. внимание фокусироваться предполагать сценарий использование приложение deploying развертывание. этап развертывание происходить внедрение готовый приложение рабочий процесс происходить налаживание сопровождение приложение закрываться продлеваться контракт заказчик. деловой игра «развертывание» изучение технология msf ниу вшэпермь использоваться ряд деловой игра envisionplanning «стабилизация» «развертывание». ход каждый игра студент попадать сложный ситуация который точно имитировать прецедент реальный производство. цель игра «развертывание» являться обучение студент процесс развертывание программный обеспечение пользователь. ход игра студент должный устанавливать вымышленный система «обалдеит» компьютер пользователь. игра делиться несколько этап сбор информация подразделение фирма «обалдеит». формирование расписание развертывание. подведение итог. корректировка расписание получать информация ход подведение итог ход процесс игра студент должный понимать основополагающий принцип развертывание. вопервый этап развертывание иметь место требовать тщательный подготовка. вовторых требоваться собирать информация каждый место проводиться процесс развертывание каждый филиал иметь свой особенность такой разный уровень квалификация персонал разный характеристика эвм разный программный обеспечение установленный разный настройка. помимо другой пункт который стоить учитывать расписание работа персонал климат средство коммуникация т.д. втретьих процесс сбор информация требовать усилие время поскольку информация работник получать зачастую бывать непросто этот информация требовать анализ получать нужный сведение процесс развертывание. вчетвертых студент должный осознавать необходимость план развертывание который следовать учитывать требуемый действие время ресурс. анализ игра разбирать процесс проведение игра рамка обучение студент. сначала студент сам объединяться команда сообщать свой команда преподаватель. команда формировать список вопрос отправлять преподаватель помощник поскольку играть роль сотрудник подразделение фирма «обалдеит» получать ответ некоторый время. далее студент составлять следующий список вопрос снова отправлять преподаватель это продолжаться тот пора пока заканчиваться время игра либо студент быть удовлетворять объем получать сведение. студент составлять свой план развертывание обсуждать преподаватель. описывать выше процесс иметь ряд достоинство недостаток. разбирать тот черта процесс который хотеться сохранять разрабатывать виртуальный собеседник преподаватель иметь исчерпывающий информация подразделение правильно задавать вопрос поделиться студент. общение преподаватель одновременно доступно сразу несколько группа студент. далее выявлять недостаток который хотеться избавляться разрабатывать система. время игра. сожаление проходить достаточно большой промежуток время прежде преподаватель отвечать студент весь студент такой образ игра занимать участник несколько день. трудозатраты преподаватель. преподаватель вынуждать отвечать весь студент многочисленный вопрос требовать значительный усилие. удобство студент. студент вынуждать ждать свой очередь находить способ скорый коммуникация преподаватель. автоматизация игра помощь виртуальный собеседник исходить выявлять недостаток деловой игра принимать решение создание система который мочь имитировать общение иной сотрудник любой иметься филиал. этот система должный учитывать особенность филиал такой климат характеристика технический оборудование характер менталитет сотрудник особенность коммуникация. такой образ система должно закладывать несколько виртуальный собеседник каждый который отвечать один иметься сотрудник. должно учитывать сотрудник определенный должность работать один филиал работать другой помимо сотрудник одинаковый должность разный филиал фирма обладать различный информация исходить особенность филиал. поскольку виртуальный собеседник отвечать один предметный область каждый иметь несколько отличаться другой набор знание также учитывать большой количество сам собеседник иметь смысл объединять собеседник один система один база знание. один главный требование система – диалог должный происходить естественный язык поскольку любой формализация общение срабатывать подсказка студент. однако стоить учитывать диалог человек ответ мочь быт неверный неточный поскольку вопрос неправильно понимать стоять также обращать внимание администрирование создавать система требоваться создавать удобный интерфейс добавление определенный ответ задавать вопрос каждый собеседник также добавлять создавать пара вопросответ иметься собеседник. требование разрабатывать система исходить описание автоматизация система сформировывать требование разрабатывать система использование анализ вопрос филиал сотрудник вопрос. выбор филиал. выявление наличие указанный филиал фирма сотрудник указанный должность. определение ответ сотрудник задавать вопрос. администрирование возможность импортирование сотрудник пара вопросответ область знание другой сотрудник. редактирование область знание сотрудник. возможность просмотр заданный вопрос. полный список требование система представлять приложение а. глава проектирование система предыдущий глава описывать предметный область выдвигать требование система приступать проектирование. глава быть определять бизнеспроцесс который задействовать разрабатывать виртуальный собеседник построить диаграмма нотация uml наглядный отображение быть выбирать алгоритм который работать разрабатывать система. анализ возможный проектный решение алгоритм реализация виртуальный собеседник сказать первый год игра проводиться ручной режим. сохранять заданный ход игра вопрос данный ответ. пара «вопросответ» привязывать конкретный должность конкретный филиал. такой образ получать некоторый база четверка «филиал – должность – вопрос – ответ». готовый входной файл содержать запись. выбор проектный решение скорректировать поправка размер составлять файл. рассматривать следующий вариант проектный решение поиск полный совпадение вопрос. наиболее простой вариант вводить запрос пользователь дословно сопоставляться один вопрос иметься база. вариант реализация учитывать возможный вариация вопрос использование синоним требовать чрезвычайно большой база вопросовответ. практика вариант пробовать реализовать. поиск набор ключевой слово. усложнять версия первый вариант запрос пользователь производиться поиск набор ключевой слово который мочь стоять произвольный порядок мочь перемешать «шумовой слово». база технология разрабатывать версия виртуальный собеседник тот деловой игра. однако работа иметь очень низкий точность практический применение оказываться пригодный. искусственный нейронный сеть инс. искусственный нейронный сеть – упрощенный модель человеческий мозг. сеть обучать база иметься вопрос работать запрос пользователь выдаваться результат основа ранее проходить обучение. разработка виртуальный собеседник использование нейронный сеть рассматриваться однако база входной запись слишком маленький обучение инс поскольку отношение элемент выборка количество признак очень мало. исходить следствие теорема арнольд–колмогоровахехт–нильсен большой вероятность переобучение инс. онтология. онтология – способ формализация некоторый область знание помощь концептуальный схема. правило такой схема состоять структура данные содержать релевантный класс объект связь правило принимать область. метод решение рассматриваться решение поставлять задача однако отвергать польза лексикосинтаксический шаблон связь опыт использование их. лексикосинтаксический шаблон лсш. лексикосинтаксический шаблон структурный образец языковой конструкция позволять обрабатывать исходный текст учитывать лексический синтаксический характеристика естественный язык. русский язык это падеж время наклонение склонение число т.д. основное шаблон использоваться автоматический обработка текст выявление языковой конструкция классификация текст поиск словоформа изменение текст учет заданный параметр синоним выражение. помимо помощь лексикосинтаксический шаблон возможность распознавать альтернатива часть исходный текст давать возможность задавать синоним определенный слово. предельно упрощенный форма лсш являться бнф. назад разрабатывать версия виртуальный собеседник использование лексикосинтаксический шаблон. иметь интерфейс просто технический точка зрение. взять список вопрос который студент задавать ход проведение предыдущий деловой игра. вопрос несколько студент вручную преобразовывать лсш расчет студент быть далеко задавать такой вопрос. это позволять сжатый срок получать набор примерно сотня шаблон. версия применять практика точность работа собеседник уровень являться достаточный показатель имитация диалог. попытка использование первый версия собеседник выявлять следующий проблема количество шаблон. разрабатывать около сотня шаблон количество альтернатива который крайне ограничивать. отсутствие концептуальный целостность. устанавливать никакой правило соглашение построение шаблон. каждый студент составлять шаблон свой усмотрение. недостаточный учет многообразие словоформа синонимия русский язык. помимо проблема сам шаблон отсутствовать возможность администрирование приложение. любой административный действие просмотр информационный база корректировка мочь выполнять программист автор система средство судб sql. выдвигать гипотеза качество работа собеседник существенно улучшать увеличивать количество лсш учитывать словоформа синонимия русский язык. принимать проектный решение разрабатывать механизм автоматический генерация лсш база онлайн словарь синоним русский язык. второй версия виртуальный собеседник призванный решать проблема предыдущий система разрабатывать основа лсш lspl – язык лексикосинтаксический шаблон предполагаться вопрос обрабатывать виртуальный собеседник быть задаваться русский язык поэтому решать взять основа утилита который также работать шаблон который сопоставляться русский текст. решать использовать язык lspl lexicosyntaxic pattern language. язык предназначать описание конструкция русский язык цель представление система извлечение информация текст однако помимо сравнивать текст шаблон который представлять набор символ любой язык. разработка язык начинаться год продолжать изменяться дополняться сей день. ключевой язык lspl являться понятие лексикосинтаксический шаблон рассматривать структурный образец языковой конструкция. шаблон задавать лексический состав поверхностносинтаксический свойство самый использовать распознавание текст последующий извлечение. шаблон строиться последовательность элемент описывать соответствующий фрагмент языковой конструкция – порядок какой встречаться конструкция. средство язык позволять задавать вариативность конструкция включая набор входить слово лексема морфологический характеристика признак. выразительный средство лексикосинтаксический шаблон удобный первый очередь формальный описание именной словосочетание русский язык который правило являться грамматически согласованный. язык lspl предусматривать средство задание синтаксический связь согласование слово. синтаксический связь мочь задаваться шаблон следующий образ согласование – путем указание равенство соответствующий морфологический признак связанный элемент текст управление – путем указание значение морфологический признак подчиненный элемент. важный особенность язык lspl являться возможность использовать задание шаблон другой определенный шаблон позволять формализация сложный языковой конструкция выделять составной часть описывать очередь вид шаблон давать этот шаблон имя использовать имя другой шаблон. целый язык шаблон являться достаточно гибкий мощный средство задание лексический поверхностносинтаксический свойство конструкция lsplшаблоны мочь описывать словосочетание целый предложение крупный фрагмент текст русский язык. lspl – продукт свободный некоммерческий использование. проектирование алгоритм работа система поскольку решать использовать лсш вопрос система считаться входной данные обработка лсш. каждый вопрос неделимый каждый соответствовать ответ закладывать система. этот допущение создавать исходить вопрос достаточно простой структура содержание. исходить принимать решение каждый вопрос создавать неделимый шаблон который описывать вопрос. исходить каждый ответ система являться неделимый полный мера разрешать заданный вопрос. вопрос отсутствовать сложный контекстный связь исключение два отделение сотрудник. отделение студент каждый вопрос указывать явно. список сотрудник каждый отделение свой один ответ мочь давать разный сотрудник другой лишь трое должность мочь иметь разный название например директор начальник менеджер. считать каждый отделение каждый должность занимать человек. название должность сотрудник известный система известный студент. студент предлагаться самостоятельно понимать какой сотрудник работать каждый отделение фирма исходить описание игра отклик система. исходить требование алгоритм система закладывать возможность использование синоним именование один тот должность. словарь синоним заготавливать система заранее. определять отделение фирма должность сотрудник оставаться обрабатывать вопрос который студент задавать этот сотрудник. происходить это следующий образ указанный сотрудник указанный филиал браться лсш описывать компетенция сотрудник тот вопрос который давать ответ сам ответ. затем заданный студент вопрос сопоставляться этот шаблон выбираться шаблон который наиболее полно соответствовать заданный вопрос. качество ответ вопрос студент выдаваться ответ шаблон. случай шаблон описывать компетенция данный сотрудник соответствовать заданный вопрос сказать сотрудник знать ответ. система определять несколько шаблон который одинаковый степень соотвествовать заданный вопрос ответ выдаваться случайно. сожаление гарантия шаблон который распознавать наиболее подходящий действительно описывать именно заданный вопрос. каждый шаблон база привязывать некоторый ответ. именно ответ выдавать. случай вопрос давать неверный ответ. разработчик язык lspl предоставлять утилита анализ текст соответствие лсш. именно утилита позволять сопоставлять заданный текст заданный набор шаблон выявлять шаблон тот шаблон который соответствовать различный часть данный текст. пояснять сказать пример который прояснение смысл работа утилита предельно упрощать синтаксис параметр язык lspl. реальный синтаксис приводить приложение б. пусть анализировать текст равный «сколько ваш отделение фирма устанавливать компьютер?» сопоставлять шаблон представлять табла... таблица .. упрощенный лексикосинтаксический шаблон результат работа утилита представлять табла. таблица .. результат работа утилита табла. видно различный часть анализировать текст соответствовать различный шаблон. наш задача выбирать шаблон который описывать весь текст наиболее точно. взять эвристический способ который верный шаблон являться шаблон граница текст который наиболее широкий. исходить результирующий шаблон наш пример шаблон skf. рамка процесс получение ответ вопрос указанный утилита lspl вызываться дважды первый определение должность сотрудник второй – анализ заданный вопрос. студент заранее известный должность сотрудник работать данный филиал. поэтому студент называть должность закладывать система. проблема решать словарь синоним. каждый список синоним представлять вид лсш. утилита получать вход список синоним соответствующий шаблон должность выбирать филиал вместе запрашивать должность подаваться вход утилита. утилита очередь возвращать шаблон который соответствовать запрашивать должность. утилита возвращать пользователь возвращаться сообщение сотрудник должность работать фирма. определять сотрудник который адресовать вопрос база данные выбираться компетенция который располагать данный сотрудник. далее название шаблон компетенция вместе заданный студент вопрос подаваться вход утилита. утилита возвращать шаблон тот компетенция который поставлять соответствие заданный вопрос. шаблон находить студент получать ответ привязывать находить шаблон. утилита вернуть шаблон студент возвращаться сообщение сотрудник знать ответ заданный вопрос. алгоритм позволять определять студент факт работа сотрудник отделение компетенция сотрудник. наглядный представление работа алгоритм построить idef диаграмма .. диаграмма последовательность .. рисунок .. idef диаграмма алгоритм рисунок .. диаграмма последовательность алгоритм определение бизнеспроцесс определять основной процесс который задействовать система. поскольку предполагаться студент начало игра знать название филиал иметь список сотрудник студент должный сам определять. решать студент быть определять существовать сотрудник филиал ход постановка вопрос виртуальный собеседник. такой образ студент виртуальный собеседник задействовать два процесс определение существование сотрудник филиал постановка самый вопрос виртуальный собеседник относительно филиал фирма «обалдеит». переходить диаграмма прецедент. система актор студент задавать вопрос собеседник администратор поддерживать система. определять прецедент система построить диаграмма который представлять рис. .. название постановка вопрос система актор студент описание студент заходить система свой имя пароль указывать сотрудник задавать вопрос система. название определение существование сотрудник филиал актор студент описание студент заходить система свой имя пароль указывать сотрудник задавать вопрос система. сотрудник существовать давать ответ вопрос либо отвечать это компетенция. такой сотрудник система сообщать это. название редактирование компетенция сотрудник филиал актор администратор описание администратор заходить интерфейс администрирование система выбирать филиал затем один сотрудник филиал. администратор открываться список компетенция данный филиал который указывать тот компетенция который располагать выбирать сотрудник. администратор удалять существующий компетенция добавлять новый список. название просмотр заданный вопрос система. актор администратор описание администратор заходить интерфейс администрирование затем открывать окно заданный вопрос система. увидеть информация какой сотрудник какой филиал какой время задавать вопрос ответ давать. рисунок .. диаграмма активность определять прецедент система построить диаграмма активность. рисунок представлять диаграмма последовательность обращение система. диаграмма обращение система показывать возможный вариант реакция система действие пользователь пользователь указывать сотрудник фирма который работать пользователь задавать вопрос сотрудник который знать ответ пользователь идентифицировать система момент обращение она. рисунок .. диаграмма последовательность проектирование система определять процесс который должный автоматизировать система выбирать реализация начинать проектирование приложение. определять сущность который быть система филиал. свойство имя. тип строковый описание каждый филиал свой уникальный характеристика такой месторасположение количество комплектация эвм количество сотрудник квалификация. сотрудник. свойство имя. тип строковый. название шаблон. тип строковый. описание каждый сотрудник филиал фирма «обалдеит» обладать свой набор компетенция. зависимость этот компетенция определяться смочь сотрудник отвечать поставлять вопрос нет. поскольку ранее решать система основывать лексикосинтаксический шаблон сотрудник определять свойство «название шаблон» который содержаться название шаблон который однозначно определять сотрудник. компетенция. свойство название шаблон. тип – строковый. текст ответ. тип – строковый. должность сотрудник описание небольшой область знание который обладать сотрудник прикреплять филиал. запись вопрос. свойство время. тип – datetime задавать вопрос. тип – строковый имя сотрудник. тип – строковый г ответ вопрос. тип – строковый описание поскольку решать собирать данные заданный вопрос вводить сущность который отображать давать. хранить точный дата время заданный вопрос точный формулировка самый вопрос также название сотрудник который вводить текстовый поле. данные помогать дальнейший пополнять корректировать существующий шаблон. диаграмма erd представлять рисунок .. erd диаграмма ранее говориться компетенция сотрудник филиал мочь пересекаться значит ответ вопрос мочь давать несколько сотрудник сразу. поэтому решать сделать связь тип «многий ко многий» сущность «сотрудник» «компетенция». глава разработка система глава подробно описывать процесс разработка приложение база данные взаимодействие утилита сопоставление текст лексикосинтаксический шаблон. инструментальный средство разработка определять стек технология разработка вебприложение виртуальный собеседник. решать разрабатывать приложение платформа .net использование фреймворок asp.net разработка сайт. основной язык разработка являться c однако помимо использоваться язык html описание вебстраница xml задание конфигурация приложение lspl задание лексикосинтаксический шаблон. далее быть описывать основной инструмент который потребоваться разработка собеседник яндекс словарь. ранее сказать данный статья описывать способ реализация собеседник который требовать большой объем входной выборка. однако исходный выборка широкий работа система искусственно увеличиваться счет словарь синоним. однако словарь использовать непосредственно время использование поскольку предоставлять api иметь ежедневный ограничение количество запрос. lspl. lspl lexicosyntaxic pattern language – язык предназначать формальный описание конструкция русский язык цель представление система извлечение информация текст. сожаление разработчик предоставлять dll файл использование система такой образ инструмент использоваться утилита помощь запуск bat файл. стоить отмечать компонент актуальный документация поэтому учиться использовать приходиться процесс разработка. lemmasharp. lspl шаблон требовать вход слово начальный форма. решение этап потребоваться отдельный библиотека. ms sql. написать выше яндекс словарь иметь ограничение количество ежедневный запрос. время работа обращаться словарь синоним решать получать ранее хранить база данные. разработка база данные хранение данные приложение решать создавать база данные основа sql server название obaldeitchatbot. каждый сущность описывать предыдущий глава создавать таблица база данные также дополнительный поле который служить уникальный идентификатор внешний ключ другой таблица. схема база данные представлять .. рисунок .. схема база данные подготовка файл входной данные корректный работа система потребоваться заполнять база данные. предыдущий игра каждый сотрудник отвечать преподаватель сохраняться файл содержать вопрос студент ответ каждый сотрудник. информация этот файл объединять структуризировать вид название филиал должность сотрудник вопрос ответ. стоять отмечать игра игра некоторый филиал меняться сотрудник точный формулировка должность поэтому исправление объединять файл создавать матрица принадлежность сотрудник филиал ... исходить создавать матрица наименование должность сотрудник филиал приводиться единый вид. помимо наименование должность сотрудник меняться компетенция поэтому организация зона ответственность сотрудник создавать матрица зона ответственность сотрудник ... рисунок ..матрица принадлежность сотрудник филиал рисунок .. матрица зона ответственность сотрудник определять зона ответственность наименование должность сотрудник решать написать небольшой подпрограмма проверять корректность сформировывать файл. этот программа проверять верно вводить название филиал наименование должность сотрудник также прикреплять сотрудник указанный должность филиал. какоето условие совпадать программа выдавать номер строка ошибка. несколько проверка файл исправление ошибка файл приводить вид пригодный наполнение база данные. код валидация файл приводить ниже private void validatefileobject sender routedeventargs var filepath getexcelfilepath; if filepath null return; excel.application xlapp new excel.application; excel.workbook xlworkbook xlapp.workbooks.openfilepath; excel.worksheet xlworksheet xlworkbook.sheets; excel.range xlrange xlworksheet.usedrange; var errorslist new listint; using var db new obaldeitchatbotentities for int i ; i xlrange.rows.count; i string subsidiary xlrange.cellsi .value.tostring; string employee xlrange.cellsi .value.tostring; string question xlrange.cellsi .value.tostring; if !db.subsidiary.selects s.title.containssubsidiary console.writelineстрока i содержать невалидный название филиал; if !db.employee.selects s.name.containsemployee console.writelineстрока i содержать невалидный название сотрудник; if question.containsn console.writelineстрока содержать непечатный символ i; if !db.employee.includesubsidiary.tolist.anyemp emp.name employee emp.subsidiary.title subsidiary console.writelinei – сотрудник работать филиал; xlworkbook.close; xlapp.quit; наполнение база данные база данные спроектировать следовать она наполнять создавать ранее файл. потребоваться дополнительный подпрограмма поскольку объем работа слишком большой ручной выполнение. поэтому решать создавать несколько подпрограмма наполнение база данные генерация шаблон. процесс наполнение база данные разбивать несколько этап. первый этап вручную база данные наполнять несколько таблица данные который быть нужный следующий этап. проверка входной файл дальнейший заполнение таблица компетенция заполнять следующий таблица subsidiary филиал employee сотрудник employeepattern шаблон сотрудник. первый два таблица заполнять исходить матрица принадлежность сотрудник филиал. шаблон должность создавать использовать словарь синоним. помимо заполнять таблица partofspeech часть речь который понадобиться получение синоним каждый слово вопрос. данные таблица взять документация язык lspl ... указывать поддерживать часть речь перевод английский язык. api словарь синоним каждый слово возвращать часть речь помогать составление шаблон использовать таблица. рисунок .. часть речь поддерживать язык lspl следующий этап заполнение таблица синоним слово задавать вопрос. получение синоним использовать словарь синоним компания яндекс. ранее задумывать получать синоним время работа программа генерировать шаблон динамически. однако яндекс словарь ограничивать количество запрос день запрос который посыпаться поверх допустимый лимит словарь возвращать сообщение ошибка. поэтому решать заранее сгенерировать синоним шаблон. словарь возвращать запрос структура который указывать синоним часть речь. получать синоним добавляться база данные случай ранее быть. код заполнение таблица синоним представлять ниже. private void generatewordspoolobject sender routedeventargs var filepath getexcelfilepath; if filepath null return; excel.application xlapp new excel.application; excel.workbook xlworkbook xlapp.workbooks.openfilepath; excel.worksheet xlworksheet xlworkbook.sheets; excel.range xlrange xlworksheet.usedrange; dictionarystring phrasepattern questionpattern new dictionarystring phrasepattern; using var db new obaldeitchatbotentities for int i ; i xlrange.rows.count; i string question xlrange.cellsi .value.tostring; var words prepareinputstringquestion; foreach var word in words if word.trim string.empty continue; var lemmatizedword lemmatizersingletone.getinstance.lemmatizephraseword; if db.word.anyw w.text lemmatizedword continue; wordpattern wordpattern new wordpatternword; if wordpattern.alternatives.count continue; if !db.partofspeech.tolist.anyp p.name wordpattern.alternatives.pos continue; word dbword new word text lemmatizedword partofspeechid db.partofspeech.tolist.firstordefaultpos pos.name wordpattern.alternatives.pos.id mainsymominid ; db.word.adddbword; db.savechanges; foreach var alt in wordpattern.alternatives.skip if !db.partofspeech.tolist.anyp p.name alt.pos continue; if alt.pos ! null db.word.addnew word text alt.text partofspeechid db.partofspeech.tolist.firstordefaultpos pos.name alt.pos.id mainsymominid dbword.id ; db.savechanges; xlworkbook.close; xlapp.quit; заполнение таблица синоним сгенерировать шаблон. язык lspl позволять использовать альтернатива шаблон позволять использовать шаблон ранее получать синоним. помимо lspl давать возможность работать словом часть речь язык использовать такой характеристика число падеж время т.д. часть речь предложение играть разный роль иметь разный значимость. исходить составлять маска часть речь который быть составляться шаблон. маска входить следующий часть речь существительное наречие глагол числительное. далее кратко описывать алгоритм составление шаблон. вход подаваться ранее создавать файл вопрос ответ. файл считываться построчно. сначала определяться филиал сотрудник который задаваться вопрос затем определяться сотрудник база данные принадлежность филиал. затем заданный вопрос удаляться слово который соответствовать маска часть речь который описывать ранее. затем каждый оставаться слово генерироваться лексикосинтаксический шаблон синоним получать шаблон синоним объединяться шаблон заданный вопрос исходный порядок. шаблон синоним получать вопрос необходимость добавляться база данные. код добавлять база данные шаблон приводить ниже. private void loadpatternsclickobject sender routedeventargs var filepath getexcelfilepath; if filepath null return; excel.application xlapp new excel.application; excel.workbook xlworkbook xlapp.workbooks.openfilepath; excel.worksheet xlworksheet xlworkbook.sheets; excel.range xlrange xlworksheet.usedrange; dictionarystring phrasepattern questionpattern new dictionarystring phrasepattern; using var db new obaldeitchatbotentities for int i ; i xlrange.rows.count; i string subsidiaryname xlrange.cellsi .value.tostring; string employeename xlrange.cellsi .value.tostring; string question xlrange.cellsi .value.tostring.replacen ; string answervalue xlrange.cellsi .value.tostring.replacen ; employee employee db.employee.includesubsidiary.firstordefaultemp emp.name.tolower employeename.tolower emp.subsidiary.title.tolower subsidiaryname.tolower; phrasepattern pattern new phrasepattern; partofspeechmask mask new partofspeechmasknew listpatternsgenerator.partofspeech new listpatternsgenerator.partofspeech patternsgenerator.partofspeech.noun patternsgenerator.partofspeech.verb patternsgenerator.partofspeech.pronoun patternsgenerator.partofspeech.numeral ; var wordsstrings prepareinputstringquestion.selects lemmatizersingletone.getinstance.lemmatizephrases.tolist; for int j ; j wordsstrings.count; j var word db.word.includepartofspeech.tolist.firstordefaultw w.text wordsstringsj; if word null !mask.nonrequired.selects partofspeechmask.partofspeechdicts.tolower.containsword.partofspeech.name.tolower wordsstrings.removeatj; j; if wordsstrings.count continue; listphrasepattern wordpatternslist new listphrasepattern; for int j ; j wordsstrings.count; j var word db.word.includepartofspeech.tolist.firstw w.text wordsstringsj; if word.mainsymominid ! word db.word.includepartofspeech.tolist.firstw w.id word.mainsymominid; var wordpattern db.phrasepattern.tolist.firstordefaultp p.title.tolower translitgenerator.gettranslitword.text.tolower; if wordpattern null var dbalternates db.word.includepartofspeech.tolist.wherew w.mainsymominid word.id.take.selectw new parserword text w.text pos w.partofspeech.name.tolist; wordpattern parserwordpattern new wordpatternnew parserword text word.text pos word.partofspeech.name dbalternates; var generatedpattern parserwordpattern.generatepatternseparatelymask; if !string.isnulloremptygeneratedpattern wordpattern new phrasepattern title generatedpattern body generatedpattern ; db.phrasepattern.addwordpattern; db.savechanges; if wordpattern ! null wordpatternslist.addwordpattern; var patterntitle new stringwordpatternslist.selectp p.title.toarray; pattern.title char.toupperpatterntitle patterntitle.substring; pattern.body wordpatternslist.tolist.selects s.title.aggregatem k m w k pattern ; db.phrasepattern.addpattern; competence competence new competence employeeid employee.id patternid pattern.id answer answervalue; db.competence.addcompetence; db.savechanges; xlworkbook.close; xlapp.quit; шаблон добавлять база данные оставаться сгенерировать файл паттерн который подаваться вход утилита. шаблон добавлять файл приводить приложение в. private void generatepatternfileclickobject sender routedeventargs liststring patterns new liststring; using var db new obaldeitchatbotentities foreach var ptrn in db.phrasepattern.tolist patterns.addchar.toupperptrn.title ptrn.title.substring ptrn.body; patterns patterns.distinct.tolist; foreach var pattern in patterns file.appendalllines@cprojectsobaldeitchatbotvpatternsgeneratorlspltoolsnewexampleptrns.txt new liststring pattern encoding.getencodingwindows; использование лексикосинтаксический шаблон разбирать взаимодействие система лексикосинтаксический шаблон. каждый ответ который давать система связанный лексикосинтаксический шаблон перечень. лексикосинтаксический шаблон находиться файл относительный путь который obaldeitchatbotlsplutilslspltoolsnewbinpatterns.txt. сам шаблон составлять позволять учитывать разный формулировка вопрос должность сотрудник. достигать это счет возможность язык lspl. рассматривать некоторый шаблон. низко представлять шаблон определять должность системный администратор admin падминистратор text асистемный падминистратор text сисадмин text разбирать подробно составлять. шаблон представлять альтернатива. первый альтернатива «падминистратор text » предполагать исходный текст соотносить этот шаблон содержать существительное «администратор» любой число падеж. второй альтернатива «асистемный падминистратор text » предполагать исходный текст соотносить должность текст встречаться словосочетание состоять прилагательный «системный» существительное «администратор» который мочь согласовывать себя. такой вариант «системный администратор» «системный администратор» также распознавать этот шаблон. третий альтернатива завязнуть какихлибо часть речь соотносить шаблон любой текст который встречаться подстрока «сисадмин». кроме альтернатива простой лексикосинтаксический шаблон многовариантность достигать счет использование составной шаблон который состоять другой шаблон. разбирать это пример шаблон который соотносить ответ вопрос сколько филиал находиться компьютер. шаблон представлять ниже qcomp quantity w computer w office pattern видно шаблон элемент который характеризовать слово русский язык однако содержать название другой три шаблон «quantity» «computer» «office». шаблон представлять ниже quantity numсколько text пколичество text пчисло text пвеличина text computer пкомпьютер text пэвм text пперсоналка text пк text office пофис text потделение text пподразделение text nотделtext первый шаблон содержать пять альтернатива второй четыре третий пять альтернатива. помимо шаблон qcomp шаблон office указывать квадратный скобка означать находиться исходный текст. также шаблон указывать буква w фигурный скобка обозначать шаблон находиться произвольный количество любой слово. разбирать подробно процесс запуск сам утилита. запускать команда командный строка указывать относительный путь входной файл лексикосинтаксический шаблон выходной файл искомый шаблон. пример команда приводить ниже binlsplfind i bintext.txt p binpatterns.txt binoutput.txt qcomp internetspeed areusable aresuitable levelemployee characteristic versos willchange languageprogram cabinets areservershere islocalnetworkhere themselfinstall однако поскольку приложение иметь возможность воспользоваться командный строка команда выполняться .bat файл. мера ответ вопрос команда выполняться дважды первый устанавливаться какой именно сотрудник задаваться вопрос. далее сотрудник работать указанный филиал устанавливаться вопрос задавать. разбирать обработка результат работа утилита. lspltools результат работа генерировать xml файл который указывать какой именно шаблон встречать текст. пример такой xml файл представлять низко качество входной текст указывать вопрос «сколько компьютер ваш фирма» качество лексикосинтаксический шаблон указывать qcomp internetspeed areusable aresuitable levelemployee characteristic versos willchange languageprogram cabinets areservershere islocalnetworkhere themselfinstall ?xml version. encodingwindows? texts text goal nameqcomp match startpos endpos fragmentсколько компьютеровfragment resultresult match match startpos endpos fragmentсколько компьютер естьfragment resultresult match match startpos endpos fragmentсколько компьютер вfragment resultresult match match startpos endpos fragmentсколько компьютер вашейfragment resultresult match match startpos endpos fragmentсколько компьютер ваш фирмеfragment resultresult match goal goal nameinternetspeed goal goal nameareusable goal т.д. text texts видно код файл находить несколько соответствие шаблон «qcomp». поскольку шаблон возможность вставлять слово часть шаблон количество соответствие увеличивать. завершение работа утилита содержимое выходной файл обрабатываться система проверяться какой подавать шаблон встречать текст. результирующий шаблон считаться фрагмент который встречать текст иметь максимальный длина. обработка выходной файл отвечать класс questionsanswerer. разбирать работать класс. один публичный функция который вызываться внешний код. передаваться текст выходной файл. сначала функция проверять находиться код файл подстрока «match» этот подстрока находиться файл случай находить соответствие лексикосинтаксический шаблон текст вход утилита. подстрока находить функция вернуть это обрабатываться внешний код иной случай выбираться соответствие который разница стартовый конечный позиция максимальный возвращаться название шаблон соответствие. разработка вебприложение спроектировать наполнять база данные начинать разработка вебприложение взаимодействие пользователь платформа asp.net. разрабатывать одностраничный приложение использование технология jquery ajax простой интерфейс .. пользователь предлагаться выбирать филиал список доступный вводить должность сотрудник задавать вопрос графа ответ некоторый время появляться ответ вычислять система. алгоритм который работать система точность повторять спроектировать. реализация приводить ниже public jsonresult getanswerquestionanswermodel model using var db new obaldeitchatbotentities var employeepatternname getpatternnamemodel.employeetext db.employee.tolist.wheree e.subsidiaryid model.selectedcityid.selecte e.employeepattern.title.tolist; if employeepatternname null model.answertext должность!; return jsonmodel; var employee db.employee.tolist.firste e.subsidiaryid model.selectedcityid e.employeepattern.title employeepatternname; var competencespatterns db.competence.tolist.wherec c.employeeid employee.id.selects s.phrasepattern.title.distinct.tolist; var answerpatternname getpatternnamemodel.question competencespatterns; if answerpatternname null model.answertext сотрудник знать ответ заданный вопрос.; return jsonmodel; model.answertext db.competence.tolist.firstc c.employeeid employee.id c.phrasepattern.title answerpatternname.answer; return jsonmodel; рисунок .. вебприложение lspl этот часть исходный код – обработчик событие нажатие кнопка. вход приходить собирать клиент модель содержать поле который пользователь заполнять интерфейс. далее начинаться процесс обработка описывать предыдущий глава сначала происходить проверка наличие сотрудник указанный должность выбирать филиал – такой пользователь выдаваться уведомление это. выбираться компетенция находить сотрудник шаблон сопоставляться заданный вопрос. процесс проверка шаблон происходить помощь запуск процесс система windows. сначала формироваться файл обрабатывать строка указывать либо должность сотрудник либо вопрос. затем формироваться bat файл который указываться входной файл файл заранее сгенерировать шаблон путь выходной файл. затем запускаться сам утилита ранее сформировывать bat файл. завершение процесс обрабатываться выходной файл сгенерировать утилита шаблон определенный наиболее подходящий предлагать выходной файл сопоставляться зависимость ситуация шаблон нужный таблица база данные основание система приниматься решение. полный исходный код работа представлять приложение г. разработка сервис администрирование разработка вебприложение виртуальный собеседник разрабатывать система администрирование виртуальный собеседник. система администрирование содержать окно изменение компетенция сотрудник просмотр история вопрос студент. первый окно .. администратор предлагаться выбирать филиал должность сотрудник открываться список компетенция выбирать филиал галочка отмечать тот компетенция который знать выбирать сотрудник. администратор изменять набор компетенция иной сотрудник свой усмотрение изменение каждый компетенция данные перезаписываться база данные. второй окно .. отображать информация обо заданный вопрос время работа система именно дата время задавать вопрос филиал сотрудник который задавать формулировка должность сотрудник указанный пользователь задавать вопрос данный система ответ. рисунок .. исправление компетенция сотрудник рисунок .. окно просмотр история заданный вопрос публикация система microsoft azure опытный тестирование система разрабатывать запускать локально предстоять процесс развертка хостинг. качество хостинг выбирать microsoft azure. поскольку система использовать база данные работа сначала развертывать она. студенческий аккаунт предоставлять компания microsoft студент ниу вшэ создавать запрос использование сервер база данные. получение доступ сервер создавать пустой база данные. далее помощь программа data migration assistant перенести схема локальный бд удалять передавать сам данные. далее создавать виртуальный машина. виртуальный машина создавать приложение перенести она. однако работа приложение требоваться утилита lspl файл паттерн. перенос папка утилита виртуальный машина предоставлять доступ локальный жесткий диск который папка перенести виртуальный машина. система получать доступ папка система все еще отвечать поставлять вопрос. решение проблема решать производить отладка путем вывод сообщение ошибка окно ответ. основной проблема оказываться политика безопасность виртуальный машина который разрешать редактировать файл процесс работа. политика безопасность настраивать система зарабатывать. публикация система проходить опытный тестирование ход деловой игра. студент задавать вопрос система. общий студент удаваться получать ответ большинство закладывать система вопрос. однако учитывать студент работать несогласованный каждый информация мало. определять разрабатывать собеседник иметь достаточный точность ответ однако наличие вопрос требуемый слово синоним способный давать ответ. дальнейший улучшение работа собеседник предлагаться дорабатывать система администрирование ее помощь возможность создавать шаблон проверять входной текст наличие. заключение ход данный работа построить собственный система генерация лексикосинтаксический шаблон основа исходный файл текстовый строка. основа разрабатывать технология спроектировать реализовать система позволять имитировать процесс общение студент сотрудник филиал фирма ход бизнесигра. разрабатывать система развертывать интранет вшэ проведение последующий бизнесигр. выполнять следующий задача выявлять причина провал прошлый версия виртуальный собеседник. разрабатывать технический задание проводить сравнительный анализ модель улучшение алгоритм улучшать алгоритм работа система производить проектирование архитектура новый система. система разрабатывать. производить первичный тестирование система. система развертывать. проводить опытный эксплуатация система. библиографический список chapter introduction to microsoft solutions framework. technet электронный ресурс url дата обращение .. следствие теорема колмогоров–арнольд–хехтнильсен. искусственный нейронный сеть. теория практика электронный ресурс режим доступ дата обращение .. макконелла с. совершенный код. м. русский редакция скиен с. алгоритм руководство разработка. м. бхвпетербург избачок ю.с. информационный система спб. питер хайкин с. нейронный сеть полный курс. м. издательский дом вильямс'"
            ]
          },
          "metadata": {
            "tags": []
          },
          "execution_count": 23
        }
      ]
    },
    {
      "cell_type": "code",
      "metadata": {
        "id": "9ycLh75ZGxKT"
      },
      "source": [
        "vkrText.loc[290, :]"
      ],
      "execution_count": null,
      "outputs": []
    },
    {
      "cell_type": "code",
      "metadata": {
        "colab": {
          "base_uri": "https://localhost:8080/",
          "height": 397
        },
        "id": "BDddfsN0Ft5F",
        "outputId": "125f3348-6e12-4c25-d8bc-8ad1c6e171b4"
      },
      "source": [
        "vkrText.head()"
      ],
      "execution_count": 24,
      "outputs": [
        {
          "output_type": "execute_result",
          "data": {
            "text/html": [
              "<div>\n",
              "<style scoped>\n",
              "    .dataframe tbody tr th:only-of-type {\n",
              "        vertical-align: middle;\n",
              "    }\n",
              "\n",
              "    .dataframe tbody tr th {\n",
              "        vertical-align: top;\n",
              "    }\n",
              "\n",
              "    .dataframe thead th {\n",
              "        text-align: right;\n",
              "    }\n",
              "</style>\n",
              "<table border=\"1\" class=\"dataframe\">\n",
              "  <thead>\n",
              "    <tr style=\"text-align: right;\">\n",
              "      <th></th>\n",
              "      <th>Unnamed: 0</th>\n",
              "      <th>Unnamed: 0.1</th>\n",
              "      <th>link_vkr</th>\n",
              "      <th>name_vkr</th>\n",
              "      <th>name_student</th>\n",
              "      <th>name_prof</th>\n",
              "      <th>campus</th>\n",
              "      <th>programm</th>\n",
              "      <th>grade</th>\n",
              "      <th>year</th>\n",
              "      <th>link_file</th>\n",
              "      <th>fullText</th>\n",
              "      <th>shortText</th>\n",
              "    </tr>\n",
              "  </thead>\n",
              "  <tbody>\n",
              "    <tr>\n",
              "      <th>0</th>\n",
              "      <td>0</td>\n",
              "      <td>0</td>\n",
              "      <td>https://www.hse.ru/edu/vkr/219524501</td>\n",
              "      <td>Оценка стоимости компании</td>\n",
              "      <td>Дроздова Ирина Валерьевна</td>\n",
              "      <td>Абашева Александра Сергеевна</td>\n",
              "      <td>Вечерне-заочный факультет экономики и управле...</td>\n",
              "      <td>Экономика (в) (Бакалавриат)</td>\n",
              "      <td>-1</td>\n",
              "      <td>2018</td>\n",
              "      <td>NaN</td>\n",
              "      <td>NaN</td>\n",
              "      <td>NaN</td>\n",
              "    </tr>\n",
              "    <tr>\n",
              "      <th>1</th>\n",
              "      <td>1</td>\n",
              "      <td>1</td>\n",
              "      <td>https://www.hse.ru/edu/vkr/219524122</td>\n",
              "      <td>Оценка эффективности инвестиционного проекта</td>\n",
              "      <td>Стерледева Наталья Владимировна</td>\n",
              "      <td>Абашева Александра Сергеевна</td>\n",
              "      <td>Вечерне-заочный факультет экономики и управле...</td>\n",
              "      <td>Экономика (в) (Бакалавриат)</td>\n",
              "      <td>7</td>\n",
              "      <td>2018</td>\n",
              "      <td>http://lms.hse.ru/ap_service.php?getwork=1&amp;gui...</td>\n",
              "      <td>\\n ПЕРМСКИЙ ФИЛИАЛ ФЕДЕРАЛЬНОГО  ГОСУДАРСТВЕНН...</td>\n",
              "      <td>NaN</td>\n",
              "    </tr>\n",
              "    <tr>\n",
              "      <th>2</th>\n",
              "      <td>2</td>\n",
              "      <td>2</td>\n",
              "      <td>https://www.hse.ru/edu/vkr/153009903</td>\n",
              "      <td>Разработка системы управления знаниями в орган...</td>\n",
              "      <td>Беленова Анастасия Александровна</td>\n",
              "      <td>Аленина Карина Анатольевна</td>\n",
              "      <td>Факультет менеджмента (Пермь)</td>\n",
              "      <td>Менеджмент (Бакалавриат)</td>\n",
              "      <td>-1</td>\n",
              "      <td>2015</td>\n",
              "      <td>NaN</td>\n",
              "      <td>NaN</td>\n",
              "      <td>NaN</td>\n",
              "    </tr>\n",
              "    <tr>\n",
              "      <th>3</th>\n",
              "      <td>3</td>\n",
              "      <td>3</td>\n",
              "      <td>https://www.hse.ru/edu/vkr/153009689</td>\n",
              "      <td>Брендинг инновационного продукта</td>\n",
              "      <td>Воронков Кирилл Евгеньевич</td>\n",
              "      <td>Аленина Карина Анатольевна</td>\n",
              "      <td>Факультет менеджмента (Пермь)</td>\n",
              "      <td>Менеджмент (Бакалавриат)</td>\n",
              "      <td>-1</td>\n",
              "      <td>2015</td>\n",
              "      <td>NaN</td>\n",
              "      <td>NaN</td>\n",
              "      <td>NaN</td>\n",
              "    </tr>\n",
              "    <tr>\n",
              "      <th>4</th>\n",
              "      <td>4</td>\n",
              "      <td>4</td>\n",
              "      <td>https://www.hse.ru/edu/vkr/153009541</td>\n",
              "      <td>Стратегия инновационного развития бизнеса в ин...</td>\n",
              "      <td>Бадягина Мария Германовна</td>\n",
              "      <td>Аленина Карина Анатольевна</td>\n",
              "      <td>Факультет менеджмента (Пермь)</td>\n",
              "      <td>Менеджмент (Бакалавриат)</td>\n",
              "      <td>-1</td>\n",
              "      <td>2015</td>\n",
              "      <td>NaN</td>\n",
              "      <td>NaN</td>\n",
              "      <td>NaN</td>\n",
              "    </tr>\n",
              "  </tbody>\n",
              "</table>\n",
              "</div>"
            ],
            "text/plain": [
              "   Unnamed: 0  ...  shortText\n",
              "0           0  ...        NaN\n",
              "1           1  ...        NaN\n",
              "2           2  ...        NaN\n",
              "3           3  ...        NaN\n",
              "4           4  ...        NaN\n",
              "\n",
              "[5 rows x 13 columns]"
            ]
          },
          "metadata": {
            "tags": []
          },
          "execution_count": 24
        }
      ]
    },
    {
      "cell_type": "code",
      "metadata": {
        "colab": {
          "base_uri": "https://localhost:8080/"
        },
        "id": "a_RVVp_3XqjK",
        "outputId": "ac5a89eb-1f1c-48fb-f09d-57f552541b5d"
      },
      "source": [
        "%%time\n",
        "modelSum = Summarizer(custom_model=custom_model, custom_tokenizer=custom_tokenizer)\n",
        "result = modelSum(text)\n",
        "summary = \"\".join(result)\n",
        "print(len(summary), summary)\n",
        "#result = modelSum.run_embeddings(text, aggregate='mean')\n",
        "#result.shape"
      ],
      "execution_count": 25,
      "outputs": [
        {
          "output_type": "stream",
          "text": [
            "8109 работа описывать процесс реализация виртуальный собеседник помощь лексикосинтаксический шаблон использование язык lspl. зачастую такой проект требовать большой затрата время сторона преподаватель сторона студент. ход деловой игра студент делиться группа группа должный опрашивать сотрудник отдел фирма филиал четыре город разбрасывать весь мир. тестирование показывать качество работа собеседник недостаточно высоко. научный новизна работа улучшение ранее разрабатывать метод решение проблема именно внедрение учебный процесс виртуальный собеседник. глава описание предметный область первый глава описывать деловой игра технология msf «развертывание» выявлять недостаток предыдущий версия быть сформировывать требование новый версия система. этап разработка писаться код приложение подготавливаться документация. этап проводиться тестирование приложение устраняться обнаруживать ошибка. деловой игра «развертывание» изучение технология msf ниу вшэпермь использоваться ряд деловой игра envisionplanning «стабилизация» «развертывание». вовторых требоваться собирать информация каждый место проводиться процесс развертывание каждый филиал иметь свой особенность такой разный уровень квалификация персонал разный характеристика эвм разный программный обеспечение установленный разный настройка. команда формировать список вопрос отправлять преподаватель помощник поскольку играть роль сотрудник подразделение фирма «обалдеит» получать ответ некоторый время. студент составлять свой план развертывание обсуждать преподаватель. разбирать тот черта процесс который хотеться сохранять разрабатывать виртуальный собеседник преподаватель иметь исчерпывающий информация подразделение правильно задавать вопрос поделиться студент. общение преподаватель одновременно доступно сразу несколько группа студент. один главный требование система – диалог должный происходить естественный язык поскольку любой формализация общение срабатывать подсказка студент. глава быть определять бизнеспроцесс который задействовать разрабатывать виртуальный собеседник построить диаграмма нотация uml наглядный отображение быть выбирать алгоритм который работать разрабатывать система. анализ возможный проектный решение алгоритм реализация виртуальный собеседник сказать первый год игра проводиться ручной режим. выбор проектный решение скорректировать поправка размер составлять файл. наиболее простой вариант вводить запрос пользователь дословно сопоставляться один вопрос иметься база. русский язык это падеж время наклонение склонение число т.д. помимо помощь лексикосинтаксический шаблон возможность распознавать альтернатива часть исходный текст давать возможность задавать синоним определенный слово. предельно упрощенный форма лсш являться бнф. устанавливать никакой правило соглашение построение шаблон. помимо проблема сам шаблон отсутствовать возможность администрирование приложение. любой административный действие просмотр информационный база корректировка мочь выполнять программист автор система средство судб sql. lspl – продукт свободный некоммерческий использование. отделение студент каждый вопрос указывать явно. считать каждый отделение каждый должность занимать человек. исходить требование алгоритм система закладывать возможность использование синоним именование один тот должность. словарь синоним заготавливать система заранее. происходить это следующий образ указанный сотрудник указанный филиал браться лсш описывать компетенция сотрудник тот вопрос который давать ответ сам ответ. случай шаблон описывать компетенция данный сотрудник соответствовать заданный вопрос сказать сотрудник знать ответ. система определять несколько шаблон который одинаковый степень соотвествовать заданный вопрос ответ выдаваться случайно. пояснять сказать пример который прояснение смысл работа утилита предельно упрощать синтаксис параметр язык lspl. таблица .. результат работа утилита табла. исходить результирующий шаблон наш пример шаблон skf. рамка процесс получение ответ вопрос указанный утилита lspl вызываться дважды первый определение должность сотрудник второй – анализ заданный вопрос. шаблон находить студент получать ответ привязывать находить шаблон. утилита вернуть шаблон студент возвращаться сообщение сотрудник знать ответ заданный вопрос. название редактирование компетенция сотрудник филиал актор администратор описание администратор заходить интерфейс администрирование система выбирать филиал затем один сотрудник филиал. lspl lexicosyntaxic pattern language – язык предназначать формальный описание конструкция русский язык цель представление система извлечение информация текст. информация этот файл объединять структуризировать вид название филиал должность сотрудник вопрос ответ. стоять отмечать игра игра некоторый филиал меняться сотрудник точный формулировка должность поэтому исправление объединять файл создавать матрица принадлежность сотрудник филиал ... исходить создавать матрица наименование должность сотрудник филиал приводиться единый вид. какоето условие совпадать программа выдавать номер строка ошибка. поэтому решать создавать несколько подпрограмма наполнение база данные генерация шаблон. шаблон должность создавать использовать словарь синоним. помимо заполнять таблица partofspeech часть речь который понадобиться получение синоним каждый слово вопрос. получение синоним использовать словарь синоним компания яндекс. поэтому решать заранее сгенерировать синоним шаблон. null db.word.addnew word text alt.text partofspeechid db.partofspeech.tolist.firstordefaultpos pos.name alt.pos.id mainsymominid dbword.id ; db.savechanges; xlworkbook.close; xlapp.quit; заполнение таблица синоним сгенерировать шаблон. часть речь предложение играть разный роль иметь разный значимость. далее кратко описывать алгоритм составление шаблон. код добавлять база данные шаблон приводить ниже. mask.nonrequired.selects partofspeechmask.partofspeechdicts.tolower.containsword.partofspeech.name.tolower wordsstrings.removeatj; j; if wordsstrings.count continue; listphrasepattern wordpatternslist new listphrasepattern; for int j ; j wordsstrings.count; j var word db.word.includepartofspeech.tolist.firstw w.text wordsstringsj; if word.mainsymominid ! второй альтернатива «асистемный падминистратор text » предполагать исходный текст соотносить должность текст встречаться словосочетание состоять прилагательный «системный» существительное «администратор» который мочь согласовывать себя. запускать команда командный строка указывать относительный путь входной файл лексикосинтаксический шаблон выходной файл искомый шаблон. разбирать обработка результат работа утилита. lspltools результат работа генерировать xml файл который указывать какой именно шаблон встречать текст. пример такой xml файл представлять низко качество входной текст указывать вопрос «сколько компьютер ваш фирма» качество лексикосинтаксический шаблон указывать qcomp internetspeed areusable aresuitable levelemployee characteristic versos willchange languageprogram cabinets areservershere islocalnetworkhere themselfinstall ? завершение работа утилита содержимое выходной файл обрабатываться система проверяться какой подавать шаблон встречать текст. разработка вебприложение спроектировать наполнять база данные начинать разработка вебприложение взаимодействие пользователь платформа asp.net. процесс проверка шаблон происходить помощь запуск процесс система windows. сначала формироваться файл обрабатывать строка указывать либо должность сотрудник либо вопрос. завершение процесс обрабатываться выходной файл сгенерировать утилита шаблон определенный наиболее подходящий предлагать выходной файл сопоставляться зависимость ситуация шаблон нужный таблица база данные основание система приниматься решение. качество хостинг выбирать microsoft azure. поскольку система использовать база данные работа сначала развертывать она. система получать доступ папка система все еще отвечать поставлять вопрос. решение проблема решать производить отладка путем вывод сообщение ошибка окно ответ. производить первичный тестирование система. technet электронный ресурс url дата обращение .. следствие теорема колмогоров–арнольд–хехтнильсен.\n",
            "CPU times: user 6.87 s, sys: 9.04 s, total: 15.9 s\n",
            "Wall time: 10.4 s\n"
          ],
          "name": "stdout"
        }
      ]
    },
    {
      "cell_type": "code",
      "metadata": {
        "id": "yWwgagHiJmFl"
      },
      "source": [
        "with open(\"Output.txt\", \"w\") as text_file:    \n",
        "    text_file.write(summary)"
      ],
      "execution_count": null,
      "outputs": []
    },
    {
      "cell_type": "markdown",
      "metadata": {
        "id": "JcHOgbpUm39B"
      },
      "source": [
        "## independent works"
      ]
    },
    {
      "cell_type": "code",
      "metadata": {
        "id": "yi9uALgWwtRV"
      },
      "source": [
        "%%time\r\n",
        "modelSum = Summarizer(custom_model=custom_model, custom_tokenizer=custom_tokenizer)\r\n",
        "for row in tqdm(range(vkrText.shape[0])):\r\n",
        "    if type(vkrText.loc[row, 'fullText'])==str:\r\n",
        "        #print(row, vkrText.loc[row, 'fullText'])\r\n",
        "        text = clearTextAfterGarbage(vkrText.loc[row, 'fullText'])\r\n",
        "        result = modelSum(text, min_length=20, max_length=100)\r\n",
        "        summary = \"\".join(result)\r\n",
        "        vkrText.loc[row, 'shortText'] = summary"
      ],
      "execution_count": null,
      "outputs": []
    },
    {
      "cell_type": "code",
      "metadata": {
        "id": "8dHm9ao0I60F"
      },
      "source": [
        "vkrText['shortText'].nunique()"
      ],
      "execution_count": null,
      "outputs": []
    },
    {
      "cell_type": "code",
      "metadata": {
        "id": "40GU5B6HsGqf"
      },
      "source": [
        "vkrText.head(10)"
      ],
      "execution_count": null,
      "outputs": []
    },
    {
      "cell_type": "code",
      "metadata": {
        "id": "mEKl-oZUGACO"
      },
      "source": [
        "vkrText.drop(['Unnamed: 0','Unnamed: 0.1','fullText'], axis=1, inplace=True)"
      ],
      "execution_count": null,
      "outputs": []
    },
    {
      "cell_type": "code",
      "metadata": {
        "id": "qqpOty7QGKtD"
      },
      "source": [
        "vkrText.to_csv('vkrTextShort.csv')"
      ],
      "execution_count": null,
      "outputs": []
    },
    {
      "cell_type": "markdown",
      "metadata": {
        "id": "xhB5TgAlm7Tm"
      },
      "source": [
        "## Works grouped by Prof"
      ]
    },
    {
      "cell_type": "code",
      "metadata": {
        "id": "qJO6KeynnJC0"
      },
      "source": [
        "clearVkr = vkrText.loc[vkrText[\"fullText\"].dropna().index, :]\n",
        "texts = clearVkr.groupby(\"name_prof\")['fullText'].sum()"
      ],
      "execution_count": 26,
      "outputs": []
    },
    {
      "cell_type": "code",
      "metadata": {
        "colab": {
          "base_uri": "https://localhost:8080/",
          "height": 238
        },
        "id": "iy24w0lmoGD-",
        "outputId": "739f34d6-f7a2-41fe-cc4f-9dc727f24f1a"
      },
      "source": [
        "df = pd.DataFrame(texts)\n",
        "df['shortText']=''\n",
        "df['embeddings']=''\n",
        "df.head()"
      ],
      "execution_count": 27,
      "outputs": [
        {
          "output_type": "execute_result",
          "data": {
            "text/html": [
              "<div>\n",
              "<style scoped>\n",
              "    .dataframe tbody tr th:only-of-type {\n",
              "        vertical-align: middle;\n",
              "    }\n",
              "\n",
              "    .dataframe tbody tr th {\n",
              "        vertical-align: top;\n",
              "    }\n",
              "\n",
              "    .dataframe thead th {\n",
              "        text-align: right;\n",
              "    }\n",
              "</style>\n",
              "<table border=\"1\" class=\"dataframe\">\n",
              "  <thead>\n",
              "    <tr style=\"text-align: right;\">\n",
              "      <th></th>\n",
              "      <th>fullText</th>\n",
              "      <th>shortText</th>\n",
              "      <th>embeddings</th>\n",
              "    </tr>\n",
              "    <tr>\n",
              "      <th>name_prof</th>\n",
              "      <th></th>\n",
              "      <th></th>\n",
              "      <th></th>\n",
              "    </tr>\n",
              "  </thead>\n",
              "  <tbody>\n",
              "    <tr>\n",
              "      <th>Абашева Александра Сергеевна</th>\n",
              "      <td>\\n ПЕРМСКИЙ ФИЛИАЛ ФЕДЕРАЛЬНОГО  ГОСУДАРСТВЕНН...</td>\n",
              "      <td></td>\n",
              "      <td></td>\n",
              "    </tr>\n",
              "    <tr>\n",
              "      <th>Андреева Ольга Юрьевна</th>\n",
              "      <td>ПЕРМСКИЙ ФИЛИАЛ ФЕДЕРАЛЬНОГО  ГОСУДАРСТВЕННОГО...</td>\n",
              "      <td></td>\n",
              "      <td></td>\n",
              "    </tr>\n",
              "    <tr>\n",
              "      <th>Артемьев Дмитрий Геннадьевич</th>\n",
              "      <td>\\n\\nПЕРМСКИЙ ФИЛИАЛ ФЕДЕРАЛЬНОГО  ГОСУДАРСТВЕ...</td>\n",
              "      <td></td>\n",
              "      <td></td>\n",
              "    </tr>\n",
              "    <tr>\n",
              "      <th>Барахас Анхель</th>\n",
              "      <td>FEDERAL STATE EDUCATIONAL INSTITUTION OF HIGHE...</td>\n",
              "      <td></td>\n",
              "      <td></td>\n",
              "    </tr>\n",
              "    <tr>\n",
              "      <th>Белых Светлана Александровна</th>\n",
              "      <td>ПЕРМСКИЙ ФИЛИАЛ ФЕДЕРАЛЬНОГО  ГОСУДАРСТВЕННОГО...</td>\n",
              "      <td></td>\n",
              "      <td></td>\n",
              "    </tr>\n",
              "  </tbody>\n",
              "</table>\n",
              "</div>"
            ],
            "text/plain": [
              "                                                                        fullText  ... embeddings\n",
              "name_prof                                                                         ...           \n",
              " Абашева Александра Сергеевна  \\n ПЕРМСКИЙ ФИЛИАЛ ФЕДЕРАЛЬНОГО  ГОСУДАРСТВЕНН...  ...           \n",
              " Андреева Ольга Юрьевна        ПЕРМСКИЙ ФИЛИАЛ ФЕДЕРАЛЬНОГО  ГОСУДАРСТВЕННОГО...  ...           \n",
              " Артемьев Дмитрий Геннадьевич   \\n\\nПЕРМСКИЙ ФИЛИАЛ ФЕДЕРАЛЬНОГО  ГОСУДАРСТВЕ...  ...           \n",
              " Барахас Анхель                FEDERAL STATE EDUCATIONAL INSTITUTION OF HIGHE...  ...           \n",
              " Белых Светлана Александровна  ПЕРМСКИЙ ФИЛИАЛ ФЕДЕРАЛЬНОГО  ГОСУДАРСТВЕННОГО...  ...           \n",
              "\n",
              "[5 rows x 3 columns]"
            ]
          },
          "metadata": {
            "tags": []
          },
          "execution_count": 27
        }
      ]
    },
    {
      "cell_type": "code",
      "metadata": {
        "colab": {
          "base_uri": "https://localhost:8080/"
        },
        "id": "HRN1gpLroAAQ",
        "outputId": "d4fe0d79-ea02-48d8-80cc-696664d341a7"
      },
      "source": [
        "%%time\n",
        "modelSum = Summarizer(custom_model=custom_model, custom_tokenizer=custom_tokenizer)\n",
        "i = 0\n",
        "for row in tqdm(df.index):\n",
        "#for row in df.index:\n",
        "    #print(row)\n",
        "    text = clearTextAfterGarbage(df.loc[row, 'fullText'])[:1000000]\n",
        "    result = modelSum(text, min_length=20, max_length=100)\n",
        "    summary = \"\".join(result)\n",
        "    df.loc[row, 'shortText'] = summary\n",
        "    embeddings = modelSum.run_embeddings(text, aggregate='mean')\n",
        "    df.loc[row, 'embeddings'] = embeddings\n",
        "    i+=1"
      ],
      "execution_count": 28,
      "outputs": [
        {
          "output_type": "stream",
          "text": [
            "100%|██████████| 60/60 [6:06:06<00:00, 366.10s/it]"
          ],
          "name": "stderr"
        },
        {
          "output_type": "stream",
          "text": [
            "CPU times: user 6h 29min 22s, sys: 3h 24min 38s, total: 9h 54min 1s\n",
            "Wall time: 6h 6min 6s\n"
          ],
          "name": "stdout"
        },
        {
          "output_type": "stream",
          "text": [
            "\n"
          ],
          "name": "stderr"
        }
      ]
    },
    {
      "cell_type": "code",
      "metadata": {
        "id": "gyDAo6r5pIcW",
        "colab": {
          "base_uri": "https://localhost:8080/",
          "height": 394
        },
        "outputId": "35a558fd-d1c1-46ec-91af-a2be38eab897"
      },
      "source": [
        "df.head(10)"
      ],
      "execution_count": 29,
      "outputs": [
        {
          "output_type": "execute_result",
          "data": {
            "text/html": [
              "<div>\n",
              "<style scoped>\n",
              "    .dataframe tbody tr th:only-of-type {\n",
              "        vertical-align: middle;\n",
              "    }\n",
              "\n",
              "    .dataframe tbody tr th {\n",
              "        vertical-align: top;\n",
              "    }\n",
              "\n",
              "    .dataframe thead th {\n",
              "        text-align: right;\n",
              "    }\n",
              "</style>\n",
              "<table border=\"1\" class=\"dataframe\">\n",
              "  <thead>\n",
              "    <tr style=\"text-align: right;\">\n",
              "      <th></th>\n",
              "      <th>fullText</th>\n",
              "      <th>shortText</th>\n",
              "      <th>embeddings</th>\n",
              "    </tr>\n",
              "    <tr>\n",
              "      <th>name_prof</th>\n",
              "      <th></th>\n",
              "      <th></th>\n",
              "      <th></th>\n",
              "    </tr>\n",
              "  </thead>\n",
              "  <tbody>\n",
              "    <tr>\n",
              "      <th>Абашева Александра Сергеевна</th>\n",
              "      <td>\\n ПЕРМСКИЙ ФИЛИАЛ ФЕДЕРАЛЬНОГО  ГОСУДАРСТВЕНН...</td>\n",
              "      <td>абашев цель работа являться оценка эффективнос...</td>\n",
              "      <td>[-0.4780663, -0.6637962, 0.6672945, -0.1769247...</td>\n",
              "    </tr>\n",
              "    <tr>\n",
              "      <th>Андреева Ольга Юрьевна</th>\n",
              "      <td>ПЕРМСКИЙ ФИЛИАЛ ФЕДЕРАЛЬНОГО  ГОСУДАРСТВЕННОГО...</td>\n",
              "      <td>сбор данный проводить опрос потребитель менедж...</td>\n",
              "      <td>[-0.49407846, -0.59260714, 0.64088005, -0.1710...</td>\n",
              "    </tr>\n",
              "    <tr>\n",
              "      <th>Артемьев Дмитрий Геннадьевич</th>\n",
              "      <td>\\n\\nПЕРМСКИЙ ФИЛИАЛ ФЕДЕРАЛЬНОГО  ГОСУДАРСТВЕ...</td>\n",
              "      <td>цель исследование являться снижение общий затр...</td>\n",
              "      <td>[-0.54530317, -0.5717621, 0.67262906, -0.15913...</td>\n",
              "    </tr>\n",
              "    <tr>\n",
              "      <th>Барахас Анхель</th>\n",
              "      <td>FEDERAL STATE EDUCATIONAL INSTITUTION OF HIGHE...</td>\n",
              "      <td>however at the moment there is still no resear...</td>\n",
              "      <td>[-1.1577483, -0.3386782, 0.8410521, 0.0707182,...</td>\n",
              "    </tr>\n",
              "    <tr>\n",
              "      <th>Белых Светлана Александровна</th>\n",
              "      <td>ПЕРМСКИЙ ФИЛИАЛ ФЕДЕРАЛЬНОГО  ГОСУДАРСТВЕННОГО...</td>\n",
              "      <td>приложение ……………………………………………………………………. задача ...</td>\n",
              "      <td>[-0.49121606, -0.6550153, 0.682922, -0.1549412...</td>\n",
              "    </tr>\n",
              "    <tr>\n",
              "      <th>Божья-Воля Анастасия Александровна</th>\n",
              "      <td>Пермский филиал федерального государственного ...</td>\n",
              "      <td>юрий михайлович плюснин научный руководитель к...</td>\n",
              "      <td>[-0.57298595, -0.55314493, 0.6789771, -0.13729...</td>\n",
              "    </tr>\n",
              "    <tr>\n",
              "      <th>Бузмаков Алексей Владимирович</th>\n",
              "      <td>Пермь, 2018 год \\n Аннотация В этой работе опи...</td>\n",
              "      <td>разрабатывать виртуальный собеседник реализова...</td>\n",
              "      <td>[-0.3354775, -0.5867729, 0.6211972, -0.1910156...</td>\n",
              "    </tr>\n",
              "    <tr>\n",
              "      <th>Букина Татьяна Витальевна</th>\n",
              "      <td>ПЕРМСКИЙ ФИЛИАЛ ФЕДЕРАЛЬНОГО ГОСУДАРСТВЕННОГО ...</td>\n",
              "      <td>изучаться регионва период год год. исследовани...</td>\n",
              "      <td>[-0.57718694, -0.6300543, 0.58949316, -0.13322...</td>\n",
              "    </tr>\n",
              "    <tr>\n",
              "      <th>Быкова Анна Андреевна</th>\n",
              "      <td>ПЕРМСКИЙ ФИЛИАЛ ФЕДЕРАЛЬНОГО ГОСУДАРСТВЕННОГО ...</td>\n",
              "      <td>работа использовать выборка российский банк пе...</td>\n",
              "      <td>[-0.5914128, -0.56986386, 0.5640466, -0.110308...</td>\n",
              "    </tr>\n",
              "    <tr>\n",
              "      <th>Василенко Юрий Владимирович</th>\n",
              "      <td>ПЕРМСКИЙ ФИЛИАЛ ФЕДЕРАЛЬНОГО ГОСУДАРСТВЕННОГО ...</td>\n",
              "      <td>корейский полуостров продолжать оставаться рас...</td>\n",
              "      <td>[-0.633536, -0.3937521, 0.6621986, -0.13979098...</td>\n",
              "    </tr>\n",
              "  </tbody>\n",
              "</table>\n",
              "</div>"
            ],
            "text/plain": [
              "                                                                              fullText  ...                                         embeddings\n",
              "name_prof                                                                               ...                                                   \n",
              " Абашева Александра Сергеевна        \\n ПЕРМСКИЙ ФИЛИАЛ ФЕДЕРАЛЬНОГО  ГОСУДАРСТВЕНН...  ...  [-0.4780663, -0.6637962, 0.6672945, -0.1769247...\n",
              " Андреева Ольга Юрьевна              ПЕРМСКИЙ ФИЛИАЛ ФЕДЕРАЛЬНОГО  ГОСУДАРСТВЕННОГО...  ...  [-0.49407846, -0.59260714, 0.64088005, -0.1710...\n",
              " Артемьев Дмитрий Геннадьевич         \\n\\nПЕРМСКИЙ ФИЛИАЛ ФЕДЕРАЛЬНОГО  ГОСУДАРСТВЕ...  ...  [-0.54530317, -0.5717621, 0.67262906, -0.15913...\n",
              " Барахас Анхель                      FEDERAL STATE EDUCATIONAL INSTITUTION OF HIGHE...  ...  [-1.1577483, -0.3386782, 0.8410521, 0.0707182,...\n",
              " Белых Светлана Александровна        ПЕРМСКИЙ ФИЛИАЛ ФЕДЕРАЛЬНОГО  ГОСУДАРСТВЕННОГО...  ...  [-0.49121606, -0.6550153, 0.682922, -0.1549412...\n",
              " Божья-Воля Анастасия Александровна  Пермский филиал федерального государственного ...  ...  [-0.57298595, -0.55314493, 0.6789771, -0.13729...\n",
              " Бузмаков Алексей Владимирович       Пермь, 2018 год \\n Аннотация В этой работе опи...  ...  [-0.3354775, -0.5867729, 0.6211972, -0.1910156...\n",
              " Букина Татьяна Витальевна           ПЕРМСКИЙ ФИЛИАЛ ФЕДЕРАЛЬНОГО ГОСУДАРСТВЕННОГО ...  ...  [-0.57718694, -0.6300543, 0.58949316, -0.13322...\n",
              " Быкова Анна Андреевна               ПЕРМСКИЙ ФИЛИАЛ ФЕДЕРАЛЬНОГО ГОСУДАРСТВЕННОГО ...  ...  [-0.5914128, -0.56986386, 0.5640466, -0.110308...\n",
              " Василенко Юрий Владимирович         ПЕРМСКИЙ ФИЛИАЛ ФЕДЕРАЛЬНОГО ГОСУДАРСТВЕННОГО ...  ...  [-0.633536, -0.3937521, 0.6621986, -0.13979098...\n",
              "\n",
              "[10 rows x 3 columns]"
            ]
          },
          "metadata": {
            "tags": []
          },
          "execution_count": 29
        }
      ]
    },
    {
      "cell_type": "code",
      "metadata": {
        "id": "N3A599TkrqUm"
      },
      "source": [
        "df.drop(\"fullText\",axis=1, inplace=True)"
      ],
      "execution_count": 32,
      "outputs": []
    },
    {
      "cell_type": "code",
      "metadata": {
        "id": "VTCd83c0rkXf"
      },
      "source": [
        "df.to_csv(\"text1.csv\")"
      ],
      "execution_count": 33,
      "outputs": []
    },
    {
      "cell_type": "code",
      "metadata": {
        "id": "q9V6PEsjBcbX"
      },
      "source": [
        ""
      ],
      "execution_count": null,
      "outputs": []
    }
  ]
}