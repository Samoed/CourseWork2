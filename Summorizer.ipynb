{
  "nbformat": 4,
  "nbformat_minor": 0,
  "metadata": {
    "colab": {
      "name": "Summorizer.ipynb",
      "provenance": []
    },
    "kernelspec": {
      "display_name": "Python 3",
      "name": "python3"
    },
    "widgets": {
      "application/vnd.jupyter.widget-state+json": {
        "7e4aae10a1564626bc47a28f945fde8f": {
          "model_module": "@jupyter-widgets/controls",
          "model_name": "HBoxModel",
          "state": {
            "_view_name": "HBoxView",
            "_dom_classes": [],
            "_model_name": "HBoxModel",
            "_view_module": "@jupyter-widgets/controls",
            "_model_module_version": "1.5.0",
            "_view_count": null,
            "_view_module_version": "1.5.0",
            "box_style": "",
            "layout": "IPY_MODEL_54706368a9d04a818b04ea5893a201a4",
            "_model_module": "@jupyter-widgets/controls",
            "children": [
              "IPY_MODEL_008d524da4244ed5afa27c8828beca32",
              "IPY_MODEL_e994a55f0bfe47faa25bc3d1e666f185"
            ]
          }
        },
        "1ead77f3e9c44fa4bd35570e64543319": {
          "model_module": "@jupyter-widgets/controls",
          "model_name": "HBoxModel",
          "state": {
            "_view_name": "HBoxView",
            "_dom_classes": [],
            "_model_name": "HBoxModel",
            "_view_module": "@jupyter-widgets/controls",
            "_model_module_version": "1.5.0",
            "_view_count": null,
            "_view_module_version": "1.5.0",
            "box_style": "",
            "layout": "IPY_MODEL_2ea9e75e44534db59a6547954045c084",
            "_model_module": "@jupyter-widgets/controls",
            "children": [
              "IPY_MODEL_02bb0823eea244daa56449f9983a306d",
              "IPY_MODEL_4b5c960d193f4503992579f07a5c3238"
            ]
          }
        },
        "c124a7840d184f5b925e2bdd4875becb": {
          "model_module": "@jupyter-widgets/controls",
          "model_name": "HBoxModel",
          "state": {
            "_view_name": "HBoxView",
            "_dom_classes": [],
            "_model_name": "HBoxModel",
            "_view_module": "@jupyter-widgets/controls",
            "_model_module_version": "1.5.0",
            "_view_count": null,
            "_view_module_version": "1.5.0",
            "box_style": "",
            "layout": "IPY_MODEL_cb0b2cd1666c448c83cf9869cc7e7552",
            "_model_module": "@jupyter-widgets/controls",
            "children": [
              "IPY_MODEL_3c65959ff5584fadae8bd2eaf58e020f",
              "IPY_MODEL_8b5fdbed5cf34a52830e2ed247bb7336"
            ]
          }
        },
        "b29c947b182b4b37a384a47a313d8baa": {
          "model_module": "@jupyter-widgets/controls",
          "model_name": "HBoxModel",
          "state": {
            "_view_name": "HBoxView",
            "_dom_classes": [],
            "_model_name": "HBoxModel",
            "_view_module": "@jupyter-widgets/controls",
            "_model_module_version": "1.5.0",
            "_view_count": null,
            "_view_module_version": "1.5.0",
            "box_style": "",
            "layout": "IPY_MODEL_620ffc0ea9ca448a899e4a819f7f8869",
            "_model_module": "@jupyter-widgets/controls",
            "children": [
              "IPY_MODEL_5dd44b62f2e14a68a8395c1b8902c577",
              "IPY_MODEL_8fbddde73559470b939b651815bca1ef"
            ]
          }
        },
        "9a289917abb64a15a85b859252de6b5d": {
          "model_module": "@jupyter-widgets/controls",
          "model_name": "HBoxModel",
          "state": {
            "_view_name": "HBoxView",
            "_dom_classes": [],
            "_model_name": "HBoxModel",
            "_view_module": "@jupyter-widgets/controls",
            "_model_module_version": "1.5.0",
            "_view_count": null,
            "_view_module_version": "1.5.0",
            "box_style": "",
            "layout": "IPY_MODEL_f156f514c2a34147a6d4b9601d806ad6",
            "_model_module": "@jupyter-widgets/controls",
            "children": [
              "IPY_MODEL_14d0f2d417ad4a7ba8c53ca1d55298d3",
              "IPY_MODEL_b2fab941b6ef47fd89e2217cf7a2b83b"
            ]
          }
        }
      }
    }
  },
  "cells": [
    {
      "cell_type": "code",
      "metadata": {
        "colab": {
          "base_uri": "https://localhost:8080/",
          "height": 1000
        },
        "id": "egvHm65UW-Qy",
        "outputId": "9c8279e5-2311-4b65-c0b8-75eb4b32eb8f"
      },
      "source": [
        "!pip install -U bert-extractive-summarizer\n",
        "!pip install -U python-docx\n",
        "!pip install -U transformers\n",
        "!pip install -U textract\n",
        "!apt-get install antiword"
      ],
      "execution_count": 62,
      "outputs": [
        {
          "output_type": "stream",
          "text": [
            "Requirement already up-to-date: bert-extractive-summarizer in /usr/local/lib/python3.6/dist-packages (0.6.1)\n",
            "Requirement already satisfied, skipping upgrade: transformers in /usr/local/lib/python3.6/dist-packages (from bert-extractive-summarizer) (4.2.2)\n",
            "Requirement already satisfied, skipping upgrade: scikit-learn in /usr/local/lib/python3.6/dist-packages (from bert-extractive-summarizer) (0.22.2.post1)\n",
            "Requirement already satisfied, skipping upgrade: spacy in /usr/local/lib/python3.6/dist-packages (from bert-extractive-summarizer) (2.2.4)\n",
            "Requirement already satisfied, skipping upgrade: importlib-metadata; python_version < \"3.8\" in /usr/local/lib/python3.6/dist-packages (from transformers->bert-extractive-summarizer) (3.4.0)\n",
            "Requirement already satisfied, skipping upgrade: filelock in /usr/local/lib/python3.6/dist-packages (from transformers->bert-extractive-summarizer) (3.0.12)\n",
            "Requirement already satisfied, skipping upgrade: tokenizers==0.9.4 in /usr/local/lib/python3.6/dist-packages (from transformers->bert-extractive-summarizer) (0.9.4)\n",
            "Requirement already satisfied, skipping upgrade: tqdm>=4.27 in /usr/local/lib/python3.6/dist-packages (from transformers->bert-extractive-summarizer) (4.41.1)\n",
            "Requirement already satisfied, skipping upgrade: requests in /usr/local/lib/python3.6/dist-packages (from transformers->bert-extractive-summarizer) (2.23.0)\n",
            "Requirement already satisfied, skipping upgrade: sacremoses in /usr/local/lib/python3.6/dist-packages (from transformers->bert-extractive-summarizer) (0.0.43)\n",
            "Requirement already satisfied, skipping upgrade: regex!=2019.12.17 in /usr/local/lib/python3.6/dist-packages (from transformers->bert-extractive-summarizer) (2019.12.20)\n",
            "Requirement already satisfied, skipping upgrade: dataclasses; python_version < \"3.7\" in /usr/local/lib/python3.6/dist-packages (from transformers->bert-extractive-summarizer) (0.8)\n",
            "Requirement already satisfied, skipping upgrade: numpy in /usr/local/lib/python3.6/dist-packages (from transformers->bert-extractive-summarizer) (1.19.5)\n",
            "Requirement already satisfied, skipping upgrade: packaging in /usr/local/lib/python3.6/dist-packages (from transformers->bert-extractive-summarizer) (20.9)\n",
            "Requirement already satisfied, skipping upgrade: joblib>=0.11 in /usr/local/lib/python3.6/dist-packages (from scikit-learn->bert-extractive-summarizer) (1.0.0)\n",
            "Requirement already satisfied, skipping upgrade: scipy>=0.17.0 in /usr/local/lib/python3.6/dist-packages (from scikit-learn->bert-extractive-summarizer) (1.4.1)\n",
            "Requirement already satisfied, skipping upgrade: plac<1.2.0,>=0.9.6 in /usr/local/lib/python3.6/dist-packages (from spacy->bert-extractive-summarizer) (1.1.3)\n",
            "Requirement already satisfied, skipping upgrade: catalogue<1.1.0,>=0.0.7 in /usr/local/lib/python3.6/dist-packages (from spacy->bert-extractive-summarizer) (1.0.0)\n",
            "Requirement already satisfied, skipping upgrade: cymem<2.1.0,>=2.0.2 in /usr/local/lib/python3.6/dist-packages (from spacy->bert-extractive-summarizer) (2.0.5)\n",
            "Requirement already satisfied, skipping upgrade: srsly<1.1.0,>=1.0.2 in /usr/local/lib/python3.6/dist-packages (from spacy->bert-extractive-summarizer) (1.0.5)\n",
            "Requirement already satisfied, skipping upgrade: thinc==7.4.0 in /usr/local/lib/python3.6/dist-packages (from spacy->bert-extractive-summarizer) (7.4.0)\n",
            "Requirement already satisfied, skipping upgrade: wasabi<1.1.0,>=0.4.0 in /usr/local/lib/python3.6/dist-packages (from spacy->bert-extractive-summarizer) (0.8.2)\n",
            "Requirement already satisfied, skipping upgrade: setuptools in /usr/local/lib/python3.6/dist-packages (from spacy->bert-extractive-summarizer) (53.0.0)\n",
            "Requirement already satisfied, skipping upgrade: blis<0.5.0,>=0.4.0 in /usr/local/lib/python3.6/dist-packages (from spacy->bert-extractive-summarizer) (0.4.1)\n",
            "Requirement already satisfied, skipping upgrade: murmurhash<1.1.0,>=0.28.0 in /usr/local/lib/python3.6/dist-packages (from spacy->bert-extractive-summarizer) (1.0.5)\n",
            "Requirement already satisfied, skipping upgrade: preshed<3.1.0,>=3.0.2 in /usr/local/lib/python3.6/dist-packages (from spacy->bert-extractive-summarizer) (3.0.5)\n",
            "Requirement already satisfied, skipping upgrade: zipp>=0.5 in /usr/local/lib/python3.6/dist-packages (from importlib-metadata; python_version < \"3.8\"->transformers->bert-extractive-summarizer) (3.4.0)\n",
            "Requirement already satisfied, skipping upgrade: typing-extensions>=3.6.4; python_version < \"3.8\" in /usr/local/lib/python3.6/dist-packages (from importlib-metadata; python_version < \"3.8\"->transformers->bert-extractive-summarizer) (3.7.4.3)\n",
            "Requirement already satisfied, skipping upgrade: urllib3!=1.25.0,!=1.25.1,<1.26,>=1.21.1 in /usr/local/lib/python3.6/dist-packages (from requests->transformers->bert-extractive-summarizer) (1.24.3)\n",
            "Requirement already satisfied, skipping upgrade: idna<3,>=2.5 in /usr/local/lib/python3.6/dist-packages (from requests->transformers->bert-extractive-summarizer) (2.10)\n",
            "Requirement already satisfied, skipping upgrade: chardet<4,>=3.0.2 in /usr/local/lib/python3.6/dist-packages (from requests->transformers->bert-extractive-summarizer) (3.0.4)\n",
            "Requirement already satisfied, skipping upgrade: certifi>=2017.4.17 in /usr/local/lib/python3.6/dist-packages (from requests->transformers->bert-extractive-summarizer) (2020.12.5)\n",
            "Requirement already satisfied, skipping upgrade: six in /usr/local/lib/python3.6/dist-packages (from sacremoses->transformers->bert-extractive-summarizer) (1.15.0)\n",
            "Requirement already satisfied, skipping upgrade: click in /usr/local/lib/python3.6/dist-packages (from sacremoses->transformers->bert-extractive-summarizer) (7.1.2)\n",
            "Requirement already satisfied, skipping upgrade: pyparsing>=2.0.2 in /usr/local/lib/python3.6/dist-packages (from packaging->transformers->bert-extractive-summarizer) (2.4.7)\n",
            "Requirement already up-to-date: python-docx in /usr/local/lib/python3.6/dist-packages (0.8.10)\n",
            "Requirement already satisfied, skipping upgrade: lxml>=2.3.2 in /usr/local/lib/python3.6/dist-packages (from python-docx) (4.2.6)\n",
            "Requirement already up-to-date: transformers in /usr/local/lib/python3.6/dist-packages (4.2.2)\n",
            "Requirement already satisfied, skipping upgrade: numpy in /usr/local/lib/python3.6/dist-packages (from transformers) (1.19.5)\n",
            "Requirement already satisfied, skipping upgrade: tokenizers==0.9.4 in /usr/local/lib/python3.6/dist-packages (from transformers) (0.9.4)\n",
            "Requirement already satisfied, skipping upgrade: sacremoses in /usr/local/lib/python3.6/dist-packages (from transformers) (0.0.43)\n",
            "Requirement already satisfied, skipping upgrade: filelock in /usr/local/lib/python3.6/dist-packages (from transformers) (3.0.12)\n",
            "Requirement already satisfied, skipping upgrade: packaging in /usr/local/lib/python3.6/dist-packages (from transformers) (20.9)\n",
            "Requirement already satisfied, skipping upgrade: requests in /usr/local/lib/python3.6/dist-packages (from transformers) (2.23.0)\n",
            "Requirement already satisfied, skipping upgrade: tqdm>=4.27 in /usr/local/lib/python3.6/dist-packages (from transformers) (4.41.1)\n",
            "Requirement already satisfied, skipping upgrade: importlib-metadata; python_version < \"3.8\" in /usr/local/lib/python3.6/dist-packages (from transformers) (3.4.0)\n",
            "Requirement already satisfied, skipping upgrade: regex!=2019.12.17 in /usr/local/lib/python3.6/dist-packages (from transformers) (2019.12.20)\n",
            "Requirement already satisfied, skipping upgrade: dataclasses; python_version < \"3.7\" in /usr/local/lib/python3.6/dist-packages (from transformers) (0.8)\n",
            "Requirement already satisfied, skipping upgrade: six in /usr/local/lib/python3.6/dist-packages (from sacremoses->transformers) (1.15.0)\n",
            "Requirement already satisfied, skipping upgrade: joblib in /usr/local/lib/python3.6/dist-packages (from sacremoses->transformers) (1.0.0)\n",
            "Requirement already satisfied, skipping upgrade: click in /usr/local/lib/python3.6/dist-packages (from sacremoses->transformers) (7.1.2)\n",
            "Requirement already satisfied, skipping upgrade: pyparsing>=2.0.2 in /usr/local/lib/python3.6/dist-packages (from packaging->transformers) (2.4.7)\n",
            "Requirement already satisfied, skipping upgrade: chardet<4,>=3.0.2 in /usr/local/lib/python3.6/dist-packages (from requests->transformers) (3.0.4)\n",
            "Requirement already satisfied, skipping upgrade: idna<3,>=2.5 in /usr/local/lib/python3.6/dist-packages (from requests->transformers) (2.10)\n",
            "Requirement already satisfied, skipping upgrade: certifi>=2017.4.17 in /usr/local/lib/python3.6/dist-packages (from requests->transformers) (2020.12.5)\n",
            "Requirement already satisfied, skipping upgrade: urllib3!=1.25.0,!=1.25.1,<1.26,>=1.21.1 in /usr/local/lib/python3.6/dist-packages (from requests->transformers) (1.24.3)\n",
            "Requirement already satisfied, skipping upgrade: zipp>=0.5 in /usr/local/lib/python3.6/dist-packages (from importlib-metadata; python_version < \"3.8\"->transformers) (3.4.0)\n",
            "Requirement already satisfied, skipping upgrade: typing-extensions>=3.6.4; python_version < \"3.8\" in /usr/local/lib/python3.6/dist-packages (from importlib-metadata; python_version < \"3.8\"->transformers) (3.7.4.3)\n",
            "Collecting textract\n",
            "  Downloading https://files.pythonhosted.org/packages/32/31/ef9451e6e48a1a57e337c5f20d4ef58c1a13d91560d2574c738b1320bb8d/textract-1.6.3-py3-none-any.whl\n",
            "Collecting argcomplete==1.10.0\n",
            "  Downloading https://files.pythonhosted.org/packages/4d/82/f44c9661e479207348a979b1f6f063625d11dc4ca6256af053719bbb0124/argcomplete-1.10.0-py2.py3-none-any.whl\n",
            "Requirement already satisfied, skipping upgrade: chardet==3.0.4 in /usr/local/lib/python3.6/dist-packages (from textract) (3.0.4)\n",
            "Collecting pdfminer.six==20181108\n",
            "\u001b[?25l  Downloading https://files.pythonhosted.org/packages/8a/fd/6e8746e6965d1a7ea8e97253e3d79e625da5547e8f376f88de5d024bacb9/pdfminer.six-20181108-py2.py3-none-any.whl (5.6MB)\n",
            "\u001b[K     |████████████████████████████████| 5.6MB 6.1MB/s \n",
            "\u001b[?25hCollecting python-pptx==0.6.18\n",
            "\u001b[?25l  Downloading https://files.pythonhosted.org/packages/bf/86/eb979f7b0333ec769041aae36df8b9f1bd8bea5bbad44620663890dce561/python-pptx-0.6.18.tar.gz (8.9MB)\n",
            "\u001b[K     |████████████████████████████████| 8.9MB 30.4MB/s \n",
            "\u001b[?25hRequirement already satisfied, skipping upgrade: docx2txt==0.8 in /usr/local/lib/python3.6/dist-packages (from textract) (0.8)\n",
            "Collecting SpeechRecognition==3.8.1\n",
            "\u001b[?25l  Downloading https://files.pythonhosted.org/packages/26/e1/7f5678cd94ec1234269d23756dbdaa4c8cfaed973412f88ae8adf7893a50/SpeechRecognition-3.8.1-py2.py3-none-any.whl (32.8MB)\n",
            "\u001b[K     |████████████████████████████████| 32.8MB 101kB/s \n",
            "\u001b[?25hCollecting beautifulsoup4==4.8.0\n",
            "\u001b[?25l  Downloading https://files.pythonhosted.org/packages/1a/b7/34eec2fe5a49718944e215fde81288eec1fa04638aa3fb57c1c6cd0f98c3/beautifulsoup4-4.8.0-py3-none-any.whl (97kB)\n",
            "\u001b[K     |████████████████████████████████| 102kB 9.6MB/s \n",
            "\u001b[?25hCollecting xlrd==1.2.0\n",
            "\u001b[?25l  Downloading https://files.pythonhosted.org/packages/b0/16/63576a1a001752e34bf8ea62e367997530dc553b689356b9879339cf45a4/xlrd-1.2.0-py2.py3-none-any.whl (103kB)\n",
            "\u001b[K     |████████████████████████████████| 112kB 35.8MB/s \n",
            "\u001b[?25hCollecting six==1.12.0\n",
            "  Downloading https://files.pythonhosted.org/packages/73/fb/00a976f728d0d1fecfe898238ce23f502a721c0ac0ecfedb80e0d88c64e9/six-1.12.0-py2.py3-none-any.whl\n",
            "Collecting extract-msg==0.23.1\n",
            "\u001b[?25l  Downloading https://files.pythonhosted.org/packages/a1/90/84485a914ed90adb5e87df17e626be04162fbba146dfecf34643659a4633/extract_msg-0.23.1-py2.py3-none-any.whl (45kB)\n",
            "\u001b[K     |████████████████████████████████| 51kB 5.9MB/s \n",
            "\u001b[?25hCollecting EbookLib==0.17.1\n",
            "\u001b[?25l  Downloading https://files.pythonhosted.org/packages/00/38/7d6ab2e569a9165249619d73b7bc6be0e713a899a3bc2513814b6598a84c/EbookLib-0.17.1.tar.gz (111kB)\n",
            "\u001b[K     |████████████████████████████████| 112kB 38.1MB/s \n",
            "\u001b[?25hRequirement already satisfied, skipping upgrade: sortedcontainers in /usr/local/lib/python3.6/dist-packages (from pdfminer.six==20181108->textract) (2.3.0)\n",
            "Collecting pycryptodome\n",
            "\u001b[?25l  Downloading https://files.pythonhosted.org/packages/2b/6f/7e38d7c97fbbc3987539c804282c33f56b6b07381bf2390deead696440c5/pycryptodome-3.9.9-cp36-cp36m-manylinux1_x86_64.whl (13.7MB)\n",
            "\u001b[K     |████████████████████████████████| 13.7MB 264kB/s \n",
            "\u001b[?25hRequirement already satisfied, skipping upgrade: lxml>=3.1.0 in /usr/local/lib/python3.6/dist-packages (from python-pptx==0.6.18->textract) (4.2.6)\n",
            "Requirement already satisfied, skipping upgrade: Pillow>=3.3.2 in /usr/local/lib/python3.6/dist-packages (from python-pptx==0.6.18->textract) (7.0.0)\n",
            "Collecting XlsxWriter>=0.5.7\n",
            "\u001b[?25l  Downloading https://files.pythonhosted.org/packages/6b/41/bf1aae04932d1eaffee1fc5f8b38ca47bbbf07d765129539bc4bcce1ce0c/XlsxWriter-1.3.7-py2.py3-none-any.whl (144kB)\n",
            "\u001b[K     |████████████████████████████████| 153kB 47.6MB/s \n",
            "\u001b[?25hCollecting soupsieve>=1.2\n",
            "  Downloading https://files.pythonhosted.org/packages/02/fb/1c65691a9aeb7bd6ac2aa505b84cb8b49ac29c976411c6ab3659425e045f/soupsieve-2.1-py3-none-any.whl\n",
            "Requirement already satisfied, skipping upgrade: tzlocal==1.5.1 in /usr/local/lib/python3.6/dist-packages (from extract-msg==0.23.1->textract) (1.5.1)\n",
            "Collecting olefile==0.46\n",
            "\u001b[?25l  Downloading https://files.pythonhosted.org/packages/34/81/e1ac43c6b45b4c5f8d9352396a14144bba52c8fec72a80f425f6a4d653ad/olefile-0.46.zip (112kB)\n",
            "\u001b[K     |████████████████████████████████| 112kB 59.0MB/s \n",
            "\u001b[?25hCollecting imapclient==2.1.0\n",
            "\u001b[?25l  Downloading https://files.pythonhosted.org/packages/dc/39/e1c2c2c6e2356ab6ea81fcfc0a74b044b311d6a91a45300811d9a6077ef7/IMAPClient-2.1.0-py2.py3-none-any.whl (73kB)\n",
            "\u001b[K     |████████████████████████████████| 81kB 8.5MB/s \n",
            "\u001b[?25hRequirement already satisfied, skipping upgrade: pytz in /usr/local/lib/python3.6/dist-packages (from tzlocal==1.5.1->extract-msg==0.23.1->textract) (2018.9)\n",
            "Building wheels for collected packages: python-pptx, EbookLib, olefile\n",
            "  Building wheel for python-pptx (setup.py) ... \u001b[?25l\u001b[?25hdone\n",
            "  Created wheel for python-pptx: filename=python_pptx-0.6.18-cp36-none-any.whl size=275707 sha256=a08ce33b879f83819c3a138498cc13a1e6f276c3220f781e4801b88869a5c170\n",
            "  Stored in directory: /root/.cache/pip/wheels/1f/1f/2c/29acca422b420a0b5210bd2cd7e9669804520d602d2462f20b\n",
            "  Building wheel for EbookLib (setup.py) ... \u001b[?25l\u001b[?25hdone\n",
            "  Created wheel for EbookLib: filename=EbookLib-0.17.1-cp36-none-any.whl size=38163 sha256=1d81b15b31417bf799b6885dbcb41a91a0800e5d38b87c6281573342e4be9354\n",
            "  Stored in directory: /root/.cache/pip/wheels/84/11/01/951369cbbf8f96878786a1f4da68bd7ac19a5d945b38e03d54\n",
            "  Building wheel for olefile (setup.py) ... \u001b[?25l\u001b[?25hdone\n",
            "  Created wheel for olefile: filename=olefile-0.46-py2.py3-none-any.whl size=35416 sha256=973d8d64b01c0c30898ad558ab4f91fd177f0053e4adea5622e4f3c3af8890da\n",
            "  Stored in directory: /root/.cache/pip/wheels/4b/f4/11/bc4166107c27f07fd7bba707ffcb439619197638a1ac986df3\n",
            "Successfully built python-pptx EbookLib olefile\n",
            "\u001b[31mERROR: tensorflow 2.4.1 has requirement six~=1.15.0, but you'll have six 1.12.0 which is incompatible.\u001b[0m\n",
            "\u001b[31mERROR: nbclient 0.5.1 has requirement jupyter-client>=6.1.5, but you'll have jupyter-client 5.3.5 which is incompatible.\u001b[0m\n",
            "\u001b[31mERROR: google-colab 1.0.0 has requirement six~=1.15.0, but you'll have six 1.12.0 which is incompatible.\u001b[0m\n",
            "\u001b[31mERROR: datascience 0.10.6 has requirement folium==0.2.1, but you'll have folium 0.8.3 which is incompatible.\u001b[0m\n",
            "\u001b[31mERROR: albumentations 0.1.12 has requirement imgaug<0.2.7,>=0.2.5, but you'll have imgaug 0.2.9 which is incompatible.\u001b[0m\n",
            "Installing collected packages: argcomplete, six, pycryptodome, pdfminer.six, XlsxWriter, python-pptx, SpeechRecognition, soupsieve, beautifulsoup4, xlrd, olefile, imapclient, extract-msg, EbookLib, textract\n",
            "  Found existing installation: six 1.15.0\n",
            "    Uninstalling six-1.15.0:\n",
            "      Successfully uninstalled six-1.15.0\n",
            "  Found existing installation: beautifulsoup4 4.6.3\n",
            "    Uninstalling beautifulsoup4-4.6.3:\n",
            "      Successfully uninstalled beautifulsoup4-4.6.3\n",
            "  Found existing installation: xlrd 1.1.0\n",
            "    Uninstalling xlrd-1.1.0:\n",
            "      Successfully uninstalled xlrd-1.1.0\n",
            "Successfully installed EbookLib-0.17.1 SpeechRecognition-3.8.1 XlsxWriter-1.3.7 argcomplete-1.10.0 beautifulsoup4-4.8.0 extract-msg-0.23.1 imapclient-2.1.0 olefile-0.46 pdfminer.six-20181108 pycryptodome-3.9.9 python-pptx-0.6.18 six-1.12.0 soupsieve-2.1 textract-1.6.3 xlrd-1.2.0\n"
          ],
          "name": "stdout"
        },
        {
          "output_type": "display_data",
          "data": {
            "application/vnd.colab-display-data+json": {
              "pip_warning": {
                "packages": [
                  "six"
                ]
              }
            }
          },
          "metadata": {
            "tags": []
          }
        }
      ]
    },
    {
      "cell_type": "code",
      "metadata": {
        "colab": {
          "base_uri": "https://localhost:8080/"
        },
        "id": "jG3R42-DeWMB",
        "outputId": "11c47d3b-6e3b-484e-facb-4c7d3bcca643"
      },
      "source": [
        "!wget http://download.cdn.yandex.net/mystem/mystem-3.0-linux3.1-64bit.tar.gz\n",
        "!tar -xvf mystem-3.0-linux3.1-64bit.tar.gz\n",
        "!cp mystem /root/.local/bin/mystem"
      ],
      "execution_count": 2,
      "outputs": [
        {
          "output_type": "stream",
          "text": [
            "--2021-02-07 16:43:50--  http://download.cdn.yandex.net/mystem/mystem-3.0-linux3.1-64bit.tar.gz\n",
            "Resolving download.cdn.yandex.net (download.cdn.yandex.net)... 5.45.205.242, 5.45.205.243, 5.45.205.241, ...\n",
            "Connecting to download.cdn.yandex.net (download.cdn.yandex.net)|5.45.205.242|:80... connected.\n",
            "HTTP request sent, awaiting response... 302 Found\n",
            "Location: http://cache-mskm902.cdn.yandex.net/download.cdn.yandex.net/mystem/mystem-3.0-linux3.1-64bit.tar.gz [following]\n",
            "--2021-02-07 16:43:51--  http://cache-mskm902.cdn.yandex.net/download.cdn.yandex.net/mystem/mystem-3.0-linux3.1-64bit.tar.gz\n",
            "Resolving cache-mskm902.cdn.yandex.net (cache-mskm902.cdn.yandex.net)... 5.45.220.12, 2a02:6b8:0:2002::13\n",
            "Connecting to cache-mskm902.cdn.yandex.net (cache-mskm902.cdn.yandex.net)|5.45.220.12|:80... connected.\n",
            "HTTP request sent, awaiting response... 200 OK\n",
            "Length: 16457938 (16M) [application/octet-stream]\n",
            "Saving to: ‘mystem-3.0-linux3.1-64bit.tar.gz’\n",
            "\n",
            "mystem-3.0-linux3.1 100%[===================>]  15.70M  8.82MB/s    in 1.8s    \n",
            "\n",
            "2021-02-07 16:43:53 (8.82 MB/s) - ‘mystem-3.0-linux3.1-64bit.tar.gz’ saved [16457938/16457938]\n",
            "\n",
            "mystem\n",
            "cp: cannot create regular file '/root/.local/bin/mystem': No such file or directory\n"
          ],
          "name": "stdout"
        }
      ]
    },
    {
      "cell_type": "code",
      "metadata": {
        "colab": {
          "base_uri": "https://localhost:8080/"
        },
        "id": "3fbWr5dT_V2d",
        "outputId": "9645bd83-c0b8-4b08-e628-041eb8aaeae5"
      },
      "source": [
        "!wget https://raw.githubusercontent.com/Samoed/CourseWork2/main/data/people.csv?token=AITWEHYTYLFFCBVPMPPERTTAETPYA\n",
        "!wget https://raw.githubusercontent.com/Samoed/CourseWork2/main/data/vkr.csv?token=AITWEH753HPJ6QHZPBGT47LAETPYE\n",
        "!wget https://raw.githubusercontent.com/Samoed/CourseWork2/main/data/vkrText.csv?token=AITWEHZGZ5SB7PHMJA3YNTDAFFJOM"
      ],
      "execution_count": 3,
      "outputs": [
        {
          "output_type": "stream",
          "text": [
            "--2021-02-07 16:43:54--  https://raw.githubusercontent.com/Samoed/CourseWork2/main/data/people.csv?token=AITWEHYTYLFFCBVPMPPERTTAETPYA\n",
            "Resolving raw.githubusercontent.com (raw.githubusercontent.com)... 151.101.0.133, 151.101.64.133, 151.101.128.133, ...\n",
            "Connecting to raw.githubusercontent.com (raw.githubusercontent.com)|151.101.0.133|:443... connected.\n",
            "HTTP request sent, awaiting response... 200 OK\n",
            "Length: 30447 (30K) [text/plain]\n",
            "Saving to: ‘people.csv?token=AITWEHYTYLFFCBVPMPPERTTAETPYA’\n",
            "\n",
            "people.csv?token=AI 100%[===================>]  29.73K  --.-KB/s    in 0.003s  \n",
            "\n",
            "2021-02-07 16:43:54 (10.1 MB/s) - ‘people.csv?token=AITWEHYTYLFFCBVPMPPERTTAETPYA’ saved [30447/30447]\n",
            "\n",
            "--2021-02-07 16:43:54--  https://raw.githubusercontent.com/Samoed/CourseWork2/main/data/vkr.csv?token=AITWEH753HPJ6QHZPBGT47LAETPYE\n",
            "Resolving raw.githubusercontent.com (raw.githubusercontent.com)... 151.101.0.133, 151.101.64.133, 151.101.128.133, ...\n",
            "Connecting to raw.githubusercontent.com (raw.githubusercontent.com)|151.101.0.133|:443... connected.\n",
            "HTTP request sent, awaiting response... 200 OK\n",
            "Length: 801586 (783K) [text/plain]\n",
            "Saving to: ‘vkr.csv?token=AITWEH753HPJ6QHZPBGT47LAETPYE’\n",
            "\n",
            "vkr.csv?token=AITWE 100%[===================>] 782.80K  --.-KB/s    in 0.05s   \n",
            "\n",
            "2021-02-07 16:43:54 (14.1 MB/s) - ‘vkr.csv?token=AITWEH753HPJ6QHZPBGT47LAETPYE’ saved [801586/801586]\n",
            "\n",
            "--2021-02-07 16:43:54--  https://raw.githubusercontent.com/Samoed/CourseWork2/main/data/vkrText.csv?token=AITWEHZGZ5SB7PHMJA3YNTDAFFJOM\n",
            "Resolving raw.githubusercontent.com (raw.githubusercontent.com)... 151.101.0.133, 151.101.64.133, 151.101.128.133, ...\n",
            "Connecting to raw.githubusercontent.com (raw.githubusercontent.com)|151.101.0.133|:443... connected.\n",
            "HTTP request sent, awaiting response... 200 OK\n",
            "Length: 70694321 (67M) [text/plain]\n",
            "Saving to: ‘vkrText.csv?token=AITWEHZGZ5SB7PHMJA3YNTDAFFJOM’\n",
            "\n",
            "vkrText.csv?token=A 100%[===================>]  67.42M  89.8MB/s    in 0.8s    \n",
            "\n",
            "2021-02-07 16:43:56 (89.8 MB/s) - ‘vkrText.csv?token=AITWEHZGZ5SB7PHMJA3YNTDAFFJOM’ saved [70694321/70694321]\n",
            "\n"
          ],
          "name": "stdout"
        }
      ]
    },
    {
      "cell_type": "code",
      "metadata": {
        "colab": {
          "base_uri": "https://localhost:8080/"
        },
        "id": "PaR9lynvY6mA",
        "outputId": "1b3f32f4-1a8c-4b47-d8e2-9f319d6de3c9"
      },
      "source": [
        "import requests\n",
        "import pandas as pd\n",
        "from docx import Document\n",
        "from summarizer import Summarizer\n",
        "from transformers import AutoTokenizer, AutoModel, AutoConfig\n",
        "from tqdm import tqdm\n",
        "\n",
        "import nltk\n",
        "from nltk.corpus import stopwords\n",
        "from nltk.stem import PorterStemmer\n",
        "from nltk.stem.snowball import SnowballStemmer\n",
        "from nltk.tokenize import sent_tokenize, word_tokenize\n",
        "from collections import Counter\n",
        "import string\n",
        "from pymystem3 import Mystem\n",
        "import re\n",
        "import math\n",
        "\n",
        "import textract\n",
        "\n",
        "nltk.download('stopwords')\n",
        "russian_stopwords = stopwords.words(\"russian\")\n",
        "russian_stopwords.append('рис')\n",
        "russian_stopwords.append('т.к.')"
      ],
      "execution_count": 4,
      "outputs": [
        {
          "output_type": "stream",
          "text": [
            "[nltk_data] Downloading package stopwords to /root/nltk_data...\n",
            "[nltk_data]   Unzipping corpora/stopwords.zip.\n"
          ],
          "name": "stdout"
        }
      ]
    },
    {
      "cell_type": "code",
      "metadata": {
        "colab": {
          "base_uri": "https://localhost:8080/"
        },
        "id": "gX8rA38WXhBj",
        "outputId": "5096f2f6-61cb-4911-d141-9651318ef052"
      },
      "source": [
        "fullText = \"\"\n",
        "for para in document.paragraphs:\n",
        "    fullText+=(para.text)+\" \"\n",
        "print(fullText)"
      ],
      "execution_count": null,
      "outputs": [
        {
          "output_type": "stream",
          "text": [
            "Пермь, 2018 год \n",
            " Аннотация В этой работе описан процесс реализации виртуального собеседника с помощью лексико-синтаксических шаблонов с использованием языка LSPL.  Для разработанного виртуального собеседника реализована система администрирования. Работа содержит 3 главы, 13 иллюстраций и 4 приложения.   \n",
            " Оглавление                            Введение Современное продуктивное обучение предполагает интенсивную работу как со стороны студентов, так и со стороны преподавателей, в том числе и выполнение большого количества проектов для усвоения полученных знаний на практике. Зачастую такие проекты требуют больших затрат времени как со стороны преподавателя, так и со стороны студентов. В этом случае такие проекты должны быть автоматизированы, хотя бы частично. Об автоматизации одного из таких учебных проектов и пойдет речь в этой работе.  В ходе работы будет улучшен разработанный ранее виртуальный собеседник для деловой игры «Развертывание» по технологии MSF. В ходе деловой игры студенты делятся на группы, после чего группы должны опросить сотрудников отделов фирмы и ее филиалов в четырех городах, разбросанных по всему миру. Каждый сотрудник обладает своей компетенцией и не знает всей информации о филиале, но все сотрудники одного филиала в сумме обладают информацией обо всем отделе. Ранее за каждого сотрудника отвечал преподаватель, но это вызывает ряд проблем. Во-первых, это трудозатраты преподавателя, так как ему приходится отвечать каждой группе студентов. Во-вторых, это затраты по времени для студентов, так как зачастую между вопросом и ответом может пройти большое количество времени.  И в-третьих, это плохо сказывается на всей игре в целом, так как она выходит достаточно затянутой.  Для решения ранее описанных проблем в прошлом году было решено написать виртуального собеседника, который бы отвечал за сотрудников отделов вместо преподавателя, который бы требовал минимум трудозатрат для преподавателя и оперативно отвечал студентам, тем самым делая процесс проведения игры более комфортным и быстрым. Собеседник был разработан и протестирован на студентах второго курса направления «Программная инженерия». Тестирование показало, что качество работы собеседника недостаточно высоко. Проблема. У деловой игры существует три проблемы. Для преподавателя это трудозатраты, для студентов - затраты по времени и для игры в целом это ее длительность. Актуальность работы: работа является актуальной, т.к. цель, поставленная в прошлом году, достигнута не полностью. Объект работы: процесс проведения. деловой игры по развертыванию программного обеспечения по технологии MSF. Предмет работы: автоматизация консультационной работы преподавателя в ходе проекта.  Научная новизна работы: Улучшение ранее разработанного метода решения проблемы, а именно внедрение в учебный процесс виртуального собеседника.  Цель: улучшение виртуального собеседника для сбора информации для развертывания программных продуктов в рамках деловой игры, что ускорит процесс игры и снизит трудозатраты преподавателя, и снизит затраты студентов по времени. Задачи: Анализ накопленного опыта Разработка виртуального собеседования Разработка системы администрирования Опытная эксплуатация системы Практическая ценность работы заключается в том, что разработанная программная система берет на себя часть работы преподавателя в ходе проекта и таким образом освобождает его время, а также Теоретическая ценность работы в сравнительном анализе возможных механизмов реализации виртуальных собеседников и демонстрация практической возможности реализации одного из них. Работа разделена на 3 главы. Первая глава содержит описание предметной области и анализ автоматизируемого процесса. Во второй главе приведен анализ предыдущей версии системы, описано проектирование и подобраны алгоритмы для реализации, а также будет определена методика разработки системы. Третья глава содержит информацию о разработке виртуального собеседника, системы администрирования и апробации виртуального собеседника.  Глава 1. Описание предметной области В первой главе будет описана деловая игра по технологии MSF «Развертывание», выявлены недостатки в предыдущей ее версии, будут сформированы требования к новой версии системы. MSF как метод разработки программного обеспечения  MSF (Microsoft Solution Framework) – методология разработки программного обеспечения, предложенная корпорацией Microsoft. MSF опирается на практический опыт Microsoft и описывает управление людьми и рабочими процессами в процессе разработки решения.  По MSF процесс разработки программного обеспечения имеет спиральную форму. Итерация цикла представлена на рис. 1.1:  Рисунок 1.1. Модель MSF [1]  Каждая итерация состоит из следующих этапов: Envision (Выработка концепции). На первом этапе создается основной состав проектной группы и готовится описание проекта, оговариваются рамки проекта. Planning (Планирование). На этом этапе составляются планы проекта, в которые входят функциональные спецификации, дизайн разрабатываемого приложения, подготовку рабочих планов, оценку затрат и сроков. Developing (Разработка). На этапе разработки пишется код приложения, подготавливается документация. Stabilizing (Стабилизация). На этом этапе проводится тестирование приложения, устраняются обнаруженные ошибки. Внимание фокусируется на предполагаемых сценариях использования приложения Deploying (Развертывание). На этапе развертывания происходит внедрение готового приложения в рабочий процесс, происходит налаживание сопровождение приложения, закрывается или продлевается контракт с заказчиком. Деловая игра «Развертывание» Для изучения технологии MSF в НИУ ВШЭ-Пермь используется ряд деловых игр: Envision&Planning, «Стабилизация» и «Развертывание». В ходе каждой из игр студенты попадают в сложные ситуации, которые как можно более точно имитируют прецеденты на реальном производстве. Целью игры «Развертывание» является обучение студентов процессу развертывания программного обеспечения для пользователей. В ходе игры студенты должны установить вымышленную систему «ОбалдеИТ» на компьютеры пользователей. Игра делится на несколько этапов: Сбор информации о подразделениях фирмы «ОбалдеИТ». Формирование расписания развертывания. Подведение итогов. Корректировка расписания после полученной информации в ходе подведения итогов В ходе процесса игры студенты должны понять основополагающие принципы развертывания. Во-первых, этап развертывания имеет место быть, и он требует тщательной подготовки. Во-вторых, требуется собрать информацию о каждом месте, где будет проводиться процесс развертывания, т.к. каждый филиал имеет свои особенности, такие как разный уровень квалификации персонала, разные характеристики ЭВМ, разное программное обеспечение, установленное на них и разные его настройки. Помимо этого, есть и другие пункты, которые стоит учесть: расписание работы персонала, климат, средства коммуникации и т.д. В-третьих, процесс сбора информации требует усилий и времени, поскольку информацию от работников получить зачастую бывает непросто, и почти всегда эта информация требует анализа для того, чтобы получить нужные сведения для процесса развертывания. В-четвертых, студенты должны осознать необходимость плана для развертывания, в котором следует учесть требуемые действия, время и ресурсы.   Анализ игры Разберем процесс проведения игры в рамках обучения студентов. Сначала студенты сами объединяются в команды и сообщают о своих командах преподавателю. После этого команда формирует список вопросов и отправляет их преподавателю или его помощнику, поскольку они играют роли сотрудников подразделений фирмы «ОбалдеИТ», после чего получают от них ответ через некоторое время. Далее студенты составляют следующих список вопросов и снова отправляют преподавателю: это продолжается до тех пор, пока не закончится время на игру, либо студенты не будут удовлетворены объемом полученных сведений. После этого студенты составляют свои планы развертывания и обсуждают их с преподавателем.  Описанный выше процесс имеет ряд достоинств и недостатков. Разберем те черты процесса, которые хотелось бы сохранить в разрабатываемом виртуальном собеседнике: Преподаватель имеет исчерпывающую информацию о подразделениях и при правильно заданных вопросах может поделиться ей со студентами. Общение с преподавателем одновременно доступно сразу нескольким группам студентов. Далее были выявлены недостатки, от которых хотелось бы избавиться в разрабатываемой системе. Время на игру. К сожалению, может пройти достаточно большой промежуток времени, прежде чем преподаватель ответит студентам всем студентам, таким образом, игра занимает у ее участников несколько дней. Трудозатраты преподавателя. Преподаватель вынужден отвечать всем студентам на многочисленные вопросы, что требует значительных усилий. Удобство студентов. Студенты вынуждены ждать своей очереди и находить способ наискорейшей коммуникации с преподавателем. Автоматизация игры с помощью виртуального собеседника Исходя из выявленных недостатков деловой игры было принято решение о создании системы, которая бы могла имитировать общение того или иного сотрудника любого из имеющихся филиалов. Эта система должна учитывать особенности филиалов такие как климат, характеристики технического оборудования, характер и менталитет сотрудников, особенности коммуникации. Таким образом, в системе должно быть заложено несколько виртуальных собеседников, каждый из которых отвечал бы за одного из имеющихся сотрудников. При этом должно быть учтено, что сотрудник определенной должности может не работать в одном из филиалов и работать в другом, помимо этого сотрудники одинаковых должностей в разных филиалах фирмы обладают различной информацией, исходя из особенностей филиала.  Поскольку все виртуальные собеседники отвечают за одну предметную область, но каждый из них имеет несколько отличающийся от других набор знаний, а также учитывая большое количество самих собеседников, имеет смысл объединить всех собеседников в одну систему с одной базой знаний.  Одним из главных требований к системе – диалог должен происходить на естественном языке, поскольку любая формализация общения сработает как подсказка для студентов. Однако стоит учитывать, что, как и в диалоге между людьми ответы могут быт неверными или неточными, поскольку вопрос может быть неправильно понят Стоит также обратить внимание на администрирование созданной системы: требуется создать удобный интерфейс для добавления определенного ответа на задаваемый вопрос для каждого из собеседников, а также добавлять уже созданные пары вопрос-ответ к имеющимся собеседникам.  Требования к   разрабатываемой системе  Исходя из описания автоматизации системы, были сформированы требования к разрабатываемой системе: Использование: Анализ вопроса: филиал, сотрудник, вопрос. Выбор филиала. Выявление наличия в указанном филиале фирмы сотрудника с указанной должностью. Определение ответа сотрудника на заданный вопрос. Администрирование:  Возможность  импортирования сотруднику пары вопрос-ответ из области знаний другого сотрудника.  Редактирование областей знаний сотрудников. Возможность просмотра заданных вопросов. Полный список требований к системе представлен в приложении А. Глава 2. Проектирование системы После того, как в предыдущей главе была описана предметная область и выдвинуты требования к системе, приступим к ее проектированию. В этой главе будут определены бизнес-процессы, в которых задействован разрабатываемый виртуальный собеседник, построены диаграммы в нотации UML для более наглядного их отображения и будут выбраны алгоритмы, на которых будет работать разрабатываемая система.  Анализ возможных проектных решений алгоритма реализации виртуального собеседника Как уже было сказано, первые два года игра проводилась в ручном режиме. При этом были сохранены все заданные в ходе игры вопросы и данные на них ответы. Пары «вопрос-ответ» были привязаны к конкретным должностям в конкретных филиалах. Таким образом, была получена некоторая база четверок «филиал – должность – вопрос – ответ». Готовый входной файл содержал более 400 записей. Выбор проектных решений был скорректирован, с поправкой на размер составленного файла. Были рассмотрены следующие варианты проектных решений: Поиск по полному совпадению вопроса. Наиболее простой вариант, где введенный запрос пользователя дословно сопоставляется с одним из вопросов, имеющихся в базе. Такой вариант реализации не учитывает возможные вариации вопросов, использование синонимов и требует чрезвычайно большую базу вопросов-ответов. На практике этот вариант даже не пробовали реализовать. Поиск по набору ключевых слов. Усложненная версия первого варианта, где в запросе пользователя производится поиск наборов ключевых слов, которые могут стоять в произвольном порядке и могут быть перемешаны с «шумовыми словами». На базе этой технологии была разработана версия виртуального собеседника для той же деловой игры. Однако ее работа  имела очень низкую точность и для практического применения оказалась не пригодна.  Искусственные нейронные сети (ИНС). Искусственная нейронная сеть – упрощенная модель человеческого мозга. Сеть обучают на базе имеющихся вопросов, после чего она работает с запросами пользователя и выдается результат на основе ранее пройденного обучения. Разработка виртуального собеседника с использованием нейронных сетей рассматривалась, однако, база из 430 входных записей слишком мала для обучения ИНС, поскольку отношение элементов выборки к количеству признаков очень мало[2]. Исходя из следствия теоремы Арнольда–Колмогорова-Хехт–Нильсена[3], велика вероятность переобучения ИНС. Онтологии. Онтология – способ формализации некоторой области знаний с помощью концептуальной схемы. Как правило такая схема состоит из структур данных, содержащей все релевантные классы объектов, их связи и правила, принятые в этой области. Этот метод решения рассматривался для решения поставленной задачи, однако был отвергнут в пользу лексико-синтаксических шаблонов в связи с опытом в использовании их. Лексико-синтаксические шаблоны (ЛСШ). Лексико-синтаксический шаблон - структурный образец языковой конструкции, позволяющий обрабатывать исходный текст, учитывая лексические и синтаксические характеристики естественного языка. Для русского языка это падежи, времена, наклонения, склонения, числа и т.д. В основном шаблоны используются для автоматической обработки текста: выявления языковых конструкций, классификации текстов, поиска словоформ, изменения текстов с учетом заданных параметров (синонимов, выражений). Помимо этого, с помощью лексико-синтаксических шаблонов есть возможность распознавать альтернативы частей исходного текста, что дает возможность задавать синонимы определенным словам. Предельно упрощенной формой ЛСШ являются БНФ.  Год назад была разработана версия виртуального собеседника с использованием лексико-синтаксических шаблонов. Она имела почти такой же интерфейс, но была куда проще с технической точки зрения. Был взят список вопросов, которые студенты задавали в ходе проведения предыдущих деловых игр. Эти вопросы были несколькими студентами вручную преобразованы в ЛСШ (в расчете на то, что  студенты будут и дальше задавать такие же вопросы). Это позволило в сжатые сроки получить набор из примерно сотни шаблонов. Версия была применена на практике, но точность работы собеседника было на уровне 30%, что не является достаточным показателем для имитации диалога. Попытка использования первой версии собеседника выявила следующие проблемы:  Количество шаблонов. Было разработано всего около сотни шаблонов, количество альтернатив в которых было крайне ограничено. Отсутствие концептуальной целостности. Не было установлено никаких правил или соглашений о построении шаблонов. Каждый из студентов составлял шаблоны на свое усмотрение. Недостаточный учет многообразия словоформ и синонимии русского языка. Помимо проблемы в самих шаблонах, отсутствовала возможность администрирования приложения. Любые административные действия (просмотр информационной базы и ее корректировка) мог выполнять  только программист- автор системы средствами СУДБ SQL. Была выдвинута гипотеза, что качество работы собеседника можно существенно улучшить, если увеличить количество ЛСШ и учесть словоформы и синонимию русского языка. Для этого было принято проектное решение разработать механизм автоматической генерации ЛСШ на базе онлайн словарей синонимов русского языка. Вторая версия виртуального собеседника призвана решить проблемы предыдущей системы, разработанной на основе ЛСШ LSPL – язык лексико-синтаксических шаблонов Предполагается, что вопросы, обрабатываемые виртуальным собеседником, будут задаваться на русском языке, поэтому было решено взять за основу утилиту, которая также работает с шаблонами, которые бы сопоставлялись с русским текстом. Было решено использовать язык LSPL (Lexico-Syntaxic Pattern Language). Этот язык предназначен для описания конструкций русского языка с целью их представления в системах извлечения информации из текстов, однако помимо этого он может сравнивать текст с шаблоном, который представляет набор символов на любом языке. Разработка языка началась в 2007 году, но он продолжает изменяться и дополняться по сей день.  Ключевым в языке LSPL является понятие лексико-синтаксического шаблона, рассматриваемого как структурный образец языковой конструкции. Шаблон задает ее лексический состав и поверхностно-синтаксические свойства и тем самым может быть использован для распознавания ее в тексте и последующего извлечения.  Шаблон строится как последовательность элементов, описывающих соответствующие фрагменты языковой конструкции – в том порядке, в каком они встречаются в этой конструкции. Средства языка позволяют задавать вариативность конструкции, включая набор входящих в нее слов (лексем) и их морфологических характеристик (признаков).  Как выразительное средство, лексико-синтаксический шаблон удобен в первую очередь для формального описания именных словосочетаний русского языка, которые, как правило, являются грамматически согласованными. Для этого в языке LSPL предусмотрены средства задания синтаксической связи согласования слов.  Синтаксические связи могут задаваться в шаблоне следующим образом: согласование – путем указания равенства соответствующих морфологических признаков связанных элементов текста, управление – путем указания значений морфологических признаков подчинённого элемента.  Важной особенностью языка LSPL является возможность использовать при задании шаблона другие (уже определенные) шаблоны, что позволяет при формализации сложной языковой конструкции выделить ее составные части и описывать их по очереди в виде шаблонов, давая этим шаблонам имена и используя эти имена в других шаблонах.  В целом, язык шаблонов является достаточно гибким и мощным средством задания лексических и поверхностно-синтаксических свойств конструкций: LSPL-шаблоны могут описывать не только словосочетания, но и целые предложения и более крупные фрагменты текста на русском языке. LSPL – продукт, свободный для некоммерческого использования.  Проектирование алгоритма работы системы Поскольку было решено использовать ЛСШ, то  вопрос системе будет считаться входными данными для обработки ЛСШ. Каждый из вопросов неделим и каждому из них соответствует один ответ, заложенный в систему. Это допущение создано исходя из того, что все вопросы достаточно простые по структуре и содержанию. Исходя из этого, было принято решений на каждый из вопросов создать один неделимый шаблон, который бы описывал вопрос. Исходя из этого, каждый из ответов системы является неделимым и в полной мере разрешает заданный вопрос. Между вопросами отсутствуют сложные контекстные связи, за исключением двух: отделение и сотрудник. Отделение студент для каждого вопроса указывает явно. Список сотрудников, при этом, для каждого отделения свой: в одном ответы могут давать 6 разных сотрудников, а в другом лишь трое, должности могут иметь разные названия (например, директор, начальник, менеджер). При этом считаем, что в каждом отделении каждую должность занимает только один человек. Названия должностей сотрудников известны системе, но не известны студенту. Студенту предлагается самостоятельно понять, какие сотрудники работают в каждом отделении фирмы, исходя из описания игры и отклика системы. Исходя из этого требования, в алгоритм системы заложена возможность использования синонимов для именования одной и той же должности. Словарь синонимов заготовлен в системе заранее.  После того, как были определены отделение фирмы и должность сотрудника остается обработать вопрос, который студент задает этому сотруднику. Происходит это следующим образом: для указанного сотрудника указанного филиала берутся все ЛСШ, описывающие компетенции этого сотрудника (то есть те вопросы, на которые он может дать ответ, и сами эти ответы). Затем заданный студентом вопрос сопоставляется с этими шаблонами, после чего выбирается тот шаблон, который наиболее полно соответствует заданному вопросу. И в качестве ответа на вопрос студенту выдается ответ из этого шаблона. В случае если ни один шаблон, описывающий компетенции данного сотрудника, не соответствует заданному вопросу, то будет сказано, что сотрудник не знает ответа. Если система определила несколько шаблонов, которые в одинаковой степени соотвествуют заданному вопросу, ответ выдается случайно. К сожалению, нет гарантии, что шаблон, который распознан, как наиболее подходящий, действительно описывает именно заданный вопрос. Но к каждому шаблону в базе привязан некоторый ответ. Именно этот ответ и будет выдан. То есть  в этом случае на вопрос будет дан неверный ответ. Разработчики языка LSPL предоставили утилиту для анализа текста на соответствие ЛСШ. А именно, утилита позволяет сопоставить заданный текст с заданным набором шаблонов и выявить тот шаблон (или те шаблоны), которые соответствуют различным частям данного текста. Поясним сказанное примером, в котором для прояснения смысла работы утилиты предельно упрощен синтаксис ее параметров и языка LSPL. Реальный  синтаксис приведен в приложении Б. Пусть анализируемый текст равен: «Сколько в вашем отделении фирмы установлено компьютеров?» Сопоставляемые шаблоны представлены в табл.2.1. Таблица 2.. Упрощенные лексико-синтаксические шаблоны Результатом работы утилиты представлены в табл. 2.2: Таблица 2.2. Результат работы утилиты Из табл. 2.2 видно, что различные части анализируемого текста соответствуют различным шаблонам. Наша задача выбрать шаблон, который описывает весь текст наиболее точно. Для этого был взят эвристический способ, при котором верным шаблоном является шаблон, границы текста которого наиболее широки. Исходя из этого результирующим шаблоном в нашем примере будет шаблон SKF. В рамках процесса получения ответа на вопрос указанная утилита LSPL будет вызываться дважды: в первый раз для определения должности сотрудника, во второй – для анализа заданного вопроса. Студентам заранее не известны должности сотрудников, работающих в данном филиале.  Поэтому студент может назвать должность не так, как она может быть заложена в системе. Эту проблему решает словарь синонимов. Каждый список синонимов представлен в виде ЛСШ. Утилита получает на вход все списки синонимов (соответствующие шаблоны) всех должностей в выбранном филиале, после чего они вместе с запрашиваемой должностью подаются на вход утилите. Утилита в свою очередь возвращает шаблон, которому соответствует запрашиваемая должность. Если утилита не возвращает ничего, пользователю возвращается сообщение о том, что сотрудник с такой должностью не работает в фирме.  Когда определен сотрудник, к которому адресован вопрос, из базы данных выбираются все компетенции, которыми располагает данный сотрудник. Далее названия шаблонов всех компетенций, вместе с заданным студентом вопросом,  подаются на вход утилите. Утилита возвращает шаблон той компетенции, о которая была поставлена в соответствие заданному вопросу. Если такой шаблон найден, студент получат ответ, привязанный к найденному шаблону. Если утилита не вернула ни шаблона, студенту возвращается сообщение о том, что сотрудник не знает ответа на заданный вопрос. Такой алгоритм позволяет определить студенту как факт работы сотрудника в отделении, так и компетенции этого сотрудника. Для более наглядного представления работы алгоритма, были построены IDEF0 диаграмма (Рис 2.3.) и диаграмма последовательностей (Рис 2.4.)  Рисунок 2.3. IDEF0 диаграмма алгоритма  Рисунок 2.4. Диаграмма последовательностей алгоритма Определение бизнес-процессов Определим основные процессы, в которых будет задействована система. Поскольку предполагается, что студенты в начале игры знают только названия филиалов и не имеют список сотрудников, то студенты должны сами их определить. Было решено, что студенты будут определять, существует ли такой сотрудник в филиале в ходе постановки вопросов виртуальному собеседнику. Таким образом, для студентов виртуальный собеседник задействован в двух процессах: определение существования сотрудника в филиале и постановка самого вопроса виртуальному собеседнику относительно филиалов фирмы «ОбалдеИТ». Перейдем к диаграмме прецедентов. Всего в системе будет два актора: студент, задающий вопросы собеседнику и администратор, поддерживающий систему. Определим прецеденты системы, после чего построим диаграмму, которая представлена на Рис. 2.1. Название: Постановка вопроса системе Акторы: Студент Описание: Студент заходит в систему под своим именем и паролем, указывает сотрудника и задает вопрос системе.  Название: Определение существования сотрудника в филиале Акторы: Студент Описание: Студент заходит в систему под своим именем и паролем, указывает сотрудника и задает вопрос системе. Если такой сотрудник существует, он даст ответ на вопрос, либо ответит, что это не в его компетенции. Если такого сотрудника нет, система сообщит об этом.  Название: Редактирование компетенций сотрудников филиала Акторы: Администратор Описание: Администратор заходит в  интерфейс администрирования системой, выбирает филиал, затем одного из сотрудников этого филиала. Перед администратором открывается список всех компетенций данного филиала, в котором уже указаны те, компетенции, которыми располагает выбранный сотрудник. Администратор может удалить существующие компетенции или добавить новые из списка.  Название: Просмотр заданных вопросов системе.  Акторы: Администратор Описание: Администратор заходит в интерфейс администрирования, затем открывает окно заданных вопросов системе. Там он может увидеть информацию, какому сотруднику, в каком филиале и в какое время был задан вопрос, и какой ответ на него был дан.  Рисунок 2.1. Диаграмма активностей Теперь, когда были определены прецеденты системы, была построена диаграмма активностей. На рисунке 2.2 представлена диаграмма последовательностей обращения к системе. На диаграмме обращения к системе показаны все возможные варианты реакции системы на действия пользователя: если пользователь указал сотрудника фирмы, который не работает в ней, если пользователь задал вопрос сотруднику, на который он не знает ответа или если пользователь не был идентифицирован системой в момент обращения к ней.    Рисунок 2.2. Диаграмма последовательностей Проектирование системы Теперь, когда были определены процессы, которые должна автоматизировать система, и была выбрана реализация, было начато проектирование приложения. Были определены сущности, которые будут в системе:   Филиал. Свойства: А) Имя. Тип - строковый Описание: У каждого филиала свои уникальные характеристики такие как месторасположение, количество и комплектация ЭВМ, количество сотрудников и их квалификация.  Сотрудник. Свойства: А) Имя. Тип строковый. Б) Название шаблона. Тип строковый. Описание: Каждый из сотрудников филиалов фирмы «ОбалдеИТ» обладает своим набором компетенций. В зависимости от этих компетенций определяется, сможет ли сотрудник ответить на поставленный вопрос или нет. Поскольку ранее было решено, что система будет основана на лексико-синтаксических шаблонах, то у сотрудника было определено свойство «Название шаблона», в котором будет содержаться название того шаблона, который бы однозначно определял сотрудника. Компетенция. Свойства:  А) Название шаблона. Тип – строковый. Б) Текст ответа. Тип – строковый. В) Должность сотрудника Описание: Небольшая область знаний, которой обладает сотрудник, прикрепленный к филиалу.  Запись о вопросе.  Свойства: А) Время. Тип – DateTime Б) Заданный вопрос. Тип – строковый В) Имя сотрудника. Тип – строковый Г) Ответ на вопрос. Тип – строковый Описание: Поскольку было решено собирать данные о заданных вопросах, была введена сущность, которая бы отображала эти данные. Для этого она хранит точную дату и время заданного вопроса, точную формулировку самого вопроса, а также название сотрудника, которое было введено в текстовом поле. Эти данные помогут в дальнейшем пополнять и корректировать существующие шаблоны. Диаграмма ERD представлена на Рис 2.5  Рисунок 2.5. ERD диаграмма Ранее говорилось, что компетенции сотрудников филиалов могут пересекаться, а значит, ответ на один и тот же вопрос могут дать несколько сотрудников сразу. Поэтому было решено сделать связь типа «многие ко многим» между сущностями «Сотрудник» и «Компетенция».  Глава 3. Разработка системы В этой главе будет подробно описан процесс разработки приложения, его базы данных и взаимодействие с утилитой для сопоставления текста с лексико-синтаксическими шаблонами.    Инструментальные средства разработки Определим стек технологий для разработки веб-приложения виртуального собеседника. Было решено разрабатывать приложение на платформе .Net с использованием фреймворка Asp.Net для разработки сайта. Основным языком разработки является C#, однако помимо этого используются языки: HTML для описания веб-страниц, XML для задания конфигурации приложения и LSPL для задания лексико-синтаксических шаблонов. Далее будут описаны основные инструменты, которые потребуются при разработке собеседника: Яндекс словарь. Как ранее было сказано, в данной статье описан способ реализации собеседника, который не требует большого объема входной выборки. Однако исходная выборка для более широкой работы системы искусственно увеличивается за счет словаря синонимов. Однако, этот словарь нельзя использовать непосредственно во время использования, поскольку предоставляемое API имеет ежедневное ограничение на количество запросов. LSPL. LSPL (Lexico-Syntaxic Pattern Language) – язык, предназначенный для формального описания конструкций русского языка с целью их представления в системах извлечения информации из текстов. К сожалению разработчики не предоставили dll файл для использования его в системе, таким образом инструмент используется через утилиту с помощью запуска bat файла. Стоит отметить, что для этого компонента нет актуальной документации, поэтому учиться его использовать придется в процессе разработки. LemmaSharp. LSPL шаблоны требуют на вход слова в начальной форме. Для решения этого этапа потребовалась отдельная библиотека.  MS SQL. Как было написано выше, Яндекс словарь имеет ограничение на количество ежедневных запросов. Для того, чтобы во время работы не обращаться к словарю за синонимами, было решено получить их ранее и хранить их в базе данных.  Разработка базы данных Для хранения данных для приложения было решено создать базу данных на основе SQL Server с названием ObaldeitChatBot. Под каждую из сущностей, описанных в предыдущей главе, была создана таблица в базе данных, а также дополнительные поля, которые служат уникальными идентификаторами и внешними ключами для других таблиц. Схема базы данных представлена на Рис 3.1.   Рисунок 3.1. Схема базы данных Подготовка файла с входными данными Для корректной работы системы потребуется заполнить базу данных. С предыдущих игр, где за каждого сотрудника отвечал преподаватель, сохранились файлы, содержащие вопросы студентом и ответы каждого сотрудника. Информация из этих файлов была объединена и структуризирована к виду: название филиала, должность сотрудника, вопрос, ответ. Стоит отметить, что от игры к игре в некоторых филиалах менялись сотрудники или точная формулировка их должностей, поэтому перед исправлением объединенного файла была создана матрица принадлежностей сотрудников к филиалам (Рис 3.2.). Исходя из созданной матрицы, наименования должностей сотрудников филиалов приводилось к единому виду. Помимо наименований должностей сотрудников, менялись и их компетенции, поэтому для организации зон ответственности сотрудников была создана матрица зон ответственности сотрудников (Рис 3.3.).  Рисунок 3.2.Матрица принадлежностей сотрудников к филиалам  Рисунок 3.3. Матрица зон ответственностей сотрудников После того, как были определены зоны ответственности и наименования должностей сотрудников, было решено написать небольшую подпрограмму, проверяющую корректность сформированного файла. Эта программа проверяет, верно ли введено название филиала, наименование должности сотрудника, а также прикреплен ли сотрудник с указанной должностью к филиалу. Если какое-то из условий не совпадает, программа выдает номер строки с ошибкой. После нескольких проверок файла и исправления ошибок, файл был приведен в вид, пригодный для наполнения базы данных. Код валидации файла приведен ниже:         private void ValidateFile(object sender, RoutedEventArgs e)         {             var filePath = GetExcelFilePath();             if (filePath == null)                 return;             Excel.Application xlApp = new Excel.Application();             Excel.Workbook xlWorkbook = xlApp.Workbooks.Open(filePath);             Excel._Worksheet xlWorksheet = xlWorkbook.Sheets[1];             Excel.Range xlRange = xlWorksheet.UsedRange;             var errorsList = new List<int>();             using (var db = new ObaldeitChatBotEntities())             {                 for (int i = 2; i < xlRange.Rows.Count; i++)                 {                     string subsidiary = xlRange.Cells[i, 1].Value2.ToString();                     string employee = xlRange.Cells[i, 2].Value2.ToString();                     string question = xlRange.Cells[i, 2].Value2.ToString();                      if (!db.Subsidiary.Select(s => s.title).Contains(subsidiary))                     {                         Console.WriteLine(\"Строка \" + i + \" содержит невалидное название филиала\");                     }                      if (!db.Employee.Select(s => s.name).Contains(employee))                     {                         Console.WriteLine(\"Строка \" + i + \" содержит невалидное название сотрудника\");                     }                      if (question.Contains(\"\\n\"))                     {                         Console.WriteLine(\"Строка содержит непечатные символы: \" + i);                     }                      if (!db.Employee.Include(\"Subsidiary\").ToList().Any(emp => emp.name == employee && emp.Subsidiary.title == subsidiary))                     {                         Console.WriteLine(i + \" – Сотрудник не работает в филиале\");                     }                 }             }             xlWorkbook.Close();             xlApp.Quit();         } Наполнение базы данных После того, как база данных была спроектирована, следует её наполнить из созданного ранее файла. Для этого потребовалась дополнительная подпрограмма, поскольку объем работ слишком велик для ручного выполнения. Поэтому было решено создать несколько подпрограмм для наполнения базы данных и генерации шаблонов.  Процесс наполнения базы данных был разбит на несколько этапов. На первом этапе вручную в базе данных было наполнено несколько таблиц, данные из которых будут нужны для следующих этапов. Для проверки входного файла и дальнейшего заполнения таблицы с компетенциями были заполнены следующие таблицы: Subsidiary (филиал), Employee (Сотрудник), EmployeePattern (Шаблоны сотрудника). Первые две таблицы были заполнены исходя из матрицы принадлежностей сотрудников к филиалам. Шаблоны должностей созданы, используя словари синонимов. Помимо этого, была  заполнена таблицы PartOfSpeech (Часть речи), которая понадобится для получения синонимов каждого слова для вопроса. Данные для этой таблицы были взяты из документации по языку LSPL (Рис 3.4.). Там указаны все поддерживаемые части речи и их перевод на английский язык. API словаря синонимов к каждому из слов возвращает его часть речи, что поможет после для составления шаблонов, используя эту таблицу.  Рисунок 3.4. Части речи, поддерживаемые языком LSPL Следующим этапом было заполнение таблицы с синонимами слов задаваемых вопросов. Для получения синонимов был использован словарь синонимов компании Яндекс. Ранее было задумано получать синонимы во время работы программы и генерировать шаблоны динамически. Однако Яндекс словарь ограничивает количество запросов в день, а на все запросы, которые посыпаются поверх допустимого лимита, словарь возвращает сообщение об ошибке. Поэтому было решено заранее сгенерировать синонимы и шаблоны.  Словарь возвращает на запрос структуру, в которой указан синоним и его часть речи. Полученный синоним добавляется в базу данных в случае, если ранее его там не было. Код заполнения таблицы с синонимами представлен ниже.         private void GenerateWordsPool(object sender, RoutedEventArgs e)         {             var filePath = GetExcelFilePath();             if (filePath == null)                 return;              Excel.Application xlApp = new Excel.Application();             Excel.Workbook xlWorkbook = xlApp.Workbooks.Open(filePath);             Excel._Worksheet xlWorksheet = xlWorkbook.Sheets[1];             Excel.Range xlRange = xlWorksheet.UsedRange;             Dictionary<string, PhrasePattern> questionPattern = new Dictionary<string, PhrasePattern>();             using (var db = new ObaldeitChatBotEntities())             {                 for (int i = 2; i < xlRange.Rows.Count; i++)                 {                     string question = xlRange.Cells[i, 3].Value2.ToString();                      var words = PrepareInputString(question);                      foreach (var word in words)                     {                         if (word.Trim() == string.Empty)                         {                             continue;                         }                         var lemmatizedWord = LemmatizerSingletone.GetInstance().LemmatizePhrase(word);                         if (db.Word.Any(w => w.text == lemmatizedWord))                         {                             continue;                         }                         WordPattern wordPattern = new WordPattern(word);                         if (wordPattern.Alternatives.Count == 0)                         {                             continue;                         }                         if (!db.PartOfSpeech.ToList().Any(p => p.name == wordPattern.Alternatives[0].pos))                         {                             continue;                         }                         Word dbWord = new Word() { text = lemmatizedWord, partOfSpeechId = db.PartOfSpeech.ToList().FirstOrDefault(pos => pos.name == wordPattern.Alternatives[0].pos).id, mainSymominId = -1};                         db.Word.Add(dbWord);                         db.SaveChanges();                         foreach (var alt in wordPattern.Alternatives.Skip(1))                         {                             if (!db.PartOfSpeech.ToList().Any(p => p.name == alt.pos))                             {                                 continue;                             }                             if (alt.pos != null)                             {                                 db.Word.Add(new Word() { text = alt.text, partOfSpeechId = db.PartOfSpeech.ToList().FirstOrDefault(pos => pos.name == alt.pos).id, mainSymominId = dbWord.id });                             }                         }                     }                 }                 db.SaveChanges();             }             xlWorkbook.Close();             xlApp.Quit();         }  После заполнения таблицы синонимов были сгенерированы шаблоны. Язык LSPL позволяет использовать альтернативы в шаблонах, что позволяет использовать в шаблонах ранее полученные синонимы. Помимо этого, LSPL дает возможность работать со словом как частью речи языка, используя такие его характеристики как число, падеж, время и т.д. Части речи в предложении играют разную роль и имеют разную значимость. Исходя из этого, была составлена маска частей речи, по которым будут составляться шаблоны. В маску вошли следующие части речи: существительное, наречие, глагол, числительное.  Далее кратко будет описан алгоритм составления шаблона. На вход подается ранее созданный файл с вопросами и ответами. Файл считывается построчно. Сначала определяется филиал, сотруднику, которого задается вопрос, затем определяется сам сотрудник из базы данных по его принадлежности к филиалу. Затем из заданного вопроса удаляются все слова, которые не соответствуют маске частей речи, которая была описана ранее. Затем для каждого из оставшихся слов генерируется лексико-синтаксический шаблон с его синонимами, после чего все полученные шаблоны синонимов объединяются в шаблон заданного вопроса в исходном порядке. Шаблоны синонимов и полученного вопроса по необходимости добавляются в базу данных.  Код, добавляющий в базу данных шаблоны приведен ниже.         private void LoadPatterns_Click(object sender, RoutedEventArgs e)         {             var filePath = GetExcelFilePath();             if (filePath == null)                 return;              Excel.Application xlApp = new Excel.Application();             Excel.Workbook xlWorkbook = xlApp.Workbooks.Open(filePath);             Excel._Worksheet xlWorksheet = xlWorkbook.Sheets[1];             Excel.Range xlRange = xlWorksheet.UsedRange;             Dictionary<string, PhrasePattern> questionPattern = new Dictionary<string, PhrasePattern>();             using (var db = new ObaldeitChatBotEntities())             {                 for (int i = 2; i < xlRange.Rows.Count; i++)                 {                     string subsidiaryName = xlRange.Cells[i, 1].Value2.ToString();                     string employeeName = xlRange.Cells[i, 2].Value2.ToString();                     string question = xlRange.Cells[i, 3].Value2.ToString().Replace('\\n', ' ');                     string answerValue = xlRange.Cells[i, 4].Value2.ToString().Replace('\\n', ' ');                      Employee employee = db.Employee.Include(\"Subsidiary\").FirstOrDefault(emp => emp.name.ToLower() == employeeName.ToLower() && emp.Subsidiary.title.ToLower() == subsidiaryName.ToLower());                     PhrasePattern pattern = new PhrasePattern();                     PartOfSpeechMask mask = new PartOfSpeechMask(new List<PatternsGenerator.PartOfSpeech>() { }, new List<PatternsGenerator.PartOfSpeech> { PatternsGenerator.PartOfSpeech.Noun, PatternsGenerator.PartOfSpeech.Verb, PatternsGenerator.PartOfSpeech.Pronoun, PatternsGenerator.PartOfSpeech.Numeral });                     var wordsStrings = PrepareInputString(question).Select(s => LemmatizerSingletone.GetInstance().LemmatizePhrase(s)).ToList();                     for (int j = 0; j < wordsStrings.Count; j++)                      {                         var word = db.Word.Include(\"PartOfSpeech\").ToList().FirstOrDefault(w => w.text == wordsStrings[j]);                         if (word == null || !mask.NonRequired.Select(s => PartOfSpeechMask.PartOfSpeechDict[s].ToLower()).Contains(word.PartOfSpeech.name.ToLower()))                         {                             wordsStrings.RemoveAt(j);                             j--;                         }                     }                     if (wordsStrings.Count == 0) continue;                     List<PhrasePattern> wordPatternsList = new List<PhrasePattern>();                     for (int j = 0; j < wordsStrings.Count; j++)                     {                         var word = db.Word.Include(\"PartOfSpeech\").ToList().First(w => w.text == wordsStrings[j]);                         if (word.mainSymominId != -1)                         {                             word = db.Word.Include(\"PartOfSpeech\").ToList().First(w => w.id == word.mainSymominId);                         }                         var wordPattern = db.PhrasePattern.ToList().FirstOrDefault(p => p.title.ToLower() == TranslitGenerator.GetTranslit(word.text).ToLower());                         if (wordPattern == null)                         {                             var dbAlternates = db.Word.Include(\"PartOfSpeech\").ToList().Where(w => w.mainSymominId == word.id).Take(10).Select(w => new ParserWord() { text = w.text, pos = w.PartOfSpeech.name}).ToList();                             WordPattern parserWordPattern = new WordPattern(new ParserWord() { text = word.text, pos = word.PartOfSpeech.name }, dbAlternates);                             var generatedPattern = parserWordPattern.GeneratePatternSeparately(mask);                             if (!String.IsNullOrEmpty(generatedPattern[1]))                             {                                 wordPattern = new PhrasePattern() { title = generatedPattern[0], body = generatedPattern[1] };                                 db.PhrasePattern.Add(wordPattern);                                 db.SaveChanges();                             }                         }                         if (wordPattern != null)                         {                             wordPatternsList.Add(wordPattern);                         }                     }                     var patternTitle = new string(wordPatternsList.Select(p => p.title[0]).ToArray());                     pattern.title = Char.ToUpper(patternTitle[0]) + patternTitle.Substring(1);                      pattern.body = wordPatternsList.ToList().Select(s => s.title).Aggregate((m, k) => m + \" {W} \" + k) + \" =pattern> \\'-\\'\";                     db.PhrasePattern.Add(pattern);                     Competence competence = new Competence() { employeeId = employee.id, patternId = pattern.id, answer = answerValue};                     db.Competence.Add(competence);                     db.SaveChanges();                 }             }             xlWorkbook.Close();             xlApp.Quit();         } После того, как все шаблоны были добавлены в базу данных, осталось только сгенерировать файл с паттернами, который будет подаваться на вход утилите. Шаблоны, добавленные в файл приведены в приложении В.         private void GeneratePatternFile_Click(object sender, RoutedEventArgs e)         {             List<string> patterns = new List<string>();             using (var db = new ObaldeitChatBotEntities())             {                 foreach (var ptrn in db.PhrasePattern.ToList())                 {                     patterns.Add(char.ToUpper(ptrn.title[0]) + ptrn.title.Substring(1) + \" = \" + ptrn.body);                 }             }             patterns = patterns.Distinct().ToList();             foreach (var pattern in patterns)             {                 File.AppendAllLines(@\"C:\\projects\\ObaldeitChatBotV2\\PatternsGenerator\\lspl-tools-new\\example\\ptrns1.txt\", new List<string> { pattern }, Encoding.GetEncoding(\"windows-1251\"));             }         } Использование лексико-синтаксических шаблонов Разберем взаимодействие системы с лексико-синтаксическими шаблонами. Каждый ответ, который может давать система, связан с лексико-синтаксическим шаблоном в его перечне. Все лексико-синтаксические шаблоны находятся в файле, относительный путь которого ObaldeitChatBot\\LsplUtils\\lspl-tools-new\\bin\\patterns.txt. Сами шаблоны составлены так, что позволяют учитывать разные формулировки вопросов и должностей сотрудников. Достигнуто это за счет возможностей языка lspl. Рассмотрим некоторые шаблоны. Ниже представлен шаблон, определяющий должность Системного администратора: Admin = N<администратор> =text> '-' | A<системный> N<администратор> =text> '-' | 'сисадмин' =text> '-'  Разберем подробнее его составляющие. В шаблоне представлены три альтернативы. Первая альтернатива «N<администратор> =text> '-'» предполагает, что исходный текст будет соотнесен с этим шаблоном, если он будет содержать существительное «администратор» в любом числе и падеже. Вторая альтернатива «A<системный> N<администратор> =text> '-'» предполагает, что исходный текст будет соотнесен с должностью, если в тексте встретится словосочетание, состоящее из прилагательного «системный» и существительного «администратор», которые могут быть не согласованы между собой. Так, такие варианты как «системный администратору» или «системному администратор» также будет распознаны этим шаблоном. Третья альтернатива не завязана на каких-либо частях речи и соотнесет с шаблоном любой текст, в котором встречается подстрока «сисадмин». Кроме альтернатив в простых лексико-синтаксических шаблонах, многовариантности можно достичь за счет использования составных шаблонов, которые состоят из других шаблонов. Разберем это на примере шаблона, который соотнесен с ответом на вопрос о том, сколько в филиале находится компьютеров. Этот шаблон представлен ниже: QComp = Quantity {W} Computer {W} [Office] =pattern> '-' Как видно, в этом шаблоне нет элементов, которые бы характеризовали слова на русском языке, однако он содержит название других трех шаблонов: «Quantity», «Computer» и  «Office». Эти шаблоны представлены ниже: Quantity = Num<сколько> =text> '-' | N<количество> =text> '-' | N<число> =text> '-' | N<величина> =text> '-'  Computer = N<компьютер> =text> '-' | N<эвм> =text> '-' | N<персоналка> =text> '-' | 'пк' =text> '-' Office = N<офис> =text> '-' | N<отделение> =text> '-' | N<подразделение> =text> '-'| N<отдел>=text> '-'  Первый шаблон содержит пять альтернатив, второй четыре и третий пять альтернатив. Помимо этого, в шаблоне QComp шаблон Office указан в квадратных скобках, что означает, что он может не находиться в исходном тексте. Также между шаблонами указана буква W в фигурных скобках, что обозначает, что между шаблонами может находиться произвольное количество любых слов.  Разберем подробнее процесс запуска самой утилиты. Ее можно запустить командой из командной строки, указав относительный путь входного файла, лексико-синтаксических шаблонов, выходной файл и искомые шаблоны. Пример команды приведен ниже: bin\\lspl-find -i bin\\text.txt -p bin\\patterns.txt -o bin\\output.txt QComp InternetSpeed AreUsable AreSuitable LevelEmployee Characteristic VersOS WillChange LanguageProgram Cabinets AreServersHere IsLocalNetworkHere ThemselfInstall Однако, поскольку из приложения мы не имеем возможности воспользоваться командной строкой, команда выполняется через .bat файл. Всего по мере ответа на вопрос команда выполняется дважды: в первый раз устанавливается, к какому именно сотруднику задается вопрос. Далее, если такой сотрудник работает в указанном филиале, устанавливается, что за вопрос был задан.  Разберем обработку результатов работы утилиты. Lspl-tools по результатам работы генерирует xml файл, в котором указано, какие именно шаблоны были встречены в тексте. Пример такого xml файла представлен ниже, где в качестве входного текста был указан вопрос «Сколько компьютеров есть в вашей фирме», а в качестве лексико-синтаксических шаблонов были указаны QComp, InternetSpeed, AreUsable, AreSuitable, LevelEmployee, Characteristic, VersOS, WillChange, LanguageProgram, Cabinets, AreServersHere, IsLocalNetworkHere, ThemselfInstall: <?xml version=\"1.0\" encoding=\"windows-1251\"?> <texts> \t<text> \t\t<goal name=\"QComp\"> \t\t\t<match startPos=\"0\" endPos=\"19\"> \t\t\t\t<fragment>Сколько компьютеров</fragment> \t\t\t\t<result>-</result> \t\t\t</match> \t\t\t<match startPos=\"0\" endPos=\"24\"> \t\t\t\t<fragment>Сколько компьютеров есть</fragment> \t\t\t\t<result>-</result> \t\t\t</match> \t\t\t<match startPos=\"0\" endPos=\"26\"> \t\t\t\t<fragment>Сколько компьютеров есть в</fragment> \t\t\t\t<result>-</result> \t\t\t</match> \t\t\t<match startPos=\"0\" endPos=\"32\"> \t\t\t\t<fragment>Сколько компьютеров есть в вашей</fragment> \t\t\t\t<result>-</result> \t\t\t</match> \t\t\t<match startPos=\"0\" endPos=\"38\"> \t\t\t\t<fragment>Сколько компьютеров есть в вашей фирме</fragment> \t\t\t\t<result>-</result> \t\t\t</match> \t\t</goal> \t\t<goal name=\"InternetSpeed\"> \t\t</goal> \t\t<goal name=\"AreUsable\"> \t\t</goal> \t\tИ т.д.  \t</text> </texts> Как видно из кода файла, было найдено несколько соответствий с шаблоном «QComp». Поскольку в этом шаблоне есть возможность вставлять слова между частями шаблона, то было количество соответствий было увеличено. После завершения работы утилиты содержимое выходного файла обрабатывается системой, где проверяется, какие из поданных шаблонов были встречены в тексте. Результирующим шаблоном считается тот, фрагмент которого, встреченный в тексте, имеет максимальную длину.  За обработку выходного файла отвечает класс QuestionsAnswerer. Разберем, как работает этот класс. У него есть всего одна публичная функция, которая вызывается из внешнего кода. В нее передается текст выходного файла. Сначала функция проверяет, находится ли в коде файла подстрока «match»: эта подстрока находится в файле только в том случае, если было найдено соответствие между лексико-синтаксическими шаблонами и текстом на вход для утилиты. Если подстрока не была найдена, то функция ничего не вернет и это будет обрабатываться во внешнем коде, в ином случае выбирается то соответствие, в котором разница стартовой и конечной позиции максимальна, после чего возвращается название шаблона этого соответствия.  Разработка веб-приложения После того, как была спроектирована и наполнена база данных, была начата разработка веб-приложения для взаимодействия с пользователем на платформе asp.net. Было разработано одностраничное приложение с использование технологий jquery и ajax с простым интерфейсом (Рис 3.5.), где пользователю предлагается выбрать филиал из списка доступных, ввести должность сотрудника и задать вопрос, после чего в графе ответ через некоторое время появится ответ, вычисленный системой. Алгоритм, по которому работает система, в точности повторяет спроектированный. Его реализация приведена ниже:         public JsonResult GetAnswer(QuestionAnswerModel model)         {             using (var db = new ObaldeitChatBotEntities())             {                 var employeePatternName = GetPatternName(model.EmployeeText, db.Employee.ToList().Where(e => e.subsidiaryId == model.SelectedCityId).Select(e => e.EmployeePattern.title).ToList());                 if (employeePatternName == null)                 {                     model.AnswerText = \"Нет у нас такой должности!\";                     return Json(model);                 }                 var employee = db.Employee.ToList().First(e => e.subsidiaryId == model.SelectedCityId && e.EmployeePattern.title == employeePatternName);                 var competencesPatterns = db.Competence.ToList().Where(c => c.employeeId == employee.id).Select(s => s.PhrasePattern.title).Distinct().ToList();                 var answerPatternName = GetPatternName(model.Question, competencesPatterns);                 if (answerPatternName == null)                 {                     model.AnswerText = \"Сотрудник не знает ответа на заданный вопрос.\";                     return Json(model);                 }                 model.AnswerText = db.Competence.ToList().First(c => c.employeeId == employee.id && c.PhrasePattern.title == answerPatternName).answer;             }             return Json(model); }   Рисунок 3.5. Веб-приложение LSPL Эта часть исходного кода – обработчик события нажатия на кнопку. Ему на вход приходит собранная на клиенте модель, содержащая все поля, которые пользователь заполняет в интерфейсе. Далее начинается процесс обработки, описанный в предыдущей главе: сначала происходит проверка наличия сотрудника с указанной должностью в выбранном филиале – если такого нет, то пользователю выдается уведомление об этом. После этого выбираются все компетенции найденного сотрудника и их шаблоны сопоставляются с заданным вопросом.  Процесс проверки шаблона происходит с помощью запуска процесса системы Windows. Сначала формируется файл с обрабатываемой строкой, где указана либо должность сотрудника, либо вопрос. Затем формируется bat файл, в котором указывается входной файл, файл с заранее сгенерированными шаблонами и путь к выходному файлу. Затем запускается сама утилита через ранее сформированный bat файл. После завершения процесса обрабатывается выходной файл, сгенерированный утилитой, а шаблон, определенный как наиболее подходящий из предложенных выходным файлом, сопоставляется в зависимости от ситуации с шаблонами в нужной таблице базы данных, на основании чего системой принимается решение. Полный исходный код этой работы представлен в приложении Г. Разработка сервиса администрирования После разработки веб-приложения виртуального собеседника была разработана система администрирования виртуальным собеседником. Всего система администрирования содержит 2 окна: изменение компетенций сотрудников и просмотр истории вопросов студентов.  В первом окне (Рис 3.6.) администратору предлагается выбрать филиал и должность сотрудника, после чего ему открывается список всех компетенций выбранного филиала, где галочками отмечены те компетенции, о которых знает выбранный сотрудник. Администратор может изменить набор компетенций того или иного сотрудника по своему усмотрению, после изменения каждой компетенции данные перезаписываются в базу данных. Второе окно (Рис 3.7.) отображает информацию обо всех заданных вопросах за все время работы системы, а именно: дата и время, когда был задан вопрос, филиал, сотруднику которого он был задан, формулировка должности сотрудника, указанная пользователем, заданный вопрос и данный системой ответ.  Рисунок 3.6. Исправление компетенций сотрудников  Рисунок 3.7. Окно просмотра истории заданных вопросов Публикация системы на Microsoft Azure и опытное тестирование Когда система была разработана и запущена локально, предстоял процесс развертки на хостинге. В качестве хостинга был выбран Microsoft  Azure. Поскольку система использует базу данных в работе, то сначала была развернута она. В студенческом аккаунте, предоставляемом компанией Microsoft для студентов НИУ ВШЭ, был создан запрос на использование сервера базы данных. После получения доступа к серверу, была создана пустая база данных. Далее с помощью программы Data Migration Assistant была перенесена схема локальной БД на удалённую, после чего были переданы и сами данные.  Далее была создана виртуальная машина. После того, как виртуальная машина была создана, приложение было перенесено на нее. Однако для работы приложения требуется утилита LSPL и файлы с паттернами. Для переноса папки с утилитой виртуальной машине был предоставлен доступ к локальному жесткому диску, с которого папка была перенесена на виртуальную машину. После того, как система получила доступ к папке, система всё ещё не отвечала на поставленные вопросы. Для решения этой проблемы было решено произвести отладку путем вывода сообщений об ошибке в окно ответа. Основной проблемой оказалась политика безопасности виртуальной машины, которая не разрешала редактировать файлы в процессе работы. После того, как политика безопасности была настроена, система заработала.  После публикации система прошла опытное тестирование в ходе деловой игры. Студентами было задано более 1700 вопросов системе. В общем студентам удалось получить ответы на большинство заложенных в систему вопросов. Однако, учитывая то, что студенты работали несогласованно, то для каждого из них информации было мало. Было определено, что разработанный собеседник не имеет достаточную точность ответа, однако при наличии в вопросе требуемых слов или их синонимов способен дать ответ. Для дальнейшего улучшения работы собеседника предлагается доработать систему администрирования так, чтобы с её помощью была возможность создавать шаблоны и проверять входной текст на их наличие. Заключение В ходе данной работы была построена собственная система для генерации лексико-синтаксических шаблонов на основе исходного файла с текстовыми строками. На основе разработанной технологии была спроектирована и реализована система, позволяющая имитировать процесс общения студента и сотрудника филиала фирмы в ходе бизнес-игры. Разработанная система была развернута в интранете ВШЭ Пермь для проведения последующих бизнес-игр. Были выполнены следующие задачи: Выявлены причины провала прошлой версии виртуального собеседника. Разработано технического задания Проведен сравнительный анализ моделей улучшения алгоритма Был улучшен алгоритм работы системы  Было произведено проектирование архитектуры новой системы. Система была разработана. Было произведено первичное тестирование системы. Система была развернута. Была проведена опытная эксплуатация системы.  Библиографический список 1. Chapter 1. Introduction to Microsoft Solutions Framework. / TechNet [Электронный ресурс] URL: . (Дата обращения 23.05.2018) 2. Следствие из теоремы Колмогорова–Арнольда–Хехт-Нильсена. / Искусственные нейронные сети. Теория и практика [Электронный ресурс]  Режим доступа:  (Дата обращения: 23.05.2018) 3. Макконелл С. Совершенный код. М.: РУССКАЯ РЕДАКЦИЯ, 2015. 4. Скиена С. Алгоритмы Руководство к разработке. М.: БХВ-Петербург, 2014. 5. Избачков Ю.С. Информационные системы СПб.: Питер, 2006.  6. Хайкин С. Нейронные сети: полный курс. М.: Издательский дом Вильямс, 2008.  \n",
            "  \n"
          ],
          "name": "stdout"
        }
      ]
    },
    {
      "cell_type": "code",
      "metadata": {
        "colab": {
          "base_uri": "https://localhost:8080/",
          "height": 397
        },
        "id": "veAauHQHdP9H",
        "outputId": "db5ed82e-9461-4ca9-d3dd-a1b0204e1431"
      },
      "source": [
        "vkr = pd.read_csv('/content/vkr.csv?token=AITWEH753HPJ6QHZPBGT47LAETPYE')\n",
        "#vkrText = pd.read_csv('/content/vkrText.csv?token=AITWEHZGZ5SB7PHMJA3YNTDAFFJOM')\n",
        "vkrText.head()"
      ],
      "execution_count": 37,
      "outputs": [
        {
          "output_type": "execute_result",
          "data": {
            "text/html": [
              "<div>\n",
              "<style scoped>\n",
              "    .dataframe tbody tr th:only-of-type {\n",
              "        vertical-align: middle;\n",
              "    }\n",
              "\n",
              "    .dataframe tbody tr th {\n",
              "        vertical-align: top;\n",
              "    }\n",
              "\n",
              "    .dataframe thead th {\n",
              "        text-align: right;\n",
              "    }\n",
              "</style>\n",
              "<table border=\"1\" class=\"dataframe\">\n",
              "  <thead>\n",
              "    <tr style=\"text-align: right;\">\n",
              "      <th></th>\n",
              "      <th>Unnamed: 0</th>\n",
              "      <th>link_vkr</th>\n",
              "      <th>name_vkr</th>\n",
              "      <th>name_student</th>\n",
              "      <th>name_prof</th>\n",
              "      <th>campus</th>\n",
              "      <th>programm</th>\n",
              "      <th>grade</th>\n",
              "      <th>year</th>\n",
              "      <th>link_file</th>\n",
              "      <th>fullText</th>\n",
              "      <th>shortText</th>\n",
              "    </tr>\n",
              "  </thead>\n",
              "  <tbody>\n",
              "    <tr>\n",
              "      <th>0</th>\n",
              "      <td>0</td>\n",
              "      <td>https://www.hse.ru/edu/vkr/219524501</td>\n",
              "      <td>Оценка стоимости компании</td>\n",
              "      <td>Дроздова Ирина Валерьевна</td>\n",
              "      <td>Абашева Александра Сергеевна</td>\n",
              "      <td>Вечерне-заочный факультет экономики и управле...</td>\n",
              "      <td>Экономика (в) (Бакалавриат)</td>\n",
              "      <td>-1</td>\n",
              "      <td>2018</td>\n",
              "      <td></td>\n",
              "      <td></td>\n",
              "      <td></td>\n",
              "    </tr>\n",
              "    <tr>\n",
              "      <th>1</th>\n",
              "      <td>1</td>\n",
              "      <td>https://www.hse.ru/edu/vkr/219524122</td>\n",
              "      <td>Оценка эффективности инвестиционного проекта</td>\n",
              "      <td>Стерледева Наталья Владимировна</td>\n",
              "      <td>Абашева Александра Сергеевна</td>\n",
              "      <td>Вечерне-заочный факультет экономики и управле...</td>\n",
              "      <td>Экономика (в) (Бакалавриат)</td>\n",
              "      <td>7</td>\n",
              "      <td>2018</td>\n",
              "      <td>http://lms.hse.ru/ap_service.php?getwork=1&amp;gui...</td>\n",
              "      <td></td>\n",
              "      <td></td>\n",
              "    </tr>\n",
              "    <tr>\n",
              "      <th>2</th>\n",
              "      <td>2</td>\n",
              "      <td>https://www.hse.ru/edu/vkr/153009903</td>\n",
              "      <td>Разработка системы управления знаниями в орган...</td>\n",
              "      <td>Беленова Анастасия Александровна</td>\n",
              "      <td>Аленина Карина Анатольевна</td>\n",
              "      <td>Факультет менеджмента (Пермь)</td>\n",
              "      <td>Менеджмент (Бакалавриат)</td>\n",
              "      <td>-1</td>\n",
              "      <td>2015</td>\n",
              "      <td></td>\n",
              "      <td></td>\n",
              "      <td></td>\n",
              "    </tr>\n",
              "    <tr>\n",
              "      <th>3</th>\n",
              "      <td>3</td>\n",
              "      <td>https://www.hse.ru/edu/vkr/153009689</td>\n",
              "      <td>Брендинг инновационного продукта</td>\n",
              "      <td>Воронков Кирилл Евгеньевич</td>\n",
              "      <td>Аленина Карина Анатольевна</td>\n",
              "      <td>Факультет менеджмента (Пермь)</td>\n",
              "      <td>Менеджмент (Бакалавриат)</td>\n",
              "      <td>-1</td>\n",
              "      <td>2015</td>\n",
              "      <td></td>\n",
              "      <td></td>\n",
              "      <td></td>\n",
              "    </tr>\n",
              "    <tr>\n",
              "      <th>4</th>\n",
              "      <td>4</td>\n",
              "      <td>https://www.hse.ru/edu/vkr/153009541</td>\n",
              "      <td>Стратегия инновационного развития бизнеса в ин...</td>\n",
              "      <td>Бадягина Мария Германовна</td>\n",
              "      <td>Аленина Карина Анатольевна</td>\n",
              "      <td>Факультет менеджмента (Пермь)</td>\n",
              "      <td>Менеджмент (Бакалавриат)</td>\n",
              "      <td>-1</td>\n",
              "      <td>2015</td>\n",
              "      <td></td>\n",
              "      <td></td>\n",
              "      <td></td>\n",
              "    </tr>\n",
              "  </tbody>\n",
              "</table>\n",
              "</div>"
            ],
            "text/plain": [
              "   Unnamed: 0                              link_vkr  ... fullText shortText\n",
              "0           0  https://www.hse.ru/edu/vkr/219524501  ...                   \n",
              "1           1  https://www.hse.ru/edu/vkr/219524122  ...                   \n",
              "2           2  https://www.hse.ru/edu/vkr/153009903  ...                   \n",
              "3           3  https://www.hse.ru/edu/vkr/153009689  ...                   \n",
              "4           4  https://www.hse.ru/edu/vkr/153009541  ...                   \n",
              "\n",
              "[5 rows x 12 columns]"
            ]
          },
          "metadata": {
            "tags": []
          },
          "execution_count": 37
        }
      ]
    },
    {
      "cell_type": "code",
      "metadata": {
        "colab": {
          "base_uri": "https://localhost:8080/",
          "height": 397
        },
        "id": "C2lraYbdYhkx",
        "outputId": "d199fb15-0a32-48d3-fd7a-3286108f32c8"
      },
      "source": [
        "vkrText.head()"
      ],
      "execution_count": 17,
      "outputs": [
        {
          "output_type": "execute_result",
          "data": {
            "text/html": [
              "<div>\n",
              "<style scoped>\n",
              "    .dataframe tbody tr th:only-of-type {\n",
              "        vertical-align: middle;\n",
              "    }\n",
              "\n",
              "    .dataframe tbody tr th {\n",
              "        vertical-align: top;\n",
              "    }\n",
              "\n",
              "    .dataframe thead th {\n",
              "        text-align: right;\n",
              "    }\n",
              "</style>\n",
              "<table border=\"1\" class=\"dataframe\">\n",
              "  <thead>\n",
              "    <tr style=\"text-align: right;\">\n",
              "      <th></th>\n",
              "      <th>Unnamed: 0</th>\n",
              "      <th>link_vkr</th>\n",
              "      <th>name_vkr</th>\n",
              "      <th>name_student</th>\n",
              "      <th>name_prof</th>\n",
              "      <th>campus</th>\n",
              "      <th>programm</th>\n",
              "      <th>grade</th>\n",
              "      <th>year</th>\n",
              "      <th>link_file</th>\n",
              "      <th>fullText</th>\n",
              "      <th>shortText</th>\n",
              "    </tr>\n",
              "  </thead>\n",
              "  <tbody>\n",
              "    <tr>\n",
              "      <th>0</th>\n",
              "      <td>0</td>\n",
              "      <td>https://www.hse.ru/edu/vkr/219524501</td>\n",
              "      <td>Оценка стоимости компании</td>\n",
              "      <td>Дроздова Ирина Валерьевна</td>\n",
              "      <td>Абашева Александра Сергеевна</td>\n",
              "      <td>Вечерне-заочный факультет экономики и управле...</td>\n",
              "      <td>Экономика (в) (Бакалавриат)</td>\n",
              "      <td>-1</td>\n",
              "      <td>2018</td>\n",
              "      <td>NaN</td>\n",
              "      <td></td>\n",
              "      <td></td>\n",
              "    </tr>\n",
              "    <tr>\n",
              "      <th>1</th>\n",
              "      <td>1</td>\n",
              "      <td>https://www.hse.ru/edu/vkr/219524122</td>\n",
              "      <td>Оценка эффективности инвестиционного проекта</td>\n",
              "      <td>Стерледева Наталья Владимировна</td>\n",
              "      <td>Абашева Александра Сергеевна</td>\n",
              "      <td>Вечерне-заочный факультет экономики и управле...</td>\n",
              "      <td>Экономика (в) (Бакалавриат)</td>\n",
              "      <td>7</td>\n",
              "      <td>2018</td>\n",
              "      <td>http://lms.hse.ru/ap_service.php?getwork=1&amp;gui...</td>\n",
              "      <td></td>\n",
              "      <td></td>\n",
              "    </tr>\n",
              "    <tr>\n",
              "      <th>2</th>\n",
              "      <td>2</td>\n",
              "      <td>https://www.hse.ru/edu/vkr/153009903</td>\n",
              "      <td>Разработка системы управления знаниями в орган...</td>\n",
              "      <td>Беленова Анастасия Александровна</td>\n",
              "      <td>Аленина Карина Анатольевна</td>\n",
              "      <td>Факультет менеджмента (Пермь)</td>\n",
              "      <td>Менеджмент (Бакалавриат)</td>\n",
              "      <td>-1</td>\n",
              "      <td>2015</td>\n",
              "      <td>NaN</td>\n",
              "      <td></td>\n",
              "      <td></td>\n",
              "    </tr>\n",
              "    <tr>\n",
              "      <th>3</th>\n",
              "      <td>3</td>\n",
              "      <td>https://www.hse.ru/edu/vkr/153009689</td>\n",
              "      <td>Брендинг инновационного продукта</td>\n",
              "      <td>Воронков Кирилл Евгеньевич</td>\n",
              "      <td>Аленина Карина Анатольевна</td>\n",
              "      <td>Факультет менеджмента (Пермь)</td>\n",
              "      <td>Менеджмент (Бакалавриат)</td>\n",
              "      <td>-1</td>\n",
              "      <td>2015</td>\n",
              "      <td>NaN</td>\n",
              "      <td></td>\n",
              "      <td></td>\n",
              "    </tr>\n",
              "    <tr>\n",
              "      <th>4</th>\n",
              "      <td>4</td>\n",
              "      <td>https://www.hse.ru/edu/vkr/153009541</td>\n",
              "      <td>Стратегия инновационного развития бизнеса в ин...</td>\n",
              "      <td>Бадягина Мария Германовна</td>\n",
              "      <td>Аленина Карина Анатольевна</td>\n",
              "      <td>Факультет менеджмента (Пермь)</td>\n",
              "      <td>Менеджмент (Бакалавриат)</td>\n",
              "      <td>-1</td>\n",
              "      <td>2015</td>\n",
              "      <td>NaN</td>\n",
              "      <td></td>\n",
              "      <td></td>\n",
              "    </tr>\n",
              "  </tbody>\n",
              "</table>\n",
              "</div>"
            ],
            "text/plain": [
              "   Unnamed: 0                              link_vkr  ... fullText shortText\n",
              "0           0  https://www.hse.ru/edu/vkr/219524501  ...                   \n",
              "1           1  https://www.hse.ru/edu/vkr/219524122  ...                   \n",
              "2           2  https://www.hse.ru/edu/vkr/153009903  ...                   \n",
              "3           3  https://www.hse.ru/edu/vkr/153009689  ...                   \n",
              "4           4  https://www.hse.ru/edu/vkr/153009541  ...                   \n",
              "\n",
              "[5 rows x 12 columns]"
            ]
          },
          "metadata": {
            "tags": []
          },
          "execution_count": 17
        }
      ]
    },
    {
      "cell_type": "code",
      "metadata": {
        "id": "XGln4Tfhjjn9"
      },
      "source": [
        "vkrText = vkr.copy()\n",
        "vkrText['fullText'] = ''\n",
        "vkrText['shortText'] = ''"
      ],
      "execution_count": 16,
      "outputs": []
    },
    {
      "cell_type": "code",
      "metadata": {
        "colab": {
          "base_uri": "https://localhost:8080/"
        },
        "id": "xUmhBLZvjzlA",
        "outputId": "2deb4fa9-2beb-48ef-bcc1-faf44c9f0c15"
      },
      "source": [
        "successful = []\n",
        "unsuccessful = []\n",
        "for row in tqdm(range(vkr.shape[0])):\n",
        "    if type(vkr.loc[row, 'link_file'])==str:\n",
        "        url = vkr.loc[row, 'link_file']\n",
        "        r = requests.get(url, allow_redirects=True)\n",
        "        try:\n",
        "            open('test.doc', 'wb').write(r.content)\n",
        "            f = open('test.doc', 'rb')\n",
        "            document = Document(f)\n",
        "            f.close()\n",
        "            successful.append(url)\n",
        "        except:\n",
        "            unsuccessful.append(url)\n",
        "            vkrText.loc[row, 'fullText' ] = ''\n",
        "            vkrText.loc[row, 'shortText'] = ''\n",
        "            continue\n",
        "        \n",
        "        fullText = \"\"\n",
        "        for para in document.paragraphs:\n",
        "            fullText+=(para.text)+\" \"\n",
        "        vkrText.loc[row, 'fullText' ] = fullText\n",
        "        vkrText.loc[row, 'shortText'] = ''\n",
        "        '''\n",
        "        text = clearTextAfterGarbage(fullText)\n",
        "        result = modelSum(fullText, min_length=20, max_length=100)\n",
        "        summary = \"\".join(result)\n",
        "\n",
        "        vkrText.loc[row, 'shortText'] = summary\n",
        "        '''\n",
        "    else:\n",
        "        vkrText.loc[row, 'link_file'] = ''\n",
        "        vkrText.loc[row, 'fullText' ] = ''\n",
        "        vkrText.loc[row, 'shortText'] = ''"
      ],
      "execution_count": 40,
      "outputs": [
        {
          "output_type": "stream",
          "text": [
            "100%|██████████| 1708/1708 [03:41<00:00,  7.70it/s]\n"
          ],
          "name": "stderr"
        }
      ]
    },
    {
      "cell_type": "code",
      "metadata": {
        "colab": {
          "base_uri": "https://localhost:8080/"
        },
        "id": "TgFunWzDkXZP",
        "outputId": "93123b28-fbe5-4e8c-d6c3-fa8664c193d6"
      },
      "source": [
        "len(successful), len(unsuccessful)"
      ],
      "execution_count": 41,
      "outputs": [
        {
          "output_type": "execute_result",
          "data": {
            "text/plain": [
              "(0, 72)"
            ]
          },
          "metadata": {
            "tags": []
          },
          "execution_count": 41
        }
      ]
    },
    {
      "cell_type": "code",
      "metadata": {
        "id": "8YQcqg1dvGi1"
      },
      "source": [
        "vkrText.to_csv('vkrText.csv')"
      ],
      "execution_count": 20,
      "outputs": []
    },
    {
      "cell_type": "code",
      "metadata": {
        "id": "aFMUlkW7eyb5"
      },
      "source": [
        "tmp = vkrText[vkrText['link_file']!='']\r\n",
        "tmp[tmp['fullText']=='']\r\n",
        "tmp"
      ],
      "execution_count": 52,
      "outputs": []
    },
    {
      "cell_type": "code",
      "metadata": {
        "colab": {
          "base_uri": "https://localhost:8080/"
        },
        "id": "mHoMG6S9oTpK",
        "outputId": "c5b23962-5721-4140-a749-44acc41f83bd"
      },
      "source": [
        "successful = []\r\n",
        "unsuccessful = []\r\n",
        "for row in tqdm(range(vkr.shape[0])):\r\n",
        "    if type(vkr.loc[row, 'link_file'])==str:\r\n",
        "        if (vkrText.loc[row,'fullText'])!='':\r\n",
        "            continue\r\n",
        "        url = vkr.loc[row, 'link_file']\r\n",
        "        r = requests.get(url, allow_redirects=True)\r\n",
        "        try:\r\n",
        "            open('test.doc', 'wb').write(r.content)\r\n",
        "            vkrText.loc[row, 'fullText' ] = textract.process(\"/content/test.doc\").decode(\"utf-8\")\r\n",
        "            successful.append(url)\r\n",
        "        except:\r\n",
        "            unsuccessful.append(url)\r\n",
        "            continue"
      ],
      "execution_count": 73,
      "outputs": [
        {
          "output_type": "stream",
          "text": [
            "100%|██████████| 1708/1708 [04:33<00:00,  6.24it/s]\n"
          ],
          "name": "stderr"
        }
      ]
    },
    {
      "cell_type": "code",
      "metadata": {
        "colab": {
          "base_uri": "https://localhost:8080/"
        },
        "id": "bEeMbX1Kodvs",
        "outputId": "3538d937-bf90-43bc-e2db-11999e57b706"
      },
      "source": [
        "len(successful), len(unsuccessful)"
      ],
      "execution_count": 74,
      "outputs": [
        {
          "output_type": "execute_result",
          "data": {
            "text/plain": [
              "(22, 50)"
            ]
          },
          "metadata": {
            "tags": []
          },
          "execution_count": 74
        }
      ]
    },
    {
      "cell_type": "code",
      "metadata": {
        "colab": {
          "base_uri": "https://localhost:8080/"
        },
        "id": "TLqakpMRqV9H",
        "outputId": "84021341-2f6d-4293-9804-1f118fcd59d3"
      },
      "source": [
        "successful = []\r\n",
        "unsuccessful = []\r\n",
        "for row in tqdm(range(vkr.shape[0])):\r\n",
        "    if type(vkr.loc[row, 'link_file'])==str:\r\n",
        "        if (vkrText.loc[row,'fullText'])!='':\r\n",
        "            continue\r\n",
        "        url = vkr.loc[row, 'link_file']\r\n",
        "        r = requests.get(url, allow_redirects=True)\r\n",
        "        open('test.pdf', 'wb').write(r.content)\r\n",
        "        try:\r\n",
        "            vkrText.loc[row, 'fullText'] = textract.process(\"/content/test.pdf\").decode(\"utf-8\")\r\n",
        "        except:\r\n",
        "            unsuccessful.append(url)"
      ],
      "execution_count": 83,
      "outputs": [
        {
          "output_type": "stream",
          "text": [
            "\n",
            "\n",
            "\n",
            "  0%|          | 0/1708 [00:00<?, ?it/s]\u001b[A\u001b[A\u001b[A\n",
            "\n",
            "\n",
            " 17%|█▋        | 290/1708 [00:03<00:19, 74.05it/s]\u001b[A\u001b[A\u001b[A\n",
            "\n",
            "\n",
            " 17%|█▋        | 290/1708 [00:17<00:19, 74.05it/s]\u001b[A\u001b[A\u001b[A\n",
            "\n",
            "\n",
            " 17%|█▋        | 295/1708 [00:22<27:09,  1.15s/it]\u001b[A\u001b[A\u001b[A\n",
            "\n",
            "\n",
            " 20%|██        | 348/1708 [00:33<19:42,  1.15it/s]\u001b[A\u001b[A\u001b[A\n",
            "\n",
            "\n",
            " 26%|██▌       | 443/1708 [07:37<41:00,  1.95s/it]\u001b[A\u001b[A\u001b[A\n",
            "\n",
            "\n",
            " 28%|██▊       | 473/1708 [07:54<31:38,  1.54s/it]\u001b[A\u001b[A\u001b[A\n",
            "\n",
            "\n",
            " 29%|██▉       | 496/1708 [08:11<26:10,  1.30s/it]\u001b[A\u001b[A\u001b[A\n",
            "\n",
            "\n",
            " 29%|██▉       | 497/1708 [08:28<2:00:26,  5.97s/it]\u001b[A\u001b[A\u001b[A\n",
            "\n",
            "\n",
            " 29%|██▉       | 498/1708 [08:50<3:37:14, 10.77s/it]\u001b[A\u001b[A\u001b[A\n",
            "\n",
            "\n",
            " 30%|██▉       | 508/1708 [09:04<2:39:09,  7.96s/it]\u001b[A\u001b[A\u001b[A\n",
            "\n",
            "\n",
            " 35%|███▌      | 605/1708 [09:18<1:43:11,  5.61s/it]\u001b[A\u001b[A\u001b[A\n",
            "\n",
            "\n",
            " 38%|███▊      | 643/1708 [09:30<1:11:27,  4.03s/it]\u001b[A\u001b[A\u001b[A\n",
            "\n",
            "\n",
            " 42%|████▏     | 710/1708 [09:39<47:35,  2.86s/it]  \u001b[A\u001b[A\u001b[A\n",
            "\n",
            "\n",
            " 43%|████▎     | 739/1708 [09:47<33:33,  2.08s/it]\u001b[A\u001b[A\u001b[A\n",
            "\n",
            "\n",
            " 46%|████▌     | 782/1708 [10:13<25:18,  1.64s/it]\u001b[A\u001b[A\u001b[A\n",
            "\n",
            "\n",
            " 46%|████▌     | 783/1708 [11:22<5:36:12, 21.81s/it]\u001b[A\u001b[A\u001b[A\n",
            "\n",
            "\n",
            " 51%|█████     | 863/1708 [11:37<3:35:46, 15.32s/it]\u001b[A\u001b[A\u001b[A\n",
            "\n",
            "\n",
            " 51%|█████     | 870/1708 [11:56<2:41:06, 11.54s/it]\u001b[A\u001b[A\u001b[A\n",
            "\n",
            "\n",
            " 51%|█████▏    | 876/1708 [12:05<1:58:05,  8.52s/it]\u001b[A\u001b[A\u001b[A\n",
            "\n",
            "\n",
            " 52%|█████▏    | 894/1708 [12:13<1:22:49,  6.11s/it]\u001b[A\u001b[A\u001b[A\n",
            "\n",
            "\n",
            " 53%|█████▎    | 898/1708 [12:32<1:16:43,  5.68s/it]\u001b[A\u001b[A\u001b[A\n",
            "\n",
            "\n",
            " 53%|█████▎    | 899/1708 [12:51<2:10:24,  9.67s/it]\u001b[A\u001b[A\u001b[A\n",
            "\n",
            "\n",
            " 57%|█████▋    | 977/1708 [13:06<1:23:11,  6.83s/it]\u001b[A\u001b[A\u001b[A\n",
            "\n",
            "\n",
            " 57%|█████▋    | 978/1708 [13:17<1:36:47,  7.96s/it]\u001b[A\u001b[A\u001b[A\n",
            "\n",
            "\n",
            " 58%|█████▊    | 990/1708 [13:26<1:09:19,  5.79s/it]\u001b[A\u001b[A\u001b[A\n",
            "\n",
            "\n",
            " 61%|██████    | 1043/1708 [13:41<45:54,  4.14s/it] \u001b[A\u001b[A\u001b[A\n",
            "\n",
            "\n",
            " 61%|██████▏   | 1050/1708 [13:51<36:12,  3.30s/it]\u001b[A\u001b[A\u001b[A\n",
            "\n",
            "\n",
            " 62%|██████▏   | 1055/1708 [14:01<31:53,  2.93s/it]\u001b[A\u001b[A\u001b[A\n",
            "\n",
            "\n",
            " 67%|██████▋   | 1149/1708 [14:17<19:35,  2.10s/it]\u001b[A\u001b[A\u001b[A\n",
            "\n",
            "\n",
            " 69%|██████▉   | 1175/1708 [14:32<14:33,  1.64s/it]\u001b[A\u001b[A\u001b[A\n",
            "\n",
            "\n",
            " 73%|███████▎  | 1251/1708 [14:46<09:10,  1.21s/it]\u001b[A\u001b[A\u001b[A\n",
            "\n",
            "\n",
            " 76%|███████▌  | 1291/1708 [15:31<08:11,  1.18s/it]\u001b[A\u001b[A\u001b[A\n",
            "\n",
            "\n",
            " 78%|███████▊  | 1324/1708 [15:42<05:54,  1.08it/s]\u001b[A\u001b[A\u001b[A\n",
            "\n",
            "\n",
            " 78%|███████▊  | 1325/1708 [15:54<26:57,  4.22s/it]\u001b[A\u001b[A\u001b[A\n",
            "\n",
            "\n",
            " 79%|███████▉  | 1354/1708 [16:06<18:09,  3.08s/it]\u001b[A\u001b[A\u001b[A\n",
            "\n",
            "\n",
            " 83%|████████▎ | 1418/1708 [16:34<11:04,  2.29s/it]\u001b[A\u001b[A\u001b[A\n",
            "\n",
            "\n",
            " 85%|████████▌ | 1453/1708 [17:52<09:39,  2.27s/it]\u001b[A\u001b[A\u001b[A\n",
            "\n",
            "\n",
            " 85%|████████▌ | 1454/1708 [18:06<23:33,  5.57s/it]\u001b[A\u001b[A\u001b[A\n",
            "\n",
            "\n",
            " 85%|████████▌ | 1455/1708 [18:47<1:08:38, 16.28s/it]\u001b[A\u001b[A\u001b[A\n",
            "\n",
            "\n",
            " 85%|████████▌ | 1456/1708 [19:00<1:04:54, 15.46s/it]\u001b[A\u001b[A\u001b[A\n",
            "\n",
            "\n",
            " 89%|████████▉ | 1522/1708 [19:14<33:43, 10.88s/it]  \u001b[A\u001b[A\u001b[A\n",
            "\n",
            "\n",
            " 97%|█████████▋| 1653/1708 [19:29<07:00,  7.65s/it]\u001b[A\u001b[A\u001b[A\n",
            "\n",
            "\n",
            " 99%|█████████▉| 1689/1708 [19:39<01:43,  5.44s/it]\u001b[A\u001b[A\u001b[A\n",
            "\n",
            "\n",
            "100%|█████████▉| 1700/1708 [19:48<00:32,  4.06s/it]\u001b[A\u001b[A\u001b[A\n",
            "\n",
            "\n",
            "100%|██████████| 1708/1708 [19:57<00:00,  1.43it/s]\n"
          ],
          "name": "stderr"
        }
      ]
    },
    {
      "cell_type": "code",
      "metadata": {
        "id": "g73CZ3sfq8N4"
      },
      "source": [
        "vkrText.to_csv('vkrText.csv')"
      ],
      "execution_count": 84,
      "outputs": []
    },
    {
      "cell_type": "code",
      "metadata": {
        "colab": {
          "base_uri": "https://localhost:8080/"
        },
        "id": "RLPG-GB_wjKx",
        "outputId": "30d38c30-09fd-4261-ae50-f6373c9d9476"
      },
      "source": [
        "len(unsuccessful)"
      ],
      "execution_count": 96,
      "outputs": [
        {
          "output_type": "execute_result",
          "data": {
            "text/plain": [
              "20"
            ]
          },
          "metadata": {
            "tags": []
          },
          "execution_count": 96
        }
      ]
    },
    {
      "cell_type": "code",
      "metadata": {
        "id": "1TEnmd2rO-ZP",
        "colab": {
          "base_uri": "https://localhost:8080/",
          "height": 109,
          "referenced_widgets": [
            "7e4aae10a1564626bc47a28f945fde8f",
            "1ead77f3e9c44fa4bd35570e64543319",
            "c124a7840d184f5b925e2bdd4875becb",
            "b29c947b182b4b37a384a47a313d8baa",
            "9a289917abb64a15a85b859252de6b5d"
          ]
        },
        "outputId": "fef2fbf3-201f-4db0-82ae-b103631adafa"
      },
      "source": [
        "custom_config = AutoConfig.from_pretrained('DeepPavlov/rubert-base-cased')\n",
        "custom_config.output_hidden_states=True\n",
        "custom_tokenizer = AutoTokenizer.from_pretrained('DeepPavlov/rubert-base-cased')\n",
        "custom_model = AutoModel.from_pretrained('DeepPavlov/rubert-base-cased', config=custom_config)"
      ],
      "execution_count": 5,
      "outputs": [
        {
          "output_type": "display_data",
          "data": {
            "application/vnd.jupyter.widget-view+json": {
              "model_id": "7e4aae10a1564626bc47a28f945fde8f",
              "version_minor": 0,
              "version_major": 2
            },
            "text/plain": [
              "HBox(children=(FloatProgress(value=0.0, description='Downloading', max=642.0, style=ProgressStyle(description_…"
            ]
          },
          "metadata": {
            "tags": []
          }
        },
        {
          "output_type": "stream",
          "text": [
            "\n"
          ],
          "name": "stdout"
        },
        {
          "output_type": "display_data",
          "data": {
            "application/vnd.jupyter.widget-view+json": {
              "model_id": "1ead77f3e9c44fa4bd35570e64543319",
              "version_minor": 0,
              "version_major": 2
            },
            "text/plain": [
              "HBox(children=(FloatProgress(value=0.0, description='Downloading', max=1649718.0, style=ProgressStyle(descript…"
            ]
          },
          "metadata": {
            "tags": []
          }
        },
        {
          "output_type": "stream",
          "text": [
            "\n"
          ],
          "name": "stdout"
        },
        {
          "output_type": "display_data",
          "data": {
            "application/vnd.jupyter.widget-view+json": {
              "model_id": "c124a7840d184f5b925e2bdd4875becb",
              "version_minor": 0,
              "version_major": 2
            },
            "text/plain": [
              "HBox(children=(FloatProgress(value=0.0, description='Downloading', max=112.0, style=ProgressStyle(description_…"
            ]
          },
          "metadata": {
            "tags": []
          }
        },
        {
          "output_type": "stream",
          "text": [
            "\n"
          ],
          "name": "stdout"
        },
        {
          "output_type": "display_data",
          "data": {
            "application/vnd.jupyter.widget-view+json": {
              "model_id": "b29c947b182b4b37a384a47a313d8baa",
              "version_minor": 0,
              "version_major": 2
            },
            "text/plain": [
              "HBox(children=(FloatProgress(value=0.0, description='Downloading', max=2.0, style=ProgressStyle(description_wi…"
            ]
          },
          "metadata": {
            "tags": []
          }
        },
        {
          "output_type": "stream",
          "text": [
            "\n"
          ],
          "name": "stdout"
        },
        {
          "output_type": "display_data",
          "data": {
            "application/vnd.jupyter.widget-view+json": {
              "model_id": "9a289917abb64a15a85b859252de6b5d",
              "version_minor": 0,
              "version_major": 2
            },
            "text/plain": [
              "HBox(children=(FloatProgress(value=0.0, description='Downloading', max=711456796.0, style=ProgressStyle(descri…"
            ]
          },
          "metadata": {
            "tags": []
          }
        },
        {
          "output_type": "stream",
          "text": [
            "\n"
          ],
          "name": "stdout"
        }
      ]
    },
    {
      "cell_type": "code",
      "metadata": {
        "id": "v8A0tp1oRuFr"
      },
      "source": [
        "def lowerCase(Corpus):\n",
        "    corpus = \"\".join([i.lower().replace('\\n',' ') for i in Corpus])\n",
        "    return corpus\n",
        "\n",
        "PUNCT_TO_REMOVE = string.punctuation\n",
        "def remove_punctuation(Corpus):\n",
        "    \"\"\"custom function to remove the punctuation\"\"\"\n",
        "    return \"\".join([i.translate(str.maketrans('', '', PUNCT_TO_REMOVE)) for i in Corpus])\n",
        "\n",
        "def remove_stopwords(Corpus):\n",
        "    \"\"\"custom function to remove the stopwords\"\"\"\n",
        "    return \" \".join([token for token in Corpus.split() if token not in russian_stopwords])\n",
        "\n",
        "def remove_freqwords(Corpus):\n",
        "    cnt = Counter()\n",
        "    for text in Corpus:\n",
        "        for word in text.split():\n",
        "            cnt[word] += 1\n",
        "    FREQWORDS = set([w for (w, wc) in cnt.most_common(30)])\n",
        "    return \" \".join([word for word in str(Corpus).split() if word not in FREQWORDS])\n",
        "\n",
        "def remove_urls(Corpus):\n",
        "    url_pattern = re.compile(r'https?://\\S+|www\\.\\S+')\n",
        "    html_pattern = re.compile('<.*?>')\n",
        "    return_text=[]\n",
        "    for text in Corpus:\n",
        "        text=url_pattern.sub(r'', text)\n",
        "        text=html_pattern.sub(r'',text)\n",
        "        return_text.append(text)\n",
        "    return \"\".join(i for i in return_text)\n",
        "    \n",
        "def remove_numbers(Corpus):\n",
        "    text = [\"\".join(i for i in text if not i.isdigit()) for text in Corpus]\n",
        "    return \"\".join(i for i in text)\n",
        "\n",
        "def Stem(Corpus):\n",
        "    stemmer = SnowballStemmer(\"russian\") \n",
        "    return \"\".join(m.lemmatize(Corpus))\n",
        "\n",
        "def Lemm(Corpus):\n",
        "    m = Mystem()\n",
        "    return \"\".join(m.lemmatize(Corpus))\n",
        "\n",
        "def textToTokens(Corpus):\n",
        "    corpus = [i.split() for i in Corpus]\n",
        "    return corpus \n",
        "\n",
        "def clearTextAfterGarbage(Corpus):\n",
        "    corpus = Corpus\n",
        "    corpus = lowerCase(Corpus)\n",
        "    corpus = remove_urls(corpus)\n",
        "    corpus = remove_numbers(corpus)\n",
        "    corpus = remove_stopwords(corpus)\n",
        "    #corpus = remove_punctuation(corpus)\n",
        "    corpus = Lemm(corpus)\n",
        "    #corpus = Stem(corpus)\n",
        "    corpus = remove_freqwords(corpus)\n",
        "    return corpus"
      ],
      "execution_count": 6,
      "outputs": []
    },
    {
      "cell_type": "code",
      "metadata": {
        "colab": {
          "base_uri": "https://localhost:8080/",
          "height": 106
        },
        "id": "xjXMgm2zMkj0",
        "outputId": "7e044291-7157-42bb-b6c4-cb2f0b643e0e"
      },
      "source": [
        "text = clearTextAfterGarbage(fullText)\r\n",
        "text"
      ],
      "execution_count": null,
      "outputs": [
        {
          "output_type": "execute_result",
          "data": {
            "application/vnd.google.colaboratory.intrinsic+json": {
              "type": "string"
            },
            "text/plain": [
              "'пермь, год аннотация работа описывать процесс реализация виртуальный собеседник помощь лексико-синтаксический шаблон использование язык lspl. разрабатывать виртуальный собеседник реализовать система администрирование. работа содержать глава, иллюстрация приложение. оглавление введение современный продуктивный обучение предполагать интенсивный работа сторона студент, сторона преподаватель, число выполнение большой количество проект усвоение получать знание практика. зачастую такой проект требовать большой затрата время сторона преподаватель, сторона студент. случай такой проект должный автоматизировать, хотя частично. автоматизация один такой учебный проект пойти речь работа. ход работа улучшать разрабатывать ранее виртуальный собеседник деловой игра «развертывание» технология msf. ход деловой игра студент делиться группа, группа должный опрашивать сотрудник отдел фирма филиал четыре город, разбрасывать весь мир. каждый сотрудник обладать свой компетенция знать весь информация филиал, сотрудник один филиал сумма обладать информация обо все отдел. ранее каждый сотрудник отвечать преподаватель, это вызывать ряд проблема. во-первых, это трудозатраты преподаватель, приходиться отвечать каждый группа студент. во-вторых, это затрата время студент, зачастую вопрос ответ проходить большой количество время. в-третьих, это плохо сказываться весь игра целое, выходить достаточно затягивать. решение ранее описывать проблема прошлый год решать написать виртуальный собеседник, который отвечать сотрудник отдел вместо преподаватель, который требовать минимум трудозатраты преподаватель оперативно отвечать студент, самый делать процесс проведение игра комфортный быстрый. собеседник разрабатывать протестировать студент второй курс направление «программный инженерия». тестирование показывать, качество работа собеседник недостаточно высоко. проблема. деловой игра существовать проблема. преподаватель это трудозатраты, студент - затрата время игра целое это длительность. актуальность работа: работа являться актуальный, цель, поставлять прошлый год, достигать полностью. объект работа: процесс проведение. деловой игра развертывание программный обеспечение технология msf. предмет работа: автоматизация консультационный работа преподаватель ход проект. научный новизна работа: улучшение ранее разрабатывать метод решение проблема, именно внедрение учебный процесс виртуальный собеседник. цель: улучшение виртуальный собеседник сбор информация развертывание программный продукт рамка деловой игра, ускорять процесс игра снижать трудозатраты преподаватель, снижать затрата студент время. задача: анализ накоплять опыт разработка виртуальный собеседование разработка система администрирование опытный эксплуатация система практический ценность работа заключаться то, разрабатывать программный система брать часть работа преподаватель ход проект такой образ освобождать время, также теоретический ценность работа сравнительный анализ возможный механизм реализация виртуальный собеседник демонстрация практический возможность реализация один они. работа разделять глава. первый глава содержать описание предметный область анализ автоматизировать процесс. второй глава приводить анализ предыдущий версия система, описывать проектирование подбирать алгоритм реализация, также определять методика разработка система. третий глава содержать информация разработка виртуальный собеседник, система администрирование апробация виртуальный собеседник. глава описание предметный область первый глава описывать деловой игра технология msf «развертывание», выявлять недостаток предыдущий версия, быть сформировывать требование новый версия система. msf метод разработка программный обеспечение msf (microsoft solution framework) – методология разработка программный обеспечение, предлагать корпорация microsoft. msf опираться практический опыт microsoft описывать управление человек рабочий процесс процесс разработка решение. msf процесс разработка программный обеспечение иметь спиральный форма. итерация цикл представлять рис. .: рисунок .. модель msf [] каждый итерация состоять следующий этап: envision (выработка концепция). первый этап создаваться основной состав проектный группа готовиться описание проект, оговариваться рамка проект. planning (планирование). этап составляться план проект, который входить функциональный спецификация, дизайн разрабатывать приложение, подготовка рабочий план, оценка затрата срок. developing (разработка). этап разработка писаться код приложение, подготавливаться документация. stabilizing (стабилизация). этап проводиться тестирование приложение, устраняться обнаруживать ошибка. внимание фокусироваться предполагать сценарий использование приложение deploying (развертывание). этап развертывание происходить внедрение готовый приложение рабочий процесс, происходить налаживание сопровождение приложение, закрываться продлеваться контракт заказчик. деловой игра «развертывание» изучение технология msf ниу вшэ-пермь использоваться ряд деловой игра: envision&planning, «стабилизация» «развертывание». ход каждый игра студент попадать сложный ситуация, который точно имитировать прецедент реальный производство. цель игра «развертывание» являться обучение студент процесс развертывание программный обеспечение пользователь. ход игра студент должный устанавливать вымышленный система «обалдеит» компьютер пользователь. игра делиться несколько этап: сбор информация подразделение фирма «обалдеит». формирование расписание развертывание. подведение итог. корректировка расписание получать информация ход подведение итог ход процесс игра студент должный понимать основополагающий принцип развертывание. во-первых, этап развертывание иметь место быть, требовать тщательный подготовка. во-вторых, требоваться собирать информация каждый место, проводиться процесс развертывание, каждый филиал иметь свой особенность, такой разный уровень квалификация персонал, разный характеристика эвм, разный программный обеспечение, установленный разный настройка. помимо это, другой пункт, который стоить учитывать: расписание работа персонал, климат, средство коммуникация т.д. в-третьих, процесс сбор информация требовать усилие время, поскольку информация работник получать зачастую бывать непросто, этот информация требовать анализ то, получать нужный сведение процесс развертывание. в-четвертых, студент должный осознавать необходимость план развертывание, который следовать учитывать требуемый действие, время ресурс. анализ игра разбирать процесс проведение игра рамка обучение студент. сначала студент сам объединяться команда сообщать свой команда преподаватель. команда формировать список вопрос отправлять преподаватель помощник, поскольку играть роль сотрудник подразделение фирма «обалдеит», получать ответ некоторый время. далее студент составлять следующий список вопрос снова отправлять преподаватель: это продолжаться тот пора, пока заканчиваться время игра, либо студент быть удовлетворять объем получать сведение. студент составлять свой план развертывание обсуждать преподаватель. описывать выше процесс иметь ряд достоинство недостаток. разбирать тот черта процесс, который хотеться сохранять разрабатывать виртуальный собеседник: преподаватель иметь исчерпывающий информация подразделение правильно задавать вопрос поделиться студент. общение преподаватель одновременно доступно сразу несколько группа студент. далее выявлять недостаток, который хотеться избавляться разрабатывать система. время игра. сожаление, проходить достаточно большой промежуток время, прежде преподаватель отвечать студент весь студент, такой образ, игра занимать участник несколько день. трудозатраты преподаватель. преподаватель вынуждать отвечать весь студент многочисленный вопрос, требовать значительный усилие. удобство студент. студент вынуждать ждать свой очередь находить способ скорый коммуникация преподаватель. автоматизация игра помощь виртуальный собеседник исходить выявлять недостаток деловой игра принимать решение создание система, который мочь имитировать общение иной сотрудник любой иметься филиал. этот система должный учитывать особенность филиал такой климат, характеристика технический оборудование, характер менталитет сотрудник, особенность коммуникация. такой образ, система должно закладывать несколько виртуальный собеседник, каждый который отвечать один иметься сотрудник. должно учитывать, сотрудник определенный должность работать один филиал работать другой, помимо сотрудник одинаковый должность разный филиал фирма обладать различный информация, исходить особенность филиал. поскольку виртуальный собеседник отвечать один предметный область, каждый иметь несколько отличаться другой набор знание, также учитывать большой количество сам собеседник, иметь смысл объединять собеседник один система один база знание. один главный требование система – диалог должный происходить естественный язык, поскольку любой формализация общение срабатывать подсказка студент. однако стоить учитывать, что, диалог человек ответ мочь быт неверный неточный, поскольку вопрос неправильно понимать стоять также обращать внимание администрирование создавать система: требоваться создавать удобный интерфейс добавление определенный ответ задавать вопрос каждый собеседник, также добавлять создавать пара вопрос-ответ иметься собеседник. требование разрабатывать система исходить описание автоматизация система, сформировывать требование разрабатывать система: использование: анализ вопрос: филиал, сотрудник, вопрос. выбор филиал. выявление наличие указанный филиал фирма сотрудник указанный должность. определение ответ сотрудник задавать вопрос. администрирование: возможность импортирование сотрудник пара вопрос-ответ область знание другой сотрудник. редактирование область знание сотрудник. возможность просмотр заданный вопрос. полный список требование система представлять приложение а. глава проектирование система то, предыдущий глава описывать предметный область выдвигать требование система, приступать проектирование. глава быть определять бизнес-процесс, который задействовать разрабатывать виртуальный собеседник, построить диаграмма нотация uml наглядный отображение быть выбирать алгоритм, который работать разрабатывать система. анализ возможный проектный решение алгоритм реализация виртуальный собеседник сказать, первый год игра проводиться ручной режим. сохранять заданный ход игра вопрос данный ответ. пара «вопрос-ответ» привязывать конкретный должность конкретный филиал. такой образ, получать некоторый база четверка «филиал – должность – вопрос – ответ». готовый входной файл содержать запись. выбор проектный решение скорректировать, поправка размер составлять файл. рассматривать следующий вариант проектный решение: поиск полный совпадение вопрос. наиболее простой вариант, вводить запрос пользователь дословно сопоставляться один вопрос, иметься база. вариант реализация учитывать возможный вариация вопрос, использование синоним требовать чрезвычайно большой база вопрос-ответ. практика вариант пробовать реализовать. поиск набор ключевой слово. усложнять версия первый вариант, запрос пользователь производиться поиск набор ключевой слово, который мочь стоять произвольный порядок мочь перемешать «шумовой слово». база технология разрабатывать версия виртуальный собеседник тот деловой игра. однако работа иметь очень низкий точность практический применение оказываться пригодный. искусственный нейронный сеть (инс). искусственный нейронный сеть – упрощенный модель человеческий мозг. сеть обучать база иметься вопрос, работать запрос пользователь выдаваться результат основа ранее проходить обучение. разработка виртуальный собеседник использование нейронный сеть рассматриваться, однако, база входной запись слишком маленький обучение инс, поскольку отношение элемент выборка количество признак очень мало[]. исходить следствие теорема арнольд–колмогоров-хехт–нильсен[], большой вероятность переобучение инс. онтология. онтология – способ формализация некоторый область знание помощь концептуальный схема. правило такой схема состоять структура данные, содержать релевантный класс объект, связь правило, принимать область. метод решение рассматриваться решение поставлять задача, однако отвергать польза лексико-синтаксический шаблон связь опыт использование они. лексико-синтаксический шаблон (лсш). лексико-синтаксический шаблон - структурный образец языковой конструкция, позволять обрабатывать исходный текст, учитывать лексический синтаксический характеристика естественный язык. русский язык это падеж, время, наклонение, склонение, число т.д. основное шаблон использоваться автоматический обработка текст: выявление языковой конструкция, классификация текст, поиск словоформа, изменение текст учет заданный параметр (синоним, выражение). помимо этот, помощь лексико-синтаксический шаблон возможность распознавать альтернатива часть исходный текст, давать возможность задавать синоним определенный слово. предельно упрощенный форма лсш являться бнф. год назад разрабатывать версия виртуальный собеседник использование лексико-синтаксический шаблон. иметь интерфейс, просто технический точка зрение. взять список вопрос, который студент задавать ход проведение предыдущий деловой игра. вопрос несколько студент вручную преобразовывать лсш (в расчет то, студент быть далеко задавать такой вопрос). это позволять сжатый срок получать набор примерно сотня шаблон. версия применять практика, точность работа собеседник уровень %, являться достаточный показатель имитация диалог. попытка использование первый версия собеседник выявлять следующий проблема: количество шаблон. разрабатывать около сотня шаблон, количество альтернатива который крайне ограничивать. отсутствие концептуальный целостность. устанавливать никакой правило соглашение построение шаблон. каждый студент составлять шаблон свой усмотрение. недостаточный учет многообразие словоформа синонимия русский язык. помимо проблема сам шаблон, отсутствовать возможность администрирование приложение. любой административный действие (просмотр информационный база корректировка) мочь выполнять программист- автор система средство судб sql. выдвигать гипотеза, качество работа собеседник существенно улучшать, увеличивать количество лсш учитывать словоформа синонимия русский язык. принимать проектный решение разрабатывать механизм автоматический генерация лсш база онлайн словарь синоним русский язык. второй версия виртуальный собеседник призванный решать проблема предыдущий система, разрабатывать основа лсш lspl – язык лексико-синтаксический шаблон предполагаться, вопрос, обрабатывать виртуальный собеседник, быть задаваться русский язык, поэтому решать взять основа утилита, который также работать шаблон, который сопоставляться русский текст. решать использовать язык lspl (lexico-syntaxic pattern language). язык предназначать описание конструкция русский язык цель представление система извлечение информация текст, однако помимо сравнивать текст шаблон, который представлять набор символ любой язык. разработка язык начинаться год, продолжать изменяться дополняться сей день. ключевой язык lspl являться понятие лексико-синтаксический шаблон, рассматривать структурный образец языковой конструкция. шаблон задавать лексический состав поверхностно-синтаксический свойство самый использовать распознавание текст последующий извлечение. шаблон строиться последовательность элемент, описывать соответствующий фрагмент языковой конструкция – порядок, какой встречаться конструкция. средство язык позволять задавать вариативность конструкция, включая набор входить слово (лексема) морфологический характеристика (признак). выразительный средство, лексико-синтаксический шаблон удобный первый очередь формальный описание именной словосочетание русский язык, который, правило, являться грамматически согласованный. язык lspl предусматривать средство задание синтаксический связь согласование слово. синтаксический связь мочь задаваться шаблон следующий образ: согласование – путем указание равенство соответствующий морфологический признак связанный элемент текст, управление – путем указание значение морфологический признак подчиненный элемент. важный особенность язык lspl являться возможность использовать задание шаблон другой (уже определенный) шаблон, позволять формализация сложный языковой конструкция выделять составной часть описывать очередь вид шаблон, давать этот шаблон имя использовать имя другой шаблон. целый, язык шаблон являться достаточно гибкий мощный средство задание лексический поверхностно-синтаксический свойство конструкция: lspl-шаблон мочь описывать словосочетание, целый предложение крупный фрагмент текст русский язык. lspl – продукт, свободный некоммерческий использование. проектирование алгоритм работа система поскольку решать использовать лсш, вопрос система считаться входной данные обработка лсш. каждый вопрос неделимый каждый соответствовать ответ, закладывать система. этот допущение создавать исходить то, вопрос достаточно простой структура содержание. исходить это, принимать решение каждый вопрос создавать неделимый шаблон, который описывать вопрос. исходить это, каждый ответ система являться неделимый полный мера разрешать заданный вопрос. вопрос отсутствовать сложный контекстный связь, исключение два: отделение сотрудник. отделение студент каждый вопрос указывать явно. список сотрудник, это, каждый отделение свой: один ответ мочь давать разный сотрудник, другой лишь трое, должность мочь иметь разный название (например, директор, начальник, менеджер). считать, каждый отделение каждый должность занимать человек. название должность сотрудник известный система, известный студент. студент предлагаться самостоятельно понимать, какой сотрудник работать каждый отделение фирма, исходить описание игра отклик система. исходить требование, алгоритм система закладывать возможность использование синоним именование один тот должность. словарь синоним заготавливать система заранее. то, определять отделение фирма должность сотрудник оставаться обрабатывать вопрос, который студент задавать этот сотрудник. происходить это следующий образ: указанный сотрудник указанный филиал браться лсш, описывать компетенция сотрудник (то тот вопрос, который давать ответ, сам ответ). затем заданный студент вопрос сопоставляться этот шаблон, выбираться шаблон, который наиболее полно соответствовать заданный вопрос. качество ответ вопрос студент выдаваться ответ шаблон. случай шаблон, описывать компетенция данный сотрудник, соответствовать заданный вопрос, сказать, сотрудник знать ответ. система определять несколько шаблон, который одинаковый степень соотвествовать заданный вопрос, ответ выдаваться случайно. сожаление, гарантия, шаблон, который распознавать, наиболее подходящий, действительно описывать именно заданный вопрос. каждый шаблон база привязывать некоторый ответ. именно ответ выдавать. случай вопрос давать неверный ответ. разработчик язык lspl предоставлять утилита анализ текст соответствие лсш. именно, утилита позволять сопоставлять заданный текст заданный набор шаблон выявлять шаблон (или тот шаблон), который соответствовать различный часть данный текст. пояснять сказать пример, который прояснение смысл работа утилита предельно упрощать синтаксис параметр язык lspl. реальный синтаксис приводить приложение б. пусть анализировать текст равный: «сколько ваш отделение фирма устанавливать компьютер?» сопоставлять шаблон представлять табла... таблица .. упрощенный лексико-синтаксический шаблон результат работа утилита представлять табла. .: таблица .. результат работа утилита табла. видно, различный часть анализировать текст соответствовать различный шаблон. наш задача выбирать шаблон, который описывать весь текст наиболее точно. взять эвристический способ, который верный шаблон являться шаблон, граница текст который наиболее широкий. исходить результирующий шаблон наш пример шаблон skf. рамка процесс получение ответ вопрос указанный утилита lspl вызываться дважды: первый определение должность сотрудник, второй – анализ заданный вопрос. студент заранее известный должность сотрудник, работать данный филиал. поэтому студент называть должность так, закладывать система. проблема решать словарь синоним. каждый список синоним представлять вид лсш. утилита получать вход список синоним (соответствующий шаблон) должность выбирать филиал, вместе запрашивать должность подаваться вход утилита. утилита очередь возвращать шаблон, который соответствовать запрашивать должность. утилита возвращать ничто, пользователь возвращаться сообщение то, сотрудник должность работать фирма. определять сотрудник, который адресовать вопрос, база данные выбираться компетенция, который располагать данный сотрудник. далее название шаблон компетенция, вместе заданный студент вопрос, подаваться вход утилита. утилита возвращать шаблон тот компетенция, который поставлять соответствие заданный вопрос. шаблон находить, студент получать ответ, привязывать находить шаблон. утилита вернуть шаблон, студент возвращаться сообщение то, сотрудник знать ответ заданный вопрос. алгоритм позволять определять студент факт работа сотрудник отделение, компетенция сотрудник. наглядный представление работа алгоритм, построить idef диаграмма (рис ..) диаграмма последовательность (рис ..) рисунок .. idef диаграмма алгоритм рисунок .. диаграмма последовательность алгоритм определение бизнес-процесс определять основной процесс, который задействовать система. поскольку предполагаться, студент начало игра знать название филиал иметь список сотрудник, студент должный сам определять. решать, студент быть определять, существовать сотрудник филиал ход постановка вопрос виртуальный собеседник. такой образ, студент виртуальный собеседник задействовать два процесс: определение существование сотрудник филиал постановка самый вопрос виртуальный собеседник относительно филиал фирма «обалдеит». переходить диаграмма прецедент. система актор: студент, задавать вопрос собеседник администратор, поддерживать система. определять прецедент система, построить диаграмма, который представлять рис. .. название: постановка вопрос система актор: студент описание: студент заходить система свой имя пароль, указывать сотрудник задавать вопрос система. название: определение существование сотрудник филиал актор: студент описание: студент заходить система свой имя пароль, указывать сотрудник задавать вопрос система. сотрудник существовать, давать ответ вопрос, либо отвечать, это компетенция. такой сотрудник нет, система сообщать это. название: редактирование компетенция сотрудник филиал актор: администратор описание: администратор заходить интерфейс администрирование система, выбирать филиал, затем один сотрудник филиал. администратор открываться список компетенция данный филиал, который указывать тот, компетенция, который располагать выбирать сотрудник. администратор удалять существующий компетенция добавлять новый список. название: просмотр заданный вопрос система. актор: администратор описание: администратор заходить интерфейс администрирование, затем открывать окно заданный вопрос система. увидеть информация, какой сотрудник, какой филиал какой время задавать вопрос, ответ давать. рисунок .. диаграмма активность теперь, определять прецедент система, построить диаграмма активность. рисунок представлять диаграмма последовательность обращение система. диаграмма обращение система показывать возможный вариант реакция система действие пользователь: пользователь указывать сотрудник фирма, который работать она, пользователь задавать вопрос сотрудник, который знать ответ пользователь идентифицировать система момент обращение она. рисунок .. диаграмма последовательность проектирование система теперь, определять процесс, который должный автоматизировать система, выбирать реализация, начинать проектирование приложение. определять сущность, который быть система: филиал. свойство: а) имя. тип - строковый описание: каждый филиал свой уникальный характеристика такой месторасположение, количество комплектация эвм, количество сотрудник квалификация. сотрудник. свойство: а) имя. тип строковый. б) название шаблон. тип строковый. описание: каждый сотрудник филиал фирма «обалдеит» обладать свой набор компетенция. зависимость этот компетенция определяться, смочь сотрудник отвечать поставлять вопрос нет. поскольку ранее решать, система основывать лексико-синтаксический шаблон, сотрудник определять свойство «название шаблон», который содержаться название шаблон, который однозначно определять сотрудник. компетенция. свойство: а) название шаблон. тип – строковый. б) текст ответ. тип – строковый. в) должность сотрудник описание: небольшой область знание, который обладать сотрудник, прикреплять филиал. запись вопрос. свойство: а) время. тип – datetime б) задавать вопрос. тип – строковый в) имя сотрудник. тип – строковый г) ответ вопрос. тип – строковый описание: поскольку решать собирать данные заданный вопрос, вводить сущность, который отображать давать. хранить точный дата время заданный вопрос, точный формулировка самый вопрос, также название сотрудник, который вводить текстовый поле. данные помогать дальнейший пополнять корректировать существующий шаблон. диаграмма erd представлять рисунок .. erd диаграмма ранее говориться, компетенция сотрудник филиал мочь пересекаться, значит, ответ вопрос мочь давать несколько сотрудник сразу. поэтому решать сделать связь тип «многий ко многий» сущность «сотрудник» «компетенция». глава разработка система глава подробно описывать процесс разработка приложение, база данные взаимодействие утилита сопоставление текст лексико-синтаксический шаблон. инструментальный средство разработка определять стек технология разработка веб-приложение виртуальный собеседник. решать разрабатывать приложение платформа .net использование фреймворок asp.net разработка сайт. основной язык разработка являться c, однако помимо использоваться язык: html описание веб-страница, xml задание конфигурация приложение lspl задание лексико-синтаксический шаблон. далее быть описывать основной инструмент, который потребоваться разработка собеседник: яндекс словарь. ранее сказать, данный статья описывать способ реализация собеседник, который требовать большой объем входной выборка. однако исходный выборка широкий работа система искусственно увеличиваться счет словарь синоним. однако, словарь использовать непосредственно время использование, поскольку предоставлять api иметь ежедневный ограничение количество запрос. lspl. lspl (lexico-syntaxic pattern language) – язык, предназначать формальный описание конструкция русский язык цель представление система извлечение информация текст. сожаление разработчик предоставлять dll файл использование система, такой образ инструмент использоваться утилита помощь запуск bat файл. стоить отмечать, компонент актуальный документация, поэтому учиться использовать приходиться процесс разработка. lemmasharp. lspl шаблон требовать вход слово начальный форма. решение этап потребоваться отдельный библиотека. ms sql. написать выше, яндекс словарь иметь ограничение количество ежедневный запрос. тот, время работа обращаться словарь синоним, решать получать ранее хранить база данные. разработка база данные хранение данные приложение решать создавать база данные основа sql server название obaldeitchatbot. каждый сущность, описывать предыдущий глава, создавать таблица база данные, также дополнительный поле, который служить уникальный идентификатор внешний ключ другой таблица. схема база данные представлять .. рисунок .. схема база данные подготовка файл входной данные корректный работа система потребоваться заполнять база данные. предыдущий игра, каждый сотрудник отвечать преподаватель, сохраняться файл, содержать вопрос студент ответ каждый сотрудник. информация этот файл объединять структуризировать вид: название филиал, должность сотрудник, вопрос, ответ. стоять отмечать, игра игра некоторый филиал меняться сотрудник точный формулировка должность, поэтому исправление объединять файл создавать матрица принадлежность сотрудник филиал (рис ..). исходить создавать матрица, наименование должность сотрудник филиал приводиться единый вид. помимо наименование должность сотрудник, меняться компетенция, поэтому организация зона ответственность сотрудник создавать матрица зона ответственность сотрудник (рис ..). рисунок ..матрица принадлежность сотрудник филиал рисунок .. матрица зона ответственность сотрудник тот, определять зона ответственность наименование должность сотрудник, решать написать небольшой подпрограмма, проверять корректность сформировывать файл. этот программа проверять, верно вводить название филиал, наименование должность сотрудник, также прикреплять сотрудник указанный должность филиал. какой-то условие совпадать, программа выдавать номер строка ошибка. несколько проверка файл исправление ошибка, файл приводить вид, пригодный наполнение база данные. код валидация файл приводить ниже: private void validatefile(object sender, routedeventargs e) { var filepath = getexcelfilepath(); if (filepath == null) return; excel.application xlapp = new excel.application(); excel.workbook xlworkbook = xlapp.workbooks.open(filepath); excel._worksheet xlworksheet = xlworkbook.sheets[]; excel.range xlrange = xlworksheet.usedrange; var errorslist = new list<int>(); using (var db = new obaldeitchatbotentities()) { for (int i = ; i < xlrange.rows.count; i) { string subsidiary = xlrange.cells[i, ].value.tostring(); string employee = xlrange.cells[i, ].value.tostring(); string question = xlrange.cells[i, ].value.tostring(); if (!db.subsidiary.select(s => s.title).contains(subsidiary)) { console.writeline(\"строка \" + i + \" содержать невалидный название филиал\"); } if (!db.employee.select(s => s.name).contains(employee)) { console.writeline(\"строка \" + i + \" содержать невалидный название сотрудник\"); } if (question.contains(\"\\\\n\")) { console.writeline(\"строка содержать непечатный символ: \" + i); } if (!db.employee.include(\"subsidiary\").tolist().any(emp => emp.name == employee && emp.subsidiary.title == subsidiary)) { console.writeline(i + \" – сотрудник работать филиал\"); } } } xlworkbook.close(); xlapp.quit(); } наполнение база данные тот, база данные спроектировать, следовать она наполнять создавать ранее файл. потребоваться дополнительный подпрограмма, поскольку объем работа слишком большой ручной выполнение. поэтому решать создавать несколько подпрограмма наполнение база данные генерация шаблон. процесс наполнение база данные разбивать несколько этап. первый этап вручную база данные наполнять несколько таблица, данные который быть нужный следующий этап. проверка входной файл дальнейший заполнение таблица компетенция заполнять следующий таблица: subsidiary (филиал), employee (сотрудник), employeepattern (шаблон сотрудник). первый два таблица заполнять исходить матрица принадлежность сотрудник филиал. шаблон должность создавать, использовать словарь синоним. помимо этот, заполнять таблица partofspeech (часть речь), который понадобиться получение синоним каждый слово вопрос. данные таблица взять документация язык lspl (рис ..). указывать поддерживать часть речь перевод английский язык. api словарь синоним каждый слово возвращать часть речь, помогать составление шаблон, использовать таблица. рисунок .. часть речь, поддерживать язык lspl следующий этап заполнение таблица синоним слово задавать вопрос. получение синоним использовать словарь синоним компания яндекс. ранее задумывать получать синоним время работа программа генерировать шаблон динамически. однако яндекс словарь ограничивать количество запрос день, запрос, который посыпаться поверх допустимый лимит, словарь возвращать сообщение ошибка. поэтому решать заранее сгенерировать синоним шаблон. словарь возвращать запрос структура, который указывать синоним часть речь. получать синоним добавляться база данные случай, ранее быть. код заполнение таблица синоним представлять ниже. private void generatewordspool(object sender, routedeventargs e) { var filepath = getexcelfilepath(); if (filepath == null) return; excel.application xlapp = new excel.application(); excel.workbook xlworkbook = xlapp.workbooks.open(filepath); excel._worksheet xlworksheet = xlworkbook.sheets[]; excel.range xlrange = xlworksheet.usedrange; dictionary<string, phrasepattern> questionpattern = new dictionary<string, phrasepattern>(); using (var db = new obaldeitchatbotentities()) { for (int i = ; i < xlrange.rows.count; i) { string question = xlrange.cells[i, ].value.tostring(); var words = prepareinputstring(question); foreach (var word in words) { if (word.trim() == string.empty) { continue; } var lemmatizedword = lemmatizersingletone.getinstance().lemmatizephrase(word); if (db.word.any(w => w.text == lemmatizedword)) { continue; } wordpattern wordpattern = new wordpattern(word); if (wordpattern.alternatives.count == ) { continue; } if (!db.partofspeech.tolist().any(p => p.name == wordpattern.alternatives[].pos)) { continue; } word dbword = new word() { text = lemmatizedword, partofspeechid = db.partofspeech.tolist().firstordefault(pos => pos.name == wordpattern.alternatives[].pos).id, mainsymominid = -}; db.word.add(dbword); db.savechanges(); foreach (var alt in wordpattern.alternatives.skip()) { if (!db.partofspeech.tolist().any(p => p.name == alt.pos)) { continue; } if (alt.pos != null) { db.word.add(new word() { text = alt.text, partofspeechid = db.partofspeech.tolist().firstordefault(pos => pos.name == alt.pos).id, mainsymominid = dbword.id }); } } } } db.savechanges(); } xlworkbook.close(); xlapp.quit(); } заполнение таблица синоним сгенерировать шаблон. язык lspl позволять использовать альтернатива шаблон, позволять использовать шаблон ранее получать синоним. помимо это, lspl давать возможность работать словом часть речь язык, использовать такой характеристика число, падеж, время т.д. часть речь предложение играть разный роль иметь разный значимость. исходить этот, составлять маска часть речь, который быть составляться шаблон. маска входить следующий часть речь: существительное, наречие, глагол, числительное. далее кратко описывать алгоритм составление шаблон. вход подаваться ранее создавать файл вопрос ответ. файл считываться построчно. сначала определяться филиал, сотрудник, который задаваться вопрос, затем определяться сотрудник база данные принадлежность филиал. затем заданный вопрос удаляться слово, который соответствовать маска часть речь, который описывать ранее. затем каждый оставаться слово генерироваться лексико-синтаксический шаблон синоним, получать шаблон синоним объединяться шаблон заданный вопрос исходный порядок. шаблон синоним получать вопрос необходимость добавляться база данные. код, добавлять база данные шаблон приводить ниже. private void loadpatterns_click(object sender, routedeventargs e) { var filepath = getexcelfilepath(); if (filepath == null) return; excel.application xlapp = new excel.application(); excel.workbook xlworkbook = xlapp.workbooks.open(filepath); excel._worksheet xlworksheet = xlworkbook.sheets[]; excel.range xlrange = xlworksheet.usedrange; dictionary<string, phrasepattern> questionpattern = new dictionary<string, phrasepattern>(); using (var db = new obaldeitchatbotentities()) { for (int i = ; i < xlrange.rows.count; i) { string subsidiaryname = xlrange.cells[i, ].value.tostring(); string employeename = xlrange.cells[i, ].value.tostring(); string question = xlrange.cells[i, ].value.tostring().replace(\\'\\\\n\\', \\' \\'); string answervalue = xlrange.cells[i, ].value.tostring().replace(\\'\\\\n\\', \\' \\'); employee employee = db.employee.include(\"subsidiary\").firstordefault(emp => emp.name.tolower() == employeename.tolower() && emp.subsidiary.title.tolower() == subsidiaryname.tolower()); phrasepattern pattern = new phrasepattern(); partofspeechmask mask = new partofspeechmask(new list<patternsgenerator.partofspeech>() { }, new list<patternsgenerator.partofspeech> { patternsgenerator.partofspeech.noun, patternsgenerator.partofspeech.verb, patternsgenerator.partofspeech.pronoun, patternsgenerator.partofspeech.numeral }); var wordsstrings = prepareinputstring(question).select(s => lemmatizersingletone.getinstance().lemmatizephrase(s)).tolist(); for (int j = ; j < wordsstrings.count; j) { var word = db.word.include(\"partofspeech\").tolist().firstordefault(w => w.text == wordsstrings[j]); if (word == null || !mask.nonrequired.select(s => partofspeechmask.partofspeechdict[s].tolower()).contains(word.partofspeech.name.tolower())) { wordsstrings.removeat(j); j--; } } if (wordsstrings.count == ) continue; list<phrasepattern> wordpatternslist = new list<phrasepattern>(); for (int j = ; j < wordsstrings.count; j) { var word = db.word.include(\"partofspeech\").tolist().first(w => w.text == wordsstrings[j]); if (word.mainsymominid != -) { word = db.word.include(\"partofspeech\").tolist().first(w => w.id == word.mainsymominid); } var wordpattern = db.phrasepattern.tolist().firstordefault(p => p.title.tolower() == translitgenerator.gettranslit(word.text).tolower()); if (wordpattern == null) { var dbalternates = db.word.include(\"partofspeech\").tolist().where(w => w.mainsymominid == word.id).take().select(w => new parserword() { text = w.text, pos = w.partofspeech.name}).tolist(); wordpattern parserwordpattern = new wordpattern(new parserword() { text = word.text, pos = word.partofspeech.name }, dbalternates); var generatedpattern = parserwordpattern.generatepatternseparately(mask); if (!string.isnullorempty(generatedpattern[])) { wordpattern = new phrasepattern() { title = generatedpattern[], body = generatedpattern[] }; db.phrasepattern.add(wordpattern); db.savechanges(); } } if (wordpattern != null) { wordpatternslist.add(wordpattern); } } var patterntitle = new string(wordpatternslist.select(p => p.title[]).toarray()); pattern.title = char.toupper(patterntitle[]) + patterntitle.substring(); pattern.body = wordpatternslist.tolist().select(s => s.title).aggregate((m, k) => m + \" {w} \" + k) + \" =pattern> \\\\\\'-\\\\\\'\"; db.phrasepattern.add(pattern); competence competence = new competence() { employeeid = employee.id, patternid = pattern.id, answer = answervalue}; db.competence.add(competence); db.savechanges(); } } xlworkbook.close(); xlapp.quit(); } то, шаблон добавлять база данные, оставаться сгенерировать файл паттерн, который подаваться вход утилита. шаблон, добавлять файл приводить приложение в. private void generatepatternfile_click(object sender, routedeventargs e) { list<string> patterns = new list<string>(); using (var db = new obaldeitchatbotentities()) { foreach (var ptrn in db.phrasepattern.tolist()) { patterns.add(char.toupper(ptrn.title[]) + ptrn.title.substring() + \" = \" + ptrn.body); } } patterns = patterns.distinct().tolist(); foreach (var pattern in patterns) { file.appendalllines(@\"c:\\\\projects\\\\obaldeitchatbotv\\\\patternsgenerator\\\\lspl-tools-new\\\\example\\\\ptrns.txt\", new list<string> { pattern }, encoding.getencoding(\"windows-\")); } } использование лексико-синтаксический шаблон разбирать взаимодействие система лексико-синтаксический шаблон. каждый ответ, который давать система, связывать лексико-синтаксический шаблон перечень. лексико-синтаксический шаблон находиться файл, относительный путь который obaldeitchatbot\\\\lsplutils\\\\lspl-tools-new\\\\bin\\\\patterns.txt. сам шаблон составлять так, позволять учитывать разный формулировка вопрос должность сотрудник. достигать это счет возможность язык lspl. рассматривать некоторый шаблон. низко представлять шаблон, определять должность системный администратор: admin = n<администратор> =text> \\'-\\' | a<системный> n<администратор> =text> \\'-\\' | \\'сисадмин\\' =text> \\'-\\' разбирать подробно составлять. шаблон представлять альтернатива. первый альтернатива «n<администратор> =text> \\'-\\'» предполагать, исходный текст соотносить этот шаблон, содержать существительное «администратор» любой число падеж. второй альтернатива «a<системный> n<администратор> =text> \\'-\\'» предполагать, исходный текст соотносить должность, текст встречаться словосочетание, состоять прилагательный «системный» существительное «администратор», который мочь согласовывать себя. так, такой вариант «системный администратор» «системный администратор» также распознавать этот шаблон. третий альтернатива завязнуть какой-либо часть речь соотносить шаблон любой текст, который встречаться подстрока «сисадмин». кроме альтернатива простой лексико-синтаксический шаблон, многовариантность достигать счет использование составной шаблон, который состоять другой шаблон. разбирать это пример шаблон, который соотносить ответ вопрос то, сколько филиал находиться компьютер. шаблон представлять ниже: qcomp = quantity {w} computer {w} [office] =pattern> \\'-\\' видно, шаблон элемент, который характеризовать слово русский язык, однако содержать название другой три шаблон: «quantity», «computer» «office». шаблон представлять ниже: quantity = num<сколько> =text> \\'-\\' | n<количество> =text> \\'-\\' | n<число> =text> \\'-\\' | n<величина> =text> \\'-\\' computer = n<компьютер> =text> \\'-\\' | n<эвм> =text> \\'-\\' | n<персоналка> =text> \\'-\\' | \\'пк\\' =text> \\'-\\' office = n<офис> =text> \\'-\\' | n<отделение> =text> \\'-\\' | n<подразделение> =text> \\'-\\'| n<отдел>=text> \\'-\\' первый шаблон содержать пять альтернатива, второй четыре третий пять альтернатива. помимо этот, шаблон qcomp шаблон office указывать квадратный скобка, означать, находиться исходный текст. также шаблон указывать буква w фигурный скобка, обозначать, шаблон находиться произвольный количество любой слово. разбирать подробно процесс запуск сам утилита. запускать команда командный строка, указывать относительный путь входной файл, лексико-синтаксический шаблон, выходной файл искомый шаблон. пример команда приводить ниже: bin\\\\lspl-find -i bin\\\\text.txt -p bin\\\\patterns.txt -o bin\\\\output.txt qcomp internetspeed areusable aresuitable levelemployee characteristic versos willchange languageprogram cabinets areservershere islocalnetworkhere themselfinstall однако, поскольку приложение иметь возможность воспользоваться командный строка, команда выполняться .bat файл. мера ответ вопрос команда выполняться дважды: первый устанавливаться, какой именно сотрудник задаваться вопрос. далее, сотрудник работать указанный филиал, устанавливаться, вопрос задавать. разбирать обработка результат работа утилита. lspl-tools результат работа генерировать xml файл, который указывать, какой именно шаблон встречать текст. пример такой xml файл представлять низко, качество входной текст указывать вопрос «сколько компьютер ваш фирма», качество лексико-синтаксический шаблон указывать qcomp, internetspeed, areusable, aresuitable, levelemployee, characteristic, versos, willchange, languageprogram, cabinets, areservershere, islocalnetworkhere, themselfinstall: <?xml version=\".\" encoding=\"windows-\"?> <texts> <text> <goal name=\"qcomp\"> <match startpos=\"\" endpos=\"\"> <fragment>сколько компьютер</fragment> <result>-</result> </match> <match startpos=\"\" endpos=\"\"> <fragment>сколько компьютер быть</fragment> <result>-</result> </match> <match startpos=\"\" endpos=\"\"> <fragment>сколько компьютер в</fragment> <result>-</result> </match> <match startpos=\"\" endpos=\"\"> <fragment>сколько компьютер ваш</fragment> <result>-</result> </match> <match startpos=\"\" endpos=\"\"> <fragment>сколько компьютер ваш фирма</fragment> <result>-</result> </match> </goal> <goal name=\"internetspeed\"> </goal> <goal name=\"areusable\"> </goal> т.д. </text> </texts> видно код файл, находить несколько соответствие шаблон «qcomp». поскольку шаблон возможность вставлять слово часть шаблон, количество соответствие увеличивать. завершение работа утилита содержимое выходной файл обрабатываться система, проверяться, какой подавать шаблон встречать текст. результирующий шаблон считаться тот, фрагмент который, встречать текст, иметь максимальный длина. обработка выходной файл отвечать класс questionsanswerer. разбирать, работать класс. один публичный функция, который вызываться внешний код. передаваться текст выходной файл. сначала функция проверять, находиться код файл подстрока «match»: этот подстрока находиться файл случай, находить соответствие лексико-синтаксический шаблон текст вход утилита. подстрока находить, функция вернуть это обрабатываться внешний код, иной случай выбираться соответствие, который разница стартовый конечный позиция максимальный, возвращаться название шаблон соответствие. разработка веб-приложение тот, спроектировать наполнять база данные, начинать разработка веб-приложение взаимодействие пользователь платформа asp.net. разрабатывать одностраничный приложение использование технология jquery ajax простой интерфейс (рис ..), пользователь предлагаться выбирать филиал список доступный, вводить должность сотрудник задавать вопрос, графа ответ некоторый время появляться ответ, вычислять система. алгоритм, который работать система, точность повторять спроектировать. реализация приводить ниже: public jsonresult getanswer(questionanswermodel model) { using (var db = new obaldeitchatbotentities()) { var employeepatternname = getpatternname(model.employeetext, db.employee.tolist().where(e => e.subsidiaryid == model.selectedcityid).select(e => e.employeepattern.title).tolist()); if (employeepatternname == null) { model.answertext = \"нет должность!\"; return json(model); } var employee = db.employee.tolist().first(e => e.subsidiaryid == model.selectedcityid && e.employeepattern.title == employeepatternname); var competencespatterns = db.competence.tolist().where(c => c.employeeid == employee.id).select(s => s.phrasepattern.title).distinct().tolist(); var answerpatternname = getpatternname(model.question, competencespatterns); if (answerpatternname == null) { model.answertext = \"сотрудник знать ответ заданный вопрос.\"; return json(model); } model.answertext = db.competence.tolist().first(c => c.employeeid == employee.id && c.phrasepattern.title == answerpatternname).answer; } return json(model); } рисунок .. веб-приложение lspl этот часть исходный код – обработчик событие нажатие кнопка. вход приходить собирать клиент модель, содержать поле, который пользователь заполнять интерфейс. далее начинаться процесс обработка, описывать предыдущий глава: сначала происходить проверка наличие сотрудник указанный должность выбирать филиал – такой нет, пользователь выдаваться уведомление это. выбираться компетенция находить сотрудник шаблон сопоставляться заданный вопрос. процесс проверка шаблон происходить помощь запуск процесс система windows. сначала формироваться файл обрабатывать строка, указывать либо должность сотрудник, либо вопрос. затем формироваться bat файл, который указываться входной файл, файл заранее сгенерировать шаблон путь выходной файл. затем запускаться сам утилита ранее сформировывать bat файл. завершение процесс обрабатываться выходной файл, сгенерировать утилита, шаблон, определенный наиболее подходящий предлагать выходной файл, сопоставляться зависимость ситуация шаблон нужный таблица база данные, основание система приниматься решение. полный исходный код работа представлять приложение г. разработка сервис администрирование разработка веб-приложение виртуальный собеседник разрабатывать система администрирование виртуальный собеседник. система администрирование содержать окно: изменение компетенция сотрудник просмотр история вопрос студент. первый окно (рис ..) администратор предлагаться выбирать филиал должность сотрудник, открываться список компетенция выбирать филиал, галочка отмечать тот компетенция, который знать выбирать сотрудник. администратор изменять набор компетенция иной сотрудник свой усмотрение, изменение каждый компетенция данные перезаписываться база данные. второй окно (рис ..) отображать информация обо заданный вопрос время работа система, именно: дата время, задавать вопрос, филиал, сотрудник который задавать, формулировка должность сотрудник, указанный пользователь, задавать вопрос данный система ответ. рисунок .. исправление компетенция сотрудник рисунок .. окно просмотр история заданный вопрос публикация система microsoft azure опытный тестирование система разрабатывать запускать локально, предстоять процесс развертка хостинг. качество хостинг выбирать microsoft azure. поскольку система использовать база данные работа, сначала развертывать она. студенческий аккаунт, предоставлять компания microsoft студент ниу вшэ, создавать запрос использование сервер база данные. получение доступ сервер, создавать пустой база данные. далее помощь программа data migration assistant перенести схема локальный бд удалять, передавать сам данные. далее создавать виртуальный машина. то, виртуальный машина создавать, приложение перенести она. однако работа приложение требоваться утилита lspl файл паттерн. перенос папка утилита виртуальный машина предоставлять доступ локальный жесткий диск, который папка перенести виртуальный машина. тот, система получать доступ папка, система все еще отвечать поставлять вопрос. решение проблема решать производить отладка путем вывод сообщение ошибка окно ответ. основной проблема оказываться политика безопасность виртуальный машина, который разрешать редактировать файл процесс работа. тот, политик безопасность настраивать, система зарабатывать. публикация система проходить опытный тестирование ход деловой игра. студент задавать вопрос система. общий студент удаваться получать ответ большинство закладывать система вопрос. однако, учитывать то, студент работать несогласованный, каждый информация мало. определять, разрабатывать собеседник иметь достаточный точность ответ, однако наличие вопрос требуемый слово синоним способный давать ответ. дальнейший улучшение работа собеседник предлагаться дорабатывать система администрирование так, ее помощь возможность создавать шаблон проверять входной текст наличие. заключение ход данный работа построить собственный система генерация лексико-синтаксический шаблон основа исходный файл текстовый строка. основа разрабатывать технология спроектировать реализовать система, позволять имитировать процесс общение студент сотрудник филиал фирма ход бизнес-игра. разрабатывать система развертывать интранет вшэ пермь проведение последующий бизнес-игра. выполнять следующий задача: выявлять причина провал прошлый версия виртуальный собеседник. разрабатывать технический задание проводить сравнительный анализ модель улучшение алгоритм улучшать алгоритм работа система производить проектирование архитектура новый система. система разрабатывать. производить первичный тестирование система. система развертывать. проводить опытный эксплуатация система. библиографический список chapter introduction to microsoft solutions framework. / technet [электронный ресурс] url: (дата обращение ..) следствие теорема колмогоров–арнольд–хехт-нильсен. / искусственный нейронный сеть. теория практика [электронный ресурс] режим доступ: (дата обращение: ..) макконелла с. совершенный код. м.: русский редакция, скиен с. алгоритм руководство разработка. м.: бхв-петербург, избачок ю.с. информационный система спб.: питер, хайкин с. нейронный сеть: полный курс. м.: издательский дом вильямс,'"
            ]
          },
          "metadata": {
            "tags": []
          },
          "execution_count": 75
        }
      ]
    },
    {
      "cell_type": "code",
      "metadata": {
        "colab": {
          "base_uri": "https://localhost:8080/"
        },
        "id": "tv6re_esHqXF",
        "outputId": "acd52472-54cc-4d97-e118-11b99d9f9412"
      },
      "source": [
        "modelSum = Summarizer(custom_model=custom_model, custom_tokenizer=custom_tokenizer)\n",
        "result = modelSum(fullText, min_length=20, max_length=100)\n",
        "summary = \"\".join(result)\n",
        "print(len(summary), summary)"
      ],
      "execution_count": null,
      "outputs": [
        {
          "output_type": "stream",
          "text": [
            "3115 Для разработанного виртуального собеседника реализована система администрирования. Актуальность работы: работа является актуальной, т.к. Объект работы: процесс проведения. Предмет работы: автоматизация консультационной работы преподавателя в ходе проекта. Первая глава содержит описание предметной области и анализ автоматизируемого процесса. Planning (Планирование). На этапе разработки пишется код приложения, подготавливается документация. Stabilizing (Стабилизация). В ходе игры студенты должны установить вымышленную систему «ОбалдеИТ» на компьютеры пользователей. Формирование расписания развертывания. Трудозатраты преподавателя. Выявление наличия в указанном филиале фирмы сотрудника с указанной должностью. Определение ответа сотрудника на заданный вопрос. Возможность просмотра заданных вопросов. Полный список требований к системе представлен в приложении А. Глава 2. Искусственные нейронные сети (ИНС). Попытка использования первой версии собеседника выявила следующие проблемы:  Количество шаблонов. Не было установлено никаких правил или соглашений о построении шаблонов. Для этого в языке LSPL предусмотрены средства задания синтаксической связи согласования слов. Именно этот ответ и будет выдан. Студентам заранее не известны должности сотрудников, работающих в данном филиале. Для более наглядного представления работы алгоритма, были построены IDEF0 диаграмма (Рис 2.3.) Описание: Каждый из сотрудников филиалов фирмы «ОбалдеИТ» обладает своим набором компетенций. Тип – строковый Г) Ответ на вопрос. Диаграмма ERD представлена на Рис 2.5  Рисунок 2.5. Как было написано выше, Яндекс словарь имеет ограничение на количество ежедневных запросов. Application xlApp = new Excel. Application();             Excel. Workbook xlWorkbook = xlApp. Sheets[1];             Excel. Range xlRange = xlWorksheet. Close();             xlApp. Процесс наполнения базы данных был разбит на несколько этапов. Первые две таблицы были заполнены исходя из матрицы принадлежностей сотрудников к филиалам. Код заполнения таблицы с синонимами представлен ниже. Add(dbWord);                         db. Quit();         }  После заполнения таблицы синонимов были сгенерированы шаблоны. Части речи в предложении играют разную роль и имеют разную значимость. Cells[i, 3].Value2.ToString().Replace('\\n', ' ');                     string answerValue = xlRange. Noun, PatternsGenerator. GetInstance().LemmatizePhrase(s)).ToList();                     for (int j = 0; j < wordsStrings. Count; j++)                      {                         var word = db. ToLower() == TranslitGenerator. Каждый ответ, который может давать система, связан с лексико-синтаксическим шаблоном в его перечне. Рассмотрим некоторые шаблоны. Разберем подробнее процесс запуска самой утилиты. В нее передается текст выходного файла. Алгоритм, по которому работает система, в точности повторяет спроектированный. ToList().Where(e => e.subsidiaryId == model. После получения доступа к серверу, была создана пустая база данных. Было произведено первичное тестирование системы. Система была развернута. Библиографический список 1. М.: БХВ-Петербург, 2014.\n"
          ],
          "name": "stdout"
        }
      ]
    },
    {
      "cell_type": "code",
      "metadata": {
        "colab": {
          "base_uri": "https://localhost:8080/"
        },
        "id": "a_RVVp_3XqjK",
        "outputId": "e517998e-13aa-4efc-f117-2d93a8b640e4"
      },
      "source": [
        "modelSum = Summarizer(custom_model=custom_model, custom_tokenizer=custom_tokenizer)\n",
        "result = modelSum(text, min_length=20, max_length=100)\n",
        "summary = \"\".join(result)\n",
        "print(len(summary), summary)"
      ],
      "execution_count": null,
      "outputs": [
        {
          "output_type": "stream",
          "text": [
            "2525 разрабатывать виртуальный собеседник реализовать система администрирование. преподаватель это трудозатраты, студент - затрата время игра целое это длительность. работа разделять глава. developing (разработка). этап проводиться тестирование приложение, устраняться обнаруживать ошибка. ход игра студент должный устанавливать вымышленный система «обалдеит» компьютер пользователь. анализ игра разбирать процесс проведение игра рамка обучение студент. общение преподаватель одновременно доступно сразу несколько группа студент. трудозатраты преподаватель. преподаватель вынуждать отвечать весь студент многочисленный вопрос, требовать значительный усилие. готовый входной файл содержать запись. практика вариант пробовать реализовать. исходить следствие теорема арнольд–колмогоров-хехт–нильсен[], большой вероятность переобучение инс. лексико-синтаксический шаблон (лсш). русский язык это падеж, время, наклонение, склонение, число т.д. попытка использование первый версия собеседник выявлять следующий проблема: количество шаблон. каждый вопрос неделимый каждый соответствовать ответ, закладывать система. считать, каждый отделение каждый должность занимать человек. таблица .. результат работа утилита табла. исходить результирующий шаблон наш пример шаблон skf. студент заранее известный должность сотрудник, работать данный филиал. проблема решать словарь синоним. утилита возвращать шаблон тот компетенция, который поставлять соответствие заданный вопрос. шаблон находить, студент получать ответ, привязывать находить шаблон. увидеть информация, какой сотрудник, какой филиал какой время задавать вопрос, ответ давать. свойство: а) название шаблон. lspl шаблон требовать вход слово начальный форма. какой-то условие совпадать, программа выдавать номер строка ошибка. поэтому решать создавать несколько подпрограмма наполнение база данные генерация шаблон. код заполнение таблица синоним представлять ниже. далее кратко описывать алгоритм составление шаблон. рассматривать некоторый шаблон. шаблон представлять альтернатива. разбирать подробно процесс запуск сам утилита. </text> </texts> видно код файл, находить несколько соответствие шаблон «qcomp». вход приходить собирать клиент модель, содержать поле, который пользователь заполнять интерфейс. качество хостинг выбирать microsoft azure. публикация система проходить опытный тестирование ход деловой игра. студент задавать вопрос система. общий студент удаваться получать ответ большинство закладывать система вопрос. система развертывать. искусственный нейронный сеть.\n"
          ],
          "name": "stdout"
        }
      ]
    },
    {
      "cell_type": "code",
      "metadata": {
        "id": "yi9uALgWwtRV"
      },
      "source": [
        "modelSum = Summarizer(custom_model=custom_model, custom_tokenizer=custom_tokenizer)\r\n",
        "for row in tqdm(range(vkrText.shape[0])):\r\n",
        "    if type(vkrText.loc[row, 'fullText'])!='':\r\n",
        "        text = clearTextAfterGarbage(vkrText.loc[row, 'fullText'])\r\n",
        "        result = modelSum(fullText, min_length=20, max_length=100)\r\n",
        "        summary = \"\".join(result)\r\n",
        "\r\n",
        "        vkrText.loc[row, 'shortText'] = summary"
      ],
      "execution_count": null,
      "outputs": []
    }
  ]
}