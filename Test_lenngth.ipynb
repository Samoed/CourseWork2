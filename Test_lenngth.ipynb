{
  "nbformat": 4,
  "nbformat_minor": 0,
  "metadata": {
    "colab": {
      "name": "Test lenngth.ipynb",
      "provenance": [],
      "include_colab_link": true
    },
    "kernelspec": {
      "display_name": "Python 3",
      "language": "python",
      "name": "python3"
    },
    "language_info": {
      "codemirror_mode": {
        "name": "ipython",
        "version": 3
      },
      "file_extension": ".py",
      "mimetype": "text/x-python",
      "name": "python",
      "nbconvert_exporter": "python",
      "pygments_lexer": "ipython3",
      "version": "3.9.0+"
    }
  },
  "cells": [
    {
      "cell_type": "markdown",
      "metadata": {
        "id": "view-in-github",
        "colab_type": "text"
      },
      "source": [
        "<a href=\"https://colab.research.google.com/github/Samoed/CourseWork2/blob/main/Test_lenngth.ipynb\" target=\"_parent\"><img src=\"https://colab.research.google.com/assets/colab-badge.svg\" alt=\"Open In Colab\"/></a>"
      ]
    },
    {
      "cell_type": "code",
      "metadata": {
        "colab": {
          "base_uri": "https://localhost:8080/"
        },
        "id": "VlBuf27tCgos",
        "outputId": "2c45495c-a708-4a37-866a-a95780ec30be"
      },
      "source": [
        "!pip3 install -U bert-extractive-summarizer\n",
        "!pip3 install -U transformers"
      ],
      "execution_count": 1,
      "outputs": [
        {
          "output_type": "stream",
          "text": [
            "Collecting bert-extractive-summarizer\n",
            "  Downloading https://files.pythonhosted.org/packages/1a/07/fdb05f9e18b6f641499ef56737126fbd2fafe1cdc1a04ba069d5aa205901/bert_extractive_summarizer-0.7.1-py3-none-any.whl\n",
            "Collecting transformers\n",
            "\u001b[?25l  Downloading https://files.pythonhosted.org/packages/ed/d5/f4157a376b8a79489a76ce6cfe147f4f3be1e029b7144fa7b8432e8acb26/transformers-4.4.2-py3-none-any.whl (2.0MB)\n",
            "\u001b[K     |████████████████████████████████| 2.0MB 5.4MB/s \n",
            "\u001b[?25hRequirement already satisfied, skipping upgrade: spacy in /usr/local/lib/python3.7/dist-packages (from bert-extractive-summarizer) (2.2.4)\n",
            "Requirement already satisfied, skipping upgrade: scikit-learn in /usr/local/lib/python3.7/dist-packages (from bert-extractive-summarizer) (0.22.2.post1)\n",
            "Requirement already satisfied, skipping upgrade: filelock in /usr/local/lib/python3.7/dist-packages (from transformers->bert-extractive-summarizer) (3.0.12)\n",
            "Requirement already satisfied, skipping upgrade: regex!=2019.12.17 in /usr/local/lib/python3.7/dist-packages (from transformers->bert-extractive-summarizer) (2019.12.20)\n",
            "Requirement already satisfied, skipping upgrade: importlib-metadata; python_version < \"3.8\" in /usr/local/lib/python3.7/dist-packages (from transformers->bert-extractive-summarizer) (3.7.2)\n",
            "Requirement already satisfied, skipping upgrade: requests in /usr/local/lib/python3.7/dist-packages (from transformers->bert-extractive-summarizer) (2.23.0)\n",
            "Collecting sacremoses\n",
            "\u001b[?25l  Downloading https://files.pythonhosted.org/packages/7d/34/09d19aff26edcc8eb2a01bed8e98f13a1537005d31e95233fd48216eed10/sacremoses-0.0.43.tar.gz (883kB)\n",
            "\u001b[K     |████████████████████████████████| 890kB 28.4MB/s \n",
            "\u001b[?25hRequirement already satisfied, skipping upgrade: packaging in /usr/local/lib/python3.7/dist-packages (from transformers->bert-extractive-summarizer) (20.9)\n",
            "Requirement already satisfied, skipping upgrade: numpy>=1.17 in /usr/local/lib/python3.7/dist-packages (from transformers->bert-extractive-summarizer) (1.19.5)\n",
            "Requirement already satisfied, skipping upgrade: tqdm>=4.27 in /usr/local/lib/python3.7/dist-packages (from transformers->bert-extractive-summarizer) (4.41.1)\n",
            "Collecting tokenizers<0.11,>=0.10.1\n",
            "\u001b[?25l  Downloading https://files.pythonhosted.org/packages/71/23/2ddc317b2121117bf34dd00f5b0de194158f2a44ee2bf5e47c7166878a97/tokenizers-0.10.1-cp37-cp37m-manylinux2010_x86_64.whl (3.2MB)\n",
            "\u001b[K     |████████████████████████████████| 3.2MB 19.4MB/s \n",
            "\u001b[?25hRequirement already satisfied, skipping upgrade: plac<1.2.0,>=0.9.6 in /usr/local/lib/python3.7/dist-packages (from spacy->bert-extractive-summarizer) (1.1.3)\n",
            "Requirement already satisfied, skipping upgrade: srsly<1.1.0,>=1.0.2 in /usr/local/lib/python3.7/dist-packages (from spacy->bert-extractive-summarizer) (1.0.5)\n",
            "Requirement already satisfied, skipping upgrade: wasabi<1.1.0,>=0.4.0 in /usr/local/lib/python3.7/dist-packages (from spacy->bert-extractive-summarizer) (0.8.2)\n",
            "Requirement already satisfied, skipping upgrade: catalogue<1.1.0,>=0.0.7 in /usr/local/lib/python3.7/dist-packages (from spacy->bert-extractive-summarizer) (1.0.0)\n",
            "Requirement already satisfied, skipping upgrade: setuptools in /usr/local/lib/python3.7/dist-packages (from spacy->bert-extractive-summarizer) (54.1.2)\n",
            "Requirement already satisfied, skipping upgrade: preshed<3.1.0,>=3.0.2 in /usr/local/lib/python3.7/dist-packages (from spacy->bert-extractive-summarizer) (3.0.5)\n",
            "Requirement already satisfied, skipping upgrade: blis<0.5.0,>=0.4.0 in /usr/local/lib/python3.7/dist-packages (from spacy->bert-extractive-summarizer) (0.4.1)\n",
            "Requirement already satisfied, skipping upgrade: cymem<2.1.0,>=2.0.2 in /usr/local/lib/python3.7/dist-packages (from spacy->bert-extractive-summarizer) (2.0.5)\n",
            "Requirement already satisfied, skipping upgrade: murmurhash<1.1.0,>=0.28.0 in /usr/local/lib/python3.7/dist-packages (from spacy->bert-extractive-summarizer) (1.0.5)\n",
            "Requirement already satisfied, skipping upgrade: thinc==7.4.0 in /usr/local/lib/python3.7/dist-packages (from spacy->bert-extractive-summarizer) (7.4.0)\n",
            "Requirement already satisfied, skipping upgrade: scipy>=0.17.0 in /usr/local/lib/python3.7/dist-packages (from scikit-learn->bert-extractive-summarizer) (1.4.1)\n",
            "Requirement already satisfied, skipping upgrade: joblib>=0.11 in /usr/local/lib/python3.7/dist-packages (from scikit-learn->bert-extractive-summarizer) (1.0.1)\n",
            "Requirement already satisfied, skipping upgrade: typing-extensions>=3.6.4; python_version < \"3.8\" in /usr/local/lib/python3.7/dist-packages (from importlib-metadata; python_version < \"3.8\"->transformers->bert-extractive-summarizer) (3.7.4.3)\n",
            "Requirement already satisfied, skipping upgrade: zipp>=0.5 in /usr/local/lib/python3.7/dist-packages (from importlib-metadata; python_version < \"3.8\"->transformers->bert-extractive-summarizer) (3.4.1)\n",
            "Requirement already satisfied, skipping upgrade: urllib3!=1.25.0,!=1.25.1,<1.26,>=1.21.1 in /usr/local/lib/python3.7/dist-packages (from requests->transformers->bert-extractive-summarizer) (1.24.3)\n",
            "Requirement already satisfied, skipping upgrade: certifi>=2017.4.17 in /usr/local/lib/python3.7/dist-packages (from requests->transformers->bert-extractive-summarizer) (2020.12.5)\n",
            "Requirement already satisfied, skipping upgrade: idna<3,>=2.5 in /usr/local/lib/python3.7/dist-packages (from requests->transformers->bert-extractive-summarizer) (2.10)\n",
            "Requirement already satisfied, skipping upgrade: chardet<4,>=3.0.2 in /usr/local/lib/python3.7/dist-packages (from requests->transformers->bert-extractive-summarizer) (3.0.4)\n",
            "Requirement already satisfied, skipping upgrade: six in /usr/local/lib/python3.7/dist-packages (from sacremoses->transformers->bert-extractive-summarizer) (1.15.0)\n",
            "Requirement already satisfied, skipping upgrade: click in /usr/local/lib/python3.7/dist-packages (from sacremoses->transformers->bert-extractive-summarizer) (7.1.2)\n",
            "Requirement already satisfied, skipping upgrade: pyparsing>=2.0.2 in /usr/local/lib/python3.7/dist-packages (from packaging->transformers->bert-extractive-summarizer) (2.4.7)\n",
            "Building wheels for collected packages: sacremoses\n",
            "  Building wheel for sacremoses (setup.py) ... \u001b[?25l\u001b[?25hdone\n",
            "  Created wheel for sacremoses: filename=sacremoses-0.0.43-cp37-none-any.whl size=893262 sha256=aee48658c5bc81dd5dcd86b3a3ae493e7ac3f7badf2d43ff38984ea738558114\n",
            "  Stored in directory: /root/.cache/pip/wheels/29/3c/fd/7ce5c3f0666dab31a50123635e6fb5e19ceb42ce38d4e58f45\n",
            "Successfully built sacremoses\n",
            "Installing collected packages: sacremoses, tokenizers, transformers, bert-extractive-summarizer\n",
            "Successfully installed bert-extractive-summarizer-0.7.1 sacremoses-0.0.43 tokenizers-0.10.1 transformers-4.4.2\n",
            "Requirement already up-to-date: transformers in /usr/local/lib/python3.7/dist-packages (4.4.2)\n",
            "Requirement already satisfied, skipping upgrade: packaging in /usr/local/lib/python3.7/dist-packages (from transformers) (20.9)\n",
            "Requirement already satisfied, skipping upgrade: regex!=2019.12.17 in /usr/local/lib/python3.7/dist-packages (from transformers) (2019.12.20)\n",
            "Requirement already satisfied, skipping upgrade: numpy>=1.17 in /usr/local/lib/python3.7/dist-packages (from transformers) (1.19.5)\n",
            "Requirement already satisfied, skipping upgrade: importlib-metadata; python_version < \"3.8\" in /usr/local/lib/python3.7/dist-packages (from transformers) (3.7.2)\n",
            "Requirement already satisfied, skipping upgrade: requests in /usr/local/lib/python3.7/dist-packages (from transformers) (2.23.0)\n",
            "Requirement already satisfied, skipping upgrade: tokenizers<0.11,>=0.10.1 in /usr/local/lib/python3.7/dist-packages (from transformers) (0.10.1)\n",
            "Requirement already satisfied, skipping upgrade: tqdm>=4.27 in /usr/local/lib/python3.7/dist-packages (from transformers) (4.41.1)\n",
            "Requirement already satisfied, skipping upgrade: filelock in /usr/local/lib/python3.7/dist-packages (from transformers) (3.0.12)\n",
            "Requirement already satisfied, skipping upgrade: sacremoses in /usr/local/lib/python3.7/dist-packages (from transformers) (0.0.43)\n",
            "Requirement already satisfied, skipping upgrade: pyparsing>=2.0.2 in /usr/local/lib/python3.7/dist-packages (from packaging->transformers) (2.4.7)\n",
            "Requirement already satisfied, skipping upgrade: typing-extensions>=3.6.4; python_version < \"3.8\" in /usr/local/lib/python3.7/dist-packages (from importlib-metadata; python_version < \"3.8\"->transformers) (3.7.4.3)\n",
            "Requirement already satisfied, skipping upgrade: zipp>=0.5 in /usr/local/lib/python3.7/dist-packages (from importlib-metadata; python_version < \"3.8\"->transformers) (3.4.1)\n",
            "Requirement already satisfied, skipping upgrade: chardet<4,>=3.0.2 in /usr/local/lib/python3.7/dist-packages (from requests->transformers) (3.0.4)\n",
            "Requirement already satisfied, skipping upgrade: idna<3,>=2.5 in /usr/local/lib/python3.7/dist-packages (from requests->transformers) (2.10)\n",
            "Requirement already satisfied, skipping upgrade: urllib3!=1.25.0,!=1.25.1,<1.26,>=1.21.1 in /usr/local/lib/python3.7/dist-packages (from requests->transformers) (1.24.3)\n",
            "Requirement already satisfied, skipping upgrade: certifi>=2017.4.17 in /usr/local/lib/python3.7/dist-packages (from requests->transformers) (2020.12.5)\n",
            "Requirement already satisfied, skipping upgrade: click in /usr/local/lib/python3.7/dist-packages (from sacremoses->transformers) (7.1.2)\n",
            "Requirement already satisfied, skipping upgrade: joblib in /usr/local/lib/python3.7/dist-packages (from sacremoses->transformers) (1.0.1)\n",
            "Requirement already satisfied, skipping upgrade: six in /usr/local/lib/python3.7/dist-packages (from sacremoses->transformers) (1.15.0)\n"
          ],
          "name": "stdout"
        }
      ]
    },
    {
      "cell_type": "code",
      "metadata": {
        "id": "3w2Wv5uKwMTf"
      },
      "source": [
        "!unzip embeddingsShort.zip"
      ],
      "execution_count": null,
      "outputs": []
    },
    {
      "cell_type": "code",
      "metadata": {
        "id": "wk0khuLmERs1"
      },
      "source": [
        "import requests\n",
        "import torch\n",
        "from transformers import BertTokenizer, BertModel, BertConfig\n",
        "from tqdm import tqdm\n",
        "from summarizer import Summarizer\n",
        "\n",
        "#from PyQt5 import QtCore, QtGui, QtWidgets\n",
        "#from PyQt5.QtWidgets import QMessageBox\n",
        "import sys\n",
        "\n",
        "import pickle\n",
        "import re\n",
        "import math\n",
        "import os"
      ],
      "execution_count": 5,
      "outputs": []
    },
    {
      "cell_type": "code",
      "metadata": {
        "id": "UTdynMc6EWeD"
      },
      "source": [
        "device = torch.device('cuda') if torch.cuda.is_available() else torch.device('cpu')\n",
        "#print(torch.cuda.get_device_name(0))\n",
        "\n",
        "custom_config = BertConfig.from_pretrained('DeepPavlov/rubert-base-cased')\n",
        "custom_config.output_hidden_states=True\n",
        "custom_tokenizer = BertTokenizer.from_pretrained('DeepPavlov/rubert-base-cased')\n",
        "custom_model = BertModel.from_pretrained('DeepPavlov/rubert-base-cased', config=custom_config)\n",
        "#custom_model.to('cuda')\n",
        "custom_model.eval()\n",
        "\n",
        "modelSum = Summarizer(custom_model=custom_model, custom_tokenizer=custom_tokenizer)"
      ],
      "execution_count": null,
      "outputs": []
    },
    {
      "cell_type": "code",
      "metadata": {
        "id": "dRv6ZWB0xkAi"
      },
      "source": [
        "path = '/content/embeddingsPickle'\n",
        "directories = os.listdir(path)\n",
        "emb = {}\n",
        "for file in directories:\n",
        "    with open(path+'/'+file, \"rb\") as f:\n",
        "        arr = pickle.load(f)\n",
        "        emb[file.split('.')[0]] = arr"
      ],
      "execution_count": 11,
      "outputs": []
    },
    {
      "cell_type": "code",
      "metadata": {
        "id": "j3qbJ1LtFZZf",
        "colab": {
          "base_uri": "https://localhost:8080/"
        },
        "outputId": "8aa18e0b-75fc-4683-dd6e-4d5d567d3a58"
      },
      "source": [
        "with open(\"TestDoc\", 'r') as f:\n",
        "    text = f.read()\n",
        "    text = \"\".join([i.replace('\\n',' ').replace('\\t',' ') for i in text])\n",
        "text\n",
        "%time embeddings = modelSum.run_embeddings(text, num_sentences=10)"
      ],
      "execution_count": 13,
      "outputs": [
        {
          "output_type": "stream",
          "text": [
            "CPU times: user 1min 1s, sys: 1.49 s, total: 1min 2s\n",
            "Wall time: 1min 2s\n"
          ],
          "name": "stdout"
        }
      ]
    },
    {
      "cell_type": "markdown",
      "metadata": {
        "id": "KqS-YxpErtw9"
      },
      "source": [
        "# Сумма всех"
      ]
    },
    {
      "cell_type": "code",
      "metadata": {
        "colab": {
          "base_uri": "https://localhost:8080/"
        },
        "id": "jRtLmFqmQRzm",
        "outputId": "f25acb8a-6551-48f6-b647-c09f0f3d416c"
      },
      "source": [
        "errorSum = {}\n",
        "errorMae = {}\n",
        "errorMse = {}\n",
        "for name, arr in tqdm(emb.items(), position=0, leave=True):\n",
        "    sum = 0\n",
        "    mae = 0\n",
        "    mse = 0\n",
        "    for i in range(len(embeddings)):\n",
        "        for arrRow in range(len(arr)):\n",
        "            for j in range(768):\n",
        "                sum += embeddings[i][j] - arr[arrRow][j]\n",
        "                mae += abs(embeddings[i][j] - arr[arrRow][j])\n",
        "                mse += (embeddings[i][j] - arr[arrRow][j])**2\n",
        "    errorSum[sum] = name\n",
        "    errorMae[mae] = name\n",
        "    errorMse[mse] = name\n",
        "print()\n",
        "print(errorSum[min(errorSum.keys())], errorMae[min(errorMae.keys())], errorMse[min(errorMse.keys())])"
      ],
      "execution_count": 32,
      "outputs": [
        {
          "output_type": "stream",
          "text": [
            "100%|██████████| 61/61 [00:39<00:00,  1.55it/s]"
          ],
          "name": "stderr"
        },
        {
          "output_type": "stream",
          "text": [
            "\n",
            " Кычкин Алексей Владимирович  Кушев Вадим Олегович  Кушев Вадим Олегович\n"
          ],
          "name": "stdout"
        },
        {
          "output_type": "stream",
          "text": [
            "\n"
          ],
          "name": "stderr"
        }
      ]
    },
    {
      "cell_type": "markdown",
      "metadata": {
        "id": "xwooR8R_rv5R"
      },
      "source": [
        "# Сумма минимальных предлжений с повторами"
      ]
    },
    {
      "cell_type": "code",
      "metadata": {
        "colab": {
          "base_uri": "https://localhost:8080/"
        },
        "id": "b4AA88MYn1P5",
        "outputId": "ab6f345a-7235-4734-cdcb-f54c03b573bd"
      },
      "source": [
        "errorSum = {}\n",
        "errorMae = {}\n",
        "errorMse = {}\n",
        "for name, arr in tqdm(emb.items(), position=0, leave=True):\n",
        "    allSum = 0\n",
        "    allMae = 0\n",
        "    allMse = 0\n",
        "    for i in range(len(embeddings)):\n",
        "        sum = [0]*len(arr)\n",
        "        mae = [0]*len(arr)\n",
        "        mse = [0]*len(arr)\n",
        "        for arrRow in range(len(arr)):\n",
        "            for j in range(768):\n",
        "                sum[arrRow] += embeddings[i][j] - arr[arrRow][j]\n",
        "                mae[arrRow] += abs(embeddings[i][j] - arr[arrRow][j])\n",
        "                mse[arrRow] += (embeddings[i][j] - arr[arrRow][j])**2\n",
        "        allSum += min(sum)\n",
        "        allMae += min(mae)\n",
        "        allMse += min(mse)\n",
        "    errorSum[allSum] = name\n",
        "    errorMae[allMae] = name\n",
        "    errorMse[allMse] = name\n",
        "print()\n",
        "print(errorSum[min(errorSum.keys())], errorMae[min(errorMae.keys())], errorMse[min(errorMse.keys())])"
      ],
      "execution_count": 40,
      "outputs": [
        {
          "output_type": "stream",
          "text": [
            "100%|██████████| 61/61 [00:40<00:00,  1.52it/s]"
          ],
          "name": "stderr"
        },
        {
          "output_type": "stream",
          "text": [
            "\n",
            " Божья-Воля Анастасия Александровна  Кычкин Алексей Владимирович  Кычкин Алексей Владимирович\n"
          ],
          "name": "stdout"
        },
        {
          "output_type": "stream",
          "text": [
            "\n"
          ],
          "name": "stderr"
        }
      ]
    },
    {
      "cell_type": "markdown",
      "metadata": {
        "id": "tut8ohwLr6jH"
      },
      "source": [
        "# Сумма минимальных предложений без повторов"
      ]
    },
    {
      "cell_type": "markdown",
      "metadata": {
        "id": "sXwQVUb7s2a3"
      },
      "source": [
        "## Avg"
      ]
    },
    {
      "cell_type": "code",
      "metadata": {
        "id": "I_gO7mg0lJeZ",
        "colab": {
          "base_uri": "https://localhost:8080/"
        },
        "outputId": "1a88bdab-3598-4323-8086-1ce4e2212745"
      },
      "source": [
        "errorSum = {}\n",
        "for name, arr in tqdm(emb.items(), position=0, leave=True):\n",
        "    allSum = 0\n",
        "    takenRow = []\n",
        "    for i in range(len(embeddings)):\n",
        "        if i in takenRow:\n",
        "            continue\n",
        "        sum = [0]*len(arr)\n",
        "        for arrRow in range(len(arr)):\n",
        "            for j in range(768):\n",
        "                sum[arrRow] += embeddings[i][j] - arr[arrRow][j]\n",
        "        allSum += min(sum)\n",
        "        takenRow.append(sum.index(min(sum)))\n",
        "    errorSum[allSum] = name\n",
        "print()\n",
        "print(errorSum[min(errorSum.keys())])"
      ],
      "execution_count": 44,
      "outputs": [
        {
          "output_type": "stream",
          "text": [
            "100%|██████████| 61/61 [00:06<00:00,  9.01it/s]"
          ],
          "name": "stderr"
        },
        {
          "output_type": "stream",
          "text": [
            "\n",
            " Божья-Воля Анастасия Александровна\n"
          ],
          "name": "stdout"
        },
        {
          "output_type": "stream",
          "text": [
            "\n"
          ],
          "name": "stderr"
        }
      ]
    },
    {
      "cell_type": "markdown",
      "metadata": {
        "id": "VPQWrPJ2s4ZB"
      },
      "source": [
        "## Mae"
      ]
    },
    {
      "cell_type": "code",
      "metadata": {
        "colab": {
          "base_uri": "https://localhost:8080/"
        },
        "id": "f6XeXs7Rtcez",
        "outputId": "2a710ea2-58be-4a43-87e6-497ef2ac4403"
      },
      "source": [
        "errorMae = {}\n",
        "for name, arr in tqdm(emb.items(), position=0, leave=True):\n",
        "    allMae = 0\n",
        "    takenRow = []\n",
        "    for i in range(len(embeddings)):\n",
        "        if i in takenRow:\n",
        "            continue\n",
        "        mae = [0]*len(arr)\n",
        "        for arrRow in range(len(arr)):\n",
        "            for j in range(768):\n",
        "                mae[arrRow] += embeddings[i][j] - arr[arrRow][j]\n",
        "        allMae += min(mae)\n",
        "        takenRow.append(mae.index(min(mae)))\n",
        "    errorMae[allMae] = name\n",
        "print()\n",
        "print(errorMae[min(errorMae.keys())])"
      ],
      "execution_count": 46,
      "outputs": [
        {
          "output_type": "stream",
          "text": [
            "100%|██████████| 61/61 [00:06<00:00,  8.90it/s]"
          ],
          "name": "stderr"
        },
        {
          "output_type": "stream",
          "text": [
            "\n",
            " Божья-Воля Анастасия Александровна\n"
          ],
          "name": "stdout"
        },
        {
          "output_type": "stream",
          "text": [
            "\n"
          ],
          "name": "stderr"
        }
      ]
    },
    {
      "cell_type": "markdown",
      "metadata": {
        "id": "910-Dff4s6ZK"
      },
      "source": [
        "## Mse"
      ]
    },
    {
      "cell_type": "code",
      "metadata": {
        "colab": {
          "base_uri": "https://localhost:8080/"
        },
        "id": "LlH6GsRXtvEG",
        "outputId": "c35c9f64-f5b7-4ccb-dd94-e3bfcbc817c3"
      },
      "source": [
        "errorMse = {}\n",
        "for name, arr in tqdm(emb.items(), position=0, leave=True):\n",
        "    allMse = 0\n",
        "    takenRow = []\n",
        "    for i in range(len(embeddings)):\n",
        "        if i in takenRow:\n",
        "            continue\n",
        "        mse = [0]*len(arr)\n",
        "        for arrRow in range(len(arr)):\n",
        "            for j in range(768):\n",
        "                mse[arrRow] += embeddings[i][j] - arr[arrRow][j]\n",
        "        allMse += min(mse)\n",
        "        takenRow.append(mse.index(min(mse)))\n",
        "    errorMse[allMse] = name\n",
        "print()\n",
        "print(errorMse[min(errorMse.keys())])"
      ],
      "execution_count": 47,
      "outputs": [
        {
          "output_type": "stream",
          "text": [
            "100%|██████████| 61/61 [00:06<00:00,  8.86it/s]"
          ],
          "name": "stderr"
        },
        {
          "output_type": "stream",
          "text": [
            "\n",
            " Божья-Воля Анастасия Александровна\n"
          ],
          "name": "stdout"
        },
        {
          "output_type": "stream",
          "text": [
            "\n"
          ],
          "name": "stderr"
        }
      ]
    },
    {
      "cell_type": "markdown",
      "metadata": {
        "id": "bc7Z1xa0t-Ih"
      },
      "source": [
        "# Усредение эмбединнгов"
      ]
    },
    {
      "cell_type": "code",
      "metadata": {
        "colab": {
          "base_uri": "https://localhost:8080/"
        },
        "id": "mQdV10zCuBxU",
        "outputId": "225e1ebe-d55c-4842-f988-1ef757e39ba9"
      },
      "source": [
        "newEmb = [0]*768\n",
        "for arrEmb in embeddings:\n",
        "    for j in range(len(arrEmb)):\n",
        "        newEmb[j] += arrEmb[j] \n",
        "newEmb = [i/10 for i in newEmb]\n",
        "errorSum = {}\n",
        "errorMae = {}\n",
        "errorMse = {}\n",
        "for name, arr in tqdm(emb.items(), position=0, leave=True):\n",
        "    if name==\" Лядова Людмила Николаевна\":\n",
        "        continue\n",
        "    sum = 0\n",
        "    mae = 0\n",
        "    mse = 0\n",
        "    newArr = [0]*768\n",
        "    for arrEmb in arr:\n",
        "        for j in range(len(arrEmb)):\n",
        "            newArr[j] += arrEmb[j] \n",
        "    newArr = [i/10 for i in newArr]\n",
        "    for j in range(768):\n",
        "        sum += newEmb[j] - newArr[j]\n",
        "        mae += abs(newEmb[j] - newArr[j])\n",
        "        mse += (newEmb[j] - newArr[j])**2\n",
        "    errorSum[sum] = name\n",
        "    errorMae[mae] = name\n",
        "    errorMse[mse] = name\n",
        "print()\n",
        "print(errorSum[min(errorSum.keys())], errorMae[min(errorMae.keys())], errorMse[min(errorMse.keys())])"
      ],
      "execution_count": 54,
      "outputs": [
        {
          "output_type": "stream",
          "text": [
            "100%|██████████| 61/61 [00:00<00:00, 124.93it/s]"
          ],
          "name": "stderr"
        },
        {
          "output_type": "stream",
          "text": [
            "\n",
            " Кычкин Алексей Владимирович  Кузнецов Денис Борисович  Кузнецов Денис Борисович\n"
          ],
          "name": "stdout"
        },
        {
          "output_type": "stream",
          "text": [
            "\n"
          ],
          "name": "stderr"
        }
      ]
    }
  ]
}