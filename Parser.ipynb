{
 "cells": [
  {
   "cell_type": "code",
   "execution_count": 77,
   "metadata": {
    "id": "E8FkLNPyI8uo"
   },
   "outputs": [],
   "source": [
    "import requests\n",
    "import pandas as pd\n",
    "from tqdm import tqdm\n",
    "from selenium import webdriver\n",
    "from bs4 import BeautifulSoup\n",
    "import urllib.request\n",
    "import time"
   ]
  },
  {
   "cell_type": "code",
   "execution_count": 2,
   "metadata": {
    "colab": {
     "base_uri": "https://localhost:8080/"
    },
    "id": "8YgpOJCLPANz",
    "outputId": "e7fc90e5-b7d4-44d6-8492-ea98287ce2ec"
   },
   "outputs": [
    {
     "name": "stdout",
     "output_type": "stream",
     "text": [
      "25\n"
     ]
    }
   ],
   "source": [
    "r = requests.get('https://www.hse.ru/org/persons/?udept=135213')\n",
    "page = BeautifulSoup(r.text, 'html.parser')\n",
    "url = 'https://www.hse.ru'\n",
    "letters = []\n",
    "for link in page.findAll(\"div\", {'class': \"abc-filter__letter\"}):\n",
    "    if (str(link.contents)).find('\"') != -1:\n",
    "            s = url + '/org/persons/' + str(link.contents)[10:34]\n",
    "            letters.append(str(s))\n",
    "print(len(letters))"
   ]
  },
  {
   "cell_type": "code",
   "execution_count": 4,
   "metadata": {
    "colab": {
     "base_uri": "https://localhost:8080/",
     "height": 380
    },
    "id": "sx9fZgrEJfvr",
    "outputId": "fa90b691-49ad-4364-a2c5-7307cc491534"
   },
   "outputs": [
    {
     "name": "stderr",
     "output_type": "stream",
     "text": [
      "100%|██████████| 25/25 [01:07<00:00,  2.71s/it]\n"
     ]
    },
    {
     "data": {
      "text/html": [
       "<div>\n",
       "<style scoped>\n",
       "    .dataframe tbody tr th:only-of-type {\n",
       "        vertical-align: middle;\n",
       "    }\n",
       "\n",
       "    .dataframe tbody tr th {\n",
       "        vertical-align: top;\n",
       "    }\n",
       "\n",
       "    .dataframe thead th {\n",
       "        text-align: right;\n",
       "    }\n",
       "</style>\n",
       "<table border=\"1\" class=\"dataframe\">\n",
       "  <thead>\n",
       "    <tr style=\"text-align: right;\">\n",
       "      <th></th>\n",
       "      <th>name</th>\n",
       "      <th>link</th>\n",
       "    </tr>\n",
       "  </thead>\n",
       "  <tbody>\n",
       "    <tr>\n",
       "      <th>0</th>\n",
       "      <td>Абашева Александра Сергеевна</td>\n",
       "      <td>https://www.hse.ru/org/persons/485801</td>\n",
       "    </tr>\n",
       "    <tr>\n",
       "      <th>1</th>\n",
       "      <td>Авраменко Иван Александрович</td>\n",
       "      <td>https://www.hse.ru/org/persons/99247481</td>\n",
       "    </tr>\n",
       "    <tr>\n",
       "      <th>2</th>\n",
       "      <td>Агаркова Наталия Владиславовна</td>\n",
       "      <td>https://www.hse.ru/org/persons/28123133</td>\n",
       "    </tr>\n",
       "    <tr>\n",
       "      <th>3</th>\n",
       "      <td>Айхбергер Юрген Томас Германн</td>\n",
       "      <td>https://www.hse.ru/org/persons/359359486</td>\n",
       "    </tr>\n",
       "    <tr>\n",
       "      <th>4</th>\n",
       "      <td>Александров Владимир Анатольевич</td>\n",
       "      <td>https://www.hse.ru/org/persons/420359428</td>\n",
       "    </tr>\n",
       "    <tr>\n",
       "      <th>5</th>\n",
       "      <td>Алексеева Лариса Николаевна</td>\n",
       "      <td>https://www.hse.ru/org/persons/66770114</td>\n",
       "    </tr>\n",
       "    <tr>\n",
       "      <th>6</th>\n",
       "      <td>Аленина Карина Анатольевна</td>\n",
       "      <td>https://www.hse.ru/org/persons/202287</td>\n",
       "    </tr>\n",
       "    <tr>\n",
       "      <th>7</th>\n",
       "      <td>Алова Надежда Владимировна</td>\n",
       "      <td>https://www.hse.ru/org/persons/28123313</td>\n",
       "    </tr>\n",
       "    <tr>\n",
       "      <th>8</th>\n",
       "      <td>Андреева Ольга Юрьевна</td>\n",
       "      <td>https://www.hse.ru/org/persons/152893083</td>\n",
       "    </tr>\n",
       "    <tr>\n",
       "      <th>9</th>\n",
       "      <td>Андрианов Игорь Владимирович</td>\n",
       "      <td>https://www.hse.ru/org/persons/223725475</td>\n",
       "    </tr>\n",
       "  </tbody>\n",
       "</table>\n",
       "</div>"
      ],
      "text/plain": [
       "                               name                                      link\n",
       "0      Абашева Александра Сергеевна     https://www.hse.ru/org/persons/485801\n",
       "1      Авраменко Иван Александрович   https://www.hse.ru/org/persons/99247481\n",
       "2    Агаркова Наталия Владиславовна   https://www.hse.ru/org/persons/28123133\n",
       "3     Айхбергер Юрген Томас Германн  https://www.hse.ru/org/persons/359359486\n",
       "4  Александров Владимир Анатольевич  https://www.hse.ru/org/persons/420359428\n",
       "5       Алексеева Лариса Николаевна   https://www.hse.ru/org/persons/66770114\n",
       "6        Аленина Карина Анатольевна     https://www.hse.ru/org/persons/202287\n",
       "7        Алова Надежда Владимировна   https://www.hse.ru/org/persons/28123313\n",
       "8            Андреева Ольга Юрьевна  https://www.hse.ru/org/persons/152893083\n",
       "9      Андрианов Игорь Владимирович  https://www.hse.ru/org/persons/223725475"
      ]
     },
     "execution_count": 4,
     "metadata": {},
     "output_type": "execute_result"
    }
   ],
   "source": [
    "people=[]\n",
    "for letter in tqdm(letters):\n",
    "    r = requests.get(letter)\n",
    "    page = BeautifulSoup(r.text, 'html.parser')\n",
    "    url = 'https://www.hse.ru'\n",
    "    for link in page.findAll(\"a\", {'class':\"link\"}):\n",
    "        try:\n",
    "            if (link['href'][:13]==\"/org/persons/\" or link['href'][:7]==\"/staff/\") and link['href'][13]!='?' and link.text != 'полный список':\n",
    "                people.append({\n",
    "                    'name': link.text[1:],\n",
    "                    'link': url + link['href']\n",
    "                })\n",
    "        except:\n",
    "            a=1\n",
    "df = pd.DataFrame(people)\n",
    "df.head(10)"
   ]
  },
  {
   "cell_type": "code",
   "execution_count": 91,
   "metadata": {
    "colab": {
     "base_uri": "https://localhost:8080/"
    },
    "id": "qtd6DmhTdXMo",
    "outputId": "88d3e10b-b02b-4aea-fb19-dd6c17de769b"
   },
   "outputs": [
    {
     "name": "stderr",
     "output_type": "stream",
     "text": [
      "100%|██████████| 321/321 [09:59<00:00,  1.87s/it]\n"
     ]
    }
   ],
   "source": [
    "vkr = []\n",
    "for person in tqdm(people):\n",
    "    r = requests.get(person['link'])\n",
    "    page = BeautifulSoup(r.text, 'html.parser')\n",
    "    for link in page.findAll(\"a\", {'class':\"link\"}):\n",
    "            if link['href'][:9]=='/edu/vkr/':\n",
    "                    #print(url+link['href'])\n",
    "                    vkr.append(url+link['href'])"
   ]
  },
  {
   "cell_type": "code",
   "execution_count": 92,
   "metadata": {},
   "outputs": [
    {
     "name": "stderr",
     "output_type": "stream",
     "text": [
      "100%|██████████| 1708/1708 [45:26<00:00,  1.60s/it] \n"
     ]
    }
   ],
   "source": [
    "browser = webdriver.Firefox(executable_path = './.browserDrivers/geckodriver')\n",
    "vkr_data = []\n",
    "for link in tqdm(vkr):\n",
    "    #print(link)\n",
    "    browser.get(link)\n",
    "    browser.implicitly_wait(1)\n",
    "    time.sleep(1)\n",
    "    page = BeautifulSoup(browser.page_source, 'html.parser')\n",
    "    vkr_tmp = []\n",
    "    name_vkr=''\n",
    "    name_student=''\n",
    "    name_prof=''\n",
    "    campus=''\n",
    "    program=''\n",
    "    grade=-1\n",
    "    year=-1\n",
    "    link_file=''\n",
    "    for elem in page.findAll(\"h1\"):\n",
    "        #print(elem.text)\n",
    "        name=elem.text\n",
    "    for elem in page.findAll(\"p\",{'class':'vkr-card__item'}):\n",
    "        #print(elem.text)\n",
    "        elem_name = elem.text.split(':')[0]\n",
    "        elem_text = elem.text.split(':')[1]\n",
    "        if elem_name ==' ФИО студента':\n",
    "            name_student = elem_text\n",
    "        elif elem_name ==' Руководитель':\n",
    "            name_prof = elem_text\n",
    "        elif elem_name ==' Кампус / факультет':\n",
    "            campus = elem_text\n",
    "        elif elem_name ==' Программа':\n",
    "            program = elem_text\n",
    "        elif elem_name ==' Год защиты':\n",
    "            year = elem_text\n",
    "        elif elem_name ==' Оценка':\n",
    "            grade = elem_text\n",
    "            \n",
    "    for elem in page.findAll(\"a\", {'class':'link'}):\n",
    "        if elem['href'][:17]=='http://lms.hse.ru':\n",
    "            #print(elem['href'])\n",
    "            link_file=elem['href']\n",
    "    \n",
    "    vkr_data.append({\n",
    "        'link_vkr':link,\n",
    "        'name_vkr':name_vkr,\n",
    "        'name_student':name_student,\n",
    "        'name_prof':name_prof,\n",
    "        'campus':campus,\n",
    "        'programm':program,\n",
    "        'grade':grade,\n",
    "        'year':year,\n",
    "        'link_file':link_file\n",
    "    })"
   ]
  },
  {
   "cell_type": "code",
   "execution_count": 28,
   "metadata": {},
   "outputs": [
    {
     "data": {
      "text/plain": [
       "916468"
      ]
     },
     "execution_count": 28,
     "metadata": {},
     "output_type": "execute_result"
    }
   ],
   "source": [
    "url = 'http://lms.hse.ru/ap_service.php?getwork=1&guid=D6A3C344-D35B-4820-8514-EF33F306E5E3'\n",
    "r = requests.get(url, allow_redirects=True)\n",
    "\n",
    "open('test.docx', 'wb').write(r.content)"
   ]
  },
  {
   "cell_type": "code",
   "execution_count": 93,
   "metadata": {},
   "outputs": [
    {
     "data": {
      "text/html": [
       "<div>\n",
       "<style scoped>\n",
       "    .dataframe tbody tr th:only-of-type {\n",
       "        vertical-align: middle;\n",
       "    }\n",
       "\n",
       "    .dataframe tbody tr th {\n",
       "        vertical-align: top;\n",
       "    }\n",
       "\n",
       "    .dataframe thead th {\n",
       "        text-align: right;\n",
       "    }\n",
       "</style>\n",
       "<table border=\"1\" class=\"dataframe\">\n",
       "  <thead>\n",
       "    <tr style=\"text-align: right;\">\n",
       "      <th></th>\n",
       "      <th>link_vkr</th>\n",
       "      <th>name_vkr</th>\n",
       "      <th>name_student</th>\n",
       "      <th>name_prof</th>\n",
       "      <th>campus</th>\n",
       "      <th>programm</th>\n",
       "      <th>grade</th>\n",
       "      <th>year</th>\n",
       "      <th>link_file</th>\n",
       "    </tr>\n",
       "  </thead>\n",
       "  <tbody>\n",
       "    <tr>\n",
       "      <th>0</th>\n",
       "      <td>https://www.hse.ru/edu/vkr/219524501</td>\n",
       "      <td></td>\n",
       "      <td>Дроздова Ирина Валерьевна</td>\n",
       "      <td>Абашева Александра Сергеевна</td>\n",
       "      <td>Вечерне-заочный факультет экономики и управле...</td>\n",
       "      <td>Экономика (в) (Бакалавриат)</td>\n",
       "      <td>-1</td>\n",
       "      <td>2018</td>\n",
       "      <td></td>\n",
       "    </tr>\n",
       "    <tr>\n",
       "      <th>1</th>\n",
       "      <td>https://www.hse.ru/edu/vkr/219524122</td>\n",
       "      <td></td>\n",
       "      <td>Стерледева Наталья Владимировна</td>\n",
       "      <td>Абашева Александра Сергеевна</td>\n",
       "      <td>Вечерне-заочный факультет экономики и управле...</td>\n",
       "      <td>Экономика (в) (Бакалавриат)</td>\n",
       "      <td>7</td>\n",
       "      <td>2018</td>\n",
       "      <td>http://lms.hse.ru/ap_service.php?getwork=1&amp;gui...</td>\n",
       "    </tr>\n",
       "    <tr>\n",
       "      <th>2</th>\n",
       "      <td>https://www.hse.ru/edu/vkr/153009903</td>\n",
       "      <td></td>\n",
       "      <td>Беленова Анастасия Александровна</td>\n",
       "      <td>Аленина Карина Анатольевна</td>\n",
       "      <td>Факультет менеджмента (Пермь)</td>\n",
       "      <td>Менеджмент (Бакалавриат)</td>\n",
       "      <td>-1</td>\n",
       "      <td>2015</td>\n",
       "      <td></td>\n",
       "    </tr>\n",
       "    <tr>\n",
       "      <th>3</th>\n",
       "      <td>https://www.hse.ru/edu/vkr/153009689</td>\n",
       "      <td></td>\n",
       "      <td>Воронков Кирилл Евгеньевич</td>\n",
       "      <td>Аленина Карина Анатольевна</td>\n",
       "      <td>Факультет менеджмента (Пермь)</td>\n",
       "      <td>Менеджмент (Бакалавриат)</td>\n",
       "      <td>-1</td>\n",
       "      <td>2015</td>\n",
       "      <td></td>\n",
       "    </tr>\n",
       "    <tr>\n",
       "      <th>4</th>\n",
       "      <td>https://www.hse.ru/edu/vkr/153009541</td>\n",
       "      <td></td>\n",
       "      <td>Бадягина Мария Германовна</td>\n",
       "      <td>Аленина Карина Анатольевна</td>\n",
       "      <td>Факультет менеджмента (Пермь)</td>\n",
       "      <td>Менеджмент (Бакалавриат)</td>\n",
       "      <td>-1</td>\n",
       "      <td>2015</td>\n",
       "      <td></td>\n",
       "    </tr>\n",
       "    <tr>\n",
       "      <th>5</th>\n",
       "      <td>https://www.hse.ru/edu/vkr/153009117</td>\n",
       "      <td></td>\n",
       "      <td>Шевелева Анастасия Андреевна</td>\n",
       "      <td>Аленина Карина Анатольевна</td>\n",
       "      <td>Факультет менеджмента (Пермь)</td>\n",
       "      <td>Менеджмент (Бакалавриат)</td>\n",
       "      <td>-1</td>\n",
       "      <td>2015</td>\n",
       "      <td></td>\n",
       "    </tr>\n",
       "    <tr>\n",
       "      <th>6</th>\n",
       "      <td>https://www.hse.ru/edu/vkr/153008778</td>\n",
       "      <td></td>\n",
       "      <td>Грибанов Максим Игоревич</td>\n",
       "      <td>Аленина Карина Анатольевна</td>\n",
       "      <td>Факультет менеджмента (Пермь)</td>\n",
       "      <td>Менеджмент (Бакалавриат)</td>\n",
       "      <td>-1</td>\n",
       "      <td>2015</td>\n",
       "      <td></td>\n",
       "    </tr>\n",
       "    <tr>\n",
       "      <th>7</th>\n",
       "      <td>https://www.hse.ru/edu/vkr/153008524</td>\n",
       "      <td></td>\n",
       "      <td>Щекотова Алиса Сергеевна</td>\n",
       "      <td>Аленина Карина Анатольевна</td>\n",
       "      <td>Факультет менеджмента (Пермь)</td>\n",
       "      <td>Менеджмент (Бакалавриат)</td>\n",
       "      <td>-1</td>\n",
       "      <td>2015</td>\n",
       "      <td></td>\n",
       "    </tr>\n",
       "    <tr>\n",
       "      <th>8</th>\n",
       "      <td>https://www.hse.ru/edu/vkr/153006804</td>\n",
       "      <td></td>\n",
       "      <td>Метелева Юлия Илдаровна</td>\n",
       "      <td>Аленина Карина Анатольевна</td>\n",
       "      <td>Факультет менеджмента (Пермь)</td>\n",
       "      <td>Менеджмент (Бакалавриат)</td>\n",
       "      <td>-1</td>\n",
       "      <td>2015</td>\n",
       "      <td></td>\n",
       "    </tr>\n",
       "    <tr>\n",
       "      <th>9</th>\n",
       "      <td>https://www.hse.ru/edu/vkr/123819138</td>\n",
       "      <td></td>\n",
       "      <td>Миненко Анна Владимировна</td>\n",
       "      <td>Аленина Карина Анатольевна</td>\n",
       "      <td>Факультет менеджмента (Пермь)</td>\n",
       "      <td>Бакалавриат</td>\n",
       "      <td>-1</td>\n",
       "      <td>2014</td>\n",
       "      <td></td>\n",
       "    </tr>\n",
       "    <tr>\n",
       "      <th>10</th>\n",
       "      <td>https://www.hse.ru/edu/vkr/123708938</td>\n",
       "      <td></td>\n",
       "      <td>Старцева Софья Дмитриевна</td>\n",
       "      <td>Аленина Карина Анатольевна</td>\n",
       "      <td>Факультет менеджмента (Пермь)</td>\n",
       "      <td>Бакалавриат</td>\n",
       "      <td>-1</td>\n",
       "      <td>2014</td>\n",
       "      <td></td>\n",
       "    </tr>\n",
       "  </tbody>\n",
       "</table>\n",
       "</div>"
      ],
      "text/plain": [
       "                                link_vkr name_vkr  \\\n",
       "0   https://www.hse.ru/edu/vkr/219524501            \n",
       "1   https://www.hse.ru/edu/vkr/219524122            \n",
       "2   https://www.hse.ru/edu/vkr/153009903            \n",
       "3   https://www.hse.ru/edu/vkr/153009689            \n",
       "4   https://www.hse.ru/edu/vkr/153009541            \n",
       "5   https://www.hse.ru/edu/vkr/153009117            \n",
       "6   https://www.hse.ru/edu/vkr/153008778            \n",
       "7   https://www.hse.ru/edu/vkr/153008524            \n",
       "8   https://www.hse.ru/edu/vkr/153006804            \n",
       "9   https://www.hse.ru/edu/vkr/123819138            \n",
       "10  https://www.hse.ru/edu/vkr/123708938            \n",
       "\n",
       "                         name_student                      name_prof  \\\n",
       "0           Дроздова Ирина Валерьевна   Абашева Александра Сергеевна   \n",
       "1     Стерледева Наталья Владимировна   Абашева Александра Сергеевна   \n",
       "2    Беленова Анастасия Александровна     Аленина Карина Анатольевна   \n",
       "3          Воронков Кирилл Евгеньевич     Аленина Карина Анатольевна   \n",
       "4           Бадягина Мария Германовна     Аленина Карина Анатольевна   \n",
       "5        Шевелева Анастасия Андреевна     Аленина Карина Анатольевна   \n",
       "6            Грибанов Максим Игоревич     Аленина Карина Анатольевна   \n",
       "7            Щекотова Алиса Сергеевна     Аленина Карина Анатольевна   \n",
       "8             Метелева Юлия Илдаровна     Аленина Карина Анатольевна   \n",
       "9           Миненко Анна Владимировна     Аленина Карина Анатольевна   \n",
       "10          Старцева Софья Дмитриевна     Аленина Карина Анатольевна   \n",
       "\n",
       "                                               campus  \\\n",
       "0    Вечерне-заочный факультет экономики и управле...   \n",
       "1    Вечерне-заочный факультет экономики и управле...   \n",
       "2                       Факультет менеджмента (Пермь)   \n",
       "3                       Факультет менеджмента (Пермь)   \n",
       "4                       Факультет менеджмента (Пермь)   \n",
       "5                       Факультет менеджмента (Пермь)   \n",
       "6                       Факультет менеджмента (Пермь)   \n",
       "7                       Факультет менеджмента (Пермь)   \n",
       "8                       Факультет менеджмента (Пермь)   \n",
       "9                       Факультет менеджмента (Пермь)   \n",
       "10                      Факультет менеджмента (Пермь)   \n",
       "\n",
       "                         programm grade   year  \\\n",
       "0    Экономика (в) (Бакалавриат)     -1   2018   \n",
       "1    Экономика (в) (Бакалавриат)      7   2018   \n",
       "2       Менеджмент (Бакалавриат)     -1   2015   \n",
       "3       Менеджмент (Бакалавриат)     -1   2015   \n",
       "4       Менеджмент (Бакалавриат)     -1   2015   \n",
       "5       Менеджмент (Бакалавриат)     -1   2015   \n",
       "6       Менеджмент (Бакалавриат)     -1   2015   \n",
       "7       Менеджмент (Бакалавриат)     -1   2015   \n",
       "8       Менеджмент (Бакалавриат)     -1   2015   \n",
       "9                    Бакалавриат     -1   2014   \n",
       "10                   Бакалавриат     -1   2014   \n",
       "\n",
       "                                            link_file  \n",
       "0                                                      \n",
       "1   http://lms.hse.ru/ap_service.php?getwork=1&gui...  \n",
       "2                                                      \n",
       "3                                                      \n",
       "4                                                      \n",
       "5                                                      \n",
       "6                                                      \n",
       "7                                                      \n",
       "8                                                      \n",
       "9                                                      \n",
       "10                                                     "
      ]
     },
     "execution_count": 93,
     "metadata": {},
     "output_type": "execute_result"
    }
   ],
   "source": [
    "tmp = pd.DataFrame(vkr_data)\n",
    "tmp.head(11)"
   ]
  },
  {
   "cell_type": "code",
   "execution_count": 94,
   "metadata": {},
   "outputs": [],
   "source": [
    "import os\n",
    "if not os.path.exists('./data'):\n",
    "    os.makedirs('./data')\n",
    "tmp.to_csv('./data/vkr.csv')\n",
    "df.to_csv('./data/people.csv')"
   ]
  },
  {
   "cell_type": "code",
   "execution_count": 96,
   "metadata": {},
   "outputs": [
    {
     "data": {
      "text/plain": [
       "501"
      ]
     },
     "execution_count": 96,
     "metadata": {},
     "output_type": "execute_result"
    }
   ],
   "source": [
    "tmp['link_file'].nunique()"
   ]
  },
  {
   "cell_type": "code",
   "execution_count": null,
   "metadata": {},
   "outputs": [],
   "source": []
  }
 ],
 "metadata": {
  "colab": {
   "collapsed_sections": [],
   "name": "Parser.ipynb",
   "provenance": []
  },
  "kernelspec": {
   "display_name": "env",
   "language": "python",
   "name": "env"
  },
  "language_info": {
   "codemirror_mode": {
    "name": "ipython",
    "version": 3
   },
   "file_extension": ".py",
   "mimetype": "text/x-python",
   "name": "python",
   "nbconvert_exporter": "python",
   "pygments_lexer": "ipython3",
   "version": "3.8.5"
  }
 },
 "nbformat": 4,
 "nbformat_minor": 1
}
