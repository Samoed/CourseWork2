{
 "cells": [
  {
   "cell_type": "markdown",
   "metadata": {
    "colab_type": "text",
    "id": "view-in-github"
   },
   "source": [
    "<a href=\"https://colab.research.google.com/github/Samoed/CourseWork2/blob/main/TestApp.ipynb\" target=\"_parent\"><img src=\"https://colab.research.google.com/assets/colab-badge.svg\" alt=\"Open In Colab\"/></a>"
   ]
  },
  {
   "cell_type": "code",
   "execution_count": 1,
   "metadata": {
    "colab": {
     "base_uri": "https://localhost:8080/"
    },
    "id": "VlBuf27tCgos",
    "outputId": "3f179d25-ed7c-4953-c34d-7328bbc0cb32"
   },
   "outputs": [
    {
     "name": "stdout",
     "output_type": "stream",
     "text": [
      "Requirement already up-to-date: bert-extractive-summarizer in ./.local/lib/python3.8/site-packages (0.7.1)\r\n",
      "Requirement already satisfied, skipping upgrade: scikit-learn in ./.local/lib/python3.8/site-packages (from bert-extractive-summarizer) (0.24.1)\r\n",
      "Requirement already satisfied, skipping upgrade: transformers in ./.local/lib/python3.8/site-packages (from bert-extractive-summarizer) (4.4.2)\r\n",
      "Requirement already satisfied, skipping upgrade: spacy in ./.local/lib/python3.8/site-packages (from bert-extractive-summarizer) (3.0.5)\r\n",
      "Requirement already satisfied, skipping upgrade: joblib>=0.11 in ./.local/lib/python3.8/site-packages (from scikit-learn->bert-extractive-summarizer) (1.0.1)\r\n",
      "Requirement already satisfied, skipping upgrade: scipy>=0.19.1 in ./.local/lib/python3.8/site-packages (from scikit-learn->bert-extractive-summarizer) (1.6.1)\r\n",
      "Requirement already satisfied, skipping upgrade: numpy>=1.13.3 in ./.local/lib/python3.8/site-packages (from scikit-learn->bert-extractive-summarizer) (1.19.5)\r\n",
      "Requirement already satisfied, skipping upgrade: threadpoolctl>=2.0.0 in ./.local/lib/python3.8/site-packages (from scikit-learn->bert-extractive-summarizer) (2.1.0)\r\n",
      "Requirement already satisfied, skipping upgrade: filelock in ./.local/lib/python3.8/site-packages (from transformers->bert-extractive-summarizer) (3.0.12)\r\n",
      "Requirement already satisfied, skipping upgrade: regex!=2019.12.17 in ./.local/lib/python3.8/site-packages (from transformers->bert-extractive-summarizer) (2021.3.17)\r\n",
      "Requirement already satisfied, skipping upgrade: tqdm>=4.27 in ./.local/lib/python3.8/site-packages (from transformers->bert-extractive-summarizer) (4.56.0)\r\n",
      "Requirement already satisfied, skipping upgrade: requests in /usr/lib/python3/dist-packages (from transformers->bert-extractive-summarizer) (2.22.0)\r\n",
      "Requirement already satisfied, skipping upgrade: tokenizers<0.11,>=0.10.1 in ./.local/lib/python3.8/site-packages (from transformers->bert-extractive-summarizer) (0.10.1)\r\n",
      "Requirement already satisfied, skipping upgrade: sacremoses in ./.local/lib/python3.8/site-packages (from transformers->bert-extractive-summarizer) (0.0.43)\r\n",
      "Requirement already satisfied, skipping upgrade: packaging in ./.local/lib/python3.8/site-packages (from transformers->bert-extractive-summarizer) (20.8)\r\n",
      "Requirement already satisfied, skipping upgrade: thinc<8.1.0,>=8.0.2 in ./.local/lib/python3.8/site-packages (from spacy->bert-extractive-summarizer) (8.0.2)\r\n",
      "Requirement already satisfied, skipping upgrade: typer<0.4.0,>=0.3.0 in ./.local/lib/python3.8/site-packages (from spacy->bert-extractive-summarizer) (0.3.2)\r\n",
      "Requirement already satisfied, skipping upgrade: murmurhash<1.1.0,>=0.28.0 in ./.local/lib/python3.8/site-packages (from spacy->bert-extractive-summarizer) (1.0.5)\r\n",
      "Requirement already satisfied, skipping upgrade: pathy>=0.3.5 in ./.local/lib/python3.8/site-packages (from spacy->bert-extractive-summarizer) (0.4.0)\r\n",
      "Requirement already satisfied, skipping upgrade: srsly<3.0.0,>=2.4.0 in ./.local/lib/python3.8/site-packages (from spacy->bert-extractive-summarizer) (2.4.0)\r\n",
      "Requirement already satisfied, skipping upgrade: jinja2 in ./.local/lib/python3.8/site-packages (from spacy->bert-extractive-summarizer) (2.11.2)\r\n",
      "Requirement already satisfied, skipping upgrade: blis<0.8.0,>=0.4.0 in ./.local/lib/python3.8/site-packages (from spacy->bert-extractive-summarizer) (0.7.4)\r\n",
      "Requirement already satisfied, skipping upgrade: setuptools in /usr/lib/python3/dist-packages (from spacy->bert-extractive-summarizer) (45.2.0)\r\n",
      "Requirement already satisfied, skipping upgrade: catalogue<2.1.0,>=2.0.1 in ./.local/lib/python3.8/site-packages (from spacy->bert-extractive-summarizer) (2.0.1)\r\n",
      "Requirement already satisfied, skipping upgrade: wasabi<1.1.0,>=0.8.1 in ./.local/lib/python3.8/site-packages (from spacy->bert-extractive-summarizer) (0.8.2)\r\n",
      "Requirement already satisfied, skipping upgrade: cymem<2.1.0,>=2.0.2 in ./.local/lib/python3.8/site-packages (from spacy->bert-extractive-summarizer) (2.0.5)\r\n",
      "Requirement already satisfied, skipping upgrade: preshed<3.1.0,>=3.0.2 in ./.local/lib/python3.8/site-packages (from spacy->bert-extractive-summarizer) (3.0.5)\r\n",
      "Requirement already satisfied, skipping upgrade: pydantic<1.8.0,>=1.7.1 in ./.local/lib/python3.8/site-packages (from spacy->bert-extractive-summarizer) (1.7.3)\r\n",
      "Requirement already satisfied, skipping upgrade: spacy-legacy<3.1.0,>=3.0.0 in ./.local/lib/python3.8/site-packages (from spacy->bert-extractive-summarizer) (3.0.1)\r\n",
      "Requirement already satisfied, skipping upgrade: six in /usr/lib/python3/dist-packages (from sacremoses->transformers->bert-extractive-summarizer) (1.14.0)\r\n",
      "Requirement already satisfied, skipping upgrade: click in ./.local/lib/python3.8/site-packages (from sacremoses->transformers->bert-extractive-summarizer) (7.1.2)\r\n",
      "Requirement already satisfied, skipping upgrade: pyparsing>=2.0.2 in ./.local/lib/python3.8/site-packages (from packaging->transformers->bert-extractive-summarizer) (2.4.7)\r\n",
      "Requirement already satisfied, skipping upgrade: smart-open<4.0.0,>=2.2.0 in ./.local/lib/python3.8/site-packages (from pathy>=0.3.5->spacy->bert-extractive-summarizer) (3.0.0)\r\n",
      "Requirement already satisfied, skipping upgrade: MarkupSafe>=0.23 in /usr/lib/python3/dist-packages (from jinja2->spacy->bert-extractive-summarizer) (1.1.0)\r\n",
      "Requirement already up-to-date: transformers in ./.local/lib/python3.8/site-packages (4.4.2)\r\n",
      "Requirement already satisfied, skipping upgrade: numpy>=1.17 in ./.local/lib/python3.8/site-packages (from transformers) (1.19.5)\r\n",
      "Requirement already satisfied, skipping upgrade: packaging in ./.local/lib/python3.8/site-packages (from transformers) (20.8)\r\n",
      "Requirement already satisfied, skipping upgrade: sacremoses in ./.local/lib/python3.8/site-packages (from transformers) (0.0.43)\r\n",
      "Requirement already satisfied, skipping upgrade: regex!=2019.12.17 in ./.local/lib/python3.8/site-packages (from transformers) (2021.3.17)\r\n",
      "Requirement already satisfied, skipping upgrade: requests in /usr/lib/python3/dist-packages (from transformers) (2.22.0)\r\n",
      "Requirement already satisfied, skipping upgrade: tokenizers<0.11,>=0.10.1 in ./.local/lib/python3.8/site-packages (from transformers) (0.10.1)\r\n",
      "Requirement already satisfied, skipping upgrade: filelock in ./.local/lib/python3.8/site-packages (from transformers) (3.0.12)\r\n",
      "Requirement already satisfied, skipping upgrade: tqdm>=4.27 in ./.local/lib/python3.8/site-packages (from transformers) (4.56.0)\r\n",
      "Requirement already satisfied, skipping upgrade: pyparsing>=2.0.2 in ./.local/lib/python3.8/site-packages (from packaging->transformers) (2.4.7)\r\n",
      "Requirement already satisfied, skipping upgrade: six in /usr/lib/python3/dist-packages (from sacremoses->transformers) (1.14.0)\r\n",
      "Requirement already satisfied, skipping upgrade: click in ./.local/lib/python3.8/site-packages (from sacremoses->transformers) (7.1.2)\r\n",
      "Requirement already satisfied, skipping upgrade: joblib in ./.local/lib/python3.8/site-packages (from sacremoses->transformers) (1.0.1)\r\n"
     ]
    }
   ],
   "source": [
    "!pip3 install -U bert-extractive-summarizer\n",
    "!pip3 install -U transformers"
   ]
  },
  {
   "cell_type": "code",
   "execution_count": null,
   "metadata": {
    "colab": {
     "base_uri": "https://localhost:8080/"
    },
    "id": "3w2Wv5uKwMTf",
    "outputId": "e941c68c-0e25-416f-baff-16b5bd1be4a7"
   },
   "outputs": [],
   "source": [
    "!unzip embeddingsShort.zip"
   ]
  },
  {
   "cell_type": "code",
   "execution_count": 2,
   "metadata": {
    "id": "wk0khuLmERs1"
   },
   "outputs": [],
   "source": [
    "import requests\n",
    "import torch\n",
    "from transformers import BertTokenizer, BertModel, BertConfig\n",
    "from tqdm import tqdm\n",
    "from summarizer import Summarizer\n",
    "\n",
    "from PyQt5 import QtCore, QtGui, QtWidgets\n",
    "from PyQt5.QtWidgets import QMessageBox\n",
    "import sys\n",
    "\n",
    "import pickle\n",
    "import re\n",
    "import math\n",
    "import os"
   ]
  },
  {
   "cell_type": "code",
   "execution_count": null,
   "metadata": {
    "colab": {
     "base_uri": "https://localhost:8080/"
    },
    "id": "UTdynMc6EWeD",
    "outputId": "1986acb9-f4e3-4263-a819-b0344b76fc6d"
   },
   "outputs": [],
   "source": [
    "device = torch.device('cuda') if torch.cuda.is_available() else torch.device('cpu')\n",
    "#print(torch.cuda.get_device_name(0))\n",
    "\n",
    "custom_config = BertConfig.from_pretrained('DeepPavlov/rubert-base-cased')\n",
    "custom_config.output_hidden_states=True\n",
    "custom_tokenizer = BertTokenizer.from_pretrained('DeepPavlov/rubert-base-cased')\n",
    "custom_model = BertModel.from_pretrained('DeepPavlov/rubert-base-cased', config=custom_config)\n",
    "custom_model.to('cuda')\n",
    "custom_model.eval()\n",
    "\n",
    "modelSum = Summarizer(custom_model=custom_model, custom_tokenizer=custom_tokenizer)"
   ]
  },
  {
   "cell_type": "code",
   "execution_count": 3,
   "metadata": {
    "colab": {
     "base_uri": "https://localhost:8080/"
    },
    "id": "dRv6ZWB0xkAi",
    "outputId": "fbd69c47-5213-4dc4-a4b2-36c85daa7cc4"
   },
   "outputs": [],
   "source": [
    "path = 'data/embeddingsPickle'\n",
    "directories = os.listdir(path)\n",
    "emb = {}\n",
    "for file in directories:\n",
    "    with open(path+'/'+file, \"rb\") as f:\n",
    "        arr = pickle.load(f)\n",
    "        emb[file.split('.')[0]] = arr"
   ]
  },
  {
   "cell_type": "code",
   "execution_count": 6,
   "metadata": {
    "id": "j3qbJ1LtFZZf"
   },
   "outputs": [],
   "source": [
    "with open(\"data/TestDoc\", 'r') as f:\n",
    "    text = f.read()\n",
    "    text = \"\".join([i.replace('\\n',' ').replace('\\t',' ') for i in text])\n",
    "text\n",
    "%time embeddings = modelSum.run_embeddings(text, num_sentences=10)"
   ]
  },
  {
   "cell_type": "code",
   "execution_count": 16,
   "metadata": {
    "colab": {
     "base_uri": "https://localhost:8080/"
    },
    "id": "jRtLmFqmQRzm",
    "outputId": "0a74c3de-b941-490f-a0b7-ff7d826b4356"
   },
   "outputs": [
    {
     "name": "stderr",
     "output_type": "stream",
     "text": [
      "100%|██████████| 60/60 [01:10<00:00,  1.18s/it]\n"
     ]
    }
   ],
   "source": [
    "error = {}\n",
    "for name, arr in tqdm(emb.items()):\n",
    "    sum = 0\n",
    "    avg = 0\n",
    "    mae = 0\n",
    "    rmae = 0\n",
    "    mse = 0\n",
    "    rmse = 0\n",
    "    for i in range(len(embeddings)):\n",
    "        for arrRow in range(len(arr)):\n",
    "            for j in range(768):\n",
    "                sum += embeddings[i][j] - arr[arrRow][j]\n",
    "                mae += abs(embeddings[i][j] - arr[arrRow][j])\n",
    "                rmae += abs(embeddings[i][j] - arr[arrRow][j])**0.5\n",
    "                mse += (embeddings[i][j] - arr[arrRow][j])**2\n",
    "                rmse += ((embeddings[i][j] - arr[arrRow][j])**2)**0.5\n",
    "    error[sum] = name"
   ]
  },
  {
   "cell_type": "code",
   "execution_count": 17,
   "metadata": {
    "colab": {
     "base_uri": "https://localhost:8080/",
     "height": 35
    },
    "id": "WokZWuSX7lWh",
    "outputId": "6ab48487-a50f-42bc-a8d9-958347f4464f"
   },
   "outputs": [
    {
     "data": {
      "text/plain": [
       "' Кычкин Алексей Владимирович'"
      ]
     },
     "execution_count": 17,
     "metadata": {},
     "output_type": "execute_result"
    }
   ],
   "source": [
    "error[min(error.keys())]"
   ]
  },
  {
   "cell_type": "code",
   "execution_count": 2,
   "metadata": {},
   "outputs": [
    {
     "ename": "SystemExit",
     "evalue": "0",
     "output_type": "error",
     "traceback": [
      "An exception has occurred, use %tb to see the full traceback.\n",
      "\u001B[0;31mSystemExit\u001B[0m\u001B[0;31m:\u001B[0m 0\n"
     ]
    },
    {
     "name": "stderr",
     "output_type": "stream",
     "text": [
      "/home/samoed/.local/lib/python3.8/site-packages/IPython/core/interactiveshell.py:3426: UserWarning: To exit: use 'exit', 'quit', or Ctrl-D.\n",
      "  warn(\"To exit: use 'exit', 'quit', or Ctrl-D.\", stacklevel=1)\n"
     ]
    }
   ],
   "source": [
    "class Ui_MainWindow(object):\n",
    "    def setupUi(self, MainWindow):\n",
    "        MainWindow.setObjectName(\"MainWindow\")\n",
    "        MainWindow.resize(600, 600)\n",
    "        self.centralwidget = QtWidgets.QWidget(MainWindow)\n",
    "        self.centralwidget.setObjectName(\"centralwidget\")\n",
    "        \n",
    "        self.textBox = QtWidgets.QTextEdit(self.centralwidget)\n",
    "        self.textBox.setGeometry(QtCore.QRect(10, 50, 571, 411))\n",
    "        self.textBox.setObjectName(\"textBox\")\n",
    "        \n",
    "        self.readyButton = QtWidgets.QPushButton(self.centralwidget)\n",
    "        self.readyButton.setGeometry(QtCore.QRect(590, 440, 89, 25))\n",
    "        self.readyButton.setObjectName(\"readyButton\")\n",
    "        self.readyButton.clicked.connect(self.clickMethod)\n",
    "        \n",
    "        self.comboBox = QtWidgets.QComboBox(self.centralwidget)\n",
    "        self.comboBox.setGeometry(QtCore.QRect(590, 50, 171, 25))\n",
    "        self.comboBox.setObjectName(\"comboBox\")\n",
    "        \n",
    "        self.label = QtWidgets.QLabel(self.centralwidget)\n",
    "        self.label.setGeometry(QtCore.QRect(10, 30, 141, 17))\n",
    "        self.label.setObjectName(\"label\")\n",
    "        \n",
    "        self.label_2 = QtWidgets.QLabel(self.centralwidget)\n",
    "        self.label_2.setGeometry(QtCore.QRect(560, 30, 231, 17))\n",
    "        self.label_2.setObjectName(\"label_2\")\n",
    "        \n",
    "        MainWindow.setCentralWidget(self.centralwidget)\n",
    "        self.menubar = QtWidgets.QMenuBar(MainWindow)\n",
    "        self.menubar.setGeometry(QtCore.QRect(0, 0, 800, 22))\n",
    "        self.menubar.setObjectName(\"menubar\")\n",
    "        MainWindow.setMenuBar(self.menubar)\n",
    "        self.statusbar = QtWidgets.QStatusBar(MainWindow)\n",
    "        self.statusbar.setObjectName(\"statusbar\")\n",
    "        MainWindow.setStatusBar(self.statusbar)\n",
    "\n",
    "        self.retranslateUi(MainWindow)\n",
    "        QtCore.QMetaObject.connectSlotsByName(MainWindow)\n",
    "\n",
    "    def retranslateUi(self, MainWindow):\n",
    "        _translate = QtCore.QCoreApplication.translate\n",
    "        MainWindow.setWindowTitle(_translate(\"MainWindow\", \"MainWindow\"))\n",
    "        self.readyButton.setText(_translate(\"MainWindow\", \"Готово\"))\n",
    "        self.label.setText(_translate(\"MainWindow\", \"Введите текст:\"))\n",
    "        self.label_2.setText(_translate(\"MainWindow\", \"Выберите функцию расстояния\"))\n",
    "    \n",
    "    def ComputeError(embText, embProf):\n",
    "        error = {}\n",
    "        for name, arr in tqdm(embProf.items()):\n",
    "            sum = 0\n",
    "            avg = 0\n",
    "            mae = 0\n",
    "            rmae = 0\n",
    "            mse = 0\n",
    "            rmse = 0\n",
    "            for i in range(len(embText)):\n",
    "                for arrRow in range(len(arr)):\n",
    "                    for j in range(768):\n",
    "                        sum += embeddings[i][j] - arr[arrRow][j]\n",
    "                        mae += abs(embeddings[i][j] - arr[arrRow][j])\n",
    "                        rmae += abs(embeddings[i][j] - arr[arrRow][j])**0.5\n",
    "                        mse += (embeddings[i][j] - arr[arrRow][j])**2\n",
    "                        rmse += ((embeddings[i][j] - arr[arrRow][j])**2)**0.5\n",
    "            error[sum] = name\n",
    "        return error\n",
    "    \n",
    "    def clickMethod(self):\n",
    "        text = self.textBox.toPlainText()\n",
    "        text = \"\".join([i.replace('\\n',' ').replace('\\t',' ') for i in text])\n",
    "        embText = modelSum.run_embeddings(text, num_sentences=10)\n",
    "        error = ComputeError(embText, emb)\n",
    "        QMessageBox.about(MainWindow, \"Title\", error[min(error.keys())])\n",
    "\n",
    "        \n",
    "def loadEmb():\n",
    "    path = 'data/embeddingsPickle'\n",
    "    directories = os.listdir(path)\n",
    "    emb = {}\n",
    "    for file in directories:\n",
    "        with open(path+'/'+file, \"rb\") as f:\n",
    "            arr = pickle.load(f)\n",
    "            emb[file.split('.')[0]] = arr\n",
    "    return emb\n",
    "\n",
    "def loadModel():\n",
    "    device = torch.device('cuda') if torch.cuda.is_available() else torch.device('cpu')\n",
    "    #print(torch.cuda.get_device_name(0))\n",
    "\n",
    "    custom_config = BertConfig.from_pretrained('DeepPavlov/rubert-base-cased')\n",
    "    custom_config.output_hidden_states=True\n",
    "    custom_tokenizer = BertTokenizer.from_pretrained('DeepPavlov/rubert-base-cased')\n",
    "    custom_model = BertModel.from_pretrained('DeepPavlov/rubert-base-cased', config=custom_config)\n",
    "    custom_model.to('cuda')\n",
    "    custom_model.eval()\n",
    "    return Summarizer(custom_model=custom_model, custom_tokenizer=custom_tokenizer)\n",
    "            \n",
    "if __name__ == \"__main__\":\n",
    "    \n",
    "    app = QtWidgets.QApplication(sys.argv)\n",
    "    MainWindow = QtWidgets.QMainWindow()\n",
    "    ui = Ui_MainWindow()\n",
    "    ui.setupUi(MainWindow)\n",
    "    MainWindow.show()\n",
    "    \n",
    "    emb = loadEmb()\n",
    "    model = loadModel()\n",
    "    \n",
    "    sys.exit(app.exec_())"
   ]
  },
  {
   "cell_type": "code",
   "execution_count": null,
   "metadata": {},
   "outputs": [],
   "source": []
  }
 ],
 "metadata": {
  "colab": {
   "authorship_tag": "ABX9TyNXsXflmyuTmvWeAvQq2eJ+",
   "include_colab_link": true,
   "name": "TestApp.ipynb",
   "provenance": []
  },
  "kernelspec": {
   "display_name": "Python 3",
   "language": "python",
   "name": "python3"
  },
  "language_info": {
   "codemirror_mode": {
    "name": "ipython",
    "version": 3
   },
   "file_extension": ".py",
   "mimetype": "text/x-python",
   "name": "python",
   "nbconvert_exporter": "python",
   "pygments_lexer": "ipython3",
   "version": "3.9.0+"
  }
 },
 "nbformat": 4,
 "nbformat_minor": 4
}